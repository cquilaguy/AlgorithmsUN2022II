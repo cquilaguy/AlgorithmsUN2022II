{
  "cells": [
    {
      "cell_type": "markdown",
      "metadata": {
        "id": "view-in-github",
        "colab_type": "text"
      },
      "source": [
        "<a href=\"https://colab.research.google.com/github/cquilaguy/AlgorithmsUN2022II/blob/main/cquilaguy_Lab1.ipynb\" target=\"_parent\"><img src=\"https://colab.research.google.com/assets/colab-badge.svg\" alt=\"Open In Colab\"/></a>"
      ]
    },
    {
      "cell_type": "markdown",
      "metadata": {
        "id": "ydW-Cp4REnEe"
      },
      "source": [
        "<div align=\"center\">\n",
        "<img style=\"display: block; margin: auto;\" alt=\"photo\" src=\"https://upload.wikimedia.org/wikipedia/en/d/de/Quantopian_logo_2017.png\">\n",
        "</div> \n",
        "\n",
        "\n",
        "# Colab Yahoo Introduction to the Research Environment\n",
        "\n",
        "The research environment is powered by IPython notebooks, which allow one to perform a great deal of data analysis and statistical validation. We'll demonstrate a few simple techniques here."
      ]
    },
    {
      "cell_type": "markdown",
      "metadata": {
        "id": "CRAZIpakEnEj"
      },
      "source": [
        "##Code Cells vs. Text Cells\n",
        "\n",
        "As you can see, each cell can be either code or text. To select between them, choose from the 'Cell Type' dropdown menu on the top left."
      ]
    },
    {
      "cell_type": "code",
      "source": [
        ""
      ],
      "metadata": {
        "id": "SiqFiWGOePSS"
      },
      "execution_count": 63,
      "outputs": []
    },
    {
      "cell_type": "markdown",
      "metadata": {
        "id": "DQ49NGLoEnEk"
      },
      "source": [
        "##Executing a Command\n",
        "\n",
        "A code cell will be evaluated when you press play, or when you press the shortcut, shift-enter. Evaluating a cell evaluates each line of code in sequence, and prints the results of the last line below the cell."
      ]
    },
    {
      "cell_type": "markdown",
      "source": [
        "**My own example 1**"
      ],
      "metadata": {
        "id": "BZWUQIgha2PO"
      }
    },
    {
      "cell_type": "code",
      "source": [
        "3 + 67"
      ],
      "metadata": {
        "colab": {
          "base_uri": "https://localhost:8080/"
        },
        "id": "-eHVWoQia5lX",
        "outputId": "08245431-1748-4245-be36-c4689ec1bbdf"
      },
      "execution_count": 64,
      "outputs": [
        {
          "output_type": "execute_result",
          "data": {
            "text/plain": [
              "70"
            ]
          },
          "metadata": {},
          "execution_count": 64
        }
      ]
    },
    {
      "cell_type": "markdown",
      "metadata": {
        "id": "oPPlhdlzEnEm"
      },
      "source": [
        "Sometimes there is no result to be printed, as is the case with assignment."
      ]
    },
    {
      "cell_type": "code",
      "execution_count": 65,
      "metadata": {
        "collapsed": true,
        "id": "Z4grFlsDEnEm"
      },
      "outputs": [],
      "source": [
        "X = 2"
      ]
    },
    {
      "cell_type": "markdown",
      "source": [
        "**My own example 2**"
      ],
      "metadata": {
        "id": "SjsBdDkcbA6y"
      }
    },
    {
      "cell_type": "code",
      "source": [
        "Y = 7"
      ],
      "metadata": {
        "id": "jQML1D5DbAAh"
      },
      "execution_count": 66,
      "outputs": []
    },
    {
      "cell_type": "markdown",
      "metadata": {
        "id": "vz5ETS4WEnEn"
      },
      "source": [
        "Remember that only the result from the last line is printed."
      ]
    },
    {
      "cell_type": "markdown",
      "source": [
        "**My own example 3**"
      ],
      "metadata": {
        "id": "35jIhUoBbKrR"
      }
    },
    {
      "cell_type": "code",
      "source": [
        "89 + 7\n",
        "23 + 89"
      ],
      "metadata": {
        "colab": {
          "base_uri": "https://localhost:8080/"
        },
        "id": "cYnn9yoGbORa",
        "outputId": "6c124926-3059-44b0-ac05-d07f899a9be8"
      },
      "execution_count": 67,
      "outputs": [
        {
          "output_type": "execute_result",
          "data": {
            "text/plain": [
              "112"
            ]
          },
          "metadata": {},
          "execution_count": 67
        }
      ]
    },
    {
      "cell_type": "markdown",
      "source": [
        "**My own example 4**\n",
        "\n",
        "---\n",
        "\n"
      ],
      "metadata": {
        "id": "eRGmLTwmgqjf"
      }
    },
    {
      "cell_type": "code",
      "source": [
        "2+3\n",
        "34/3"
      ],
      "metadata": {
        "colab": {
          "base_uri": "https://localhost:8080/"
        },
        "id": "QO1jygwVgu5_",
        "outputId": "2164bceb-09e6-42df-ec4b-799b2d07e096"
      },
      "execution_count": 68,
      "outputs": [
        {
          "output_type": "execute_result",
          "data": {
            "text/plain": [
              "11.333333333333334"
            ]
          },
          "metadata": {},
          "execution_count": 68
        }
      ]
    },
    {
      "cell_type": "markdown",
      "metadata": {
        "id": "dmJi5wb4EnEo"
      },
      "source": [
        "However, you can print whichever lines you want using the `print` statement."
      ]
    },
    {
      "cell_type": "markdown",
      "source": [
        "**My own example 5**"
      ],
      "metadata": {
        "id": "XmFilnkkhLNb"
      }
    },
    {
      "cell_type": "code",
      "source": [
        "print (62/3)\n",
        "print (12 % 3)\n",
        "7+3"
      ],
      "metadata": {
        "colab": {
          "base_uri": "https://localhost:8080/"
        },
        "id": "6wvfxGEXhRer",
        "outputId": "f35dbdc6-59e3-4821-af70-77a5c8175387"
      },
      "execution_count": 69,
      "outputs": [
        {
          "output_type": "stream",
          "name": "stdout",
          "text": [
            "20.666666666666668\n",
            "0\n"
          ]
        },
        {
          "output_type": "execute_result",
          "data": {
            "text/plain": [
              "10"
            ]
          },
          "metadata": {},
          "execution_count": 69
        }
      ]
    },
    {
      "cell_type": "markdown",
      "metadata": {
        "id": "ZAmnTqjHEnEq"
      },
      "source": [
        "##Knowing When a Cell is Running\n",
        "\n",
        "While a cell is running, a `[*]` will display on the left. When a cell has yet to be executed, `[ ]` will display. When it has been run, a number will display indicating the order in which it was run during the execution of the notebook `[5]`. Try on this cell and note it happening."
      ]
    },
    {
      "cell_type": "markdown",
      "source": [
        "**My own example 6**"
      ],
      "metadata": {
        "id": "DISHpRtCTJWs"
      }
    },
    {
      "cell_type": "code",
      "execution_count": 70,
      "metadata": {
        "id": "9Sh3ZaPAEnEq",
        "colab": {
          "base_uri": "https://localhost:8080/"
        },
        "outputId": "48330748-bf96-4c51-f2e3-bcbda29f36ab"
      },
      "outputs": [
        {
          "output_type": "execute_result",
          "data": {
            "text/plain": [
              "1225"
            ]
          },
          "metadata": {},
          "execution_count": 70
        }
      ],
      "source": [
        "#Take some time to run something\n",
        "c = 0\n",
        "for i in range(50):\n",
        "    c = c + i\n",
        "c"
      ]
    },
    {
      "cell_type": "markdown",
      "metadata": {
        "id": "ZgD5ktlNEnEq"
      },
      "source": [
        "##Importing Libraries\n",
        "\n",
        "The vast majority of the time, you'll want to use functions from pre-built libraries. You can't import every library on Quantopian due to security issues, but you can import most of the common scientific ones. Here I import numpy and pandas, the two most common and useful libraries in quant finance. I recommend copying this import statement to every new notebook.\n",
        "\n",
        "Notice that you can rename libraries to whatever you want after importing. The `as` statement allows this. Here we use `np` and `pd` as aliases for `numpy` and `pandas`. This is a very common aliasing and will be found in most code snippets around the web. The point behind this is to allow you to type fewer characters when you are frequently accessing these libraries."
      ]
    },
    {
      "cell_type": "code",
      "execution_count": 71,
      "metadata": {
        "collapsed": true,
        "id": "Mz48FtHtEnEr"
      },
      "outputs": [],
      "source": [
        "import numpy as np\n",
        "import pandas as pd\n",
        "\n",
        "# This is a plotting library for pretty pictures.\n",
        "import matplotlib.pyplot as plt"
      ]
    },
    {
      "cell_type": "code",
      "source": [
        ""
      ],
      "metadata": {
        "id": "xK5woAwp71sm"
      },
      "execution_count": 71,
      "outputs": []
    },
    {
      "cell_type": "markdown",
      "metadata": {
        "id": "pMrxzTXpEnEr"
      },
      "source": [
        "##Tab Autocomplete\n",
        "\n",
        "Pressing tab will give you a list of IPython's best guesses for what you might want to type next. This is incredibly valuable and will save you a lot of time. If there is only one possible option for what you could type next, IPython will fill that in for you. Try pressing tab very frequently, it will seldom fill in anything you don't want, as if there is ambiguity a list will be shown. This is a great way to see what functions are available in a library.\n",
        "\n",
        "Try placing your cursor after the `.` and pressing tab."
      ]
    },
    {
      "cell_type": "markdown",
      "source": [
        "**My own example 7**"
      ],
      "metadata": {
        "id": "3sRaXx0sTFcD"
      }
    },
    {
      "cell_type": "code",
      "source": [
        "np.random.BitGenerator"
      ],
      "metadata": {
        "id": "C4i5XJTRlIQR",
        "colab": {
          "base_uri": "https://localhost:8080/"
        },
        "outputId": "580ba9ec-2fc7-4a39-c45b-bf72fb3c8434"
      },
      "execution_count": 72,
      "outputs": [
        {
          "output_type": "execute_result",
          "data": {
            "text/plain": [
              "numpy.random.bit_generator.BitGenerator"
            ]
          },
          "metadata": {},
          "execution_count": 72
        }
      ]
    },
    {
      "cell_type": "markdown",
      "metadata": {
        "id": "HBmhMQQ_EnEs"
      },
      "source": [
        "##Getting Documentation Help\n",
        "\n",
        "Placing a question mark after a function and executing that line of code will give you the documentation IPython has for that function. It's often best to do this in a new cell, as you avoid re-executing other code and running into bugs."
      ]
    },
    {
      "cell_type": "markdown",
      "source": [
        "**My own Example 8**"
      ],
      "metadata": {
        "id": "PVtcKFlkSMDv"
      }
    },
    {
      "cell_type": "code",
      "source": [
        "np.Tester.bench?"
      ],
      "metadata": {
        "id": "qzDP6A3kSHP2"
      },
      "execution_count": 73,
      "outputs": []
    },
    {
      "cell_type": "markdown",
      "metadata": {
        "id": "GZcWqDyIEnEs"
      },
      "source": [
        "##Sampling\n",
        "\n",
        "We'll sample some random data using a function from `numpy`."
      ]
    },
    {
      "cell_type": "code",
      "execution_count": 74,
      "metadata": {
        "id": "xNQYx1FjEnEt",
        "colab": {
          "base_uri": "https://localhost:8080/"
        },
        "outputId": "3279595b-8f47-4989-c67d-2f3b593c1864"
      },
      "outputs": [
        {
          "output_type": "execute_result",
          "data": {
            "text/plain": [
              "array([-1.52858568,  1.35133844, -0.61618269, -0.21262648,  1.11432798,\n",
              "       -0.82582808,  0.77209412, -0.70006663, -0.59449845, -0.86595995,\n",
              "        1.0113547 ,  2.46472568,  0.24351205,  0.5065422 , -0.8170595 ,\n",
              "        1.6635997 , -1.62657063, -0.52440272,  1.07282168, -0.84756343,\n",
              "        0.03329486, -0.59638554,  0.82601535,  1.95102432, -1.30779677,\n",
              "        0.95468758,  0.77134511,  0.39085203,  0.16045566, -1.06771335,\n",
              "       -0.79361657, -0.29378369, -0.9796539 ,  1.07841029,  0.11289527,\n",
              "        0.31021401,  2.41301322,  0.66854926,  1.79518552,  1.0127223 ,\n",
              "       -0.33265135, -1.05080314, -1.66860146,  0.55714495,  0.64905742,\n",
              "        0.07650811, -0.47737844,  1.41177845, -0.84012806, -0.29351989,\n",
              "       -1.69149637,  0.66762532, -1.43051403,  0.00874565, -2.06375055,\n",
              "       -0.10113035, -0.1526609 ,  0.49865865, -0.26203995,  1.042166  ,\n",
              "       -0.60711655,  1.75136138,  0.76987808, -0.50676041,  0.39255636,\n",
              "       -0.77464267, -0.50055548,  0.04289129, -0.5497761 , -0.73894544,\n",
              "        0.71295593,  1.35340399, -0.62074119, -0.75883862,  0.57043836,\n",
              "       -1.32940387,  1.51554543,  0.07898488,  0.15268399,  0.86205419,\n",
              "        0.19123558,  1.16452282,  1.32705035, -0.35952212, -0.22204039,\n",
              "        0.46616501, -1.99596965,  0.59709431, -2.11377356,  0.53067272,\n",
              "        2.55838903,  0.25381414, -1.44194471,  0.19589569, -1.41619091,\n",
              "       -0.83622566,  0.86808821, -0.62898656, -1.91761675, -1.28064325])"
            ]
          },
          "metadata": {},
          "execution_count": 74
        }
      ],
      "source": [
        "# Sample 100 points with a mean of 0 and an std of 1. This is a standard normal distribution.\n",
        "X = np.random.normal(0, 1, 100)\n",
        "X"
      ]
    },
    {
      "cell_type": "markdown",
      "source": [
        "**My own example 9**"
      ],
      "metadata": {
        "id": "1DFAMs_UT8zz"
      }
    },
    {
      "cell_type": "code",
      "source": [
        "X = np.random.binomial(0, 1, 100)\n",
        "X"
      ],
      "metadata": {
        "id": "dHN0UBysgCrV",
        "colab": {
          "base_uri": "https://localhost:8080/"
        },
        "outputId": "a9f415d7-dfc9-4c31-f03d-f2ca45325485"
      },
      "execution_count": 75,
      "outputs": [
        {
          "output_type": "execute_result",
          "data": {
            "text/plain": [
              "array([0, 0, 0, 0, 0, 0, 0, 0, 0, 0, 0, 0, 0, 0, 0, 0, 0, 0, 0, 0, 0, 0,\n",
              "       0, 0, 0, 0, 0, 0, 0, 0, 0, 0, 0, 0, 0, 0, 0, 0, 0, 0, 0, 0, 0, 0,\n",
              "       0, 0, 0, 0, 0, 0, 0, 0, 0, 0, 0, 0, 0, 0, 0, 0, 0, 0, 0, 0, 0, 0,\n",
              "       0, 0, 0, 0, 0, 0, 0, 0, 0, 0, 0, 0, 0, 0, 0, 0, 0, 0, 0, 0, 0, 0,\n",
              "       0, 0, 0, 0, 0, 0, 0, 0, 0, 0, 0, 0])"
            ]
          },
          "metadata": {},
          "execution_count": 75
        }
      ]
    },
    {
      "cell_type": "markdown",
      "metadata": {
        "id": "p3zaV-naEnEt"
      },
      "source": [
        "##Plotting\n",
        "\n",
        "We can use the plotting library we imported as follows."
      ]
    },
    {
      "cell_type": "code",
      "execution_count": 76,
      "metadata": {
        "id": "W04St5giEnEt",
        "colab": {
          "base_uri": "https://localhost:8080/",
          "height": 282
        },
        "outputId": "2c4a74b6-331c-4e70-e5a3-c88726637a9b"
      },
      "outputs": [
        {
          "output_type": "execute_result",
          "data": {
            "text/plain": [
              "[<matplotlib.lines.Line2D at 0x7fb8138984d0>]"
            ]
          },
          "metadata": {},
          "execution_count": 76
        },
        {
          "output_type": "display_data",
          "data": {
            "text/plain": [
              "<Figure size 432x288 with 1 Axes>"
            ],
            "image/png": "[encoded data removed]"
          },
          "metadata": {
            "needs_background": "light"
          }
        }
      ],
      "source": [
        "plt.plot(X)"
      ]
    },
    {
      "cell_type": "markdown",
      "metadata": {
        "id": "V8xkW9G0EnEt"
      },
      "source": [
        "###Squelching Line Output\n",
        "\n",
        "You might have noticed the annoying line of the form `[<matplotlib.lines.Line2D at 0x7f72fdbc1710>]` before the plots. This is because the `.plot` function actually produces output. Sometimes we wish not to display output, we can accomplish this with the semi-colon as follows."
      ]
    },
    {
      "cell_type": "code",
      "execution_count": 77,
      "metadata": {
        "id": "ghNQMUhaEnEu",
        "colab": {
          "base_uri": "https://localhost:8080/",
          "height": 265
        },
        "outputId": "e874fb12-150b-4f4d-c82b-3af294440497"
      },
      "outputs": [
        {
          "output_type": "display_data",
          "data": {
            "text/plain": [
              "<Figure size 432x288 with 1 Axes>"
            ],
            "image/png": "[encoded data removed]"
          },
          "metadata": {
            "needs_background": "light"
          }
        }
      ],
      "source": [
        "plt.plot(X);"
      ]
    },
    {
      "cell_type": "markdown",
      "metadata": {
        "id": "LMrc6lfXEnEu"
      },
      "source": [
        "###Adding Axis Labels\n",
        "\n",
        "No self-respecting quant leaves a graph without labeled axes. Here are some commands to help with that."
      ]
    },
    {
      "cell_type": "code",
      "execution_count": 78,
      "metadata": {
        "id": "a9Qu76QPEnEu",
        "colab": {
          "base_uri": "https://localhost:8080/",
          "height": 283
        },
        "outputId": "2eca8862-870b-423c-af30-f787fd7fc0cd"
      },
      "outputs": [
        {
          "output_type": "display_data",
          "data": {
            "text/plain": [
              "<Figure size 432x288 with 1 Axes>"
            ],
            "image/png": "[encoded data removed]"
          },
          "metadata": {
            "needs_background": "light"
          }
        }
      ],
      "source": [
        "X = np.random.normal(0, 1, 100)\n",
        "X2 = np.random.normal(0, 1, 100)\n",
        "\n",
        "plt.plot(X);\n",
        "plt.plot(X2);\n",
        "plt.xlabel('Time') # The data we generated is unitless, but don't forget units in general.\n",
        "plt.ylabel('Returns')\n",
        "plt.legend(['X', 'X2']);"
      ]
    },
    {
      "cell_type": "markdown",
      "source": [
        "**My own example 10**"
      ],
      "metadata": {
        "id": "aeg6OkPzUb3Y"
      }
    },
    {
      "cell_type": "code",
      "source": [
        "# You can create the graphs as you want!\n",
        "\n",
        "A = np.random.normal(0, 1, 10)\n",
        "A2 = np.random.normal(0, 1, 10)\n",
        "A3 = np. random.normal(0,1,10)\n",
        "\n",
        "plt.plot(A);\n",
        "plt.plot(A2);\n",
        "plt.plot(A3);\n",
        "plt.xlabel('Time') # The data we generated is unitless, but don't forget units in general.\n",
        "plt.ylabel('Returns')\n",
        "plt.legend(['A', 'A2', 'A3']);"
      ],
      "metadata": {
        "colab": {
          "base_uri": "https://localhost:8080/",
          "height": 279
        },
        "id": "GPC-ukJEUKGn",
        "outputId": "c23e67a7-ce54-48d1-81a6-8e484e76e23a"
      },
      "execution_count": 79,
      "outputs": [
        {
          "output_type": "display_data",
          "data": {
            "text/plain": [
              "<Figure size 432x288 with 1 Axes>"
            ],
            "image/png": "[encoded data removed]"
          },
          "metadata": {
            "needs_background": "light"
          }
        }
      ]
    },
    {
      "cell_type": "markdown",
      "metadata": {
        "id": "btTN9YaFEnEu"
      },
      "source": [
        "##Generating Statistics\n",
        "\n",
        "Let's use `numpy` to take some simple statistics."
      ]
    },
    {
      "cell_type": "code",
      "execution_count": 80,
      "metadata": {
        "id": "cM0cG4mJEnEu",
        "colab": {
          "base_uri": "https://localhost:8080/"
        },
        "outputId": "bdeffdf9-71a2-4735-bd7c-420ed396072b"
      },
      "outputs": [
        {
          "output_type": "execute_result",
          "data": {
            "text/plain": [
              "-0.03160447410624216"
            ]
          },
          "metadata": {},
          "execution_count": 80
        }
      ],
      "source": [
        "np.mean(X)"
      ]
    },
    {
      "cell_type": "code",
      "execution_count": 81,
      "metadata": {
        "id": "383jlDx-EnEu",
        "colab": {
          "base_uri": "https://localhost:8080/"
        },
        "outputId": "2da22aa2-a29a-4583-f0c7-e2eaa4dbe048"
      },
      "outputs": [
        {
          "output_type": "execute_result",
          "data": {
            "text/plain": [
              "1.0610438893479672"
            ]
          },
          "metadata": {},
          "execution_count": 81
        }
      ],
      "source": [
        "np.std(X)"
      ]
    },
    {
      "cell_type": "markdown",
      "metadata": {
        "id": "GoxKGTVaEnEu"
      },
      "source": [
        "##Getting Real Pricing Data\n",
        "\n",
        "Randomly sampled data can be great for testing ideas, but let's get some real data. We can use `get_pricing` to do that. You can use the `?` syntax as discussed above to get more information on `get_pricing`'s arguments."
      ]
    },
    {
      "cell_type": "code",
      "source": [
        "!pip install yfinance"
      ],
      "metadata": {
        "colab": {
          "base_uri": "https://localhost:8080/"
        },
        "id": "6_wGrpaIjiyx",
        "outputId": "4ce4a548-c1a3-45f7-be72-22808bb203eb"
      },
      "execution_count": 82,
      "outputs": [
        {
          "output_type": "stream",
          "name": "stdout",
          "text": [
            "Looking in indexes: https://pypi.org/simple, https://us-python.pkg.dev/colab-wheels/public/simple/\n",
            "Requirement already satisfied: yfinance in /usr/local/lib/python3.7/dist-packages (0.1.74)\n",
            "Requirement already satisfied: lxml>=4.5.1 in /usr/local/lib/python3.7/dist-packages (from yfinance) (4.9.1)\n",
            "Requirement already satisfied: pandas>=0.24.0 in /usr/local/lib/python3.7/dist-packages (from yfinance) (1.3.5)\n",
            "Requirement already satisfied: numpy>=1.15 in /usr/local/lib/python3.7/dist-packages (from yfinance) (1.21.6)\n",
            "Requirement already satisfied: requests>=2.26 in /usr/local/lib/python3.7/dist-packages (from yfinance) (2.28.1)\n",
            "Requirement already satisfied: multitasking>=0.0.7 in /usr/local/lib/python3.7/dist-packages (from yfinance) (0.0.11)\n",
            "Requirement already satisfied: python-dateutil>=2.7.3 in /usr/local/lib/python3.7/dist-packages (from pandas>=0.24.0->yfinance) (2.8.2)\n",
            "Requirement already satisfied: pytz>=2017.3 in /usr/local/lib/python3.7/dist-packages (from pandas>=0.24.0->yfinance) (2022.2.1)\n",
            "Requirement already satisfied: six>=1.5 in /usr/local/lib/python3.7/dist-packages (from python-dateutil>=2.7.3->pandas>=0.24.0->yfinance) (1.15.0)\n",
            "Requirement already satisfied: urllib3<1.27,>=1.21.1 in /usr/local/lib/python3.7/dist-packages (from requests>=2.26->yfinance) (1.24.3)\n",
            "Requirement already satisfied: certifi>=2017.4.17 in /usr/local/lib/python3.7/dist-packages (from requests>=2.26->yfinance) (2022.6.15)\n",
            "Requirement already satisfied: charset-normalizer<3,>=2 in /usr/local/lib/python3.7/dist-packages (from requests>=2.26->yfinance) (2.1.0)\n",
            "Requirement already satisfied: idna<4,>=2.5 in /usr/local/lib/python3.7/dist-packages (from requests>=2.26->yfinance) (2.10)\n"
          ]
        }
      ]
    },
    {
      "cell_type": "markdown",
      "source": [
        "**My own example 11**"
      ],
      "metadata": {
        "id": "dxKgUhO5VVaj"
      }
    },
    {
      "cell_type": "code",
      "execution_count": 83,
      "metadata": {
        "id": "Yfm623FZEnEv",
        "colab": {
          "base_uri": "https://localhost:8080/"
        },
        "outputId": "cb04bba1-ef9d-4c75-d55e-66f39818aac1"
      },
      "outputs": [
        {
          "output_type": "stream",
          "name": "stdout",
          "text": [
            "\r[*********************100%***********************]  1 of 1 completed\n"
          ]
        }
      ],
      "source": [
        "import yfinance as yf\n",
        "\n",
        "data = yf.download(\"TSLA\", start=\"2022-1-1\", end=\"2022-6-1\") "
      ]
    },
    {
      "cell_type": "code",
      "source": [
        "data"
      ],
      "metadata": {
        "colab": {
          "base_uri": "https://localhost:8080/",
          "height": 455
        },
        "id": "Wvdv6higWkoN",
        "outputId": "d003d957-f9e4-44e8-848a-eba7b89b01c3"
      },
      "execution_count": 84,
      "outputs": [
        {
          "output_type": "execute_result",
          "data": {
            "text/plain": [
              "                   Open         High          Low        Close    Adj Close  \\\n",
              "Date                                                                          \n",
              "2022-01-03  1147.750000  1201.069946  1136.040039  1199.780029  1199.780029   \n",
              "2022-01-04  1189.550049  1208.000000  1123.050049  1149.589966  1149.589966   \n",
              "2022-01-05  1146.650024  1170.339966  1081.010010  1088.119995  1088.119995   \n",
              "2022-01-06  1077.000000  1088.000000  1020.500000  1064.699951  1064.699951   \n",
              "2022-01-07  1080.369995  1080.930054  1010.000000  1026.959961  1026.959961   \n",
              "...                 ...          ...          ...          ...          ...   \n",
              "2022-05-24   653.530029   653.919983   620.570007   628.159973   628.159973   \n",
              "2022-05-25   623.849976   669.320007   623.010010   658.799988   658.799988   \n",
              "2022-05-26   661.419983   718.669983   653.659973   707.729980   707.729980   \n",
              "2022-05-27   723.250000   759.799988   720.530029   759.630005   759.630005   \n",
              "2022-05-31   773.840027   778.799988   734.229980   758.260010   758.260010   \n",
              "\n",
              "              Volume  \n",
              "Date                  \n",
              "2022-01-03  34643800  \n",
              "2022-01-04  33416100  \n",
              "2022-01-05  26706600  \n",
              "2022-01-06  30112200  \n",
              "2022-01-07  28054900  \n",
              "...              ...  \n",
              "2022-05-24  29697500  \n",
              "2022-05-25  30713100  \n",
              "2022-05-26  35334400  \n",
              "2022-05-27  29765000  \n",
              "2022-05-31  33971500  \n",
              "\n",
              "[103 rows x 6 columns]"
            ],
            "text/html": [
              "\n",
              "  <div id=\"df-0ca4485e-1c64-4d19-91b2-76b5dee2350b\">\n",
              "    <div class=\"colab-df-container\">\n",
              "      <div>\n",
              "<style scoped>\n",
              "    .dataframe tbody tr th:only-of-type {\n",
              "        vertical-align: middle;\n",
              "    }\n",
              "\n",
              "    .dataframe tbody tr th {\n",
              "        vertical-align: top;\n",
              "    }\n",
              "\n",
              "    .dataframe thead th {\n",
              "        text-align: right;\n",
              "    }\n",
              "</style>\n",
              "<table border=\"1\" class=\"dataframe\">\n",
              "  <thead>\n",
              "    <tr style=\"text-align: right;\">\n",
              "      <th></th>\n",
              "      <th>Open</th>\n",
              "      <th>High</th>\n",
              "      <th>Low</th>\n",
              "      <th>Close</th>\n",
              "      <th>Adj Close</th>\n",
              "      <th>Volume</th>\n",
              "    </tr>\n",
              "    <tr>\n",
              "      <th>Date</th>\n",
              "      <th></th>\n",
              "      <th></th>\n",
              "      <th></th>\n",
              "      <th></th>\n",
              "      <th></th>\n",
              "      <th></th>\n",
              "    </tr>\n",
              "  </thead>\n",
              "  <tbody>\n",
              "    <tr>\n",
              "      <th>2022-01-03</th>\n",
              "      <td>1147.750000</td>\n",
              "      <td>1201.069946</td>\n",
              "      <td>1136.040039</td>\n",
              "      <td>1199.780029</td>\n",
              "      <td>1199.780029</td>\n",
              "      <td>34643800</td>\n",
              "    </tr>\n",
              "    <tr>\n",
              "      <th>2022-01-04</th>\n",
              "      <td>1189.550049</td>\n",
              "      <td>1208.000000</td>\n",
              "      <td>1123.050049</td>\n",
              "      <td>1149.589966</td>\n",
              "      <td>1149.589966</td>\n",
              "      <td>33416100</td>\n",
              "    </tr>\n",
              "    <tr>\n",
              "      <th>2022-01-05</th>\n",
              "      <td>1146.650024</td>\n",
              "      <td>1170.339966</td>\n",
              "      <td>1081.010010</td>\n",
              "      <td>1088.119995</td>\n",
              "      <td>1088.119995</td>\n",
              "      <td>26706600</td>\n",
              "    </tr>\n",
              "    <tr>\n",
              "      <th>2022-01-06</th>\n",
              "      <td>1077.000000</td>\n",
              "      <td>1088.000000</td>\n",
              "      <td>1020.500000</td>\n",
              "      <td>1064.699951</td>\n",
              "      <td>1064.699951</td>\n",
              "      <td>30112200</td>\n",
              "    </tr>\n",
              "    <tr>\n",
              "      <th>2022-01-07</th>\n",
              "      <td>1080.369995</td>\n",
              "      <td>1080.930054</td>\n",
              "      <td>1010.000000</td>\n",
              "      <td>1026.959961</td>\n",
              "      <td>1026.959961</td>\n",
              "      <td>28054900</td>\n",
              "    </tr>\n",
              "    <tr>\n",
              "      <th>...</th>\n",
              "      <td>...</td>\n",
              "      <td>...</td>\n",
              "      <td>...</td>\n",
              "      <td>...</td>\n",
              "      <td>...</td>\n",
              "      <td>...</td>\n",
              "    </tr>\n",
              "    <tr>\n",
              "      <th>2022-05-24</th>\n",
              "      <td>653.530029</td>\n",
              "      <td>653.919983</td>\n",
              "      <td>620.570007</td>\n",
              "      <td>628.159973</td>\n",
              "      <td>628.159973</td>\n",
              "      <td>29697500</td>\n",
              "    </tr>\n",
              "    <tr>\n",
              "      <th>2022-05-25</th>\n",
              "      <td>623.849976</td>\n",
              "      <td>669.320007</td>\n",
              "      <td>623.010010</td>\n",
              "      <td>658.799988</td>\n",
              "      <td>658.799988</td>\n",
              "      <td>30713100</td>\n",
              "    </tr>\n",
              "    <tr>\n",
              "      <th>2022-05-26</th>\n",
              "      <td>661.419983</td>\n",
              "      <td>718.669983</td>\n",
              "      <td>653.659973</td>\n",
              "      <td>707.729980</td>\n",
              "      <td>707.729980</td>\n",
              "      <td>35334400</td>\n",
              "    </tr>\n",
              "    <tr>\n",
              "      <th>2022-05-27</th>\n",
              "      <td>723.250000</td>\n",
              "      <td>759.799988</td>\n",
              "      <td>720.530029</td>\n",
              "      <td>759.630005</td>\n",
              "      <td>759.630005</td>\n",
              "      <td>29765000</td>\n",
              "    </tr>\n",
              "    <tr>\n",
              "      <th>2022-05-31</th>\n",
              "      <td>773.840027</td>\n",
              "      <td>778.799988</td>\n",
              "      <td>734.229980</td>\n",
              "      <td>758.260010</td>\n",
              "      <td>758.260010</td>\n",
              "      <td>33971500</td>\n",
              "    </tr>\n",
              "  </tbody>\n",
              "</table>\n",
              "<p>103 rows × 6 columns</p>\n",
              "</div>\n",
              "      <button class=\"colab-df-convert\" onclick=\"convertToInteractive('df-0ca4485e-1c64-4d19-91b2-76b5dee2350b')\"\n",
              "              title=\"Convert this dataframe to an interactive table.\"\n",
              "              style=\"display:none;\">\n",
              "        \n",
              "  <svg xmlns=\"http://www.w3.org/2000/svg\" height=\"24px\"viewBox=\"0 0 24 24\"\n",
              "       width=\"24px\">\n",
              "    <path d=\"M0 0h24v24H0V0z\" fill=\"none\"/>\n",
              "    <path d=\"M18.56 5.44l.94 2.06.94-2.06 2.06-.94-2.06-.94-.94-2.06-.94 2.06-2.06.94zm-11 1L8.5 8.5l.94-2.06 2.06-.94-2.06-.94L8.5 2.5l-.94 2.06-2.06.94zm10 10l.94 2.06.94-2.06 2.06-.94-2.06-.94-.94-2.06-.94 2.06-2.06.94z\"/><path d=\"M17.41 7.96l-1.37-1.37c-.4-.4-.92-.59-1.43-.59-.52 0-1.04.2-1.43.59L10.3 9.45l-7.72 7.72c-.78.78-.78 2.05 0 2.83L4 21.41c.39.39.9.59 1.41.59.51 0 1.02-.2 1.41-.59l7.78-7.78 2.81-2.81c.8-.78.8-2.07 0-2.86zM5.41 20L4 18.59l7.72-7.72 1.47 1.35L5.41 20z\"/>\n",
              "  </svg>\n",
              "      </button>\n",
              "      \n",
              "  <style>\n",
              "    .colab-df-container {\n",
              "      display:flex;\n",
              "      flex-wrap:wrap;\n",
              "      gap: 12px;\n",
              "    }\n",
              "\n",
              "    .colab-df-convert {\n",
              "      background-color: #E8F0FE;\n",
              "      border: none;\n",
              "      border-radius: 50%;\n",
              "      cursor: pointer;\n",
              "      display: none;\n",
              "      fill: #1967D2;\n",
              "      height: 32px;\n",
              "      padding: 0 0 0 0;\n",
              "      width: 32px;\n",
              "    }\n",
              "\n",
              "    .colab-df-convert:hover {\n",
              "      background-color: #E2EBFA;\n",
              "      box-shadow: 0px 1px 2px rgba(60, 64, 67, 0.3), 0px 1px 3px 1px rgba(60, 64, 67, 0.15);\n",
              "      fill: #174EA6;\n",
              "    }\n",
              "\n",
              "    [theme=dark] .colab-df-convert {\n",
              "      background-color: #3B4455;\n",
              "      fill: #D2E3FC;\n",
              "    }\n",
              "\n",
              "    [theme=dark] .colab-df-convert:hover {\n",
              "      background-color: #434B5C;\n",
              "      box-shadow: 0px 1px 3px 1px rgba(0, 0, 0, 0.15);\n",
              "      filter: drop-shadow(0px 1px 2px rgba(0, 0, 0, 0.3));\n",
              "      fill: #FFFFFF;\n",
              "    }\n",
              "  </style>\n",
              "\n",
              "      <script>\n",
              "        const buttonEl =\n",
              "          document.querySelector('#df-0ca4485e-1c64-4d19-91b2-76b5dee2350b button.colab-df-convert');\n",
              "        buttonEl.style.display =\n",
              "          google.colab.kernel.accessAllowed ? 'block' : 'none';\n",
              "\n",
              "        async function convertToInteractive(key) {\n",
              "          const element = document.querySelector('#df-0ca4485e-1c64-4d19-91b2-76b5dee2350b');\n",
              "          const dataTable =\n",
              "            await google.colab.kernel.invokeFunction('convertToInteractive',\n",
              "                                                     [key], {});\n",
              "          if (!dataTable) return;\n",
              "\n",
              "          const docLinkHtml = 'Like what you see? Visit the ' +\n",
              "            '<a target=\"_blank\" href=https://colab.research.google.com/notebooks/data_table.ipynb>data table notebook</a>'\n",
              "            + ' to learn more about interactive tables.';\n",
              "          element.innerHTML = '';\n",
              "          dataTable['output_type'] = 'display_data';\n",
              "          await google.colab.output.renderOutput(dataTable, element);\n",
              "          const docLink = document.createElement('div');\n",
              "          docLink.innerHTML = docLinkHtml;\n",
              "          element.appendChild(docLink);\n",
              "        }\n",
              "      </script>\n",
              "    </div>\n",
              "  </div>\n",
              "  "
            ]
          },
          "metadata": {},
          "execution_count": 84
        }
      ]
    },
    {
      "cell_type": "markdown",
      "source": [
        "**My own example 12**"
      ],
      "metadata": {
        "id": "ypTGSF0eWnPR"
      }
    },
    {
      "cell_type": "code",
      "source": [
        "msft = yf.Ticker(\"MSFT\")\n",
        "hist = msft.history(period=\"max\")"
      ],
      "metadata": {
        "id": "8JWZ57wgVv6L"
      },
      "execution_count": 85,
      "outputs": []
    },
    {
      "cell_type": "code",
      "source": [
        "hist"
      ],
      "metadata": {
        "colab": {
          "base_uri": "https://localhost:8080/",
          "height": 455
        },
        "id": "aUoFlvadWhG4",
        "outputId": "04a468f2-29a7-4ea9-e735-e306f4ef2ce3"
      },
      "execution_count": 86,
      "outputs": [
        {
          "output_type": "execute_result",
          "data": {
            "text/plain": [
              "                  Open        High         Low       Close      Volume  \\\n",
              "Date                                                                     \n",
              "1986-03-13    0.055536    0.063703    0.055536    0.060980  1031788800   \n",
              "1986-03-14    0.060980    0.064247    0.060980    0.063158   308160000   \n",
              "1986-03-17    0.063158    0.064792    0.063158    0.064247   133171200   \n",
              "1986-03-18    0.064247    0.064792    0.062069    0.062613    67766400   \n",
              "1986-03-19    0.062613    0.063158    0.060980    0.061524    47894400   \n",
              "...                ...         ...         ...         ...         ...   \n",
              "2022-08-15  290.383619  293.556876  289.495490  292.848389    18085700   \n",
              "2022-08-16  291.371520  293.417196  289.804869  292.089996    18102900   \n",
              "2022-08-17  289.739990  293.350006  289.470001  291.320007    18253400   \n",
              "2022-08-18  290.190002  291.910004  289.079987  290.170013    17186200   \n",
              "2022-08-19  288.899994  289.250000  285.559998  286.149994    20557200   \n",
              "\n",
              "            Dividends  Stock Splits  \n",
              "Date                                 \n",
              "1986-03-13       0.00           0.0  \n",
              "1986-03-14       0.00           0.0  \n",
              "1986-03-17       0.00           0.0  \n",
              "1986-03-18       0.00           0.0  \n",
              "1986-03-19       0.00           0.0  \n",
              "...               ...           ...  \n",
              "2022-08-15       0.00           0.0  \n",
              "2022-08-16       0.00           0.0  \n",
              "2022-08-17       0.62           0.0  \n",
              "2022-08-18       0.00           0.0  \n",
              "2022-08-19       0.00           0.0  \n",
              "\n",
              "[9185 rows x 7 columns]"
            ],
            "text/html": [
              "\n",
              "  <div id=\"df-1eb39182-08d1-4408-80b7-74b500696160\">\n",
              "    <div class=\"colab-df-container\">\n",
              "      <div>\n",
              "<style scoped>\n",
              "    .dataframe tbody tr th:only-of-type {\n",
              "        vertical-align: middle;\n",
              "    }\n",
              "\n",
              "    .dataframe tbody tr th {\n",
              "        vertical-align: top;\n",
              "    }\n",
              "\n",
              "    .dataframe thead th {\n",
              "        text-align: right;\n",
              "    }\n",
              "</style>\n",
              "<table border=\"1\" class=\"dataframe\">\n",
              "  <thead>\n",
              "    <tr style=\"text-align: right;\">\n",
              "      <th></th>\n",
              "      <th>Open</th>\n",
              "      <th>High</th>\n",
              "      <th>Low</th>\n",
              "      <th>Close</th>\n",
              "      <th>Volume</th>\n",
              "      <th>Dividends</th>\n",
              "      <th>Stock Splits</th>\n",
              "    </tr>\n",
              "    <tr>\n",
              "      <th>Date</th>\n",
              "      <th></th>\n",
              "      <th></th>\n",
              "      <th></th>\n",
              "      <th></th>\n",
              "      <th></th>\n",
              "      <th></th>\n",
              "      <th></th>\n",
              "    </tr>\n",
              "  </thead>\n",
              "  <tbody>\n",
              "    <tr>\n",
              "      <th>1986-03-13</th>\n",
              "      <td>0.055536</td>\n",
              "      <td>0.063703</td>\n",
              "      <td>0.055536</td>\n",
              "      <td>0.060980</td>\n",
              "      <td>1031788800</td>\n",
              "      <td>0.00</td>\n",
              "      <td>0.0</td>\n",
              "    </tr>\n",
              "    <tr>\n",
              "      <th>1986-03-14</th>\n",
              "      <td>0.060980</td>\n",
              "      <td>0.064247</td>\n",
              "      <td>0.060980</td>\n",
              "      <td>0.063158</td>\n",
              "      <td>308160000</td>\n",
              "      <td>0.00</td>\n",
              "      <td>0.0</td>\n",
              "    </tr>\n",
              "    <tr>\n",
              "      <th>1986-03-17</th>\n",
              "      <td>0.063158</td>\n",
              "      <td>0.064792</td>\n",
              "      <td>0.063158</td>\n",
              "      <td>0.064247</td>\n",
              "      <td>133171200</td>\n",
              "      <td>0.00</td>\n",
              "      <td>0.0</td>\n",
              "    </tr>\n",
              "    <tr>\n",
              "      <th>1986-03-18</th>\n",
              "      <td>0.064247</td>\n",
              "      <td>0.064792</td>\n",
              "      <td>0.062069</td>\n",
              "      <td>0.062613</td>\n",
              "      <td>67766400</td>\n",
              "      <td>0.00</td>\n",
              "      <td>0.0</td>\n",
              "    </tr>\n",
              "    <tr>\n",
              "      <th>1986-03-19</th>\n",
              "      <td>0.062613</td>\n",
              "      <td>0.063158</td>\n",
              "      <td>0.060980</td>\n",
              "      <td>0.061524</td>\n",
              "      <td>47894400</td>\n",
              "      <td>0.00</td>\n",
              "      <td>0.0</td>\n",
              "    </tr>\n",
              "    <tr>\n",
              "      <th>...</th>\n",
              "      <td>...</td>\n",
              "      <td>...</td>\n",
              "      <td>...</td>\n",
              "      <td>...</td>\n",
              "      <td>...</td>\n",
              "      <td>...</td>\n",
              "      <td>...</td>\n",
              "    </tr>\n",
              "    <tr>\n",
              "      <th>2022-08-15</th>\n",
              "      <td>290.383619</td>\n",
              "      <td>293.556876</td>\n",
              "      <td>289.495490</td>\n",
              "      <td>292.848389</td>\n",
              "      <td>18085700</td>\n",
              "      <td>0.00</td>\n",
              "      <td>0.0</td>\n",
              "    </tr>\n",
              "    <tr>\n",
              "      <th>2022-08-16</th>\n",
              "      <td>291.371520</td>\n",
              "      <td>293.417196</td>\n",
              "      <td>289.804869</td>\n",
              "      <td>292.089996</td>\n",
              "      <td>18102900</td>\n",
              "      <td>0.00</td>\n",
              "      <td>0.0</td>\n",
              "    </tr>\n",
              "    <tr>\n",
              "      <th>2022-08-17</th>\n",
              "      <td>289.739990</td>\n",
              "      <td>293.350006</td>\n",
              "      <td>289.470001</td>\n",
              "      <td>291.320007</td>\n",
              "      <td>18253400</td>\n",
              "      <td>0.62</td>\n",
              "      <td>0.0</td>\n",
              "    </tr>\n",
              "    <tr>\n",
              "      <th>2022-08-18</th>\n",
              "      <td>290.190002</td>\n",
              "      <td>291.910004</td>\n",
              "      <td>289.079987</td>\n",
              "      <td>290.170013</td>\n",
              "      <td>17186200</td>\n",
              "      <td>0.00</td>\n",
              "      <td>0.0</td>\n",
              "    </tr>\n",
              "    <tr>\n",
              "      <th>2022-08-19</th>\n",
              "      <td>288.899994</td>\n",
              "      <td>289.250000</td>\n",
              "      <td>285.559998</td>\n",
              "      <td>286.149994</td>\n",
              "      <td>20557200</td>\n",
              "      <td>0.00</td>\n",
              "      <td>0.0</td>\n",
              "    </tr>\n",
              "  </tbody>\n",
              "</table>\n",
              "<p>9185 rows × 7 columns</p>\n",
              "</div>\n",
              "      <button class=\"colab-df-convert\" onclick=\"convertToInteractive('df-1eb39182-08d1-4408-80b7-74b500696160')\"\n",
              "              title=\"Convert this dataframe to an interactive table.\"\n",
              "              style=\"display:none;\">\n",
              "        \n",
              "  <svg xmlns=\"http://www.w3.org/2000/svg\" height=\"24px\"viewBox=\"0 0 24 24\"\n",
              "       width=\"24px\">\n",
              "    <path d=\"M0 0h24v24H0V0z\" fill=\"none\"/>\n",
              "    <path d=\"M18.56 5.44l.94 2.06.94-2.06 2.06-.94-2.06-.94-.94-2.06-.94 2.06-2.06.94zm-11 1L8.5 8.5l.94-2.06 2.06-.94-2.06-.94L8.5 2.5l-.94 2.06-2.06.94zm10 10l.94 2.06.94-2.06 2.06-.94-2.06-.94-.94-2.06-.94 2.06-2.06.94z\"/><path d=\"M17.41 7.96l-1.37-1.37c-.4-.4-.92-.59-1.43-.59-.52 0-1.04.2-1.43.59L10.3 9.45l-7.72 7.72c-.78.78-.78 2.05 0 2.83L4 21.41c.39.39.9.59 1.41.59.51 0 1.02-.2 1.41-.59l7.78-7.78 2.81-2.81c.8-.78.8-2.07 0-2.86zM5.41 20L4 18.59l7.72-7.72 1.47 1.35L5.41 20z\"/>\n",
              "  </svg>\n",
              "      </button>\n",
              "      \n",
              "  <style>\n",
              "    .colab-df-container {\n",
              "      display:flex;\n",
              "      flex-wrap:wrap;\n",
              "      gap: 12px;\n",
              "    }\n",
              "\n",
              "    .colab-df-convert {\n",
              "      background-color: #E8F0FE;\n",
              "      border: none;\n",
              "      border-radius: 50%;\n",
              "      cursor: pointer;\n",
              "      display: none;\n",
              "      fill: #1967D2;\n",
              "      height: 32px;\n",
              "      padding: 0 0 0 0;\n",
              "      width: 32px;\n",
              "    }\n",
              "\n",
              "    .colab-df-convert:hover {\n",
              "      background-color: #E2EBFA;\n",
              "      box-shadow: 0px 1px 2px rgba(60, 64, 67, 0.3), 0px 1px 3px 1px rgba(60, 64, 67, 0.15);\n",
              "      fill: #174EA6;\n",
              "    }\n",
              "\n",
              "    [theme=dark] .colab-df-convert {\n",
              "      background-color: #3B4455;\n",
              "      fill: #D2E3FC;\n",
              "    }\n",
              "\n",
              "    [theme=dark] .colab-df-convert:hover {\n",
              "      background-color: #434B5C;\n",
              "      box-shadow: 0px 1px 3px 1px rgba(0, 0, 0, 0.15);\n",
              "      filter: drop-shadow(0px 1px 2px rgba(0, 0, 0, 0.3));\n",
              "      fill: #FFFFFF;\n",
              "    }\n",
              "  </style>\n",
              "\n",
              "      <script>\n",
              "        const buttonEl =\n",
              "          document.querySelector('#df-1eb39182-08d1-4408-80b7-74b500696160 button.colab-df-convert');\n",
              "        buttonEl.style.display =\n",
              "          google.colab.kernel.accessAllowed ? 'block' : 'none';\n",
              "\n",
              "        async function convertToInteractive(key) {\n",
              "          const element = document.querySelector('#df-1eb39182-08d1-4408-80b7-74b500696160');\n",
              "          const dataTable =\n",
              "            await google.colab.kernel.invokeFunction('convertToInteractive',\n",
              "                                                     [key], {});\n",
              "          if (!dataTable) return;\n",
              "\n",
              "          const docLinkHtml = 'Like what you see? Visit the ' +\n",
              "            '<a target=\"_blank\" href=https://colab.research.google.com/notebooks/data_table.ipynb>data table notebook</a>'\n",
              "            + ' to learn more about interactive tables.';\n",
              "          element.innerHTML = '';\n",
              "          dataTable['output_type'] = 'display_data';\n",
              "          await google.colab.output.renderOutput(dataTable, element);\n",
              "          const docLink = document.createElement('div');\n",
              "          docLink.innerHTML = docLinkHtml;\n",
              "          element.appendChild(docLink);\n",
              "        }\n",
              "      </script>\n",
              "    </div>\n",
              "  </div>\n",
              "  "
            ]
          },
          "metadata": {},
          "execution_count": 86
        }
      ]
    },
    {
      "cell_type": "markdown",
      "metadata": {
        "id": "7kioGPx8EnEv"
      },
      "source": [
        "Our data is now a dataframe. You can see the datetime index and the colums with different pricing data."
      ]
    },
    {
      "cell_type": "markdown",
      "metadata": {
        "id": "diGtny7QEnEv"
      },
      "source": [
        "This is a pandas dataframe, so we can index in to just get price like this. For more info on pandas, please [click here](http://pandas.pydata.org/pandas-docs/stable/10min.html)."
      ]
    },
    {
      "cell_type": "code",
      "source": [
        "Y = hist['Close']"
      ],
      "metadata": {
        "id": "YXYX263jW8Yr"
      },
      "execution_count": 87,
      "outputs": []
    },
    {
      "cell_type": "markdown",
      "metadata": {
        "id": "1sTxUhA-EnEv"
      },
      "source": [
        "Because there is now also date information in our data, we provide two series to `.plot`. `X.index` gives us the datetime index, and `X.values` gives us the pricing values. These are used as the X and Y coordinates to make a graph."
      ]
    },
    {
      "cell_type": "markdown",
      "source": [
        "**My own example 13**"
      ],
      "metadata": {
        "id": "niq-wr5yXWff"
      }
    },
    {
      "cell_type": "code",
      "source": [
        "plt.plot(Y.index, Y.values)\n",
        "plt.ylabel('Price')\n",
        "plt.legend(['MSFT'])"
      ],
      "metadata": {
        "colab": {
          "base_uri": "https://localhost:8080/",
          "height": 282
        },
        "id": "oa1D3r-WW405",
        "outputId": "cf58abe4-d614-4ea0-8c46-936a8ec23f9c"
      },
      "execution_count": 88,
      "outputs": [
        {
          "output_type": "execute_result",
          "data": {
            "text/plain": [
              "<matplotlib.legend.Legend at 0x7fb80f371bd0>"
            ]
          },
          "metadata": {},
          "execution_count": 88
        },
        {
          "output_type": "display_data",
          "data": {
            "text/plain": [
              "<Figure size 432x288 with 1 Axes>"
            ],
            "image/png": "[encoded data removed]"
          },
          "metadata": {
            "needs_background": "light"
          }
        }
      ]
    },
    {
      "cell_type": "markdown",
      "metadata": {
        "id": "P3Ek8yFqEnEw"
      },
      "source": [
        "We can get statistics again on real data."
      ]
    },
    {
      "cell_type": "markdown",
      "source": [
        "**My own example 14**"
      ],
      "metadata": {
        "id": "Vb23Hb4yXoSm"
      }
    },
    {
      "cell_type": "code",
      "execution_count": 89,
      "metadata": {
        "id": "Tj9mYK7nEnEw",
        "colab": {
          "base_uri": "https://localhost:8080/"
        },
        "outputId": "1d0a21f6-0342-4d0f-94c5-ce1c4c5b3e65"
      },
      "outputs": [
        {
          "output_type": "execute_result",
          "data": {
            "text/plain": [
              "38.71108191006319"
            ]
          },
          "metadata": {},
          "execution_count": 89
        }
      ],
      "source": [
        "np.mean(Y)"
      ]
    },
    {
      "cell_type": "markdown",
      "source": [
        "**My own example 15**"
      ],
      "metadata": {
        "id": "njwIEuW5Xrqu"
      }
    },
    {
      "cell_type": "code",
      "execution_count": 90,
      "metadata": {
        "id": "XcdS5rHtEnEw",
        "colab": {
          "base_uri": "https://localhost:8080/"
        },
        "outputId": "50367339-e442-450c-a87b-44b8c84814f7"
      },
      "outputs": [
        {
          "output_type": "execute_result",
          "data": {
            "text/plain": [
              "64.38241525006688"
            ]
          },
          "metadata": {},
          "execution_count": 90
        }
      ],
      "source": [
        "np.std(Y)"
      ]
    },
    {
      "cell_type": "markdown",
      "metadata": {
        "id": "j17G-VFVEnEw"
      },
      "source": [
        "##Getting Returns from Prices\n",
        "\n",
        "We can use the `pct_change` function to get returns. Notice how we drop the first element after doing this, as it will be `NaN` (nothing -> something results in a NaN percent change)."
      ]
    },
    {
      "cell_type": "markdown",
      "source": [
        "**My own example 16**"
      ],
      "metadata": {
        "id": "dVyfIsDHX3sU"
      }
    },
    {
      "cell_type": "code",
      "execution_count": 91,
      "metadata": {
        "id": "3Y8YbrMUEnEw"
      },
      "outputs": [],
      "source": [
        "R = Y.pct_change()[1:]"
      ]
    },
    {
      "cell_type": "markdown",
      "metadata": {
        "id": "71Uay1KKEnEw"
      },
      "source": [
        "We can plot the returns distribution as a histogram."
      ]
    },
    {
      "cell_type": "markdown",
      "source": [
        "**My own example 17**"
      ],
      "metadata": {
        "id": "f7wvLFBCX7t_"
      }
    },
    {
      "cell_type": "code",
      "execution_count": 92,
      "metadata": {
        "id": "B9MXHP_EEnEw",
        "colab": {
          "base_uri": "https://localhost:8080/",
          "height": 279
        },
        "outputId": "a2907386-7155-486d-a90b-514d89d548c5"
      },
      "outputs": [
        {
          "output_type": "display_data",
          "data": {
            "text/plain": [
              "<Figure size 432x288 with 1 Axes>"
            ],
            "image/png": "[encoded data removed]"
          },
          "metadata": {
            "needs_background": "light"
          }
        }
      ],
      "source": [
        "plt.hist(R, bins=10)\n",
        "plt.xlabel('Return')\n",
        "plt.ylabel('Frequency')\n",
        "plt.legend(['MSFT Returns']);"
      ]
    },
    {
      "cell_type": "markdown",
      "metadata": {
        "id": "CcPoe3DdEnEx"
      },
      "source": [
        "Get statistics again."
      ]
    },
    {
      "cell_type": "markdown",
      "source": [
        "**My own example 18**"
      ],
      "metadata": {
        "id": "hEGpdGpOYzP0"
      }
    },
    {
      "cell_type": "code",
      "execution_count": 93,
      "metadata": {
        "id": "11CaKif7EnEx",
        "colab": {
          "base_uri": "https://localhost:8080/"
        },
        "outputId": "94a12f60-b5ea-4f7b-b2e5-c13f4834a231"
      },
      "outputs": [
        {
          "output_type": "execute_result",
          "data": {
            "text/plain": [
              "0.00045413899682777596"
            ]
          },
          "metadata": {},
          "execution_count": 93
        }
      ],
      "source": [
        "np.var(R)"
      ]
    },
    {
      "cell_type": "markdown",
      "source": [
        "**My own example 19**"
      ],
      "metadata": {
        "id": "u6FF1SIQbbRi"
      }
    },
    {
      "cell_type": "code",
      "execution_count": 94,
      "metadata": {
        "id": "zsIYQvb4EnEx",
        "colab": {
          "base_uri": "https://localhost:8080/"
        },
        "outputId": "bcb8a9ea-e523-46e9-f2dc-89cc1074a28c"
      },
      "outputs": [
        {
          "output_type": "execute_result",
          "data": {
            "text/plain": [
              "0.0011488280901034602"
            ]
          },
          "metadata": {},
          "execution_count": 94
        }
      ],
      "source": [
        "np.nanmean(R)"
      ]
    },
    {
      "cell_type": "markdown",
      "metadata": {
        "id": "gy8pR0Q6EnEx"
      },
      "source": [
        "\\Now let's go backwards and generate data out of a normal distribution using the statistics we estimated from Microsoft's returns. We'll see that we have good reason to suspect Microsoft's returns may not be normal, as the resulting normal distribution looks far different."
      ]
    },
    {
      "cell_type": "code",
      "execution_count": 95,
      "metadata": {
        "id": "6gHkrbyzEnEx",
        "colab": {
          "base_uri": "https://localhost:8080/",
          "height": 279
        },
        "outputId": "4f2e412b-3ae3-48c4-ba8f-fb40d6d5c24b"
      },
      "outputs": [
        {
          "output_type": "display_data",
          "data": {
            "text/plain": [
              "<Figure size 432x288 with 1 Axes>"
            ],
            "image/png": "[encoded data removed]"
          },
          "metadata": {
            "needs_background": "light"
          }
        }
      ],
      "source": [
        "plt.hist(np.random.normal(np.mean(R), np.std(R), 10000), bins=20)\n",
        "plt.xlabel('Return')\n",
        "plt.ylabel('Frequency')\n",
        "plt.legend(['Normally Distributed Returns']);"
      ]
    },
    {
      "cell_type": "markdown",
      "metadata": {
        "id": "RhK0dRHQEnEx"
      },
      "source": [
        "##Generating a Moving Average\n",
        "\n",
        "`pandas` has some nice tools to allow us to generate rolling statistics. Here's an example. Notice how there's no moving average for the first 60 days, as we don't have 60 days of data on which to generate the statistic."
      ]
    },
    {
      "cell_type": "markdown",
      "source": [
        "**My own example 20**"
      ],
      "metadata": {
        "id": "lJK9N_p0d3YF"
      }
    },
    {
      "cell_type": "code",
      "execution_count": 96,
      "metadata": {
        "id": "-Dg6Jj-aEnEx",
        "colab": {
          "base_uri": "https://localhost:8080/",
          "height": 265
        },
        "outputId": "e02d9eea-b8e9-4453-8743-3fa4b15c0bdc"
      },
      "outputs": [
        {
          "output_type": "display_data",
          "data": {
            "text/plain": [
              "<Figure size 432x288 with 1 Axes>"
            ],
            "image/png": "[encoded data removed]"
          },
          "metadata": {
            "needs_background": "light"
          }
        }
      ],
      "source": [
        "# Take the average of the maximum price\n",
        "MAVG = Y.rolling(2).mean()\n",
        "plt.plot(Y.index, Y.values)\n",
        "plt.plot(MAVG.index, MAVG.values)\n",
        "plt.ylabel('Price')\n",
        "plt.legend(['MSFT', 'Maximun price']);"
      ]
    },
    {
      "cell_type": "markdown",
      "metadata": {
        "id": "T51K3OvSEnEy"
      },
      "source": [
        "This presentation is for informational purposes only and does not constitute an offer to sell, a solicitation to buy, or a recommendation for any security; nor does it constitute an offer to provide investment advisory or other services by Quantopian, Inc. (\"Quantopian\"). Nothing contained herein constitutes investment advice or offers any opinion with respect to the suitability of any security, and any views expressed herein should not be taken as advice to buy, sell, or hold any security or as an endorsement of any security or company. In preparing the information contained herein, Quantopian, Inc. has not taken into account the investment needs, objectives, and financial circumstances of any particular investor. Any views expressed and data illustrated herein were prepared based upon information, believed to be reliable, available to Quantopian, Inc. at the time of publication. Quantopian makes no guarantees as to their accuracy or completeness. All information is subject to change and may quickly become unreliable for various reasons, including changes in market conditions or economic circumstances."
      ]
    },
    {
      "cell_type": "markdown",
      "metadata": {
        "id": "vlZsrHJjFoDm"
      },
      "source": [
        "<div align=\"center\">\n",
        "<img style=\"display: block; margin: auto;\" alt=\"photo\" src=\"https://upload.wikimedia.org/wikipedia/en/d/de/Quantopian_logo_2017.png\">\n",
        "</div> \n",
        "\n",
        "# Introduction to Python\n",
        "by Maxwell Margenot\n",
        "\n",
        "Part of the Quantopian Lecture Series:\n",
        "\n",
        "* [www.quantopian.com/lectures](https://www.quantopian.com/lectures)\n",
        "* [github.com/quantopian/research_public](https://github.com/quantopian/research_public)\n",
        "\n",
        "\n",
        "---\n",
        "\n",
        "All of the coding that you will do on the Quantopian platform will be in Python. It is also just a good, jack-of-all-trades language to know! Here we will provide you with the basics so that you can feel confident going through our other lectures and understanding what is happening."
      ]
    },
    {
      "cell_type": "markdown",
      "metadata": {
        "id": "v_LtlPxAFoDq"
      },
      "source": [
        "## Code Comments\n",
        "\n",
        "A comment is a note made by a programmer in the source code of a program. Its purpose is to clarify the source code and make it easier for people to follow along with what is happening. Anything in a comment is generally ignored when the code is actually run, making comments useful for including explanations and reasoning as well as removing specific lines of code that you may be unsure about. Comments in Python are created by using the pound symbol (`# Insert Text Here`). Including a `#` in a line of code will comment out anything that follows it."
      ]
    },
    {
      "cell_type": "code",
      "execution_count": 97,
      "metadata": {
        "id": "HzTSteQCFoDq"
      },
      "outputs": [],
      "source": [
        "# This is a comment\n",
        "# These lines of code will not change any values\n",
        "# Anything following the first # is not run as code"
      ]
    },
    {
      "cell_type": "markdown",
      "source": [
        "**My own example 21**\n"
      ],
      "metadata": {
        "id": "sd-ZqkwfEMqt"
      }
    },
    {
      "cell_type": "code",
      "source": [
        "#This is my coment number one"
      ],
      "metadata": {
        "id": "S5dqBr8sEVyE"
      },
      "execution_count": 98,
      "outputs": []
    },
    {
      "cell_type": "markdown",
      "source": [
        "SPECIAL STRING"
      ],
      "metadata": {
        "id": "Zo4FZEUUEsNw"
      }
    },
    {
      "cell_type": "markdown",
      "source": [
        "**My own example 22**"
      ],
      "metadata": {
        "id": "AF0lBL7qGtSh"
      }
    },
    {
      "cell_type": "code",
      "execution_count": 99,
      "metadata": {
        "id": "3CT735yUFoDs",
        "colab": {
          "base_uri": "https://localhost:8080/",
          "height": 35
        },
        "outputId": "22a36fcd-8b11-4987-aa5e-3bcc73d7f98b"
      },
      "outputs": [
        {
          "output_type": "execute_result",
          "data": {
            "text/plain": [
              "' This is a special string '"
            ],
            "application/vnd.google.colaboratory.intrinsic+json": {
              "type": "string"
            }
          },
          "metadata": {},
          "execution_count": 99
        }
      ],
      "source": [
        "\"\"\" This is a special string \"\"\""
      ]
    },
    {
      "cell_type": "markdown",
      "metadata": {
        "id": "uqjGQD7RFoDt"
      },
      "source": [
        "## Variables\n",
        "\n",
        "Variables provide names for values in programming. If you want to save a value for later or repeated use, you give the value a name, storing the contents in a variable. Variables in programming work in a fundamentally similar way to variables in algebra, but in Python they can take on various different data types.\n",
        "\n",
        "The basic variable types that we will cover in this section are `integers`, `floating point numbers`, `booleans`, and `strings`. \n",
        "\n",
        "An `integer` in programming is the same as in mathematics, a round number with no values after the decimal point. We use the built-in `print` function here to display the values of our variables as well as their types!"
      ]
    },
    {
      "cell_type": "markdown",
      "source": [
        "**My own example 23**"
      ],
      "metadata": {
        "id": "0naagIj1lpmR"
      }
    },
    {
      "cell_type": "code",
      "execution_count": 100,
      "metadata": {
        "id": "y04ss69-FoDt",
        "colab": {
          "base_uri": "https://localhost:8080/"
        },
        "outputId": "6ffdb633-0c89-4cb2-9e95-462aa1bdd17e"
      },
      "outputs": [
        {
          "output_type": "stream",
          "name": "stdout",
          "text": [
            "20.5 <class 'float'>\n"
          ]
        }
      ],
      "source": [
        "my_float = 20.5\n",
        "print(my_float, type(my_float))"
      ]
    },
    {
      "cell_type": "markdown",
      "metadata": {
        "id": "R-ZekhXqFoDu"
      },
      "source": [
        "Variables, regardless of type, are assigned by using a single equals sign (`=`). Variables are case-sensitive so any changes in variation in the capitals of a variable name will reference a different variable entirely."
      ]
    },
    {
      "cell_type": "code",
      "execution_count": 101,
      "metadata": {
        "id": "G3RiuMSNFoDv",
        "colab": {
          "base_uri": "https://localhost:8080/"
        },
        "outputId": "7eee0645-8821-48e2-e852-4728bdaa1cc3"
      },
      "outputs": [
        {
          "output_type": "stream",
          "name": "stdout",
          "text": [
            "1\n"
          ]
        }
      ],
      "source": [
        "one = 1\n",
        "print(one)"
      ]
    },
    {
      "cell_type": "markdown",
      "source": [
        "**My own example 24**"
      ],
      "metadata": {
        "id": "1rOE6VEsmyOU"
      }
    },
    {
      "cell_type": "code",
      "source": [
        "two= 2\n",
        "three= 3\n",
        "five= two + three\n",
        "print(five)"
      ],
      "metadata": {
        "colab": {
          "base_uri": "https://localhost:8080/"
        },
        "id": "qfwZ8fs6mpm3",
        "outputId": "079adb59-d2bb-4999-9f9a-468a8c374c11"
      },
      "execution_count": 102,
      "outputs": [
        {
          "output_type": "stream",
          "name": "stdout",
          "text": [
            "5\n"
          ]
        }
      ]
    },
    {
      "cell_type": "markdown",
      "metadata": {
        "id": "5HTX8HdpFoDv"
      },
      "source": [
        "A `floating point` number, or a `float` is a fancy name for a real number (again as in mathematics). To define a `float`, we need to either include a decimal point or specify that the value is a float."
      ]
    },
    {
      "cell_type": "code",
      "execution_count": 103,
      "metadata": {
        "id": "zzWlMRAfFoDw",
        "scrolled": true,
        "colab": {
          "base_uri": "https://localhost:8080/"
        },
        "outputId": "72ffa684-d213-4cdd-bec3-ebc8dcfac755"
      },
      "outputs": [
        {
          "output_type": "stream",
          "name": "stdout",
          "text": [
            "1.0 <class 'float'>\n",
            "1.0 <class 'float'>\n"
          ]
        }
      ],
      "source": [
        "my_float = 1.0\n",
        "print(my_float, type(my_float))\n",
        "my_float = float(1)\n",
        "print(my_float, type(my_float))"
      ]
    },
    {
      "cell_type": "markdown",
      "metadata": {
        "id": "UkvGMNzFFoDw"
      },
      "source": [
        "A variable of type `float` will not round the number that you store in it, while a variable of type `integer` will. This makes `floats` more suitable for mathematical calculations where you want more than just integers.\n",
        "\n",
        "Note that as we used the `float()` function to force an number to be considered a `float`, we can use the `int()` function to force a number to be considered an `int`."
      ]
    },
    {
      "cell_type": "markdown",
      "source": [
        ""
      ],
      "metadata": {
        "id": "n_zg3DpUnRuK"
      }
    },
    {
      "cell_type": "markdown",
      "source": [
        "**My own example 25**"
      ],
      "metadata": {
        "id": "vBoswxYtrgGH"
      }
    },
    {
      "cell_type": "code",
      "execution_count": 104,
      "metadata": {
        "id": "9AMfS9UWFoDw",
        "colab": {
          "base_uri": "https://localhost:8080/"
        },
        "outputId": "7ceb1eed-66b9-45d7-aa76-2c1432353174"
      },
      "outputs": [
        {
          "output_type": "stream",
          "name": "stdout",
          "text": [
            "3 <class 'int'>\n"
          ]
        }
      ],
      "source": [
        "my_int = int(3.1415923445678678978978078078978978978978)\n",
        "print(my_int, type(my_int))"
      ]
    },
    {
      "cell_type": "markdown",
      "metadata": {
        "id": "xHx5IzlWFoDx"
      },
      "source": [
        "The `int()` function will also truncate any digits that a number may have after the decimal point!\n",
        "\n",
        "Strings allow you to include text as a variable to operate on. They are defined using either single quotes ('') or double quotes (\"\")."
      ]
    },
    {
      "cell_type": "code",
      "execution_count": 105,
      "metadata": {
        "id": "I0CTXrOJFoDx",
        "outputId": "c50d7d26-df45-4da0-bd99-1bf82f3fa337",
        "colab": {
          "base_uri": "https://localhost:8080/"
        }
      },
      "outputs": [
        {
          "output_type": "stream",
          "name": "stdout",
          "text": [
            "This is a string with single quotes\n",
            "This is a string with double quotes\n"
          ]
        }
      ],
      "source": [
        "my_string = 'This is a string with single quotes'\n",
        "print(my_string)\n",
        "my_string = \"This is a string with double quotes\"\n",
        "print(my_string)"
      ]
    },
    {
      "cell_type": "markdown",
      "metadata": {
        "id": "yfDKfL5pFoDx"
      },
      "source": [
        "Both are allowed so that we can include apostrophes or quotation marks in a string if we so choose."
      ]
    },
    {
      "cell_type": "code",
      "execution_count": 106,
      "metadata": {
        "id": "cG2x0vfLFoDx",
        "outputId": "6a202f1e-97f9-4465-fde0-b2089d21468e",
        "colab": {
          "base_uri": "https://localhost:8080/"
        }
      },
      "outputs": [
        {
          "output_type": "stream",
          "name": "stdout",
          "text": [
            "\"Jabberwocky\", by Lewis Carroll\n",
            "'Twas brillig, and the slithy toves / Did gyre and gimble in the wabe;\n"
          ]
        }
      ],
      "source": [
        "my_string = '\"Jabberwocky\", by Lewis Carroll'\n",
        "print(my_string)\n",
        "my_string = \"'Twas brillig, and the slithy toves / Did gyre and gimble in the wabe;\"\n",
        "print(my_string)"
      ]
    },
    {
      "cell_type": "markdown",
      "metadata": {
        "id": "DQ99vPLTFoDy"
      },
      "source": [
        "Booleans, or `bools` are binary variable types. A `bool` can only take on one of two values, these being `True` or `False`. There is much more to this idea of truth values when it comes to programming, which we cover later in the [Logical Operators](#id-section5) of this notebook."
      ]
    },
    {
      "cell_type": "markdown",
      "source": [
        "**My own example 26**"
      ],
      "metadata": {
        "id": "1bGQ2ohzrlAu"
      }
    },
    {
      "cell_type": "code",
      "execution_count": 107,
      "metadata": {
        "id": "GHnExq2RFoDy",
        "colab": {
          "base_uri": "https://localhost:8080/"
        },
        "outputId": "3ebfbb6e-da2e-424b-94e6-0e5a1b3a9d66"
      },
      "outputs": [
        {
          "output_type": "stream",
          "name": "stdout",
          "text": [
            "False <class 'bool'>\n"
          ]
        }
      ],
      "source": [
        "my_boolean = False\n",
        "print(my_boolean, type(my_boolean))"
      ]
    },
    {
      "cell_type": "markdown",
      "metadata": {
        "id": "cpSPSEm3FoDy"
      },
      "source": [
        "There are many more data types that you can assign as variables in Python, but these are the basic ones! We will cover a few more later as we move through this tutorial."
      ]
    },
    {
      "cell_type": "markdown",
      "metadata": {
        "id": "PGCRBsP6FoDy"
      },
      "source": [
        "## Basic Math\n",
        "\n",
        "Python has a number of built-in math functions. These can be extended even further by importing the **math** package or by including any number of other calculation-based packages.\n",
        "\n",
        "All of the basic arithmetic operations are supported: `+`, `-`, `/`, and `*`. You can create exponents by using `**` and modular arithmetic is introduced with the mod operator, `%`."
      ]
    },
    {
      "cell_type": "markdown",
      "source": [
        "**My own example 27**"
      ],
      "metadata": {
        "id": "bmfDsJcrxiiY"
      }
    },
    {
      "cell_type": "code",
      "source": [
        "print('Addition: ', 234+ 65)"
      ],
      "metadata": {
        "colab": {
          "base_uri": "https://localhost:8080/"
        },
        "id": "-sn36nA4xM4S",
        "outputId": "2ca78ddb-8732-4b50-99d7-b8341d42c7ae"
      },
      "execution_count": 108,
      "outputs": [
        {
          "output_type": "stream",
          "name": "stdout",
          "text": [
            "Addition:  299\n"
          ]
        }
      ]
    },
    {
      "cell_type": "markdown",
      "source": [
        "**My own example 28**"
      ],
      "metadata": {
        "id": "1A7S1cW2xegU"
      }
    },
    {
      "cell_type": "code",
      "source": [
        "print('Subtraction: ', 90 - 65)"
      ],
      "metadata": {
        "id": "wsqxadrPxNa2",
        "colab": {
          "base_uri": "https://localhost:8080/"
        },
        "outputId": "af380b46-67fe-44bc-f8f3-f3677640240d"
      },
      "execution_count": 109,
      "outputs": [
        {
          "output_type": "stream",
          "name": "stdout",
          "text": [
            "Subtraction:  25\n"
          ]
        }
      ]
    },
    {
      "cell_type": "markdown",
      "source": [
        "**My own example 29**"
      ],
      "metadata": {
        "id": "0PC2vP_ExokY"
      }
    },
    {
      "cell_type": "code",
      "source": [
        "print('Multiplication: ', 34565 * 235)"
      ],
      "metadata": {
        "id": "KrLOPpIixNtU",
        "colab": {
          "base_uri": "https://localhost:8080/"
        },
        "outputId": "19ae5317-3cdd-475b-de83-5873d5a84586"
      },
      "execution_count": 110,
      "outputs": [
        {
          "output_type": "stream",
          "name": "stdout",
          "text": [
            "Multiplication:  8122775\n"
          ]
        }
      ]
    },
    {
      "cell_type": "markdown",
      "source": [
        "**My own example 30**"
      ],
      "metadata": {
        "id": "-pM0qDZyxrZ2"
      }
    },
    {
      "cell_type": "code",
      "source": [
        "print('Division: ', 102436546 / 34655)"
      ],
      "metadata": {
        "id": "EA_n-XoXxN_G",
        "colab": {
          "base_uri": "https://localhost:8080/"
        },
        "outputId": "14b8a2b7-31ea-40d7-9616-25e170cd9f50"
      },
      "execution_count": 111,
      "outputs": [
        {
          "output_type": "stream",
          "name": "stdout",
          "text": [
            "Division:  2955.895137786755\n"
          ]
        }
      ]
    },
    {
      "cell_type": "markdown",
      "source": [
        "**My own example 31**"
      ],
      "metadata": {
        "id": "iFNv-Z5Ext9j"
      }
    },
    {
      "cell_type": "code",
      "source": [
        "print('Exponentiation: ', 3**20)"
      ],
      "metadata": {
        "id": "yaddDX3CxOSE",
        "colab": {
          "base_uri": "https://localhost:8080/"
        },
        "outputId": "782575e9-f9d5-41a4-b23f-819d481dbd10"
      },
      "execution_count": 112,
      "outputs": [
        {
          "output_type": "stream",
          "name": "stdout",
          "text": [
            "Exponentiation:  3486784401\n"
          ]
        }
      ]
    },
    {
      "cell_type": "markdown",
      "metadata": {
        "id": "5LzOa0NOFoDz"
      },
      "source": [
        "If you are not familiar with the the mod operator, it operates like a remainder function. If we type $15 \\ \\% \\ 4$, it will return the remainder after dividing $15$ by $4$."
      ]
    },
    {
      "cell_type": "code",
      "execution_count": 113,
      "metadata": {
        "id": "lAtQTTtxFoDz",
        "colab": {
          "base_uri": "https://localhost:8080/"
        },
        "outputId": "5b3a0113-0b62-4632-ef99-4510f70db65a"
      },
      "outputs": [
        {
          "output_type": "stream",
          "name": "stdout",
          "text": [
            "Modulo:  3\n"
          ]
        }
      ],
      "source": [
        "print('Modulo: ', 15 % 4)"
      ]
    },
    {
      "cell_type": "markdown",
      "metadata": {
        "id": "C-wTIUthFoDz"
      },
      "source": [
        "Mathematical functions also work on variables!"
      ]
    },
    {
      "cell_type": "markdown",
      "source": [
        ""
      ],
      "metadata": {
        "id": "L2BuP-DKy9X2"
      }
    },
    {
      "cell_type": "markdown",
      "source": [
        "**My own example 32**"
      ],
      "metadata": {
        "id": "6nPUw0GmzDnJ"
      }
    },
    {
      "cell_type": "code",
      "execution_count": 114,
      "metadata": {
        "id": "bN2FqLkbFoDz",
        "scrolled": true,
        "colab": {
          "base_uri": "https://localhost:8080/"
        },
        "outputId": "7e12f4a6-5eec-42d8-a31c-9f750e3ab1ad"
      },
      "outputs": [
        {
          "output_type": "stream",
          "name": "stdout",
          "text": [
            "27189028279553414235049966267283185807800188603627566700161\n"
          ]
        }
      ],
      "source": [
        "first_integer = 67\n",
        "second_integer = 32\n",
        "print(first_integer ** second_integer)"
      ]
    },
    {
      "cell_type": "markdown",
      "metadata": {
        "id": "KT-9L5fqFoDz"
      },
      "source": [
        "Make sure that your variables are floats if you want to have decimal points in your answer. If you perform math exclusively with integers, you get an integer. Including any float in the calculation will make the result a float."
      ]
    },
    {
      "cell_type": "code",
      "execution_count": 115,
      "metadata": {
        "id": "Al3l_xmQFoD0",
        "colab": {
          "base_uri": "https://localhost:8080/"
        },
        "outputId": "5e7ecde5-9e41-4146-d93d-3614a4547688"
      },
      "outputs": [
        {
          "output_type": "stream",
          "name": "stdout",
          "text": [
            "3.6666666666666665\n"
          ]
        }
      ],
      "source": [
        "first_integer = 11\n",
        "second_integer = 3\n",
        "print(first_integer / second_integer)"
      ]
    },
    {
      "cell_type": "code",
      "execution_count": 116,
      "metadata": {
        "id": "bpDcvmfHFoD0",
        "colab": {
          "base_uri": "https://localhost:8080/"
        },
        "outputId": "26f7dff0-8699-4f04-efd3-332323db8e10"
      },
      "outputs": [
        {
          "output_type": "stream",
          "name": "stdout",
          "text": [
            "3.6666666666666665\n"
          ]
        }
      ],
      "source": [
        "first_number = 11.0\n",
        "second_number = 3.0\n",
        "print(first_number / second_number)"
      ]
    },
    {
      "cell_type": "markdown",
      "metadata": {
        "id": "D-pXsykpFoD0"
      },
      "source": [
        "Python has a few built-in math functions. The most notable of these are:\n",
        "\n",
        "* `abs()`\n",
        "* `round()`\n",
        "* `max()`\n",
        "* `min()`\n",
        "* `sum()`\n",
        "\n",
        "These functions all act as you would expect, given their names. Calling `abs()` on a number will return its absolute value. The `round()` function will round a number to a specified number of the decimal points (the default is $0$). Calling `max()` or `min()` on a collection of numbers will return, respectively, the maximum or minimum value in the collection. Calling `sum()` on a collection of numbers will add them all up. If you're not familiar with how collections of values in Python work, don't worry! We will cover collections in-depth in the next section. \n",
        "\n",
        "Additional math functionality can be added in with the `math` package."
      ]
    },
    {
      "cell_type": "code",
      "execution_count": 117,
      "metadata": {
        "id": "emPg334BFoD0"
      },
      "outputs": [],
      "source": [
        "import math"
      ]
    },
    {
      "cell_type": "markdown",
      "metadata": {
        "id": "McyMZcnQFoD0"
      },
      "source": [
        "The math library adds a long list of new mathematical functions to Python. Feel free to check out the [documentation](https://docs.python.org/2/library/math.html) for the full list and details. It concludes some mathematical constants"
      ]
    },
    {
      "cell_type": "code",
      "execution_count": 118,
      "metadata": {
        "id": "L2k9rxKzFoD0",
        "colab": {
          "base_uri": "https://localhost:8080/"
        },
        "outputId": "4ce18492-7726-439a-c170-96a707493432"
      },
      "outputs": [
        {
          "output_type": "stream",
          "name": "stdout",
          "text": [
            "Pi:  3.141592653589793\n",
            "Euler's Constant:  2.718281828459045\n"
          ]
        }
      ],
      "source": [
        "print('Pi: ', math.pi)\n",
        "print(\"Euler's Constant: \", math.e)"
      ]
    },
    {
      "cell_type": "markdown",
      "source": [
        "**My own example 33**"
      ],
      "metadata": {
        "id": "1TBJVKV10DN_"
      }
    },
    {
      "cell_type": "code",
      "source": [
        "print(min(23,45,67))"
      ],
      "metadata": {
        "colab": {
          "base_uri": "https://localhost:8080/"
        },
        "id": "SBvDmsrPz748",
        "outputId": "12431df2-1b54-4414-a0ec-e493009061e9"
      },
      "execution_count": 119,
      "outputs": [
        {
          "output_type": "stream",
          "name": "stdout",
          "text": [
            "23\n"
          ]
        }
      ]
    },
    {
      "cell_type": "markdown",
      "metadata": {
        "id": "9Rv4S_NjFoD0"
      },
      "source": [
        "As well as some commonly used math functions"
      ]
    },
    {
      "cell_type": "code",
      "execution_count": 120,
      "metadata": {
        "id": "VWf7haJBFoD1",
        "colab": {
          "base_uri": "https://localhost:8080/"
        },
        "outputId": "f7d554f8-4e2b-43a0-fc46-c0329f349a59"
      },
      "outputs": [
        {
          "output_type": "stream",
          "name": "stdout",
          "text": [
            "Cosine of pi:  -1.0\n"
          ]
        }
      ],
      "source": [
        "print('Cosine of pi: ', math.cos(math.pi))"
      ]
    },
    {
      "cell_type": "markdown",
      "metadata": {
        "id": "4IXs_3ueFoD1"
      },
      "source": [
        "## Collections\n",
        "### Lists\n",
        "\n",
        "A `list` in Python is an ordered collection of objects that can contain any data type. We define a `list` using brackets (`[]`)."
      ]
    },
    {
      "cell_type": "markdown",
      "source": [
        "**My own example 34**"
      ],
      "metadata": {
        "id": "Ar0MDyNL1cwy"
      }
    },
    {
      "cell_type": "code",
      "execution_count": 127,
      "metadata": {
        "id": "VaKo0mCRFoD1",
        "colab": {
          "base_uri": "https://localhost:8080/"
        },
        "outputId": "4be98b2e-5159-4cc6-a8a1-ed1f8a60fcda"
      },
      "outputs": [
        {
          "output_type": "stream",
          "name": "stdout",
          "text": [
            "[1, 2, 3, 0, 23, 5, 7, 8, 3456, 678]\n"
          ]
        }
      ],
      "source": [
        "my_list = [1, 2, 3,0,23,5,7,8,3456,678]\n",
        "print(my_list)"
      ]
    },
    {
      "cell_type": "markdown",
      "metadata": {
        "id": "qMKvepO5FoD1"
      },
      "source": [
        "We can access and index the list by using brackets as well. In order to select an individual element, simply type the list name followed by the index of the item you are looking for in braces."
      ]
    },
    {
      "cell_type": "markdown",
      "source": [
        "**My own example 35**"
      ],
      "metadata": {
        "id": "F8B9zfc32EBl"
      }
    },
    {
      "cell_type": "code",
      "execution_count": 128,
      "metadata": {
        "id": "TvaK4gOgFoD1",
        "colab": {
          "base_uri": "https://localhost:8080/"
        },
        "outputId": "5a5a3ac8-fb23-4dcb-f7f5-d60375495bcb"
      },
      "outputs": [
        {
          "output_type": "stream",
          "name": "stdout",
          "text": [
            "678\n",
            "23\n"
          ]
        }
      ],
      "source": [
        "print(my_list[-1])\n",
        "print(my_list[4])"
      ]
    },
    {
      "cell_type": "markdown",
      "metadata": {
        "id": "rw1U2_RsFoD1"
      },
      "source": [
        "Indexing in Python starts from $0$. If you have a list of length $n$, the first element of the list is at index $0$, the second element is at index $1$, and so on and so forth. The final element of the list will be at index $n-1$. Be careful! Trying to access a non-existent index will cause an error."
      ]
    },
    {
      "cell_type": "code",
      "execution_count": 129,
      "metadata": {
        "id": "a5OIwA_aFoD1",
        "colab": {
          "base_uri": "https://localhost:8080/"
        },
        "outputId": "5e79fee4-319a-425e-afc3-67400b381453"
      },
      "outputs": [
        {
          "output_type": "stream",
          "name": "stdout",
          "text": [
            "The first, second, and third list elements:  1 2 3\n",
            "Accessing outside the list bounds causes an error:  0\n"
          ]
        }
      ],
      "source": [
        "print('The first, second, and third list elements: ', my_list[0], my_list[1], my_list[2])\n",
        "print('Accessing outside the list bounds causes an error: ', my_list[3])"
      ]
    },
    {
      "cell_type": "markdown",
      "metadata": {
        "id": "L7hR-hrAFoD2"
      },
      "source": [
        "We can see the number of elements in a list by calling the `len()` function."
      ]
    },
    {
      "cell_type": "code",
      "execution_count": 130,
      "metadata": {
        "id": "XX7u73fJFoD2",
        "colab": {
          "base_uri": "https://localhost:8080/"
        },
        "outputId": "ce1da313-b7e8-4c81-9d97-427f856f4693"
      },
      "outputs": [
        {
          "output_type": "stream",
          "name": "stdout",
          "text": [
            "10\n"
          ]
        }
      ],
      "source": [
        "print(len(my_list))"
      ]
    },
    {
      "cell_type": "markdown",
      "metadata": {
        "id": "J_PbE6tRFoD2"
      },
      "source": [
        "We can update and change a list by accessing an index and assigning new value."
      ]
    },
    {
      "cell_type": "code",
      "execution_count": 131,
      "metadata": {
        "id": "Bj6Q87-5FoD2",
        "colab": {
          "base_uri": "https://localhost:8080/"
        },
        "outputId": "9b0117a2-374d-4315-db36-0c2f571ebcf3"
      },
      "outputs": [
        {
          "output_type": "stream",
          "name": "stdout",
          "text": [
            "[1, 2, 3, 0, 23, 5, 7, 8, 3456, 678]\n",
            "[42, 2, 3, 0, 23, 5, 7, 8, 3456, 678]\n"
          ]
        }
      ],
      "source": [
        "print(my_list)\n",
        "my_list[0] = 42\n",
        "print(my_list)"
      ]
    },
    {
      "cell_type": "markdown",
      "metadata": {
        "id": "MuVSNrtkFoD2"
      },
      "source": [
        "This is fundamentally different from how strings are handled. A `list` is mutable, meaning that you can change a `list`'s elements without changing the list itself. Some data types, like `strings`, are immutable, meaning you cannot change them at all. Once a `string` or other immutable data type has been created, it cannot be directly modified without creating an entirely new object."
      ]
    },
    {
      "cell_type": "code",
      "execution_count": 163,
      "metadata": {
        "id": "GoyEP8i3FoD2",
        "colab": {
          "base_uri": "https://localhost:8080/",
          "height": 183
        },
        "outputId": "fee8e329-be3c-44d9-f5cf-bbb2f81a90d7"
      },
      "outputs": [
        {
          "output_type": "error",
          "ename": "TypeError",
          "evalue": "ignored",
          "traceback": [
            "\u001b[0;31m---------------------------------------------------------------------------\u001b[0m",
            "\u001b[0;31mTypeError\u001b[0m                                 Traceback (most recent call last)",
            "\u001b[0;32m<ipython-input-163-85065ecd61ab>\u001b[0m in \u001b[0;36m<module>\u001b[0;34m\u001b[0m\n\u001b[1;32m      1\u001b[0m \u001b[0mmy_string\u001b[0m \u001b[0;34m=\u001b[0m \u001b[0;34m\"Strings never change\"\u001b[0m\u001b[0;34m\u001b[0m\u001b[0;34m\u001b[0m\u001b[0m\n\u001b[0;32m----> 2\u001b[0;31m \u001b[0mmy_string\u001b[0m\u001b[0;34m[\u001b[0m\u001b[0;36m0\u001b[0m\u001b[0;34m]\u001b[0m \u001b[0;34m=\u001b[0m \u001b[0;34m'Z'\u001b[0m\u001b[0;34m\u001b[0m\u001b[0;34m\u001b[0m\u001b[0m\n\u001b[0m",
            "\u001b[0;31mTypeError\u001b[0m: 'str' object does not support item assignment"
          ]
        }
      ],
      "source": [
        "my_string = \"Strings never change\"\n",
        "my_string[0] = 'Z'"
      ]
    },
    {
      "cell_type": "markdown",
      "metadata": {
        "id": "_RDIF2aaFoD2"
      },
      "source": [
        "As we stated before, a list can contain any data type. Thus, lists can also contain strings."
      ]
    },
    {
      "cell_type": "code",
      "execution_count": 164,
      "metadata": {
        "id": "ir0UkJXoFoD3",
        "colab": {
          "base_uri": "https://localhost:8080/"
        },
        "outputId": "e538bdb5-a4ba-488d-98ec-5ab5837c008f"
      },
      "outputs": [
        {
          "output_type": "stream",
          "name": "stdout",
          "text": [
            "['one', 'two', 'three']\n"
          ]
        }
      ],
      "source": [
        "my_list_2 = ['one', 'two', 'three']\n",
        "print(my_list_2)"
      ]
    },
    {
      "cell_type": "markdown",
      "metadata": {
        "id": "jdQh8CaAFoD3"
      },
      "source": [
        "Lists can also contain multiple different data types at once!"
      ]
    },
    {
      "cell_type": "markdown",
      "source": [
        "**My own example 36**"
      ],
      "metadata": {
        "id": "Xox9eKck2X7L"
      }
    },
    {
      "cell_type": "code",
      "execution_count": 165,
      "metadata": {
        "id": "Sw44yHNcFoD3"
      },
      "outputs": [],
      "source": [
        "my_list_3 = [True, 'False', 42, 14.6]"
      ]
    },
    {
      "cell_type": "markdown",
      "metadata": {
        "id": "HJ9JUXP4FoD3"
      },
      "source": [
        "If you want to put two lists together, they can be combined with a `+` symbol."
      ]
    },
    {
      "cell_type": "code",
      "execution_count": null,
      "metadata": {
        "id": "gMH5VwORFoD3"
      },
      "outputs": [],
      "source": [
        "my_list_4 = my_list + my_list_2 + my_list_3\n",
        "print(my_list_4)"
      ]
    },
    {
      "cell_type": "markdown",
      "metadata": {
        "id": "fFKwuDVlFoD3"
      },
      "source": [
        "In addition to accessing individual elements of a list, we can access groups of elements through slicing."
      ]
    },
    {
      "cell_type": "code",
      "execution_count": 168,
      "metadata": {
        "id": "LuBcG0F-FoD3"
      },
      "outputs": [],
      "source": [
        "my_list = ['friends', 'romans', 'countrymen', 'lend', 'me', 'your', 'ears']"
      ]
    },
    {
      "cell_type": "markdown",
      "metadata": {
        "id": "-KQfwrvWFoD4"
      },
      "source": [
        "#### Slicing\n",
        "\n",
        "We use the colon (`:`) to slice lists. "
      ]
    },
    {
      "cell_type": "code",
      "execution_count": 169,
      "metadata": {
        "id": "mpSXnk-4FoD4",
        "scrolled": true,
        "colab": {
          "base_uri": "https://localhost:8080/"
        },
        "outputId": "06302ef1-a9c1-468a-ed71-ff523db45ca1"
      },
      "outputs": [
        {
          "output_type": "stream",
          "name": "stdout",
          "text": [
            "['countrymen', 'lend']\n"
          ]
        }
      ],
      "source": [
        "print(my_list[2:4])"
      ]
    },
    {
      "cell_type": "markdown",
      "metadata": {
        "id": "zQDjVMNqFoD4"
      },
      "source": [
        "Using `:` we can select a group of elements in the list starting from the first element indicated and going up to  (but not including) the last element indicated.\n",
        "\n",
        "We can also select everything after a certain point"
      ]
    },
    {
      "cell_type": "code",
      "execution_count": 170,
      "metadata": {
        "id": "7Hg8AlVrFoD4",
        "scrolled": true,
        "colab": {
          "base_uri": "https://localhost:8080/"
        },
        "outputId": "e91858b5-f100-4a63-f98c-02c0c027fac3"
      },
      "outputs": [
        {
          "output_type": "stream",
          "name": "stdout",
          "text": [
            "['romans', 'countrymen', 'lend', 'me', 'your', 'ears']\n"
          ]
        }
      ],
      "source": [
        "print(my_list[1:])"
      ]
    },
    {
      "cell_type": "markdown",
      "metadata": {
        "id": "TtpCetfyFoD4"
      },
      "source": [
        "And everything before a certain point"
      ]
    },
    {
      "cell_type": "code",
      "execution_count": 171,
      "metadata": {
        "id": "uTSBNghEFoD4",
        "scrolled": true,
        "colab": {
          "base_uri": "https://localhost:8080/"
        },
        "outputId": "8e1c5b61-ad9c-4990-db54-677f560cdd35"
      },
      "outputs": [
        {
          "output_type": "stream",
          "name": "stdout",
          "text": [
            "['friends', 'romans', 'countrymen', 'lend']\n"
          ]
        }
      ],
      "source": [
        "print(my_list[:4])"
      ]
    },
    {
      "cell_type": "markdown",
      "metadata": {
        "id": "-clmh8qeFoD4"
      },
      "source": [
        "Using negative numbers will count from the end of the indices instead of from the beginning. For example, an index of `-1` indicates the last element of the list."
      ]
    },
    {
      "cell_type": "code",
      "execution_count": 172,
      "metadata": {
        "id": "rZFoZxinFoD4",
        "colab": {
          "base_uri": "https://localhost:8080/"
        },
        "outputId": "18813823-1a30-40ee-8f48-968f4acecc86"
      },
      "outputs": [
        {
          "output_type": "stream",
          "name": "stdout",
          "text": [
            "ears\n"
          ]
        }
      ],
      "source": [
        "print(my_list[-1])"
      ]
    },
    {
      "cell_type": "markdown",
      "metadata": {
        "id": "nVwM9euhFoD5"
      },
      "source": [
        "You can also add a third component to slicing. Instead of simply indicating the first and final parts of your slice, you can specify the step size that you want to take. So instead of taking every single element, you can take every other element."
      ]
    },
    {
      "cell_type": "code",
      "execution_count": 173,
      "metadata": {
        "id": "IAB5tIZIFoD5",
        "colab": {
          "base_uri": "https://localhost:8080/"
        },
        "outputId": "6eabd29e-7f51-4388-8bb8-a4611522c8b7"
      },
      "outputs": [
        {
          "output_type": "stream",
          "name": "stdout",
          "text": [
            "['friends', 'countrymen', 'me', 'ears']\n"
          ]
        }
      ],
      "source": [
        "print(my_list[0:7:2])"
      ]
    },
    {
      "cell_type": "markdown",
      "metadata": {
        "id": "MexIuTBkFoD5"
      },
      "source": [
        "Here we have selected the entire list (because `0:7` will yield elements `0` through `6`) and we have selected a step size of `2`. So this will spit out element `0` , element `2`, element `4`, and so on through the list element selected. We can skip indicated the beginning and end of our slice, only indicating the step, if we like."
      ]
    },
    {
      "cell_type": "code",
      "execution_count": 174,
      "metadata": {
        "id": "vffUQsX8FoD5",
        "colab": {
          "base_uri": "https://localhost:8080/"
        },
        "outputId": "b15d44cf-179f-4773-810b-3e7331f5ec21"
      },
      "outputs": [
        {
          "output_type": "stream",
          "name": "stdout",
          "text": [
            "['friends', 'countrymen', 'me', 'ears']\n"
          ]
        }
      ],
      "source": [
        "print(my_list[::2])"
      ]
    },
    {
      "cell_type": "markdown",
      "metadata": {
        "id": "H9VMPjYtFoD5"
      },
      "source": [
        "Lists implictly select the beginning and end of the list when not otherwise specified."
      ]
    },
    {
      "cell_type": "code",
      "execution_count": 175,
      "metadata": {
        "id": "MYjDHm27FoD5",
        "colab": {
          "base_uri": "https://localhost:8080/"
        },
        "outputId": "949b6692-7802-472a-9572-79de2cd6b4cc"
      },
      "outputs": [
        {
          "output_type": "stream",
          "name": "stdout",
          "text": [
            "['friends', 'romans', 'countrymen', 'lend', 'me', 'your', 'ears']\n"
          ]
        }
      ],
      "source": [
        "print(my_list[:])"
      ]
    },
    {
      "cell_type": "markdown",
      "metadata": {
        "id": "cjo1zwgFFoD5"
      },
      "source": [
        "With a negative step size we can even reverse the list!"
      ]
    },
    {
      "cell_type": "code",
      "execution_count": 176,
      "metadata": {
        "id": "OWN0poONFoD5",
        "colab": {
          "base_uri": "https://localhost:8080/"
        },
        "outputId": "f8fbf314-1e91-4bfc-faa1-ee1ea96cc2af"
      },
      "outputs": [
        {
          "output_type": "stream",
          "name": "stdout",
          "text": [
            "['ears', 'your', 'me', 'lend', 'countrymen', 'romans', 'friends']\n"
          ]
        }
      ],
      "source": [
        "print(my_list[::-1])"
      ]
    },
    {
      "cell_type": "markdown",
      "metadata": {
        "id": "x6_6xtF2FoD6"
      },
      "source": [
        "Python does not have native matrices, but with lists we can produce a working fascimile. Other packages, such as `numpy`, add matrices as a separate data type, but in base Python the best way to create a matrix is to use a list of lists."
      ]
    },
    {
      "cell_type": "markdown",
      "metadata": {
        "id": "zWqgZdeEFoD6"
      },
      "source": [
        "We can also use built-in functions to generate lists. In particular we will look at `range()` (because we will be using it later!). Range can take several different inputs and will return a list."
      ]
    },
    {
      "cell_type": "code",
      "execution_count": 177,
      "metadata": {
        "id": "Wd-P0xfxFoD6",
        "colab": {
          "base_uri": "https://localhost:8080/"
        },
        "outputId": "388d43fd-6900-48a5-a4af-974384225397"
      },
      "outputs": [
        {
          "output_type": "stream",
          "name": "stdout",
          "text": [
            "range(0, 10)\n"
          ]
        }
      ],
      "source": [
        "b = 10\n",
        "my_list = range(b)\n",
        "print(my_list)"
      ]
    },
    {
      "cell_type": "markdown",
      "metadata": {
        "id": "_md2uQsnFoD6"
      },
      "source": [
        "Similar to our list-slicing methods from before, we can define both a start and an end for our range. This will return a list that is includes the start and excludes the end, just like a slice."
      ]
    },
    {
      "cell_type": "code",
      "execution_count": 178,
      "metadata": {
        "id": "wdk3ho-UFoD6",
        "colab": {
          "base_uri": "https://localhost:8080/"
        },
        "outputId": "11b22b99-11cf-4d61-af96-ff5b8a35561f"
      },
      "outputs": [
        {
          "output_type": "stream",
          "name": "stdout",
          "text": [
            "range(0, 10)\n"
          ]
        }
      ],
      "source": [
        "a = 0\n",
        "b = 10\n",
        "my_list = range(a, b)\n",
        "print(my_list)"
      ]
    },
    {
      "cell_type": "markdown",
      "metadata": {
        "id": "Jg-GPGK2FoD6"
      },
      "source": [
        "We can also specify a step size. This again has the same behavior as a slice."
      ]
    },
    {
      "cell_type": "code",
      "execution_count": 179,
      "metadata": {
        "id": "FcwF1eTEFoD6",
        "scrolled": true,
        "colab": {
          "base_uri": "https://localhost:8080/"
        },
        "outputId": "bcd4a90d-6488-4957-952f-b82b1229a928"
      },
      "outputs": [
        {
          "output_type": "stream",
          "name": "stdout",
          "text": [
            "range(0, 10, 2)\n"
          ]
        }
      ],
      "source": [
        "a = 0\n",
        "b = 10\n",
        "step = 2\n",
        "my_list = range(a, b, step)\n",
        "print(my_list)"
      ]
    },
    {
      "cell_type": "code",
      "execution_count": 180,
      "metadata": {
        "id": "9ysQy7WlFoD7",
        "colab": {
          "base_uri": "https://localhost:8080/"
        },
        "outputId": "e3b9c131-cc2f-4a78-915a-a90344a7c915"
      },
      "outputs": [
        {
          "output_type": "stream",
          "name": "stdout",
          "text": [
            "('I', 'have', 30, 'cats', 'and', 26, 'parrots')\n"
          ]
        }
      ],
      "source": [
        "my_tuple = 'I', 'have', 30, 'cats', 'and', 26, 'parrots'\n",
        "print(my_tuple)"
      ]
    },
    {
      "cell_type": "code",
      "execution_count": 181,
      "metadata": {
        "id": "tPZCo0-ZFoD7",
        "colab": {
          "base_uri": "https://localhost:8080/"
        },
        "outputId": "be6e02b2-672d-41e4-9f08-a9e8bbc9ceea"
      },
      "outputs": [
        {
          "output_type": "stream",
          "name": "stdout",
          "text": [
            "('I', 'have', 30, 'cats')\n"
          ]
        }
      ],
      "source": [
        "my_tuple = ('I', 'have', 30, 'cats')\n",
        "print(my_tuple)"
      ]
    },
    {
      "cell_type": "markdown",
      "metadata": {
        "id": "_Je71O5DFoD7"
      },
      "source": [
        "As mentioned before, tuples are immutable. You can't change any part of them without defining a new tuple."
      ]
    },
    {
      "cell_type": "code",
      "execution_count": null,
      "metadata": {
        "id": "oe088TXRFoD7"
      },
      "outputs": [],
      "source": [
        "my_tuple[3] = 'dogs' # Attempts to change the 'cats' value stored in the the tuple to 'dogs'"
      ]
    },
    {
      "cell_type": "markdown",
      "metadata": {
        "id": "WubVHM_TFoD7"
      },
      "source": [
        "You can slice tuples the same way that you slice lists!"
      ]
    },
    {
      "cell_type": "code",
      "execution_count": 183,
      "metadata": {
        "id": "PUjnA7BRFoD7",
        "colab": {
          "base_uri": "https://localhost:8080/"
        },
        "outputId": "c6d03795-ab70-4f77-b2db-0cd5ea270107"
      },
      "outputs": [
        {
          "output_type": "stream",
          "name": "stdout",
          "text": [
            "('have', 30)\n"
          ]
        }
      ],
      "source": [
        "print(my_tuple[1:3])"
      ]
    },
    {
      "cell_type": "markdown",
      "metadata": {
        "id": "YanwulkcFoD7"
      },
      "source": [
        "And concatenate them the way that you would with strings!"
      ]
    },
    {
      "cell_type": "markdown",
      "source": [
        ""
      ],
      "metadata": {
        "id": "uR0wOho33aVv"
      }
    },
    {
      "cell_type": "markdown",
      "source": [
        "**My own example 37**"
      ],
      "metadata": {
        "id": "_3I9nKnd3lNZ"
      }
    },
    {
      "cell_type": "code",
      "execution_count": 184,
      "metadata": {
        "id": "SJL-JHy1FoD7",
        "colab": {
          "base_uri": "https://localhost:8080/"
        },
        "outputId": "84fff025-7f33-4239-ac3a-72b31c06d0af"
      },
      "outputs": [
        {
          "output_type": "stream",
          "name": "stdout",
          "text": [
            "('I', 'have', 30, 'cats', 'make', 'that', 50, 'hola mundo', 'soy estudiante')\n"
          ]
        }
      ],
      "source": [
        "my_other_tuple = ('make', 'that', 50)\n",
        "another_one= ('hola mundo', 'soy estudiante')\n",
        "print(my_tuple + my_other_tuple + another_one)"
      ]
    },
    {
      "cell_type": "markdown",
      "metadata": {
        "id": "eTaN3hNoFoD7"
      },
      "source": [
        "We can 'pack' values together, creating a tuple (as above), or we can 'unpack' values from a tuple, taking them out."
      ]
    },
    {
      "cell_type": "code",
      "execution_count": 185,
      "metadata": {
        "id": "wQ078PFDFoD8",
        "colab": {
          "base_uri": "https://localhost:8080/"
        },
        "outputId": "619771d8-82f1-4f29-ca5e-6da4af72f804"
      },
      "outputs": [
        {
          "output_type": "stream",
          "name": "stdout",
          "text": [
            "make that 50\n"
          ]
        }
      ],
      "source": [
        "str_1, str_2, int_1 = my_other_tuple\n",
        "print(str_1, str_2, int_1)"
      ]
    },
    {
      "cell_type": "markdown",
      "metadata": {
        "id": "SddvFxc-FoD8"
      },
      "source": [
        "Unpacking assigns each value of the tuple in order to each variable on the left hand side of the equals sign. Some functions, including user-defined functions, may return tuples, so we can use this to directly unpack them and access the values that we want."
      ]
    },
    {
      "cell_type": "markdown",
      "metadata": {
        "id": "oPKhq758FoD8"
      },
      "source": [
        "### Sets\n",
        "\n",
        "A `set` is a collection of unordered, unique elements. It works almost exactly as you would expect a normal set of things in mathematics to work and is defined using braces (`{}`)."
      ]
    },
    {
      "cell_type": "markdown",
      "source": [
        "**My own example 38**"
      ],
      "metadata": {
        "id": "tnUBD_No4PtV"
      }
    },
    {
      "cell_type": "code",
      "execution_count": 186,
      "metadata": {
        "id": "FIFvUdqAFoD8",
        "colab": {
          "base_uri": "https://localhost:8080/"
        },
        "outputId": "8f904cee-3cda-4648-a99d-cabfdfbb4b96"
      },
      "outputs": [
        {
          "output_type": "stream",
          "name": "stdout",
          "text": [
            "{3523, 4, 'dogs', 7, 42, 'My name is Cristian', 'the number 4', 'lizards', 'man I just LOVE the number 4'} <class 'set'>\n"
          ]
        }
      ],
      "source": [
        "things_i_like = {'dogs', 7, 'the number 4', 4, 4, 4, 42, 'lizards', 'man I just LOVE the number 4', 4,3523, 'My name is Cristian'}\n",
        "print(things_i_like, type(things_i_like))"
      ]
    },
    {
      "cell_type": "markdown",
      "metadata": {
        "id": "XREec0hiFoD8"
      },
      "source": [
        "Note how any extra instances of the same item are removed in the final set. We can also create a `set` from a list, using the `set()` function."
      ]
    },
    {
      "cell_type": "code",
      "execution_count": 187,
      "metadata": {
        "id": "8nXoJ66yFoD8",
        "colab": {
          "base_uri": "https://localhost:8080/"
        },
        "outputId": "0eb04a60-f22a-4097-c5ec-e1f721b2f5b4"
      },
      "outputs": [
        {
          "output_type": "stream",
          "name": "stdout",
          "text": [
            "{'dogs', 'cats', 'sponges', 'bats', 'cows', 'lizards'}\n"
          ]
        }
      ],
      "source": [
        "animal_list = ['cats', 'dogs', 'dogs', 'dogs', 'lizards', 'sponges', 'cows', 'bats', 'sponges']\n",
        "animal_set = set(animal_list)\n",
        "print(animal_set) # Removes all extra instances from the list)"
      ]
    },
    {
      "cell_type": "markdown",
      "metadata": {
        "id": "tJBIq0oRFoD8"
      },
      "source": [
        "Calling `len()` on a set will tell you how many elements are in it."
      ]
    },
    {
      "cell_type": "code",
      "execution_count": 188,
      "metadata": {
        "id": "KYCm3WB6FoD8",
        "colab": {
          "base_uri": "https://localhost:8080/"
        },
        "outputId": "af4eacef-21b6-4199-b90d-272b42a7776d"
      },
      "outputs": [
        {
          "output_type": "stream",
          "name": "stdout",
          "text": [
            "6\n"
          ]
        }
      ],
      "source": [
        "print(len(animal_set))"
      ]
    },
    {
      "cell_type": "markdown",
      "metadata": {
        "id": "uJKlBiNVFoD9"
      },
      "source": [
        "Because a `set` is unordered, we can't access individual elements using an index. We can, however, easily check for membership (to see if something is contained in a set) and take the unions and intersections of sets by using the built-in set functions."
      ]
    },
    {
      "cell_type": "markdown",
      "source": [
        "**My own example 39**"
      ],
      "metadata": {
        "id": "EVjqhPoX59Eg"
      }
    },
    {
      "cell_type": "code",
      "execution_count": 189,
      "metadata": {
        "id": "h5pRRuudFoD9",
        "colab": {
          "base_uri": "https://localhost:8080/"
        },
        "outputId": "6285c405-26c6-4d20-f96f-9206f1d2179e"
      },
      "outputs": [
        {
          "output_type": "execute_result",
          "data": {
            "text/plain": [
              "True"
            ]
          },
          "metadata": {},
          "execution_count": 189
        }
      ],
      "source": [
        "'lizards' and 'cows' in animal_set "
      ]
    },
    {
      "cell_type": "markdown",
      "metadata": {
        "id": "e6ChS9b6FoD9"
      },
      "source": [
        "Here we checked to see whether the string 'cats' was contained within our `animal_set` and it returned `True`, telling us that it is indeed in our set.\n",
        "\n",
        "We can connect sets by using typical mathematical set operators, namely `|`, for union, and `&`, for intersection. Using `|` or `&` will return exactly what you would expect if you are familiar with sets in mathematics."
      ]
    },
    {
      "cell_type": "code",
      "execution_count": 190,
      "metadata": {
        "id": "rGYsFiPDFoD9",
        "colab": {
          "base_uri": "https://localhost:8080/"
        },
        "outputId": "b7ba0390-cd74-4046-c391-e1431313fde4"
      },
      "outputs": [
        {
          "output_type": "stream",
          "name": "stdout",
          "text": [
            "{3523, 4, 'dogs', 7, 42, 'My name is Cristian', 'cats', 'sponges', 'bats', 'the number 4', 'cows', 'lizards', 'man I just LOVE the number 4'}\n"
          ]
        }
      ],
      "source": [
        "print(animal_set | things_i_like) # You can also write things_i_like | animal_set with no difference"
      ]
    },
    {
      "cell_type": "markdown",
      "metadata": {
        "id": "rG0TEbmFFoD9"
      },
      "source": [
        "Pairing two sets together with `|` combines the sets, removing any repetitions to make every set element unique."
      ]
    },
    {
      "cell_type": "code",
      "execution_count": 191,
      "metadata": {
        "id": "b1YFGkdcFoD9",
        "colab": {
          "base_uri": "https://localhost:8080/"
        },
        "outputId": "7cb6fe77-7c4c-4191-874d-01948bc99924"
      },
      "outputs": [
        {
          "output_type": "stream",
          "name": "stdout",
          "text": [
            "{'lizards', 'dogs'}\n"
          ]
        }
      ],
      "source": [
        "print(animal_set & things_i_like) # You can also write things_i_like & animal_set with no difference"
      ]
    },
    {
      "cell_type": "markdown",
      "metadata": {
        "id": "aKeZWkr7FoD9"
      },
      "source": [
        "Pairing two sets together with `&` will calculate the intersection of both sets, returning a set that only contains what they have in common.\n",
        "\n",
        "If you are interested in learning more about the built-in functions for sets, feel free to check out the [documentation](https://docs.python.org/2/library/sets.html)."
      ]
    },
    {
      "cell_type": "markdown",
      "metadata": {
        "id": "p2VkM1SOFoD9"
      },
      "source": [
        "### Dictionaries\n",
        "\n",
        "Another essential data structure in Python is the dictionary. Dictionaries are defined with a combination of curly braces (`{}`) and colons (`:`). The braces define the beginning and end of a dictionary and the colons indicate key-value pairs. A dictionary is essentially a set of key-value pairs. The key of any entry must be an immutable data type. This makes both strings and tuples candidates. Keys can be both added and deleted.\n",
        "\n",
        "In the following example, we have a dictionary composed of key-value pairs where the key is a genre of fiction (`string`) and the value is a list of books (`list`) within that genre. Since a collection is still considered a single entity, we can use one to collect multiple variables or values into one key-value pair."
      ]
    },
    {
      "cell_type": "code",
      "execution_count": 192,
      "metadata": {
        "id": "LxaBLDmaFoD9"
      },
      "outputs": [],
      "source": [
        "my_dict = {\"High Fantasy\": [\"Wheel of Time\", \"Lord of the Rings\"], \n",
        "           \"Sci-fi\": [\"Book of the New Sun\", \"Neuromancer\", \"Snow Crash\"],\n",
        "           \"Weird Fiction\": [\"At the Mountains of Madness\", \"The House on the Borderland\"]}"
      ]
    },
    {
      "cell_type": "markdown",
      "metadata": {
        "id": "uKVyem2UFoD-"
      },
      "source": [
        "After defining a dictionary, we can access any individual value by indicating its key in brackets."
      ]
    },
    {
      "cell_type": "code",
      "execution_count": 193,
      "metadata": {
        "id": "qEpJj6DAFoD-",
        "colab": {
          "base_uri": "https://localhost:8080/"
        },
        "outputId": "5002fb34-c4f7-4387-b191-b1b76f6dd6b7"
      },
      "outputs": [
        {
          "output_type": "stream",
          "name": "stdout",
          "text": [
            "['Book of the New Sun', 'Neuromancer', 'Snow Crash']\n"
          ]
        }
      ],
      "source": [
        "print(my_dict[\"Sci-fi\"])"
      ]
    },
    {
      "cell_type": "markdown",
      "metadata": {
        "id": "JhQiqbsDFoD-"
      },
      "source": [
        "We can also change the value associated with a given key"
      ]
    },
    {
      "cell_type": "markdown",
      "source": [
        "**My own example 40**"
      ],
      "metadata": {
        "id": "60aumxEDHziX"
      }
    },
    {
      "cell_type": "code",
      "execution_count": 194,
      "metadata": {
        "id": "Luu1AKCuFoD-",
        "colab": {
          "base_uri": "https://localhost:8080/"
        },
        "outputId": "272cea7d-89bc-4fb1-d3f1-757bf29cea6e"
      },
      "outputs": [
        {
          "output_type": "stream",
          "name": "stdout",
          "text": [
            "I can't read\n"
          ]
        }
      ],
      "source": [
        "my_dict[\"High Fantasy\"] = \"I can't read\"\n",
        "print(my_dict[\"High Fantasy\"])"
      ]
    },
    {
      "cell_type": "markdown",
      "metadata": {
        "id": "wTw5m4UaFoD-"
      },
      "source": [
        "Adding a new key-value pair is as simple as defining it."
      ]
    },
    {
      "cell_type": "code",
      "execution_count": 195,
      "metadata": {
        "id": "sgw4pHv_FoD-",
        "colab": {
          "base_uri": "https://localhost:8080/"
        },
        "outputId": "c970e726-7f75-4334-f30d-06b8bb5fa2f0"
      },
      "outputs": [
        {
          "output_type": "stream",
          "name": "stdout",
          "text": [
            "['Pillars of the Earth']\n"
          ]
        }
      ],
      "source": [
        "my_dict[\"Historical Fiction\"] = [\"Pillars of the Earth\"]\n",
        "print(my_dict[\"Historical Fiction\"])"
      ]
    },
    {
      "cell_type": "code",
      "execution_count": 196,
      "metadata": {
        "id": "EE2MTbwVFoD-",
        "colab": {
          "base_uri": "https://localhost:8080/"
        },
        "outputId": "b9e4bfd5-0deb-41d0-a057-d728651c1610"
      },
      "outputs": [
        {
          "output_type": "stream",
          "name": "stdout",
          "text": [
            "{'High Fantasy': \"I can't read\", 'Sci-fi': ['Book of the New Sun', 'Neuromancer', 'Snow Crash'], 'Weird Fiction': ['At the Mountains of Madness', 'The House on the Borderland'], 'Historical Fiction': ['Pillars of the Earth']}\n"
          ]
        }
      ],
      "source": [
        "print(my_dict)"
      ]
    },
    {
      "cell_type": "markdown",
      "metadata": {
        "id": "ddAKfXm-FoD_"
      },
      "source": [
        "## String Shenanigans\n",
        "\n",
        "We already know that strings are generally used for text. We can used built-in operations to combine, split, and format strings easily, depending on our needs.\n",
        "\n",
        "The `+` symbol indicates concatenation in string language. It will combine two strings into a longer string."
      ]
    },
    {
      "cell_type": "code",
      "execution_count": 197,
      "metadata": {
        "id": "PZHvv7kQFoD_",
        "colab": {
          "base_uri": "https://localhost:8080/"
        },
        "outputId": "adb3d648-c65e-4b0f-e74a-07c4da634361"
      },
      "outputs": [
        {
          "output_type": "stream",
          "name": "stdout",
          "text": [
            "\"Beware the Jabberwock, my son! /The jaws that bite, the claws that catch! /Beware the Jubjub bird, and shun /The frumious Bandersnatch!\"/\n"
          ]
        }
      ],
      "source": [
        "first_string = '\"Beware the Jabberwock, my son! /The jaws that bite, the claws that catch! /'\n",
        "second_string = 'Beware the Jubjub bird, and shun /The frumious Bandersnatch!\"/'\n",
        "third_string = first_string + second_string\n",
        "print(third_string)"
      ]
    },
    {
      "cell_type": "markdown",
      "metadata": {
        "id": "bajyTjCzFoD_"
      },
      "source": [
        "Strings are also indexed much in the same way that lists are."
      ]
    },
    {
      "cell_type": "code",
      "execution_count": 198,
      "metadata": {
        "id": "AFMtJjhpFoD_",
        "colab": {
          "base_uri": "https://localhost:8080/"
        },
        "outputId": "77da2ac1-8c8b-4662-8cc4-25519d019b2c"
      },
      "outputs": [
        {
          "output_type": "stream",
          "name": "stdout",
          "text": [
            "The first letter is:  S\n",
            "The last letter is:  s\n",
            "The second to last letter is:  u\n",
            "The first five characters are:  Super\n",
            "Reverse it!:  suoicodilaipxecitsiligarfilacrepuS\n"
          ]
        }
      ],
      "source": [
        "my_string = 'Supercalifragilisticexpialidocious'\n",
        "print('The first letter is: ', my_string[0]) # Uppercase S\n",
        "print('The last letter is: ', my_string[-1]) # lowercase s\n",
        "print('The second to last letter is: ', my_string[-2]) # lowercase u\n",
        "print('The first five characters are: ', my_string[0:5]) # Remember: slicing doesn't include the final element!\n",
        "print('Reverse it!: ', my_string[::-1])"
      ]
    },
    {
      "cell_type": "markdown",
      "metadata": {
        "id": "WvG44l_GFoD_"
      },
      "source": [
        "Built-in objects and classes often have special functions associated with them that are called methods. We access these methods by using a period ('.'). We will cover objects and their associated methods more in another lecture!\n",
        "\n",
        "Using string methods we can count instances of a character or group of characters."
      ]
    },
    {
      "cell_type": "code",
      "execution_count": 199,
      "metadata": {
        "id": "61EalnMkFoD_",
        "scrolled": true,
        "colab": {
          "base_uri": "https://localhost:8080/"
        },
        "outputId": "e154a591-bf01-40d7-cd81-5d34794169f6"
      },
      "outputs": [
        {
          "output_type": "stream",
          "name": "stdout",
          "text": [
            "Count of the letter i in Supercalifragilisticexpialidocious:  7\n",
            "Count of \"li\" in the same word:  3\n"
          ]
        }
      ],
      "source": [
        "print('Count of the letter i in Supercalifragilisticexpialidocious: ', my_string.count('i'))\n",
        "print('Count of \"li\" in the same word: ', my_string.count('li'))"
      ]
    },
    {
      "cell_type": "markdown",
      "metadata": {
        "id": "SX_yLtX6FoD_"
      },
      "source": [
        "We can also find the first instance of a character or group of characters in a string."
      ]
    },
    {
      "cell_type": "code",
      "execution_count": 200,
      "metadata": {
        "id": "JvLAjGUeFoD_",
        "colab": {
          "base_uri": "https://localhost:8080/"
        },
        "outputId": "27c206cc-3f3a-4d55-f244-c51739c5e877"
      },
      "outputs": [
        {
          "output_type": "stream",
          "name": "stdout",
          "text": [
            "The first time i appears is at index:  8\n"
          ]
        }
      ],
      "source": [
        "print('The first time i appears is at index: ', my_string.find('i'))"
      ]
    },
    {
      "cell_type": "markdown",
      "metadata": {
        "id": "IEOGz_rvFoEA"
      },
      "source": [
        "As well as replace characters in a string."
      ]
    },
    {
      "cell_type": "code",
      "execution_count": 201,
      "metadata": {
        "id": "Ikuy7IAcFoEA",
        "colab": {
          "base_uri": "https://localhost:8080/"
        },
        "outputId": "497ff0d1-4d74-4aee-aa31-373c4a76b7a2"
      },
      "outputs": [
        {
          "output_type": "stream",
          "name": "stdout",
          "text": [
            "All i's are now a's:  Supercalafragalastacexpaaladocaous\n"
          ]
        }
      ],
      "source": [
        "print(\"All i's are now a's: \", my_string.replace('i', 'a'))"
      ]
    },
    {
      "cell_type": "code",
      "execution_count": 202,
      "metadata": {
        "id": "ok5v-cptFoEA",
        "colab": {
          "base_uri": "https://localhost:8080/"
        },
        "outputId": "04d55476-b52a-46d1-d245-1e3262d77dde"
      },
      "outputs": [
        {
          "output_type": "stream",
          "name": "stdout",
          "text": [
            "It's raining cats and more cats\n"
          ]
        }
      ],
      "source": [
        "print(\"It's raining cats and dogs\".replace('dogs', 'more cats'))"
      ]
    },
    {
      "cell_type": "markdown",
      "metadata": {
        "id": "vZmvnJrYFoEA"
      },
      "source": [
        "There are also some methods that are unique to strings. The function `upper()` will convert all characters in a string to uppercase, while `lower()` will convert all characters in a string to lowercase!"
      ]
    },
    {
      "cell_type": "code",
      "execution_count": 203,
      "metadata": {
        "id": "8Yy6ARmsFoEA",
        "colab": {
          "base_uri": "https://localhost:8080/"
        },
        "outputId": "b6ee768e-577b-4aa9-c6b3-5af76342f578"
      },
      "outputs": [
        {
          "output_type": "stream",
          "name": "stdout",
          "text": [
            "I CAN'T HEAR YOU\n",
            "i said hello\n"
          ]
        }
      ],
      "source": [
        "my_string = \"I can't hear you\"\n",
        "print(my_string.upper())\n",
        "my_string = \"I said HELLO\"\n",
        "print(my_string.lower())"
      ]
    },
    {
      "cell_type": "markdown",
      "metadata": {
        "id": "c8r30Yp2FoEA"
      },
      "source": [
        "### String Formatting\n",
        "\n",
        "Using the `format()` method we can add in variable values and generally format our strings."
      ]
    },
    {
      "cell_type": "code",
      "execution_count": 204,
      "metadata": {
        "id": "CB0N5uYvFoEA",
        "colab": {
          "base_uri": "https://localhost:8080/"
        },
        "outputId": "e6247d87-55bd-44c1-dac0-70a4d631580e"
      },
      "outputs": [
        {
          "output_type": "stream",
          "name": "stdout",
          "text": [
            "Marco Polo Polito chiquito\n"
          ]
        }
      ],
      "source": [
        "my_string = \"{0} {1} {2} {3}\".format('Marco', 'Polo', 'Polito', 'chiquito' )\n",
        "print(my_string)"
      ]
    },
    {
      "cell_type": "code",
      "execution_count": 205,
      "metadata": {
        "id": "fFohD_WsFoEA",
        "colab": {
          "base_uri": "https://localhost:8080/"
        },
        "outputId": "ee34a0c6-e093-4874-c425-131f6727a274"
      },
      "outputs": [
        {
          "output_type": "stream",
          "name": "stdout",
          "text": [
            "Polo Marco\n"
          ]
        }
      ],
      "source": [
        "my_string = \"{1} {0}\".format('Marco', 'Polo')\n",
        "print(my_string)"
      ]
    },
    {
      "cell_type": "markdown",
      "metadata": {
        "id": "81iiRyDCFoEB"
      },
      "source": [
        "We use braces (`{}`) to indicate parts of the string that will be filled in later and we use the arguments of the `format()` function to provide the values to substitute. The numbers within the braces indicate the index of the value in the `format()` arguments."
      ]
    },
    {
      "cell_type": "markdown",
      "metadata": {
        "id": "CdGtNZpCFoEB"
      },
      "source": [
        "See the `format()` [documentation](https://docs.python.org/2/library/string.html#format-examples) for additional examples."
      ]
    },
    {
      "cell_type": "markdown",
      "metadata": {
        "id": "r0_borerFoEB"
      },
      "source": [
        "If you need some quick and dirty formatting, you can instead use the `%` symbol, called the string formatting operator. "
      ]
    },
    {
      "cell_type": "code",
      "execution_count": 206,
      "metadata": {
        "id": "l1sIt2_TFoEB",
        "colab": {
          "base_uri": "https://localhost:8080/"
        },
        "outputId": "cd7b998c-bf60-4797-f401-c3c9a5e2c015"
      },
      "outputs": [
        {
          "output_type": "stream",
          "name": "stdout",
          "text": [
            "insert value here\n"
          ]
        }
      ],
      "source": [
        "print('insert %s here' % 'value')"
      ]
    },
    {
      "cell_type": "markdown",
      "metadata": {
        "id": "oLTK1_mIFoEB"
      },
      "source": [
        "The `%` symbol basically cues Python to create a placeholder. Whatever character follows the `%` (in the string) indicates what sort of type the value put into the placeholder will have. This character is called a *conversion type*. Once the string has been closed, we need another `%` that will be followed by the values to insert. In the case of one value, you can just put it there. If you are inserting more than one value, they must be enclosed in a tuple."
      ]
    },
    {
      "cell_type": "code",
      "execution_count": 207,
      "metadata": {
        "id": "lGeMTz_8FoEB",
        "colab": {
          "base_uri": "https://localhost:8080/"
        },
        "outputId": "5544adab-a569-4f64-bc57-b65ce422be56"
      },
      "outputs": [
        {
          "output_type": "stream",
          "name": "stdout",
          "text": [
            "There are 13 cats in my apartment\n"
          ]
        }
      ],
      "source": [
        "print('There are %s cats in my %s' % (13, 'apartment'))"
      ]
    },
    {
      "cell_type": "markdown",
      "metadata": {
        "id": "iYj3P-VEFoEB"
      },
      "source": [
        "In these examples, the `%s` indicates that Python should convert the values into strings. There are multiple conversion types that you can use to get more specific with the the formatting. See the string formatting [documentation](https://docs.python.org/2/library/stdtypes.html#string-formatting) for additional examples and more complete details on use."
      ]
    },
    {
      "cell_type": "markdown",
      "metadata": {
        "id": "1FITrDL9FoEC"
      },
      "source": [
        "## Logical Operators\n",
        "### Basic Logic\n",
        "\n",
        "Logical operators deal with `boolean` values, as we briefly covered before. If you recall, a `bool` takes on one of two values, `True` or `False` (or $1$ or $0$). The basic logical statements that we can make are defined using the built-in comparators. These are `==` (equal), `!=` (not equal), `<` (less than), `>` (greater than), `<=` (less than or equal to), and `>=` (greater than or equal to)."
      ]
    },
    {
      "cell_type": "code",
      "execution_count": 208,
      "metadata": {
        "id": "kQqgs1_iFoEC",
        "colab": {
          "base_uri": "https://localhost:8080/"
        },
        "outputId": "1defb48e-9dfa-417c-9662-ba21df5e8606"
      },
      "outputs": [
        {
          "output_type": "stream",
          "name": "stdout",
          "text": [
            "True\n"
          ]
        }
      ],
      "source": [
        "print(5 == 5)"
      ]
    },
    {
      "cell_type": "code",
      "execution_count": 209,
      "metadata": {
        "id": "8D2UNKM5FoEC",
        "colab": {
          "base_uri": "https://localhost:8080/"
        },
        "outputId": "b3c6527a-d34c-4136-fbb5-4cabb3916399"
      },
      "outputs": [
        {
          "output_type": "stream",
          "name": "stdout",
          "text": [
            "False\n"
          ]
        }
      ],
      "source": [
        "print(5 > 5)"
      ]
    },
    {
      "cell_type": "markdown",
      "metadata": {
        "id": "b8UleYT_FoEC"
      },
      "source": [
        "These comparators also work in conjunction with variables."
      ]
    },
    {
      "cell_type": "code",
      "execution_count": 210,
      "metadata": {
        "id": "HHEygt0vFoEC",
        "colab": {
          "base_uri": "https://localhost:8080/"
        },
        "outputId": "99f9d3a4-b62a-4764-f726-fa6919bd6730"
      },
      "outputs": [
        {
          "output_type": "stream",
          "name": "stdout",
          "text": [
            "False\n"
          ]
        }
      ],
      "source": [
        "m = 465\n",
        "n = 23\n",
        "print(m < n)"
      ]
    },
    {
      "cell_type": "code",
      "source": [
        "n = 20\n",
        "j = 12\n",
        "print(n>j)"
      ],
      "metadata": {
        "colab": {
          "base_uri": "https://localhost:8080/"
        },
        "id": "pmqpQ8BSIWja",
        "outputId": "0e48a89f-e74f-47d8-ac63-e21f05e7a83f"
      },
      "execution_count": 211,
      "outputs": [
        {
          "output_type": "stream",
          "name": "stdout",
          "text": [
            "True\n"
          ]
        }
      ]
    },
    {
      "cell_type": "markdown",
      "metadata": {
        "id": "3kRjOwB6FoEC"
      },
      "source": [
        "We can string these comparators together to make more complex logical statements using the logical operators `or`, `and`, and `not`. "
      ]
    },
    {
      "cell_type": "code",
      "execution_count": 212,
      "metadata": {
        "id": "VbeJOQ3mFoEC",
        "colab": {
          "base_uri": "https://localhost:8080/"
        },
        "outputId": "9bee76e1-50a5-4638-b34e-74698ee20f4e"
      },
      "outputs": [
        {
          "output_type": "stream",
          "name": "stdout",
          "text": [
            "Statement 1 truth value: True\n",
            "Statement 2 truth value: True\n",
            "Statement 1 and Statement 2: True\n",
            "Statement 3 truth value: True\n"
          ]
        }
      ],
      "source": [
        "statement_1 = 132 > 2\n",
        "statement_2 = 4 <= 645\n",
        "statement_3 = (1 +(3*2)**4) >= 23\n",
        "print(\"Statement 1 truth value: {0}\".format(statement_1))\n",
        "print(\"Statement 2 truth value: {0}\".format(statement_2))\n",
        "print(\"Statement 1 and Statement 2: {0}\".format(statement_1 and statement_2))\n",
        "print(\"Statement 3 truth value: {0}\".format(statement_3))"
      ]
    },
    {
      "cell_type": "markdown",
      "metadata": {
        "id": "YifI4YkiFoEC"
      },
      "source": [
        "The `or` operator performs a logical `or` calculation. This is an inclusive `or`, so if either component paired together by `or` is `True`, the whole statement will be `True`. The `and` statement only outputs `True` if all components that are `and`ed together are True. Otherwise it will output `False`. The `not` statement simply inverts the truth value of whichever statement follows it. So a `True` statement will be evaluated as `False` when a `not` is placed in front of it. Similarly, a `False` statement will become `True` when a `not` is in front of it.\n",
        "\n",
        "Say that we have two logical statements, or assertions, $P$ and $Q$. The truth table for the basic logical operators is as follows:\n",
        "\n",
        "|  P  |  Q  | `not` P| P `and` Q | P `or` Q|\n",
        "|:-----:|:-----:|:---:|:---:|:---:|\n",
        "| `True` | `True` | `False` | `True` | `True` |\n",
        "| `False` | `True` | `True` | `False` | `True` |\n",
        "| `True` | `False` | `False` | `False` | `True` |\n",
        "| `False` | `False` | `True` | `False` | `False` |\n",
        "\n",
        "We can string multiple logical statements together using the logical operators."
      ]
    },
    {
      "cell_type": "code",
      "execution_count": 213,
      "metadata": {
        "id": "UJVjSNyRFoEC",
        "colab": {
          "base_uri": "https://localhost:8080/"
        },
        "outputId": "98c54177-b304-487b-c204-161115753ad1"
      },
      "outputs": [
        {
          "output_type": "stream",
          "name": "stdout",
          "text": [
            "True\n"
          ]
        }
      ],
      "source": [
        "print (((2 < 3) and (3 > 0)) or ((5 > 6) and not (4 < 2)))"
      ]
    },
    {
      "cell_type": "markdown",
      "metadata": {
        "id": "1KvAi3oDFoED"
      },
      "source": [
        "Logical statements can be as simple or complex as we like, depending on what we need to express. Evaluating the above logical statement step by step we see that we are evaluating (`True and True`) `or` (`False and not False`). This becomes `True or (False and True`), subsequently becoming `True or False`, ultimately being evaluated as `True`."
      ]
    },
    {
      "cell_type": "markdown",
      "metadata": {
        "id": "jOnWfDnpFoED"
      },
      "source": [
        "#### Truthiness\n",
        "\n",
        "Data types in Python have a fun characteristic called truthiness. What this means is that most built-in types will evaluate as either `True` or `False` when a boolean value is needed (such as with an if-statement). As a general rule, containers like strings, tuples, dictionaries, lists, and sets, will return `True` if they contain anything at all and `False` if they contain nothing."
      ]
    },
    {
      "cell_type": "code",
      "execution_count": 214,
      "metadata": {
        "id": "_wmZPFZ2FoED",
        "colab": {
          "base_uri": "https://localhost:8080/"
        },
        "outputId": "134d8a0b-2297-43d1-bba2-55b934fba92d"
      },
      "outputs": [
        {
          "output_type": "stream",
          "name": "stdout",
          "text": [
            "False\n"
          ]
        }
      ],
      "source": [
        "# Similar to how float() and int() work, bool() forces a value to be considered a boolean!\n",
        "print(bool(''))"
      ]
    },
    {
      "cell_type": "code",
      "execution_count": 215,
      "metadata": {
        "id": "V1GH2saiFoED",
        "colab": {
          "base_uri": "https://localhost:8080/"
        },
        "outputId": "7bd4d5c9-1952-44df-9ac0-78dd14acc9eb"
      },
      "outputs": [
        {
          "output_type": "stream",
          "name": "stdout",
          "text": [
            "True\n"
          ]
        }
      ],
      "source": [
        "print(bool('I have character!'))"
      ]
    },
    {
      "cell_type": "code",
      "execution_count": 216,
      "metadata": {
        "id": "rElnUFxzFoED",
        "colab": {
          "base_uri": "https://localhost:8080/"
        },
        "outputId": "5270c90c-22ea-4bef-84ce-b4919d666585"
      },
      "outputs": [
        {
          "output_type": "stream",
          "name": "stdout",
          "text": [
            "False\n"
          ]
        }
      ],
      "source": [
        "print(bool([]))"
      ]
    },
    {
      "cell_type": "code",
      "execution_count": 217,
      "metadata": {
        "id": "nMM8RgbyFoED",
        "colab": {
          "base_uri": "https://localhost:8080/"
        },
        "outputId": "1499dd67-1794-4430-9997-aedb79c2d945"
      },
      "outputs": [
        {
          "output_type": "stream",
          "name": "stdout",
          "text": [
            "True\n"
          ]
        }
      ],
      "source": [
        "print(bool([1, 2, 3]))"
      ]
    },
    {
      "cell_type": "code",
      "source": [
        "print(bool({}))"
      ],
      "metadata": {
        "colab": {
          "base_uri": "https://localhost:8080/"
        },
        "id": "EfhAG3aMcshg",
        "outputId": "4db91e93-7890-4a02-bc3a-8b6329463e62"
      },
      "execution_count": 218,
      "outputs": [
        {
          "output_type": "stream",
          "name": "stdout",
          "text": [
            "False\n"
          ]
        }
      ]
    },
    {
      "cell_type": "markdown",
      "metadata": {
        "id": "tmJMx3jpFoED"
      },
      "source": [
        "And so on, for the other collections and containers. `None` also evaluates as `False`. The number `1` is equivalent to `True` and the number `0` is equivalent to `False` as well, in a boolean context."
      ]
    },
    {
      "cell_type": "markdown",
      "metadata": {
        "id": "tBp-6Le6FoED"
      },
      "source": [
        "### If-statements\n",
        "\n",
        "We can create segments of code that only execute if a set of conditions is met. We use if-statements in conjunction with logical statements in order to create branches in our code. \n",
        "\n",
        "An `if` block gets entered when the condition is considered to be `True`. If condition is evaluated as `False`, the `if` block will simply be skipped unless there is an `else` block to accompany it. Conditions are made using either logical operators or by using the truthiness of values in Python. An if-statement is defined with a colon and a block of indented text."
      ]
    },
    {
      "cell_type": "code",
      "execution_count": 219,
      "metadata": {
        "id": "mxFMnO_IFoEE",
        "colab": {
          "base_uri": "https://localhost:8080/"
        },
        "outputId": "35bc2dc2-d531-411d-c3d2-f1ca7411383f"
      },
      "outputs": [
        {
          "output_type": "stream",
          "name": "stdout",
          "text": [
            "True\n"
          ]
        }
      ],
      "source": [
        "# This is the basic format of an if statement. This is a vacuous example. \n",
        "# The string \"Condition\" will always evaluated as True because it is a\n",
        "# non-empty string. he purpose of this code is to show the formatting of\n",
        "# an if-statement.\n",
        "if \"Condition\": \n",
        "    # This block of code will execute because the string is non-empty\n",
        "    # Everything on these indented lines\n",
        "    print(True)\n",
        "else:\n",
        "    # So if the condition that we examined with if is in fact False\n",
        "    # This block of code will execute INSTEAD of the first block of code\n",
        "    # Everything on these indented lines\n",
        "    print(False)\n",
        "# The else block here will never execute because \"Condition\" is a non-empty string."
      ]
    },
    {
      "cell_type": "code",
      "execution_count": 220,
      "metadata": {
        "id": "My8WwU_1FoEE",
        "colab": {
          "base_uri": "https://localhost:8080/"
        },
        "outputId": "8ce93c14-3816-4930-b6ba-60368d6c7c1d"
      },
      "outputs": [
        {
          "output_type": "stream",
          "name": "stdout",
          "text": [
            "The variable i is smaller than 5\n"
          ]
        }
      ],
      "source": [
        "i = 4\n",
        "if i < 5:\n",
        "    print('The variable i is smaller than 5')"
      ]
    },
    {
      "cell_type": "markdown",
      "metadata": {
        "id": "TbO0lHSNFoEE"
      },
      "source": [
        "Because in this example `i = 4` and the if-statement is only looking for whether `i` is equal to `5`, the print statement will never be executed. We can add in an `else` statement to create a contingency block of code in case the condition in the if-statement is not evaluated as `True`."
      ]
    },
    {
      "cell_type": "code",
      "execution_count": 221,
      "metadata": {
        "id": "CnG8Il02FoEE",
        "colab": {
          "base_uri": "https://localhost:8080/",
          "height": 131
        },
        "outputId": "8571bbf1-a57a-4025-fd62-2f6850386f29"
      },
      "outputs": [
        {
          "output_type": "error",
          "ename": "SyntaxError",
          "evalue": "ignored",
          "traceback": [
            "\u001b[0;36m  File \u001b[0;32m\"<ipython-input-221-58410d34faa9>\"\u001b[0;36m, line \u001b[0;32m3\u001b[0m\n\u001b[0;31m    print \"All lines in this indented block are part of this block\"\u001b[0m\n\u001b[0m                                                                  ^\u001b[0m\n\u001b[0;31mSyntaxError\u001b[0m\u001b[0;31m:\u001b[0m Missing parentheses in call to 'print'. Did you mean print(\"All lines in this indented block are part of this block\")?\n"
          ]
        }
      ],
      "source": [
        "i = 4\n",
        "if i == 5:\n",
        "    print \"All lines in this indented block are part of this block\"\n",
        "    print 'The variable i has a value of 5'\n",
        "else:\n",
        "    print \"All lines in this indented block are part of this block\"\n",
        "    print 'The variable i is not equal to 5'"
      ]
    },
    {
      "cell_type": "markdown",
      "metadata": {
        "id": "zddc9WQ6FoEE"
      },
      "source": [
        "We can implement other branches off of the same if-statement by using `elif`, an abbreviation of \"else if\". We can include as many `elifs` as we like until we have exhausted all the logical branches of a condition."
      ]
    },
    {
      "cell_type": "code",
      "execution_count": 222,
      "metadata": {
        "id": "TVT7JgSEFoEE",
        "colab": {
          "base_uri": "https://localhost:8080/",
          "height": 131
        },
        "outputId": "07d26676-6dfc-4b6b-e667-639e4d2af79c"
      },
      "outputs": [
        {
          "output_type": "error",
          "ename": "SyntaxError",
          "evalue": "ignored",
          "traceback": [
            "\u001b[0;36m  File \u001b[0;32m\"<ipython-input-222-440d77c5ad07>\"\u001b[0;36m, line \u001b[0;32m3\u001b[0m\n\u001b[0;31m    print 'The variable i has a value of 1'\u001b[0m\n\u001b[0m                                          ^\u001b[0m\n\u001b[0;31mSyntaxError\u001b[0m\u001b[0;31m:\u001b[0m Missing parentheses in call to 'print'. Did you mean print('The variable i has a value of 1')?\n"
          ]
        }
      ],
      "source": [
        "i = 1\n",
        "if i == 1:\n",
        "    print 'The variable i has a value of 1'\n",
        "elif i == 2:\n",
        "    print 'The variable i has a value of 2'\n",
        "elif i == 3:\n",
        "    print 'The variable i has a value of 3'\n",
        "else:\n",
        "    print \"I don't care what i is\""
      ]
    },
    {
      "cell_type": "markdown",
      "metadata": {
        "id": "r5RmsmJrFoEE"
      },
      "source": [
        "You can also nest if-statements within if-statements to check for further conditions."
      ]
    },
    {
      "cell_type": "code",
      "execution_count": 223,
      "metadata": {
        "id": "VZG0jXoBFoEF",
        "colab": {
          "base_uri": "https://localhost:8080/"
        },
        "outputId": "ad7a5528-fe3e-454a-99e7-169067a9197d"
      },
      "outputs": [
        {
          "output_type": "stream",
          "name": "stdout",
          "text": [
            "I guess that i is an odd number. Boring.\n"
          ]
        }
      ],
      "source": [
        "i = 23\n",
        "if i % 2 == 0:\n",
        "    if i % 3 == 0:\n",
        "        print('i is divisible by both 2 and 3! Wow!')\n",
        "    elif i % 5 == 0:\n",
        "        print ('i is divisible by both 2 and 5! Wow!')\n",
        "    else:\n",
        "        print ('i is divisible by 2, but not 3 or 5. Meh.')\n",
        "else:\n",
        "    print ('I guess that i is an odd number. Boring.')"
      ]
    },
    {
      "cell_type": "markdown",
      "metadata": {
        "id": "CrVlxKmiFoEF"
      },
      "source": [
        "Remember that we can group multiple conditions together by using the logical operators!"
      ]
    },
    {
      "cell_type": "code",
      "execution_count": 224,
      "metadata": {
        "id": "EG6jRcrqFoEF",
        "colab": {
          "base_uri": "https://localhost:8080/"
        },
        "outputId": "a941ad24-8a1a-46f3-d7f1-d89ab83594e3"
      },
      "outputs": [
        {
          "output_type": "stream",
          "name": "stdout",
          "text": [
            "34 is less than 50 and 23 is greater than 20! How novel and interesting!\n"
          ]
        }
      ],
      "source": [
        "i = 34\n",
        "j = 23\n",
        "if i < 50 and j > 20:\n",
        "    print ('{0} is less than 50 and {1} is greater than 20! How novel and interesting!'.format(i, j))"
      ]
    },
    {
      "cell_type": "markdown",
      "metadata": {
        "id": "gtbboMvVFoEF"
      },
      "source": [
        "You can use the logical comparators to compare strings!"
      ]
    },
    {
      "cell_type": "code",
      "execution_count": 225,
      "metadata": {
        "id": "lorg4NQSFoEF",
        "colab": {
          "base_uri": "https://localhost:8080/"
        },
        "outputId": "f8f1d4c3-9346-42a2-8a51-0410160002e8"
      },
      "outputs": [
        {
          "output_type": "stream",
          "name": "stdout",
          "text": [
            "Andes University is the best university in Colombia\n"
          ]
        }
      ],
      "source": [
        "my_string = \"The National University is the best university of Colombia\"\n",
        "if my_string == \"The National University is the second university in Colombia \":\n",
        "    print ('The National university is the best in Colombia')\n",
        "else:\n",
        "    print ('Andes University is the best university in Colombia')"
      ]
    },
    {
      "cell_type": "markdown",
      "metadata": {
        "id": "6dJwNfn7FoEF"
      },
      "source": [
        "As with other data types, `==` will check for whether the two things on either side of it have the same value. In this case, we compare whether the value of the strings are the same. Using `>` or `<` or any of the other comparators is not quite so intuitive, however, so we will stay from using comparators with strings in this lecture. Comparators will examine the [lexicographical order](https://en.wikipedia.org/wiki/Lexicographical_order) of the strings, which might be a bit more in-depth than you might like."
      ]
    },
    {
      "cell_type": "markdown",
      "metadata": {
        "id": "9aBoNyUCFoEF"
      },
      "source": [
        ":Some built-in functions return a boolean value, so they can be used as conditions in an if-statement. User-defined functions can also be constructed so that they return a boolean value. This will be covered later with function definition!\n",
        "\n",
        "The `in` keyword is generally used to check membership of a value within another value. We can check memebership in the context of an if-statement and use it to output a truth value."
      ]
    },
    {
      "cell_type": "code",
      "execution_count": 226,
      "metadata": {
        "id": "iZrCba4nFoEG",
        "colab": {
          "base_uri": "https://localhost:8080/"
        },
        "outputId": "f6faa923-30b3-4afe-a549-63aad3d4d92e"
      },
      "outputs": [
        {
          "output_type": "stream",
          "name": "stdout",
          "text": [
            "Those are my favorite vowels!\n"
          ]
        }
      ],
      "source": [
        "if 'a' in my_string or 'e' in my_string:\n",
        "    print ('Those are my favorite vowels!')"
      ]
    },
    {
      "cell_type": "markdown",
      "metadata": {
        "id": "Hk0QWMh1FoEG"
      },
      "source": [
        "Here we use `in` to check whether the variable `my_string` contains any particular letters. We will later use `in` to iterate through lists!"
      ]
    },
    {
      "cell_type": "markdown",
      "metadata": {
        "id": "T9Ls0C_tFoEG"
      },
      "source": [
        "## Loop Structures\n",
        "\n",
        "Loop structures are one of the most important parts of programming. The `for` loop and the `while` loop provide a way to repeatedly run a block of code repeatedly. A `while` loop will iterate until a certain condition has been met. If at any point after an iteration that condition is no longer satisfied, the loop terminates. A `for` loop will iterate over a sequence of values and terminate when the sequence has ended. You can instead include conditions within the `for` loop to decide whether it should terminate early or you could simply let it run its course."
      ]
    },
    {
      "cell_type": "code",
      "execution_count": 227,
      "metadata": {
        "id": "Ms-WVlLFFoEG",
        "colab": {
          "base_uri": "https://localhost:8080/"
        },
        "outputId": "3198d77c-1e0d-4f45-af92-5239c5099cf4"
      },
      "outputs": [
        {
          "output_type": "stream",
          "name": "stdout",
          "text": [
            "I am looping! 8 more to go!\n",
            "I am looping! 7 more to go!\n",
            "I am looping! 6 more to go!\n",
            "I am looping! 5 more to go!\n",
            "I am looping! 4 more to go!\n",
            "I am looping! 3 more to go!\n",
            "I am looping! 2 more to go!\n",
            "I am looping! 1 more to go!\n"
          ]
        }
      ],
      "source": [
        "i = 9\n",
        "while i > 1:\n",
        "    i -= 1\n",
        "    print ('I am looping! {0} more to go!'.format(i))"
      ]
    },
    {
      "cell_type": "code",
      "source": [
        "l= 2\n",
        "while l <= 100:\n",
        "  l*=2\n",
        "  print('This is the multiplication form of the while in value {0}'. format(l))"
      ],
      "metadata": {
        "colab": {
          "base_uri": "https://localhost:8080/"
        },
        "id": "UqJZgKNG5Ztd",
        "outputId": "6da0feb1-d5f3-43fa-d2f3-410b718f5e05"
      },
      "execution_count": 228,
      "outputs": [
        {
          "output_type": "stream",
          "name": "stdout",
          "text": [
            "This is the multiplication form of the while in value 4\n",
            "This is the multiplication form of the while in value 8\n",
            "This is the multiplication form of the while in value 16\n",
            "This is the multiplication form of the while in value 32\n",
            "This is the multiplication form of the while in value 64\n",
            "This is the multiplication form of the while in value 128\n"
          ]
        }
      ]
    },
    {
      "cell_type": "code",
      "source": [
        "l= 20\n",
        "while l > 1:\n",
        "  l/=2\n",
        "  print('This is the division form of the while in value {0}'. format(l))"
      ],
      "metadata": {
        "colab": {
          "base_uri": "https://localhost:8080/"
        },
        "id": "xmSJTWdQ6X4x",
        "outputId": "9df49d9e-a49e-4612-e264-8b558470d829"
      },
      "execution_count": 229,
      "outputs": [
        {
          "output_type": "stream",
          "name": "stdout",
          "text": [
            "This is the division form of the while in value 10.0\n",
            "This is the division form of the while in value 5.0\n",
            "This is the division form of the while in value 2.5\n",
            "This is the division form of the while in value 1.25\n",
            "This is the division form of the while in value 0.625\n"
          ]
        }
      ]
    },
    {
      "cell_type": "markdown",
      "metadata": {
        "id": "n8nh_T9NFoEG"
      },
      "source": [
        "\n",
        "With `while` loops we need to make sure that something actually changes from iteration to iteration so that that the loop actually terminates. In this case, we use the shorthand `i -= 1` (short for `i = i - 1`) so that the value of `i` gets smaller with each iteration. Eventually `i` will be reduced to `0`, rendering the condition `False` and exiting the loop."
      ]
    },
    {
      "cell_type": "markdown",
      "metadata": {
        "id": "QrsyozWkFoEG"
      },
      "source": [
        "A `for` loop iterates a set number of times, determined when you state the entry into the loop. In this case we are iterating over the list returned from `range()`. The `for` loop selects a value from the list, in order, and temporarily assigns the value of `i` to it so that operations can be performed with the value."
      ]
    },
    {
      "cell_type": "code",
      "execution_count": 230,
      "metadata": {
        "id": "FzSaDOCkFoEG",
        "colab": {
          "base_uri": "https://localhost:8080/"
        },
        "outputId": "f65e6813-dd37-4d1b-acb4-6631c530e4b7"
      },
      "outputs": [
        {
          "output_type": "stream",
          "name": "stdout",
          "text": [
            "I am looping! I have looped 1 times!\n",
            "I am looping! I have looped 2 times!\n",
            "I am looping! I have looped 3 times!\n",
            "I am looping! I have looped 4 times!\n",
            "I am looping! I have looped 5 times!\n",
            "I am looping! I have looped 6 times!\n",
            "I am looping! I have looped 7 times!\n",
            "I am looping! I have looped 8 times!\n",
            "I am looping! I have looped 9 times!\n"
          ]
        }
      ],
      "source": [
        "for i in range(9):\n",
        "    print ('I am looping! I have looped {0} times!'.format(i + 1))"
      ]
    },
    {
      "cell_type": "markdown",
      "metadata": {
        "id": "xTZFJmuJFoEG"
      },
      "source": [
        "Note that in this `for` loop we use the `in` keyword. Use of the `in` keyword is not limited to checking for membership as in the if-statement example. You can iterate over any collection with a `for` loop by using the `in` keyword.\n",
        "\n",
        "In this next example, we will iterate over a `set` because we want to check for containment and add to a new set."
      ]
    },
    {
      "cell_type": "code",
      "execution_count": 231,
      "metadata": {
        "id": "Q3WFM4JhFoEG",
        "colab": {
          "base_uri": "https://localhost:8080/"
        },
        "outputId": "b18a4b45-30f1-4a36-ea3f-cea80ed7d39d"
      },
      "outputs": [
        {
          "output_type": "stream",
          "name": "stdout",
          "text": [
            "{'dogs', 'cats', 'humans', 'bats', 'cows'}\n"
          ]
        }
      ],
      "source": [
        "my_list = {'cats', 'dogs', 'lizards', 'cows', 'bats', 'sponges', 'humans'} # Lists all the animals in the world\n",
        "mammal_list = {'cats', 'dogs', 'cows', 'bats', 'humans'} # Lists all the mammals in the world\n",
        "my_new_list = set()\n",
        "for animal in my_list:\n",
        "    if animal in mammal_list:\n",
        "        # This adds any animal that is both in my_list and mammal_list to my_new_list\n",
        "        my_new_list.add(animal)\n",
        "        \n",
        "print (my_new_list)"
      ]
    },
    {
      "cell_type": "markdown",
      "metadata": {
        "id": "RfneVEo4FoEH"
      },
      "source": [
        "There are two statements that are very helpful in dealing with both `for` and `while` loops. These are `break` and `continue`. If `break` is encountered at any point while a loop is executing, the loop will immediately end."
      ]
    },
    {
      "cell_type": "code",
      "execution_count": 232,
      "metadata": {
        "id": "9_6L7mg9FoEH",
        "colab": {
          "base_uri": "https://localhost:8080/"
        },
        "outputId": "24e5d95b-c1b6-4a87-d6dc-1e885cbd428b"
      },
      "outputs": [
        {
          "output_type": "stream",
          "name": "stdout",
          "text": [
            "11\n",
            "12\n",
            "13\n",
            "14\n"
          ]
        }
      ],
      "source": [
        "i = 10\n",
        "while True:\n",
        "    if i == 14:\n",
        "        break\n",
        "    i += 1 # This is shorthand for i = i + 1. It increments i with each iteration.\n",
        "    print (i)"
      ]
    },
    {
      "cell_type": "code",
      "execution_count": 233,
      "metadata": {
        "id": "lMOrNMXrFoEH",
        "colab": {
          "base_uri": "https://localhost:8080/"
        },
        "outputId": "958c3c60-340c-4ef9-a8da-74dc039b5be9"
      },
      "outputs": [
        {
          "output_type": "stream",
          "name": "stdout",
          "text": [
            "0\n",
            "1\n",
            "2\n",
            "3\n"
          ]
        }
      ],
      "source": [
        "for i in range(7):\n",
        "    if i == 4:\n",
        "        break\n",
        "    print (i)"
      ]
    },
    {
      "cell_type": "code",
      "source": [
        "i=1\n",
        "while i < 4:\n",
        "  i+=0.5\n",
        "  print(i)\n",
        "  if i == 2:\n",
        "    break\n",
        "    "
      ],
      "metadata": {
        "colab": {
          "base_uri": "https://localhost:8080/"
        },
        "id": "G26A2YEb7mcS",
        "outputId": "5ff72665-f0e8-4556-e11d-bab98d3036ad"
      },
      "execution_count": 234,
      "outputs": [
        {
          "output_type": "stream",
          "name": "stdout",
          "text": [
            "1.5\n",
            "2.0\n"
          ]
        }
      ]
    },
    {
      "cell_type": "code",
      "source": [
        "i=1\n",
        "while i < 8:\n",
        "  i+=1\n",
        "  print(i)\n",
        "  if i > 3:\n",
        "    break"
      ],
      "metadata": {
        "colab": {
          "base_uri": "https://localhost:8080/"
        },
        "id": "l7GUU0xRA1-A",
        "outputId": "a04359ff-dec1-4545-bf9d-8c1a32219315"
      },
      "execution_count": 235,
      "outputs": [
        {
          "output_type": "stream",
          "name": "stdout",
          "text": [
            "2\n",
            "3\n",
            "4\n"
          ]
        }
      ]
    },
    {
      "cell_type": "markdown",
      "metadata": {
        "id": "4PWUv6rPFoEH"
      },
      "source": [
        "The `continue` statement will tell the loop to immediately end this iteration and continue onto the next iteration of the loop."
      ]
    },
    {
      "cell_type": "code",
      "execution_count": 236,
      "metadata": {
        "id": "5yTU37UcFoEH",
        "colab": {
          "base_uri": "https://localhost:8080/"
        },
        "outputId": "d7d71bc6-09f7-43df-d972-35b721f8c669"
      },
      "outputs": [
        {
          "output_type": "stream",
          "name": "stdout",
          "text": [
            "1\n",
            "2\n",
            "3\n",
            "4\n",
            "6\n",
            "7\n",
            "8\n",
            "9\n"
          ]
        }
      ],
      "source": [
        "i = 0\n",
        "while i < 9:\n",
        "    i += 1\n",
        "    if i == 5:\n",
        "        continue\n",
        "    print (i)"
      ]
    },
    {
      "cell_type": "code",
      "source": [
        "for i in range(14):\n",
        "  if i == 5:\n",
        "    continue\n",
        "  print(i)"
      ],
      "metadata": {
        "colab": {
          "base_uri": "https://localhost:8080/"
        },
        "id": "i_9qP4xU8Yr5",
        "outputId": "4e1ce0ad-f1a2-4dee-e8b0-6b6f0a29263c"
      },
      "execution_count": 237,
      "outputs": [
        {
          "output_type": "stream",
          "name": "stdout",
          "text": [
            "0\n",
            "1\n",
            "2\n",
            "3\n",
            "4\n",
            "6\n",
            "7\n",
            "8\n",
            "9\n",
            "10\n",
            "11\n",
            "12\n",
            "13\n"
          ]
        }
      ]
    },
    {
      "cell_type": "code",
      "source": [
        "for i in range(14):\n",
        "  if i < 5:\n",
        "    continue\n",
        "  print(i)"
      ],
      "metadata": {
        "colab": {
          "base_uri": "https://localhost:8080/"
        },
        "id": "T3UzMZEOAspH",
        "outputId": "37593e06-114b-4028-bb38-30c156333f8f"
      },
      "execution_count": 238,
      "outputs": [
        {
          "output_type": "stream",
          "name": "stdout",
          "text": [
            "5\n",
            "6\n",
            "7\n",
            "8\n",
            "9\n",
            "10\n",
            "11\n",
            "12\n",
            "13\n"
          ]
        }
      ]
    },
    {
      "cell_type": "markdown",
      "metadata": {
        "id": "_DqPNV75FoEH"
      },
      "source": [
        "This loop skips printing the number $3$ because of the `continue` statement that executes when we enter the if-statement. The code never sees the command to print the number $3$ because it has already moved to the next iteration. The `break` and `continue` statements are further tools to help you control the flow of your loops and, as a result, your code."
      ]
    },
    {
      "cell_type": "markdown",
      "metadata": {
        "id": "lHXxNx1UFoEH"
      },
      "source": [
        "The variable that we use to iterate over a loop will retain its value when the loop exits. Similarly, any variables defined within the context of the loop will continue to exist outside of it."
      ]
    },
    {
      "cell_type": "code",
      "execution_count": 239,
      "metadata": {
        "id": "omj2nhhSFoEH",
        "colab": {
          "base_uri": "https://localhost:8080/"
        },
        "outputId": "ca803176-e782-4b5d-bc27-89fcff0af5a7"
      },
      "outputs": [
        {
          "output_type": "stream",
          "name": "stdout",
          "text": [
            "I am eternal! I am 0 and I exist everywhere!\n",
            "I am eternal! I am 1 and I exist everywhere!\n",
            "I am eternal! I am 2 and I exist everywhere!\n",
            "I am eternal! I am 3 and I exist everywhere!\n",
            "I am eternal! I am 4 and I exist everywhere!\n",
            "I am eternal! I am 5 and I exist everywhere!\n",
            "I persist! My value is 5\n",
            "I transcend the loop!\n"
          ]
        }
      ],
      "source": [
        "for i in range(6):\n",
        "    loop_string = 'I transcend the loop!'\n",
        "    print ('I am eternal! I am {0} and I exist everywhere!'.format(i))\n",
        "\n",
        "print ('I persist! My value is {0}'.format(i))\n",
        "print (loop_string)"
      ]
    },
    {
      "cell_type": "markdown",
      "metadata": {
        "id": "DXzwZ5vNFoEH"
      },
      "source": [
        "We can also iterate over a dictionary!"
      ]
    },
    {
      "cell_type": "code",
      "execution_count": 240,
      "metadata": {
        "id": "0I96X2iGFoEI"
      },
      "outputs": [],
      "source": [
        "my_dict = {'firstname' : 'Inigo', 'lastname' : 'Montoya', 'nemesis' : 'Rugen', 'alias': 'frog'}"
      ]
    },
    {
      "cell_type": "code",
      "execution_count": 241,
      "metadata": {
        "id": "hL_4lsFsFoEI",
        "colab": {
          "base_uri": "https://localhost:8080/"
        },
        "outputId": "5892ccc7-6b1e-4cc6-c9c7-8d9cbc01cd2c"
      },
      "outputs": [
        {
          "output_type": "stream",
          "name": "stdout",
          "text": [
            "firstname\n",
            "lastname\n",
            "nemesis\n",
            "alias\n"
          ]
        }
      ],
      "source": [
        "for key in my_dict:\n",
        "    print (key)"
      ]
    },
    {
      "cell_type": "markdown",
      "metadata": {
        "id": "6f0EFigBFoEI"
      },
      "source": [
        "If we just iterate over a dictionary without doing anything else, we will only get the keys. We can either use the keys to get the values, like so:"
      ]
    },
    {
      "cell_type": "markdown",
      "source": [
        ""
      ],
      "metadata": {
        "id": "txdHZ4HfX48W"
      }
    },
    {
      "cell_type": "code",
      "execution_count": 242,
      "metadata": {
        "id": "s7lUuL-KFoEI",
        "colab": {
          "base_uri": "https://localhost:8080/"
        },
        "outputId": "04568505-0a51-4af8-e124-5c4e2fa01738"
      },
      "outputs": [
        {
          "output_type": "stream",
          "name": "stdout",
          "text": [
            "Inigo\n",
            "Montoya\n",
            "Rugen\n",
            "frog\n"
          ]
        }
      ],
      "source": [
        "for i in my_dict:\n",
        "    print (my_dict[i])"
      ]
    },
    {
      "cell_type": "markdown",
      "metadata": {
        "id": "Qg2pT2fVFoEI"
      },
      "source": [
        "Or we can use the `items()` function to get both key and value at the same time."
      ]
    },
    {
      "cell_type": "code",
      "execution_count": 243,
      "metadata": {
        "id": "tht1QrB3FoEI",
        "colab": {
          "base_uri": "https://localhost:8080/"
        },
        "outputId": "7cdcc5d5-6ec8-459b-d5ca-a0a9be836ed8"
      },
      "outputs": [
        {
          "output_type": "stream",
          "name": "stdout",
          "text": [
            "firstname : Inigo\n",
            "lastname : Montoya\n",
            "nemesis : Rugen\n",
            "alias : frog\n"
          ]
        }
      ],
      "source": [
        "for key, value in my_dict.items():\n",
        "    print (key, ':', value)"
      ]
    },
    {
      "cell_type": "markdown",
      "metadata": {
        "id": "5p1itnERFoEI"
      },
      "source": [
        "The `items()` function creates a tuple of each key-value pair and the for loop unpacks that tuple into `key, value` on each separate execution of the loop!"
      ]
    },
    {
      "cell_type": "markdown",
      "metadata": {
        "id": "p45mzY-ZFoEI"
      },
      "source": [
        "## Functions\n",
        "\n",
        "A function is a reusable block of code that you can call repeatedly to make calculations, output data, or really do anything that you want. This is one of the key aspects of using a programming language. To add to the built-in functions in Python, you can define your own!"
      ]
    },
    {
      "cell_type": "code",
      "execution_count": 244,
      "metadata": {
        "id": "LvqCYc8tFoEI",
        "colab": {
          "base_uri": "https://localhost:8080/"
        },
        "outputId": "a3eba2db-1a07-4e40-c5a9-9f23e09707a3"
      },
      "outputs": [
        {
          "output_type": "stream",
          "name": "stdout",
          "text": [
            "my name is Cristian\n"
          ]
        }
      ],
      "source": [
        "def my_name():\n",
        "    print ('my name is Cristian')\n",
        "\n",
        "my_name()"
      ]
    },
    {
      "cell_type": "code",
      "execution_count": 245,
      "metadata": {
        "id": "ErmlaARJFoEJ",
        "colab": {
          "base_uri": "https://localhost:8080/"
        },
        "outputId": "cad29797-8959-4c12-a96e-ef9d6cb0bba5"
      },
      "outputs": [
        {
          "output_type": "stream",
          "name": "stdout",
          "text": [
            "my name is Cristian\n",
            "my name is Cristian\n",
            "my name is Cristian\n",
            "my name is Cristian\n",
            "my name is Cristian\n"
          ]
        }
      ],
      "source": [
        "for i in range(5):\n",
        "    my_name()"
      ]
    },
    {
      "cell_type": "markdown",
      "metadata": {
        "id": "XODIHqcmFoEJ"
      },
      "source": [
        "Functions are defined with `def`, a function name, a list of parameters, and a colon. Everything indented below the colon will be included in the definition of the function.\n",
        "\n",
        "We can have our functions do anything that you can do with a normal block of code. For example, our `hello_world()` function prints a string every time it is called. If we want to keep a value that a function calculates, we can define the function so that it will `return` the value we want. This is a very important feature of functions, as any variable defined purely within a function will not exist outside of it."
      ]
    },
    {
      "cell_type": "code",
      "execution_count": 246,
      "metadata": {
        "id": "p_AzCIJpFoEJ",
        "colab": {
          "base_uri": "https://localhost:8080/",
          "height": 131
        },
        "outputId": "0f49e655-9e9e-4967-dfdc-b2bc29936413"
      },
      "outputs": [
        {
          "output_type": "error",
          "ename": "SyntaxError",
          "evalue": "ignored",
          "traceback": [
            "\u001b[0;36m  File \u001b[0;32m\"<ipython-input-246-c93497204aa9>\"\u001b[0;36m, line \u001b[0;32m5\u001b[0m\n\u001b[0;31m    print in_function_string\u001b[0m\n\u001b[0m                           ^\u001b[0m\n\u001b[0;31mSyntaxError\u001b[0m\u001b[0;31m:\u001b[0m Missing parentheses in call to 'print'. Did you mean print(in_function_string)?\n"
          ]
        }
      ],
      "source": [
        "def see_the_scope():\n",
        "    in_function_string = \"I'm stuck in here!\"\n",
        "\n",
        "see_the_scope()\n",
        "print in_function_string"
      ]
    },
    {
      "cell_type": "markdown",
      "metadata": {
        "id": "iMxFYUWeFoEJ"
      },
      "source": [
        " The **scope** of a variable is the part of a block of code where that variable is tied to a particular value. Functions in Python have an enclosed scope, making it so that variables defined within them can only be accessed directly within them. If we pass those values to a return statement we can get them out of the function. This makes it so that the function call returns values so that you can store them in variables that have a greater scope.\n",
        " \n",
        "In this case specifically, including a return statement allows us to keep the string value that we define in the function."
      ]
    },
    {
      "cell_type": "code",
      "execution_count": 247,
      "metadata": {
        "id": "nXjHW4VDFoEJ",
        "colab": {
          "base_uri": "https://localhost:8080/"
        },
        "outputId": "ef0e07b8-a4fb-458a-f39c-5a3c5e9e8395"
      },
      "outputs": [
        {
          "output_type": "stream",
          "name": "stdout",
          "text": [
            "I understand the code\n"
          ]
        }
      ],
      "source": [
        "def free_the_scope():\n",
        "    in_function_string = \"I understand the code\"\n",
        "    return in_function_string\n",
        "my_string = free_the_scope()\n",
        "print(my_string)"
      ]
    },
    {
      "cell_type": "markdown",
      "metadata": {
        "id": "CoOZKOmeFoEJ"
      },
      "source": [
        "Just as we can get values out of a function, we can also put values into a function. We do this by defining our function with parameters."
      ]
    },
    {
      "cell_type": "code",
      "execution_count": 248,
      "metadata": {
        "id": "1Q0AALExFoEJ",
        "colab": {
          "base_uri": "https://localhost:8080/",
          "height": 131
        },
        "outputId": "28d9b5f2-5716-44d4-8c86-1b7517f1d76d"
      },
      "outputs": [
        {
          "output_type": "error",
          "ename": "SyntaxError",
          "evalue": "ignored",
          "traceback": [
            "\u001b[0;36m  File \u001b[0;32m\"<ipython-input-248-a979bbb8438e>\"\u001b[0;36m, line \u001b[0;32m6\u001b[0m\n\u001b[0;31m    print n\u001b[0m\n\u001b[0m          ^\u001b[0m\n\u001b[0;31mSyntaxError\u001b[0m\u001b[0;31m:\u001b[0m Missing parentheses in call to 'print'. Did you mean print(n)?\n"
          ]
        }
      ],
      "source": [
        "def multiply_by_five(x):\n",
        "    \"\"\" Multiplies an input number by 5 \"\"\"\n",
        "    return x * 5\n",
        "\n",
        "n = 4\n",
        "print n\n",
        "print multiply_by_five(n)"
      ]
    },
    {
      "cell_type": "markdown",
      "metadata": {
        "id": "3EPbcGc7FoEJ"
      },
      "source": [
        "In this example we only had one parameter for our function, `x`. We can easily add more parameters, separating everything with a comma."
      ]
    },
    {
      "cell_type": "code",
      "execution_count": 259,
      "metadata": {
        "id": "aAUcIayKFoEK"
      },
      "outputs": [],
      "source": [
        "def calculate_area(length, width):\n",
        "    \"\"\" Calculates the area of a triangle \"\"\"\n",
        "    return ((length * width)/2)"
      ]
    },
    {
      "cell_type": "code",
      "execution_count": 260,
      "metadata": {
        "id": "hUZ-fcMlFoEK",
        "colab": {
          "base_uri": "https://localhost:8080/"
        },
        "outputId": "a3106b8a-50eb-444d-ae3e-be947773fb59"
      },
      "outputs": [
        {
          "output_type": "stream",
          "name": "stdout",
          "text": [
            "Area:  25.0\n",
            "Length:  5\n",
            "Width:  10\n"
          ]
        }
      ],
      "source": [
        "l = 5\n",
        "w = 10\n",
        "print ('Area: ', calculate_area(l, w))\n",
        "print ('Length: ', l)\n",
        "print ('Width: ', w)"
      ]
    },
    {
      "cell_type": "code",
      "execution_count": 261,
      "metadata": {
        "id": "25FkWIIFFoEK"
      },
      "outputs": [],
      "source": [
        "def calculate_volume(length, width, depth):\n",
        "    \"\"\" Calculates the volume of a rectangular prism \"\"\"\n",
        "    return length * width * depth"
      ]
    },
    {
      "cell_type": "markdown",
      "metadata": {
        "id": "cAULjP2QFoEK"
      },
      "source": [
        "If we want to, we can define a function so that it takes an arbitrary number of parameters. We tell Python that we want this by using an asterisk (`*`)."
      ]
    },
    {
      "cell_type": "code",
      "execution_count": 262,
      "metadata": {
        "id": "5XfySOQ_FoEK"
      },
      "outputs": [],
      "source": [
        "def pro_values(*args):\n",
        "    pro_val = 1\n",
        "    for i in args:\n",
        "        pro_val *= i\n",
        "    return pro_val"
      ]
    },
    {
      "cell_type": "code",
      "execution_count": 263,
      "metadata": {
        "id": "ABOB7qh2FoEK",
        "colab": {
          "base_uri": "https://localhost:8080/"
        },
        "outputId": "9f500794-4849-4ebc-c03d-e67106bd26df"
      },
      "outputs": [
        {
          "output_type": "stream",
          "name": "stdout",
          "text": [
            "6\n",
            "12000000\n",
            "18645120000\n"
          ]
        }
      ],
      "source": [
        "print (pro_values(1, 2, 3))\n",
        "print (pro_values(10, 20, 30, 40, 50))\n",
        "print (pro_values(4, 2, 5, 1, 10, 249, 25, 24, 13, 6, 4))"
      ]
    },
    {
      "cell_type": "markdown",
      "metadata": {
        "id": "SiJi5u2DFoEK"
      },
      "source": [
        "The time to use `*args` as a parameter for your function is when you do not know how many values may be passed to it, as in the case of our sum function. The asterisk in this case is the syntax that tells Python that you are going to pass an arbitrary number of parameters into your function. These parameters are stored in the form of a tuple."
      ]
    },
    {
      "cell_type": "code",
      "execution_count": 264,
      "metadata": {
        "id": "uyhAdHC9FoEK",
        "colab": {
          "base_uri": "https://localhost:8080/"
        },
        "outputId": "9ac6d9e6-8f8f-4a6e-eaac-ae1cf0709bc0"
      },
      "outputs": [
        {
          "output_type": "stream",
          "name": "stdout",
          "text": [
            "<class 'tuple'>\n",
            "<class 'tuple'>\n"
          ]
        }
      ],
      "source": [
        "def test_args(*args):\n",
        "    print (type(args))\n",
        "\n",
        "test_args(1, 2, 3, 4, 5, 6)\n",
        "test_args({2,3,5,6}, {12,35,6,6})"
      ]
    },
    {
      "cell_type": "markdown",
      "metadata": {
        "id": "1I8sAMD-FoEL"
      },
      "source": [
        "We can put as many elements into the `args` tuple as we want to when we call the function. However, because `args` is a tuple, we cannot modify it after it has been created.\n",
        "\n",
        "The `args` name of the variable is purely by convention. You could just as easily name your parameter `*vars` or `*things`. You can treat the `args` tuple like you would any other tuple, easily accessing `arg`'s values and iterating over it, as in the above `sum_values(*args)` function."
      ]
    },
    {
      "cell_type": "markdown",
      "metadata": {
        "id": "6m0gmheeFoEL"
      },
      "source": [
        "Our functions can return any data type. This makes it easy for us to create functions that check for conditions that we might want to monitor.\n",
        "\n",
        "Here we define a function that returns a boolean value. We can easily use this in conjunction with if-statements and  other situations that require a boolean."
      ]
    },
    {
      "cell_type": "code",
      "execution_count": 265,
      "metadata": {
        "id": "Oj31FFUeFoEL"
      },
      "outputs": [],
      "source": [
        "def has_a_vowel(word):\n",
        "    \"\"\" \n",
        "    Checks to see whether a word contains a vowel \n",
        "    If it doesn't contain a conventional vowel, it\n",
        "    will check for the presence of 'y' or 'w'. Does\n",
        "    not check to see whether those are in the word\n",
        "    in a vowel context.\n",
        "    \"\"\"\n",
        "    vowel_list = ['a', 'e', 'i', 'o', 'u']\n",
        "    \n",
        "    for vowel in vowel_list:\n",
        "        if vowel in word:\n",
        "            return True\n",
        "    # If there is a vowel in the word, the function returns, preventing anything after this loop from running\n",
        "    return False"
      ]
    },
    {
      "cell_type": "code",
      "execution_count": 266,
      "metadata": {
        "id": "O6kx19IgFoEL",
        "colab": {
          "base_uri": "https://localhost:8080/"
        },
        "outputId": "f740ff10-3056-4bf4-af11-572dc571d43d"
      },
      "outputs": [
        {
          "output_type": "stream",
          "name": "stdout",
          "text": [
            "This is actually surprising.\n"
          ]
        }
      ],
      "source": [
        "my_word = 'cry'\n",
        "if has_a_vowel(my_word):\n",
        "    print ('How surprising, an english word contains a vowel.')\n",
        "else:\n",
        "    print('This is actually surprising.')"
      ]
    },
    {
      "cell_type": "code",
      "execution_count": 267,
      "metadata": {
        "id": "vB6wGRy7FoEL"
      },
      "outputs": [],
      "source": [
        "def point_maker(x, y):\n",
        "    \"\"\" Groups x and y values into a point, technically a tuple \"\"\"\n",
        "    return x, y"
      ]
    },
    {
      "cell_type": "markdown",
      "metadata": {
        "id": "l9AO7884FoEL"
      },
      "source": [
        "This above function returns an ordered pair of the input parameters, stored as a tuple."
      ]
    },
    {
      "cell_type": "code",
      "execution_count": 268,
      "metadata": {
        "id": "IQr6BWpnFoEL",
        "scrolled": true,
        "colab": {
          "base_uri": "https://localhost:8080/",
          "height": 131
        },
        "outputId": "9e301471-6eea-42b2-eb26-bdcab7d7eed4"
      },
      "outputs": [
        {
          "output_type": "error",
          "ename": "SyntaxError",
          "evalue": "ignored",
          "traceback": [
            "\u001b[0;36m  File \u001b[0;32m\"<ipython-input-268-0576303f6d77>\"\u001b[0;36m, line \u001b[0;32m6\u001b[0m\n\u001b[0;31m    print \"The slope between a and b is {0}\".format(calculate_slope(a, b))\u001b[0m\n\u001b[0m                                           ^\u001b[0m\n\u001b[0;31mSyntaxError\u001b[0m\u001b[0;31m:\u001b[0m invalid syntax\n"
          ]
        }
      ],
      "source": [
        "a = point_maker(0, 10)\n",
        "b = point_maker(5, 3)\n",
        "def calculate_slope(point_a, point_b):\n",
        "    \"\"\" Calculates the linear slope between two points \"\"\"\n",
        "    return (point_b[1] - point_a[1])/(point_b[0] - point_a[0])\n",
        "print \"The slope between a and b is {0}\".format(calculate_slope(a, b))"
      ]
    },
    {
      "cell_type": "markdown",
      "metadata": {
        "id": "4qLxRJ6vFoEL"
      },
      "source": [
        "And that one calculates the slope between two points!"
      ]
    },
    {
      "cell_type": "code",
      "execution_count": 269,
      "metadata": {
        "id": "d5RKJsE5FoEL",
        "colab": {
          "base_uri": "https://localhost:8080/",
          "height": 149
        },
        "outputId": "e9e6732c-19c2-45d4-eb16-36b31c6eee23"
      },
      "outputs": [
        {
          "output_type": "error",
          "ename": "SyntaxError",
          "evalue": "ignored",
          "traceback": [
            "\u001b[0;36m  File \u001b[0;32m\"<ipython-input-269-384b8b2fde64>\"\u001b[0;36m, line \u001b[0;32m1\u001b[0m\n\u001b[0;31m    print \"The slope-intercept form of the line between a and b, using point a, is: y - {0} = {2}(x - {1})\".format(a[1], a[0], calculate_slope(a, b))\u001b[0m\n\u001b[0m                                                                                                          ^\u001b[0m\n\u001b[0;31mSyntaxError\u001b[0m\u001b[0;31m:\u001b[0m invalid syntax\n"
          ]
        }
      ],
      "source": [
        "print \"The slope-intercept form of the line between a and b, using point a, is: y - {0} = {2}(x - {1})\".format(a[1], a[0], calculate_slope(a, b))"
      ]
    },
    {
      "cell_type": "markdown",
      "metadata": {
        "id": "v04drhqWFoEM"
      },
      "source": [
        "With the proper syntax, you can define functions to do whatever calculations you want. This makes them an indispensible part of programming in any language."
      ]
    },
    {
      "cell_type": "markdown",
      "metadata": {
        "id": "TGUZCs8cFoEM"
      },
      "source": [
        "## Next Steps\n",
        "\n",
        "This was a lot of material and there is still even more to cover! Make sure you play around with the cells in each notebook to accustom yourself to the syntax featured here and to figure out any limitations. If you want to delve even deeper into the material, the [documentation for Python](https://docs.python.org/2/) is all available online. We are in the process of developing a second part to this Python tutorial, designed to provide you with even more programming knowledge, so keep an eye on the [Quantopian Lectures Page](quantopian.com/lectures) and the [forums](quantopian.com/posts) for any new lectures."
      ]
    },
    {
      "cell_type": "markdown",
      "metadata": {
        "id": "J5VNrzrqFoEM"
      },
      "source": [
        "*This presentation is for informational purposes only and does not constitute an offer to sell, a solicitation to buy, or a recommendation for any security; nor does it constitute an offer to provide investment advisory or other services by Quantopian, Inc. (\"Quantopian\"). Nothing contained herein constitutes investment advice or offers any opinion with respect to the suitability of any security, and any views expressed herein should not be taken as advice to buy, sell, or hold any security or as an endorsement of any security or company.  In preparing the information contained herein, Quantopian, Inc. has not taken into account the investment needs, objectives, and financial circumstances of any particular investor. Any views expressed and data illustrated herein were prepared based upon information, believed to be reliable, available to Quantopian, Inc. at the time of publication. Quantopian makes no guarantees as to their accuracy or completeness. All information is subject to change and may quickly become unreliable for various reasons, including changes in market conditions or economic circumstances.*"
      ]
    },
    {
      "cell_type": "markdown",
      "metadata": {
        "id": "3WxjwzlPHs0I"
      },
      "source": [
        "<div align=\"center\">\n",
        "<img style=\"display: block; margin: auto;\" alt=\"photo\" src=\"https://upload.wikimedia.org/wikipedia/en/d/de/Quantopian_logo_2017.png\">\n",
        "</div> \n",
        "\n",
        "# Introduction to pandas\n",
        "by Maxwell Margenot\n",
        "\n",
        "Part of the Quantopian Lecture Series:\n",
        "\n",
        "* [www.quantopian.com/lectures](https://www.quantopian.com/lectures)\n",
        "* [github.com/quantopian/research_public](https://github.com/quantopian/research_public)\n",
        "\n"
      ]
    },
    {
      "cell_type": "markdown",
      "metadata": {
        "id": "eOKqPldlHs0L"
      },
      "source": [
        "pandas is a Python library that provides a collection of powerful data structures to better help you manage data. In this lecture, we will cover how to use the `Series` and `DataFrame` objects to handle data. These objects have a strong integration with NumPy, covered elsewhere in the [lecture series](http://www.quantopian.com/lectures#Introduction-to-NumPy), allowing us to easily do the necessary statistical and mathematical calculations that we need for finance."
      ]
    },
    {
      "cell_type": "code",
      "execution_count": 270,
      "metadata": {
        "id": "pzhf-KnPHs0M"
      },
      "outputs": [],
      "source": [
        "import numpy as np\n",
        "import pandas as pd\n",
        "import matplotlib.pyplot as plt"
      ]
    },
    {
      "cell_type": "markdown",
      "metadata": {
        "id": "euf90nnmHs0N"
      },
      "source": [
        "With pandas, it is easy to store, visualize, and perform calculations on your data. With only a few lines of code we can modify our data and present it in an easily-understandable way. Here we simulate some returns in NumPy, put them into a pandas `DataFrame`, and perform calculations to turn them into prices and plot them, all only using a few lines of code."
      ]
    },
    {
      "cell_type": "code",
      "execution_count": 271,
      "metadata": {
        "id": "1hn_hFOJHs0N",
        "colab": {
          "base_uri": "https://localhost:8080/",
          "height": 355
        },
        "outputId": "5013cd7b-5894-4bd8-a338-6d46cafae2ff"
      },
      "outputs": [
        {
          "output_type": "display_data",
          "data": {
            "text/plain": [
              "<Figure size 432x288 with 1 Axes>"
            ],
            "image/png": "[encoded data removed]"
          },
          "metadata": {
            "needs_background": "light"
          }
        }
      ],
      "source": [
        "returns = pd.DataFrame(np.random.normal(1.0, 0.09, (50, 20)))\n",
        "prices = returns.cumprod()\n",
        "prices.plot()\n",
        "plt.title('Randomly-generated Prices')\n",
        "plt.xlabel('Time')\n",
        "plt.ylabel('Price')\n",
        "plt.legend(loc=0);"
      ]
    },
    {
      "cell_type": "markdown",
      "metadata": {
        "id": "GI4-UHmBHs0O"
      },
      "source": [
        "So let's have a look at how we actually build up to this point!"
      ]
    },
    {
      "cell_type": "markdown",
      "metadata": {
        "id": "k3cHCvk2Hs0O"
      },
      "source": [
        "## pandas Data Structures\n",
        "\n",
        "### `Series`\n",
        "\n",
        "A pandas `Series` is a 1-dimensional array with labels that can contain any data type. We primarily use them for handling time series data. Creating a `Series` is as easy as calling `pandas.Series()` on a Python list or NumPy array."
      ]
    },
    {
      "cell_type": "markdown",
      "source": [
        ""
      ],
      "metadata": {
        "id": "WaeGMTN9OdVV"
      }
    },
    {
      "cell_type": "code",
      "execution_count": 272,
      "metadata": {
        "id": "gtjfgCEfHs0P",
        "colab": {
          "base_uri": "https://localhost:8080/"
        },
        "outputId": "161f3e03-5a51-4b2a-d56c-a8260024fc09"
      },
      "outputs": [
        {
          "output_type": "stream",
          "name": "stdout",
          "text": [
            "0               1\n",
            "1               2\n",
            "2               4\n",
            "3             NaN\n",
            "4               4\n",
            "5               5\n",
            "6           Hello\n",
            "7             3.4\n",
            "8    {2, 3, 5, 6}\n",
            "dtype: object\n"
          ]
        }
      ],
      "source": [
        "s = pd.Series([1, 2,4 ,np.nan, 4, 5, 'Hello', 3.4, {2,3,5,6}])\n",
        "print (s)"
      ]
    },
    {
      "cell_type": "markdown",
      "metadata": {
        "id": "Do2pkpaOHs0Q"
      },
      "source": [
        "Every `Series` has a name. We can give the series a name as a parameter or we can define it afterwards by directly accessing the name attribute. In this case, we have given our time series no name so the attribute should be empty."
      ]
    },
    {
      "cell_type": "code",
      "execution_count": 273,
      "metadata": {
        "id": "ygQ492kjHs0Q",
        "colab": {
          "base_uri": "https://localhost:8080/"
        },
        "outputId": "fff8964a-c415-4a8a-8049-ac4ca517a436"
      },
      "outputs": [
        {
          "output_type": "stream",
          "name": "stdout",
          "text": [
            "None\n"
          ]
        }
      ],
      "source": [
        "print (s.name)"
      ]
    },
    {
      "cell_type": "markdown",
      "metadata": {
        "id": "1O6Prsw_Hs0R"
      },
      "source": [
        "This name can be directly modified with no repercussions."
      ]
    },
    {
      "cell_type": "code",
      "execution_count": 274,
      "metadata": {
        "id": "9tyh6s2oHs0R",
        "colab": {
          "base_uri": "https://localhost:8080/"
        },
        "outputId": "16fbc14e-449d-4e68-ad62-350d26288f7d"
      },
      "outputs": [
        {
          "output_type": "stream",
          "name": "stdout",
          "text": [
            "Object array\n"
          ]
        }
      ],
      "source": [
        "s.name = \"Object array\"\n",
        "print (s.name)"
      ]
    },
    {
      "cell_type": "markdown",
      "metadata": {
        "id": "GFpVlGQqHs0S"
      },
      "source": [
        "We call the collected axis labels of a `Series` its index. An index can either passed to a `Series` as a parameter or added later, similarly to its name. In the absence of an index, a `Series` will simply contain an index composed of integers, starting at $0$, as in the case of our \"Toy Series\"."
      ]
    },
    {
      "cell_type": "code",
      "execution_count": 275,
      "metadata": {
        "id": "PNbzjAg9Hs0S",
        "colab": {
          "base_uri": "https://localhost:8080/",
          "height": 131
        },
        "outputId": "5c34c9a8-7a1a-47a9-c168-2b7434eac88b"
      },
      "outputs": [
        {
          "output_type": "error",
          "ename": "SyntaxError",
          "evalue": "ignored",
          "traceback": [
            "\u001b[0;36m  File \u001b[0;32m\"<ipython-input-275-4968d95ebe97>\"\u001b[0;36m, line \u001b[0;32m1\u001b[0m\n\u001b[0;31m    print s.index\u001b[0m\n\u001b[0m          ^\u001b[0m\n\u001b[0;31mSyntaxError\u001b[0m\u001b[0;31m:\u001b[0m Missing parentheses in call to 'print'. Did you mean print(s.index)?\n"
          ]
        }
      ],
      "source": [
        "print s.index"
      ]
    },
    {
      "cell_type": "markdown",
      "metadata": {
        "id": "JMhFrJRiHs0S"
      },
      "source": [
        "pandas has a built-in function specifically for creating date indices, `date_range()`. We use the function here to create a new index for `s`."
      ]
    },
    {
      "cell_type": "code",
      "execution_count": 276,
      "metadata": {
        "id": "p1tq3INsHs0S",
        "colab": {
          "base_uri": "https://localhost:8080/"
        },
        "outputId": "5d15028c-2023-4147-d752-e49f010bdcce"
      },
      "outputs": [
        {
          "output_type": "stream",
          "name": "stdout",
          "text": [
            "DatetimeIndex(['2016-01-01', '2016-01-02', '2016-01-03', '2016-01-04',\n",
            "               '2016-01-05', '2016-01-06', '2016-01-07', '2016-01-08',\n",
            "               '2016-01-09'],\n",
            "              dtype='datetime64[ns]', freq='D')\n"
          ]
        }
      ],
      "source": [
        "new_index = pd.date_range(\"2016-01-01\", periods=len(s), freq=\"D\")\n",
        "print (new_index)"
      ]
    },
    {
      "cell_type": "markdown",
      "metadata": {
        "id": "ngTfZsDFHs0T"
      },
      "source": [
        "An index must be exactly the same length as the `Series` itself. Each index must match one-to-one with each element of the `Series`. Once this is satisfied, we can directly modify the `Series` index, as with the name, to use our new and more informative index (relatively speaking)."
      ]
    },
    {
      "cell_type": "code",
      "execution_count": 277,
      "metadata": {
        "id": "L_rdI8juHs0T",
        "colab": {
          "base_uri": "https://localhost:8080/",
          "height": 131
        },
        "outputId": "1dfc3748-7cfd-4a65-c33f-f3a6d6c73e82"
      },
      "outputs": [
        {
          "output_type": "error",
          "ename": "SyntaxError",
          "evalue": "ignored",
          "traceback": [
            "\u001b[0;36m  File \u001b[0;32m\"<ipython-input-277-07413ac3cab4>\"\u001b[0;36m, line \u001b[0;32m2\u001b[0m\n\u001b[0;31m    print s.index\u001b[0m\n\u001b[0m          ^\u001b[0m\n\u001b[0;31mSyntaxError\u001b[0m\u001b[0;31m:\u001b[0m Missing parentheses in call to 'print'. Did you mean print(s.index)?\n"
          ]
        }
      ],
      "source": [
        "s.index = new_index\n",
        "print s.index"
      ]
    },
    {
      "cell_type": "markdown",
      "metadata": {
        "id": "cv6qygOuHs0T"
      },
      "source": [
        "The index of the `Series` is crucial for handling time series, which we will get into a little later."
      ]
    },
    {
      "cell_type": "markdown",
      "metadata": {
        "id": "Eb-i9HDWHs0U"
      },
      "source": [
        "#### Accessing `Series` Elements\n",
        "\n",
        "`Series` are typically accessed using the `iloc[]` and `loc[]` methods. We use `iloc[]` to access elements by integer index and we use `loc[]` to access the index of the Series."
      ]
    },
    {
      "cell_type": "code",
      "execution_count": null,
      "metadata": {
        "id": "KFCz7QIpHs0U"
      },
      "outputs": [],
      "source": [
        "print(\"First element of the series: \", s.iloc[0])\n",
        "print(\"Last element of the series: \", s.iloc[len(s)-1])"
      ]
    },
    {
      "cell_type": "markdown",
      "metadata": {
        "id": "Cv-UzEsMHs0U"
      },
      "source": [
        "We can slice a `Series` similarly to our favorite collections, Python lists and NumPy arrays. We use the colon operator to indicate the slice."
      ]
    },
    {
      "cell_type": "code",
      "execution_count": 278,
      "metadata": {
        "id": "Rwr5OIQIHs0U",
        "colab": {
          "base_uri": "https://localhost:8080/"
        },
        "outputId": "7f9adc56-bc1d-4721-ef5a-25d0d774168d"
      },
      "outputs": [
        {
          "output_type": "execute_result",
          "data": {
            "text/plain": [
              "0    1\n",
              "1    2\n",
              "Name: Object array, dtype: object"
            ]
          },
          "metadata": {},
          "execution_count": 278
        }
      ],
      "source": [
        "s.iloc[:2]"
      ]
    },
    {
      "cell_type": "markdown",
      "metadata": {
        "id": "ELufJEW-Hs0V"
      },
      "source": [
        "When creating a slice, we have the options of specifying a beginning, an end, and a step. The slice will begin at the start index, and take steps of size `step` until it passes the end index, not including the end."
      ]
    },
    {
      "cell_type": "code",
      "execution_count": 279,
      "metadata": {
        "id": "cppKemi1Hs0V",
        "colab": {
          "base_uri": "https://localhost:8080/"
        },
        "outputId": "da409c01-c790-4f51-dee0-b37a787ea91b"
      },
      "outputs": [
        {
          "output_type": "execute_result",
          "data": {
            "text/plain": [
              "0        1\n",
              "2        4\n",
              "4        4\n",
              "6    Hello\n",
              "Name: Object array, dtype: object"
            ]
          },
          "metadata": {},
          "execution_count": 279
        }
      ],
      "source": [
        "start = 0\n",
        "end = len(s) - 1\n",
        "step = 2\n",
        "\n",
        "s.iloc[start:end:step]"
      ]
    },
    {
      "cell_type": "markdown",
      "metadata": {
        "id": "vrVpxeMrHs0V"
      },
      "source": [
        "We can even reverse a `Series` by specifying a negative step size. Similarly, we can index the start and end with a negative integer value."
      ]
    },
    {
      "cell_type": "code",
      "execution_count": 280,
      "metadata": {
        "id": "1_CoIrtSHs0V",
        "colab": {
          "base_uri": "https://localhost:8080/"
        },
        "outputId": "c1d96ba3-dd98-402f-c776-adf37dd4d6b3"
      },
      "outputs": [
        {
          "output_type": "execute_result",
          "data": {
            "text/plain": [
              "8    {2, 3, 5, 6}\n",
              "7             3.4\n",
              "6           Hello\n",
              "5               5\n",
              "4               4\n",
              "3             NaN\n",
              "2               4\n",
              "1               2\n",
              "0               1\n",
              "Name: Object array, dtype: object"
            ]
          },
          "metadata": {},
          "execution_count": 280
        }
      ],
      "source": [
        "s.iloc[::-1]"
      ]
    },
    {
      "cell_type": "markdown",
      "metadata": {
        "id": "FMGjtc63Hs0W"
      },
      "source": [
        "This returns a slice of the series that starts from the second to last element and ends at the third to last element (because the fourth to last is not included, taking steps of size $1$)."
      ]
    },
    {
      "cell_type": "code",
      "execution_count": 281,
      "metadata": {
        "id": "WBPIIryLHs0W",
        "colab": {
          "base_uri": "https://localhost:8080/"
        },
        "outputId": "bc73f9e9-0372-4014-f90a-820b9f71ae9c"
      },
      "outputs": [
        {
          "output_type": "execute_result",
          "data": {
            "text/plain": [
              "8    {2, 3, 5, 6}\n",
              "Name: Object array, dtype: object"
            ]
          },
          "metadata": {},
          "execution_count": 281
        }
      ],
      "source": [
        "s.iloc[-1:-2:-1]"
      ]
    },
    {
      "cell_type": "markdown",
      "metadata": {
        "id": "NGcgARRsHs0W"
      },
      "source": [
        "We can also access a series by using the values of its index. Since we indexed `s` with a collection of dates (`Timestamp` objects) we can look at the value contained in `s` for a particular date."
      ]
    },
    {
      "cell_type": "code",
      "execution_count": 282,
      "metadata": {
        "id": "BvAWyZvkHs0W",
        "colab": {
          "base_uri": "https://localhost:8080/",
          "height": 312
        },
        "outputId": "9f040479-8025-4fee-c460-ac0465bac253"
      },
      "outputs": [
        {
          "output_type": "error",
          "ename": "KeyError",
          "evalue": "ignored",
          "traceback": [
            "\u001b[0;31m---------------------------------------------------------------------------\u001b[0m",
            "\u001b[0;31mKeyError\u001b[0m                                  Traceback (most recent call last)",
            "\u001b[0;32m<ipython-input-282-50f63c945b36>\u001b[0m in \u001b[0;36m<module>\u001b[0;34m\u001b[0m\n\u001b[0;32m----> 1\u001b[0;31m \u001b[0ms\u001b[0m\u001b[0;34m.\u001b[0m\u001b[0mloc\u001b[0m\u001b[0;34m[\u001b[0m\u001b[0;34m'2016-01-01'\u001b[0m\u001b[0;34m]\u001b[0m\u001b[0;34m\u001b[0m\u001b[0;34m\u001b[0m\u001b[0m\n\u001b[0m",
            "\u001b[0;32m/usr/local/lib/python3.7/dist-packages/pandas/core/indexing.py\u001b[0m in \u001b[0;36m__getitem__\u001b[0;34m(self, key)\u001b[0m\n\u001b[1;32m    929\u001b[0m \u001b[0;34m\u001b[0m\u001b[0m\n\u001b[1;32m    930\u001b[0m             \u001b[0mmaybe_callable\u001b[0m \u001b[0;34m=\u001b[0m \u001b[0mcom\u001b[0m\u001b[0;34m.\u001b[0m\u001b[0mapply_if_callable\u001b[0m\u001b[0;34m(\u001b[0m\u001b[0mkey\u001b[0m\u001b[0;34m,\u001b[0m \u001b[0mself\u001b[0m\u001b[0;34m.\u001b[0m\u001b[0mobj\u001b[0m\u001b[0;34m)\u001b[0m\u001b[0;34m\u001b[0m\u001b[0;34m\u001b[0m\u001b[0m\n\u001b[0;32m--> 931\u001b[0;31m             \u001b[0;32mreturn\u001b[0m \u001b[0mself\u001b[0m\u001b[0;34m.\u001b[0m\u001b[0m_getitem_axis\u001b[0m\u001b[0;34m(\u001b[0m\u001b[0mmaybe_callable\u001b[0m\u001b[0;34m,\u001b[0m \u001b[0maxis\u001b[0m\u001b[0;34m=\u001b[0m\u001b[0maxis\u001b[0m\u001b[0;34m)\u001b[0m\u001b[0;34m\u001b[0m\u001b[0;34m\u001b[0m\u001b[0m\n\u001b[0m\u001b[1;32m    932\u001b[0m \u001b[0;34m\u001b[0m\u001b[0m\n\u001b[1;32m    933\u001b[0m     \u001b[0;32mdef\u001b[0m \u001b[0m_is_scalar_access\u001b[0m\u001b[0;34m(\u001b[0m\u001b[0mself\u001b[0m\u001b[0;34m,\u001b[0m \u001b[0mkey\u001b[0m\u001b[0;34m:\u001b[0m \u001b[0mtuple\u001b[0m\u001b[0;34m)\u001b[0m\u001b[0;34m:\u001b[0m\u001b[0;34m\u001b[0m\u001b[0;34m\u001b[0m\u001b[0m\n",
            "\u001b[0;32m/usr/local/lib/python3.7/dist-packages/pandas/core/indexing.py\u001b[0m in \u001b[0;36m_getitem_axis\u001b[0;34m(self, key, axis)\u001b[0m\n\u001b[1;32m   1162\u001b[0m         \u001b[0;31m# fall thru to straight lookup\u001b[0m\u001b[0;34m\u001b[0m\u001b[0;34m\u001b[0m\u001b[0;34m\u001b[0m\u001b[0m\n\u001b[1;32m   1163\u001b[0m         \u001b[0mself\u001b[0m\u001b[0;34m.\u001b[0m\u001b[0m_validate_key\u001b[0m\u001b[0;34m(\u001b[0m\u001b[0mkey\u001b[0m\u001b[0;34m,\u001b[0m \u001b[0maxis\u001b[0m\u001b[0;34m)\u001b[0m\u001b[0;34m\u001b[0m\u001b[0;34m\u001b[0m\u001b[0m\n\u001b[0;32m-> 1164\u001b[0;31m         \u001b[0;32mreturn\u001b[0m \u001b[0mself\u001b[0m\u001b[0;34m.\u001b[0m\u001b[0m_get_label\u001b[0m\u001b[0;34m(\u001b[0m\u001b[0mkey\u001b[0m\u001b[0;34m,\u001b[0m \u001b[0maxis\u001b[0m\u001b[0;34m=\u001b[0m\u001b[0maxis\u001b[0m\u001b[0;34m)\u001b[0m\u001b[0;34m\u001b[0m\u001b[0;34m\u001b[0m\u001b[0m\n\u001b[0m\u001b[1;32m   1165\u001b[0m \u001b[0;34m\u001b[0m\u001b[0m\n\u001b[1;32m   1166\u001b[0m     \u001b[0;32mdef\u001b[0m \u001b[0m_get_slice_axis\u001b[0m\u001b[0;34m(\u001b[0m\u001b[0mself\u001b[0m\u001b[0;34m,\u001b[0m \u001b[0mslice_obj\u001b[0m\u001b[0;34m:\u001b[0m \u001b[0mslice\u001b[0m\u001b[0;34m,\u001b[0m \u001b[0maxis\u001b[0m\u001b[0;34m:\u001b[0m \u001b[0mint\u001b[0m\u001b[0;34m)\u001b[0m\u001b[0;34m:\u001b[0m\u001b[0;34m\u001b[0m\u001b[0;34m\u001b[0m\u001b[0m\n",
            "\u001b[0;32m/usr/local/lib/python3.7/dist-packages/pandas/core/indexing.py\u001b[0m in \u001b[0;36m_get_label\u001b[0;34m(self, label, axis)\u001b[0m\n\u001b[1;32m   1111\u001b[0m     \u001b[0;32mdef\u001b[0m \u001b[0m_get_label\u001b[0m\u001b[0;34m(\u001b[0m\u001b[0mself\u001b[0m\u001b[0;34m,\u001b[0m \u001b[0mlabel\u001b[0m\u001b[0;34m,\u001b[0m \u001b[0maxis\u001b[0m\u001b[0;34m:\u001b[0m \u001b[0mint\u001b[0m\u001b[0;34m)\u001b[0m\u001b[0;34m:\u001b[0m\u001b[0;34m\u001b[0m\u001b[0;34m\u001b[0m\u001b[0m\n\u001b[1;32m   1112\u001b[0m         \u001b[0;31m# GH#5667 this will fail if the label is not present in the axis.\u001b[0m\u001b[0;34m\u001b[0m\u001b[0;34m\u001b[0m\u001b[0;34m\u001b[0m\u001b[0m\n\u001b[0;32m-> 1113\u001b[0;31m         \u001b[0;32mreturn\u001b[0m \u001b[0mself\u001b[0m\u001b[0;34m.\u001b[0m\u001b[0mobj\u001b[0m\u001b[0;34m.\u001b[0m\u001b[0mxs\u001b[0m\u001b[0;34m(\u001b[0m\u001b[0mlabel\u001b[0m\u001b[0;34m,\u001b[0m \u001b[0maxis\u001b[0m\u001b[0;34m=\u001b[0m\u001b[0maxis\u001b[0m\u001b[0;34m)\u001b[0m\u001b[0;34m\u001b[0m\u001b[0;34m\u001b[0m\u001b[0m\n\u001b[0m\u001b[1;32m   1114\u001b[0m \u001b[0;34m\u001b[0m\u001b[0m\n\u001b[1;32m   1115\u001b[0m     \u001b[0;32mdef\u001b[0m \u001b[0m_handle_lowerdim_multi_index_axis0\u001b[0m\u001b[0;34m(\u001b[0m\u001b[0mself\u001b[0m\u001b[0;34m,\u001b[0m \u001b[0mtup\u001b[0m\u001b[0;34m:\u001b[0m \u001b[0mtuple\u001b[0m\u001b[0;34m)\u001b[0m\u001b[0;34m:\u001b[0m\u001b[0;34m\u001b[0m\u001b[0;34m\u001b[0m\u001b[0m\n",
            "\u001b[0;32m/usr/local/lib/python3.7/dist-packages/pandas/core/generic.py\u001b[0m in \u001b[0;36mxs\u001b[0;34m(self, key, axis, level, drop_level)\u001b[0m\n\u001b[1;32m   3774\u001b[0m                 \u001b[0;32mraise\u001b[0m \u001b[0mTypeError\u001b[0m\u001b[0;34m(\u001b[0m\u001b[0;34mf\"Expected label or tuple of labels, got {key}\"\u001b[0m\u001b[0;34m)\u001b[0m \u001b[0;32mfrom\u001b[0m \u001b[0me\u001b[0m\u001b[0;34m\u001b[0m\u001b[0;34m\u001b[0m\u001b[0m\n\u001b[1;32m   3775\u001b[0m         \u001b[0;32melse\u001b[0m\u001b[0;34m:\u001b[0m\u001b[0;34m\u001b[0m\u001b[0;34m\u001b[0m\u001b[0m\n\u001b[0;32m-> 3776\u001b[0;31m             \u001b[0mloc\u001b[0m \u001b[0;34m=\u001b[0m \u001b[0mindex\u001b[0m\u001b[0;34m.\u001b[0m\u001b[0mget_loc\u001b[0m\u001b[0;34m(\u001b[0m\u001b[0mkey\u001b[0m\u001b[0;34m)\u001b[0m\u001b[0;34m\u001b[0m\u001b[0;34m\u001b[0m\u001b[0m\n\u001b[0m\u001b[1;32m   3777\u001b[0m \u001b[0;34m\u001b[0m\u001b[0m\n\u001b[1;32m   3778\u001b[0m             \u001b[0;32mif\u001b[0m \u001b[0misinstance\u001b[0m\u001b[0;34m(\u001b[0m\u001b[0mloc\u001b[0m\u001b[0;34m,\u001b[0m \u001b[0mnp\u001b[0m\u001b[0;34m.\u001b[0m\u001b[0mndarray\u001b[0m\u001b[0;34m)\u001b[0m\u001b[0;34m:\u001b[0m\u001b[0;34m\u001b[0m\u001b[0;34m\u001b[0m\u001b[0m\n",
            "\u001b[0;32m/usr/local/lib/python3.7/dist-packages/pandas/core/indexes/range.py\u001b[0m in \u001b[0;36mget_loc\u001b[0;34m(self, key, method, tolerance)\u001b[0m\n\u001b[1;32m    386\u001b[0m                 \u001b[0;32mexcept\u001b[0m \u001b[0mValueError\u001b[0m \u001b[0;32mas\u001b[0m \u001b[0merr\u001b[0m\u001b[0;34m:\u001b[0m\u001b[0;34m\u001b[0m\u001b[0;34m\u001b[0m\u001b[0m\n\u001b[1;32m    387\u001b[0m                     \u001b[0;32mraise\u001b[0m \u001b[0mKeyError\u001b[0m\u001b[0;34m(\u001b[0m\u001b[0mkey\u001b[0m\u001b[0;34m)\u001b[0m \u001b[0;32mfrom\u001b[0m \u001b[0merr\u001b[0m\u001b[0;34m\u001b[0m\u001b[0;34m\u001b[0m\u001b[0m\n\u001b[0;32m--> 388\u001b[0;31m             \u001b[0;32mraise\u001b[0m \u001b[0mKeyError\u001b[0m\u001b[0;34m(\u001b[0m\u001b[0mkey\u001b[0m\u001b[0;34m)\u001b[0m\u001b[0;34m\u001b[0m\u001b[0;34m\u001b[0m\u001b[0m\n\u001b[0m\u001b[1;32m    389\u001b[0m         \u001b[0;32mreturn\u001b[0m \u001b[0msuper\u001b[0m\u001b[0;34m(\u001b[0m\u001b[0;34m)\u001b[0m\u001b[0;34m.\u001b[0m\u001b[0mget_loc\u001b[0m\u001b[0;34m(\u001b[0m\u001b[0mkey\u001b[0m\u001b[0;34m,\u001b[0m \u001b[0mmethod\u001b[0m\u001b[0;34m=\u001b[0m\u001b[0mmethod\u001b[0m\u001b[0;34m,\u001b[0m \u001b[0mtolerance\u001b[0m\u001b[0;34m=\u001b[0m\u001b[0mtolerance\u001b[0m\u001b[0;34m)\u001b[0m\u001b[0;34m\u001b[0m\u001b[0;34m\u001b[0m\u001b[0m\n\u001b[1;32m    390\u001b[0m \u001b[0;34m\u001b[0m\u001b[0m\n",
            "\u001b[0;31mKeyError\u001b[0m: '2016-01-01'"
          ]
        }
      ],
      "source": [
        "s.loc['2016-01-01']"
      ]
    },
    {
      "cell_type": "markdown",
      "metadata": {
        "id": "Nj7OVKhVHs0W"
      },
      "source": [
        "Or even for a range of dates!"
      ]
    },
    {
      "cell_type": "code",
      "execution_count": null,
      "metadata": {
        "id": "mi_7afOcHs0W"
      },
      "outputs": [],
      "source": [
        "s.loc['2016-01-02':'2016-01-04']"
      ]
    },
    {
      "cell_type": "markdown",
      "metadata": {
        "id": "p25gL_JIHs0X"
      },
      "source": [
        "With `Series`, we *can* just use the brackets (`[]`) to access elements, but this is not best practice. The brackets are ambiguous because they can be used to access `Series` (and `DataFrames`) using both index and integer values and the results will change based on context (especially with `DataFrames`)."
      ]
    },
    {
      "cell_type": "markdown",
      "metadata": {
        "id": "_kV2rjSTHs0X"
      },
      "source": [
        "#### Boolean Indexing\n",
        "\n",
        "In addition to the above-mentioned access methods, you can filter `Series` using boolean arrays. `Series` are compatible with your standard comparators. Once compared with whatever condition you like, you get back yet another `Series`, this time filled with boolean values."
      ]
    },
    {
      "cell_type": "code",
      "execution_count": null,
      "metadata": {
        "id": "f6e7gd5OHs0X"
      },
      "outputs": [],
      "source": [
        "print (s < 3)"
      ]
    },
    {
      "cell_type": "markdown",
      "metadata": {
        "id": "FI-6yhq5Hs0X"
      },
      "source": [
        "We can pass *this* `Series` back into the original `Series` to filter out only the elements for which our condition is `True`."
      ]
    },
    {
      "cell_type": "code",
      "execution_count": null,
      "metadata": {
        "id": "WE_RUJl8Hs0X"
      },
      "outputs": [],
      "source": [
        "print(s.loc[s < 3])"
      ]
    },
    {
      "cell_type": "markdown",
      "metadata": {
        "id": "Shld9-uTHs0Y"
      },
      "source": [
        "If we so desire, we can group multiple conditions together using the logical operators `&`, `|`, and `~` (and, or, and not, respectively)."
      ]
    },
    {
      "cell_type": "code",
      "execution_count": null,
      "metadata": {
        "id": "we1dMwOOHs0Y"
      },
      "outputs": [],
      "source": [
        "print s.loc[(s < 3) & (s > 1)]"
      ]
    },
    {
      "cell_type": "markdown",
      "metadata": {
        "id": "iMoKC5wMHs0Y"
      },
      "source": [
        "This is very convenient for getting only elements of a `Series` that fulfill specific criteria that we need. It gets even more convenient when we are handling `DataFrames`."
      ]
    },
    {
      "cell_type": "markdown",
      "metadata": {
        "id": "NrupLS36Hs0Y"
      },
      "source": [
        "#### Indexing and Time Series\n",
        "\n",
        "Since we use `Series` for handling time series, it's worth covering a little bit of how we handle the time component. For our purposes we use pandas `Timestamp` objects. Let's pull a full time series, complete with all the appropriate labels, by using our `get_pricing()` method. All data pulled with `get_pricing()` or using our Pipeline API will be in either `Series` or `DataFrame` format. We can modify this index however we like."
      ]
    },
    {
      "cell_type": "code",
      "execution_count": null,
      "metadata": {
        "id": "GxCAmvucHs0Y"
      },
      "outputs": [],
      "source": [
        "symbol = \"CMG\"\n",
        "start = \"2012-01-01\"\n",
        "end = \"2016-01-01\"\n",
        "prices = get_pricing(symbol, start_date=start, end_date=end, fields=\"price\")"
      ]
    },
    {
      "cell_type": "markdown",
      "metadata": {
        "id": "SH9w8y8lHs0Y"
      },
      "source": [
        "We can display the first few elements of our series by using the `head()` method and specifying the number of elements that we want. The analogous method for the last few elements is `tail()`."
      ]
    },
    {
      "cell_type": "code",
      "execution_count": null,
      "metadata": {
        "id": "7eQOihahHs0Y"
      },
      "outputs": [],
      "source": [
        "print \"\\n\", type(prices)\n",
        "prices.head(5) "
      ]
    },
    {
      "cell_type": "markdown",
      "metadata": {
        "id": "8_-B8mzpHs0Z"
      },
      "source": [
        "As with our toy example, we can specify a name for our time series, if only to clarify the name the `get_pricing()` provides us."
      ]
    },
    {
      "cell_type": "code",
      "execution_count": null,
      "metadata": {
        "id": "CTSLVePxHs0Z",
        "scrolled": true
      },
      "outputs": [],
      "source": [
        "print 'Old name: ', prices.name\n",
        "prices.name = symbol\n",
        "print 'New name: ', prices.name"
      ]
    },
    {
      "cell_type": "markdown",
      "metadata": {
        "id": "lJcC9Y-mHs0Z"
      },
      "source": [
        "Let's take a closer look at the `DatetimeIndex` of our `prices` time series."
      ]
    },
    {
      "cell_type": "code",
      "execution_count": null,
      "metadata": {
        "id": "LYIuAIezHs0Z"
      },
      "outputs": [],
      "source": [
        "print prices.index"
      ]
    },
    {
      "cell_type": "markdown",
      "metadata": {
        "id": "ckzGNBJ9Hs0Z"
      },
      "source": [
        "Notice that this `DatetimeIndex` has a collection of associated information. In particular it has an associated frequency (`freq`) and an associated timezone (`tz`). The frequency indicates whether the data is daily vs monthly vs some other period while the timezone indicates what locale this index is relative to. We can modify all of this extra information!\n",
        "\n",
        "If we resample our `Series`, we can adjust the frequency of our data. We currently have daily data (excluding weekends) because `get_pricing()` pulls only data from market days. Let's up-sample from this daily data to monthly data using the `resample()` method."
      ]
    },
    {
      "cell_type": "code",
      "execution_count": null,
      "metadata": {
        "id": "XYEz0k4wHs0Z"
      },
      "outputs": [],
      "source": [
        "monthly_prices = prices.resample('M')\n",
        "monthly_prices.head(10)"
      ]
    },
    {
      "cell_type": "markdown",
      "metadata": {
        "id": "Wj1WFSpvHs0Z"
      },
      "source": [
        "The `resample()` method defaults to using the mean of the lower level data to create the higher level data. We can specify how else we might want the up-sampling to be calculated by specifying the `how` parameter."
      ]
    },
    {
      "cell_type": "code",
      "execution_count": null,
      "metadata": {
        "id": "YEkx6clnHs0a"
      },
      "outputs": [],
      "source": [
        "monthly_prices_med = prices.resample('M', how='median')\n",
        "monthly_prices_med.head(10)"
      ]
    },
    {
      "cell_type": "markdown",
      "metadata": {
        "id": "GXlP28PCHs0a"
      },
      "source": [
        "We can even specify how we want the calculation of the new period to be done. Here we create a `custom_resampler()` function that will return the first value of the period. In our specific case, this will return a `Series` where the monthly value is the first value of that month."
      ]
    },
    {
      "cell_type": "code",
      "execution_count": null,
      "metadata": {
        "id": "KQNGZhRrHs0a"
      },
      "outputs": [],
      "source": [
        "def custom_resampler(array_like):\n",
        "    \"\"\" Returns the first value of the period \"\"\"\n",
        "    return array_like[0]\n",
        "\n",
        "first_of_month_prices = prices.resample('M', how=custom_resampler)\n",
        "first_of_month_prices.head(10)"
      ]
    },
    {
      "cell_type": "markdown",
      "metadata": {
        "id": "SG_S83MbHs0a"
      },
      "source": [
        "We can also adjust the timezone of a `Series` to adapt the time of real-world data. In our case, our time series is already localized to UTC, but let's say that we want to adjust the time to be 'US/Eastern'. In this case we use the `tz_convert()` method, since the time is already localized."
      ]
    },
    {
      "cell_type": "code",
      "execution_count": null,
      "metadata": {
        "id": "7ysYd93ZHs0a"
      },
      "outputs": [],
      "source": [
        "eastern_prices = prices.tz_convert('US/Eastern')\n",
        "eastern_prices.head(10)"
      ]
    },
    {
      "cell_type": "markdown",
      "metadata": {
        "id": "DsGzYSHIHs0b"
      },
      "source": [
        "In addition to the capacity for timezone and frequency management, each time series has a built-in `reindex()` method that we can use to realign the existing data according to a new set of index labels. If data does not exist for a particular label, the data will be filled with a placeholder value. This is typically `np.nan`, though we can provide a fill method.\n",
        "\n",
        "The data that we `get_pricing()` only includes market days. But what if we want prices for every single calendar day? This will include holidays and weekends, times when you normally cannot trade equities.  First let's create a new `DatetimeIndex` that contains all that we want."
      ]
    },
    {
      "cell_type": "code",
      "execution_count": null,
      "metadata": {
        "id": "GlsyWoEzHs0b",
        "scrolled": false
      },
      "outputs": [],
      "source": [
        "calendar_dates = pd.date_range(start=start, end=end, freq='D', tz='UTC')\n",
        "print calendar_dates"
      ]
    },
    {
      "cell_type": "markdown",
      "metadata": {
        "id": "iteupvB1Hs0b"
      },
      "source": [
        "Now let's use this new set of dates to reindex our time series. We tell the function that the fill method that we want is `ffill`. This denotes \"forward fill\". Any `NaN` values will be filled by the *last value* listed. So the price on the weekend or on a holiday will be listed as the price on the last market day that we know about."
      ]
    },
    {
      "cell_type": "code",
      "execution_count": null,
      "metadata": {
        "id": "Nkv6E6rNHs0b"
      },
      "outputs": [],
      "source": [
        "calendar_prices = prices.reindex(calendar_dates, method='ffill')\n",
        "calendar_prices.head(15)"
      ]
    },
    {
      "cell_type": "markdown",
      "metadata": {
        "id": "O2dAluLEHs0b"
      },
      "source": [
        "You'll notice that we still have a couple of `NaN` values right at the beginning of our time series. This is because the first of January in 2012 was a Sunday and the second was a market holiday! Because these are the earliest data points and we don't have any information from before them, they cannot be forward-filled. We will take care of these `NaN` values in the next section, when we deal with missing data."
      ]
    },
    {
      "cell_type": "markdown",
      "metadata": {
        "id": "NjYs1vWrHs0b"
      },
      "source": [
        "#### Missing Data\n",
        "\n",
        "Whenever we deal with real data, there is a very real possibility of encountering missing values. Real data is riddled with holes and pandas provides us with ways to handle them. Sometimes resampling or reindexing can create `NaN` values. Fortunately, pandas provides us with ways to handle them. We have two primary means of coping with missing data. The first of these is filling in the missing data with  `fillna()`. For example, say that we want to fill in the missing days with the mean price of all days."
      ]
    },
    {
      "cell_type": "code",
      "execution_count": null,
      "metadata": {
        "id": "GBxhQxABHs0b"
      },
      "outputs": [],
      "source": [
        "meanfilled_prices = calendar_prices.fillna(calendar_prices.mean())\n",
        "meanfilled_prices.head(10)"
      ]
    },
    {
      "cell_type": "markdown",
      "metadata": {
        "id": "W_BnjUNmHs0c"
      },
      "source": [
        "Using `fillna()` is fairly easy. It is just a matter of indicating the value that you want to fill the spaces with. Unfortunately, this particular case doesn't make a whole lot of sense, for reasons discussed in the [lecture on stationarity](https://www.quantopian.com/lectures/integration-cointegration-and-stationarity) in the Lecture series. We could fill them with with $0$, simply, but that's similarly uninformative.\n",
        "\n",
        "Rather than filling in specific values, we can use the `method` parameter, similarly to how the `reindex()` method works. We could use \"backward fill\", where `NaN`s are filled with the *next* filled value (instead of forward fill's *last* filled value) like so:"
      ]
    },
    {
      "cell_type": "code",
      "execution_count": null,
      "metadata": {
        "id": "UQMNOZJKHs0c"
      },
      "outputs": [],
      "source": [
        "bfilled_prices = calendar_prices.fillna(method='bfill')\n",
        "bfilled_prices.head(10)"
      ]
    },
    {
      "cell_type": "markdown",
      "metadata": {
        "id": "BFYp3QokHs0c"
      },
      "source": [
        "But again, this is a bad idea for the same reasons as the previous option. Both of these so-called solutions take into account *future data* that was not available at the time of the data points that we are trying to fill. In the case of using the mean or the median, these summary statistics are calculated by taking into account the entire time series. Backward filling is equivalent to saying that the price of a particular security today, right now, tomorrow's price. This also makes no sense. These two options are both examples of look-ahead bias, using data that would be unknown or unavailable at the desired time, and should be avoided.\n",
        "\n",
        "Our next option is significantly more appealing. We could simply drop the missing data using the `dropna()` method. This is much better alternative than filling `NaN` values in with arbitrary numbers."
      ]
    },
    {
      "cell_type": "code",
      "execution_count": null,
      "metadata": {
        "id": "WIew7x2CHs0c"
      },
      "outputs": [],
      "source": [
        "dropped_prices = calendar_prices.dropna()\n",
        "dropped_prices.head(10)"
      ]
    },
    {
      "cell_type": "markdown",
      "metadata": {
        "id": "RLX5oj2XHs0c"
      },
      "source": [
        "Now our time series is cleaned for the calendar year, with all of our `NaN` values properly handled. It is time to talk about how to actually do time series analysis with pandas data structures."
      ]
    },
    {
      "cell_type": "markdown",
      "metadata": {
        "id": "nfBXOY7SHs0c"
      },
      "source": [
        "#### Time Series Analysis with pandas\n",
        "\n",
        "Let's do some basic time series analysis on our original prices. Each pandas `Series` has a built-in plotting method."
      ]
    },
    {
      "cell_type": "code",
      "execution_count": null,
      "metadata": {
        "id": "RxL-3JkUHs0c"
      },
      "outputs": [],
      "source": [
        "prices.plot();\n",
        "# We still need to add the axis labels and title ourselves\n",
        "plt.title(symbol + \" Prices\")\n",
        "plt.ylabel(\"Price\")\n",
        "plt.xlabel(\"Date\");"
      ]
    },
    {
      "cell_type": "markdown",
      "metadata": {
        "id": "_pG0Hp_2Hs0d"
      },
      "source": [
        "As well as some built-in descriptive statistics. We can either calculate these individually or using the `describe()` method."
      ]
    },
    {
      "cell_type": "code",
      "execution_count": null,
      "metadata": {
        "id": "KBz2Xc0CHs0d"
      },
      "outputs": [],
      "source": [
        "print \"Mean: \", prices.mean()\n",
        "print \"Standard deviation: \", prices.std()"
      ]
    },
    {
      "cell_type": "code",
      "execution_count": null,
      "metadata": {
        "id": "Ex75tqesHs0d"
      },
      "outputs": [],
      "source": [
        "print \"Summary Statistics\"\n",
        "print prices.describe()"
      ]
    },
    {
      "cell_type": "markdown",
      "metadata": {
        "id": "z4QLChYHHs0d"
      },
      "source": [
        "We can easily modify `Series` with scalars using our basic mathematical operators."
      ]
    },
    {
      "cell_type": "code",
      "execution_count": null,
      "metadata": {
        "id": "Isg3Y578Hs0d"
      },
      "outputs": [],
      "source": [
        "modified_prices = prices * 2 - 10\n",
        "modified_prices.head(5)"
      ]
    },
    {
      "cell_type": "markdown",
      "metadata": {
        "id": "YhBB_oHSHs0d"
      },
      "source": [
        "And we can create linear combinations of `Series` themselves using the basic mathematical operators. pandas will group up matching indices and perform the calculations elementwise to produce a new `Series`. "
      ]
    },
    {
      "cell_type": "code",
      "execution_count": null,
      "metadata": {
        "id": "wPvaiZpvHs0d"
      },
      "outputs": [],
      "source": [
        "noisy_prices = prices + 5 * pd.Series(np.random.normal(0, 5, len(prices)), index=prices.index) + 20\n",
        "noisy_prices.head(5)"
      ]
    },
    {
      "cell_type": "markdown",
      "metadata": {
        "id": "oTPgd_SSHs0e"
      },
      "source": [
        "If there are no matching indices, however, we may get an empty `Series` in return."
      ]
    },
    {
      "cell_type": "code",
      "execution_count": null,
      "metadata": {
        "id": "HQXtyqy2Hs0e"
      },
      "outputs": [],
      "source": [
        "empty_series = prices + pd.Series(np.random.normal(0, 1, len(prices)))\n",
        "empty_series.head(5)"
      ]
    },
    {
      "cell_type": "markdown",
      "metadata": {
        "id": "qk2TbRFXHs0e"
      },
      "source": [
        "Rather than looking at a time series itself, we may want to look at its first-order differences or percent change (in order to get additive or multiplicative returns, in our particular case). Both of these are built-in methods."
      ]
    },
    {
      "cell_type": "code",
      "execution_count": null,
      "metadata": {
        "collapsed": true,
        "id": "66lqB-ceHs0g"
      },
      "outputs": [],
      "source": [
        "add_returns = prices.diff()[1:]\n",
        "mult_returns = prices.pct_change()[1:]"
      ]
    },
    {
      "cell_type": "code",
      "execution_count": null,
      "metadata": {
        "id": "-M6342uVHs0g"
      },
      "outputs": [],
      "source": [
        "plt.title(\"Multiplicative returns of \" + symbol)\n",
        "plt.xlabel(\"Date\")\n",
        "plt.ylabel(\"Percent Returns\")\n",
        "mult_returns.plot();"
      ]
    },
    {
      "cell_type": "markdown",
      "metadata": {
        "id": "aRrtXJTdHs0g"
      },
      "source": [
        "pandas has convenient functions for calculating rolling means and standard deviations, as well!"
      ]
    },
    {
      "cell_type": "code",
      "execution_count": null,
      "metadata": {
        "id": "l_4YgtrrHs0g"
      },
      "outputs": [],
      "source": [
        "rolling_mean = pd.rolling_mean(prices, 30)\n",
        "rolling_mean.name = \"30-day rolling mean\""
      ]
    },
    {
      "cell_type": "code",
      "execution_count": null,
      "metadata": {
        "id": "mEAn0JA7Hs0g",
        "scrolled": false
      },
      "outputs": [],
      "source": [
        "prices.plot()\n",
        "rolling_mean.plot()\n",
        "plt.title(symbol + \"Price\")\n",
        "plt.xlabel(\"Date\")\n",
        "plt.ylabel(\"Price\")\n",
        "plt.legend();"
      ]
    },
    {
      "cell_type": "code",
      "execution_count": null,
      "metadata": {
        "collapsed": true,
        "id": "9CFJRx35Hs0h"
      },
      "outputs": [],
      "source": [
        "rolling_std = pd.rolling_std(prices, 30)\n",
        "rolling_std.name = \"30-day rolling volatility\""
      ]
    },
    {
      "cell_type": "code",
      "execution_count": null,
      "metadata": {
        "id": "_hhUYmn_Hs0h"
      },
      "outputs": [],
      "source": [
        "rolling_std.plot()\n",
        "plt.title(rolling_std.name);\n",
        "plt.xlabel(\"Date\")\n",
        "plt.ylabel(\"Standard Deviation\");"
      ]
    },
    {
      "cell_type": "markdown",
      "metadata": {
        "id": "chXXq_FdHs0h"
      },
      "source": [
        "Many NumPy functions will work on `Series` the same way that they work on 1-dimensional NumPy arrays."
      ]
    },
    {
      "cell_type": "code",
      "execution_count": null,
      "metadata": {
        "id": "6Q35KEYOHs0h"
      },
      "outputs": [],
      "source": [
        "print np.median(mult_returns)"
      ]
    },
    {
      "cell_type": "markdown",
      "metadata": {
        "id": "r2uuHlv_Hs0h"
      },
      "source": [
        "The majority of these functions, however, are already implemented directly as `Series` and `DataFrame` methods."
      ]
    },
    {
      "cell_type": "code",
      "execution_count": null,
      "metadata": {
        "id": "7DC8zMlwHs0h"
      },
      "outputs": [],
      "source": [
        "print mult_returns.median()"
      ]
    },
    {
      "cell_type": "markdown",
      "metadata": {
        "id": "nISYL1qUHs0h"
      },
      "source": [
        "In every case, using the built-in pandas method will be better than using the NumPy function on a pandas data structure due to improvements in performance. Make sure to check out the `Series` [documentation](http://pandas.pydata.org/pandas-docs/stable/generated/pandas.Series.html) before resorting to other calculations of common functions."
      ]
    },
    {
      "cell_type": "markdown",
      "metadata": {
        "id": "oBFeQ1ixHs0i"
      },
      "source": [
        "### `DataFrames`\n",
        "\n",
        "Many of the aspects of working with `Series` carry over into `DataFrames`. pandas `DataFrames` allow us to easily manage our data with their intuitive structure. \n",
        "\n",
        "Like `Series`, `DataFrames` can hold multiple types of data, but `DataFrames` are 2-dimensional objects, unlike `Series`. Each `DataFrame` has an index and a columns attribute, which we will cover more in-depth when we start actually playing with an object. The index attribute is like the index of a `Series`, though indices in pandas have some extra features that we will unfortunately not be able to cover here. If you are interested in this, check out the [pandas documentation](http://pandas.pydata.org/pandas-docs/version/0.18.1/advanced.html) on advanced indexing. The columns attribute is what provides the second dimension of our `DataFrames`, allowing us to combine named columns (all `Series`), into a cohesive object with the index lined-up.\n",
        "\n",
        "We can create a `DataFrame` by calling `pandas.DataFrame()` on a dictionary or NumPy `ndarray`. We can also concatenate a group of pandas `Series` into a `DataFrame` using `pandas.concat()`."
      ]
    },
    {
      "cell_type": "code",
      "execution_count": null,
      "metadata": {
        "id": "IKL7KTNJHs0i"
      },
      "outputs": [],
      "source": [
        "dict_data = {\n",
        "    'a' : [1, 2, 3, 4, 5],\n",
        "    'b' : ['L', 'K', 'J', 'M', 'Z'],\n",
        "    'c' : np.random.normal(0, 1, 5),\n",
        "    'd' : np.random.binomial(0,1,5)\n",
        "}\n",
        "print(dict_data)"
      ]
    },
    {
      "cell_type": "markdown",
      "metadata": {
        "id": "kktroM8yHs0i"
      },
      "source": [
        "Each `DataFrame` has a few key attributes that we need to keep in mind. The first of these is the index attribute. We can easily include an index of `Timestamp` objects like we did with `Series`."
      ]
    },
    {
      "cell_type": "code",
      "execution_count": null,
      "metadata": {
        "id": "tVHd7ThAHs0i",
        "scrolled": false
      },
      "outputs": [],
      "source": [
        "frame_data = pd.DataFrame(dict_data, index=pd.date_range('2016-01-01', periods=5))\n",
        "print (frame_data)"
      ]
    },
    {
      "cell_type": "markdown",
      "metadata": {
        "id": "KDrZ1pMIHs0i"
      },
      "source": [
        "As mentioned above, we can combine `Series` into `DataFrames`. Concatatenating `Series` like this will match elements up based on their corresponding index. As the following `Series` do not have an index assigned, they each default to an integer index. "
      ]
    },
    {
      "cell_type": "code",
      "execution_count": null,
      "metadata": {
        "id": "p6-7NC0zHs0i",
        "scrolled": true
      },
      "outputs": [],
      "source": [
        "s_1 = pd.Series([2, 4, 6, 8, 10], name='Evens')\n",
        "s_2 = pd.Series([1, 3, 5, 7, 9], name=\"Odds\")\n",
        "numbers = pd.concat([s_1, s_2], axis=1)\n",
        "print(numbers)"
      ]
    },
    {
      "cell_type": "markdown",
      "metadata": {
        "id": "3iVyJyqIHs0i"
      },
      "source": [
        "We will use `pandas.concat()` again later to combine multiple `DataFrame`s into one. "
      ]
    },
    {
      "cell_type": "markdown",
      "metadata": {
        "id": "5msiDgjXHs0j"
      },
      "source": [
        "Each `DataFrame` also has a `columns` attribute. These can either be assigned when we call `pandas.DataFrame` or they can be modified directly like the index. Note that when we concatenated the two `Series` above, the column names were the names of those `Series`."
      ]
    },
    {
      "cell_type": "code",
      "execution_count": null,
      "metadata": {
        "id": "rbcZcKYWHs0j"
      },
      "outputs": [],
      "source": [
        "print (numbers.columns)"
      ]
    },
    {
      "cell_type": "markdown",
      "metadata": {
        "id": "c4_tCdjvHs0j"
      },
      "source": [
        "To modify the columns after object creation, we need only do the following:"
      ]
    },
    {
      "cell_type": "code",
      "execution_count": null,
      "metadata": {
        "id": "6lNwCkN3Hs0j"
      },
      "outputs": [],
      "source": [
        "numbers.columns = ['Shmevens', 'Shmodds']\n",
        "print numbers"
      ]
    },
    {
      "cell_type": "markdown",
      "metadata": {
        "id": "CVIF5FP_Hs0j"
      },
      "source": [
        "In the same vein, the index of a `DataFrame` can be changed after the fact."
      ]
    },
    {
      "cell_type": "code",
      "execution_count": null,
      "metadata": {
        "id": "yzFh0li5Hs0j"
      },
      "outputs": [],
      "source": [
        "print numbers.index"
      ]
    },
    {
      "cell_type": "code",
      "execution_count": null,
      "metadata": {
        "id": "CGIX_93JHs0j"
      },
      "outputs": [],
      "source": [
        "numbers.index = pd.date_range(\"2016-01-01\", periods=len(numbers))\n",
        "print numbers"
      ]
    },
    {
      "cell_type": "markdown",
      "metadata": {
        "id": "os0OOYc4Hs0k"
      },
      "source": [
        "Separate from the columns and index of a `DataFrame`, we can also directly access the values they contain by looking at the values attribute."
      ]
    },
    {
      "cell_type": "code",
      "execution_count": null,
      "metadata": {
        "id": "prg3Sly7Hs0k"
      },
      "outputs": [],
      "source": [
        "numbers.values"
      ]
    },
    {
      "cell_type": "markdown",
      "metadata": {
        "id": "bziTLOGzHs0k"
      },
      "source": [
        "This returns a NumPy array."
      ]
    },
    {
      "cell_type": "code",
      "execution_count": null,
      "metadata": {
        "id": "-Zll90I7Hs0k"
      },
      "outputs": [],
      "source": [
        "type(numbers.values)"
      ]
    },
    {
      "cell_type": "markdown",
      "metadata": {
        "id": "HgsAN_5NHs0k"
      },
      "source": [
        "#### Accessing `DataFrame` elements\n",
        "\n",
        "Again we see a lot of carryover from `Series` in how we access the elements of `DataFrames`. The key sticking point here is that everything has to take into account multiple dimensions now. The main way that this happens is through the access of the columns of a `DataFrame`, either individually or in groups. We can do this either by directly accessing the attributes or by using the methods we already are familiar with."
      ]
    },
    {
      "cell_type": "code",
      "execution_count": null,
      "metadata": {
        "id": "Q8T9kckaHs0k"
      },
      "outputs": [],
      "source": [
        "symbol = [\"CMG\", \"MCD\", \"SHAK\", \"WFM\"]\n",
        "start = \"2012-01-01\"\n",
        "end = \"2016-01-01\"\n",
        "prices = get_pricing(symbol, start_date=start, end_date=end, fields=\"price\")\n",
        "if isinstance(symbol, list):\n",
        "    prices.columns = map(lambda x: x.symbol, prices.columns)\n",
        "else:\n",
        "    prices.name = symbol"
      ]
    },
    {
      "cell_type": "markdown",
      "metadata": {
        "id": "uuzOJpOJHs0k"
      },
      "source": [
        "Here we directly access the `CMG` column. Note that this style of access will only work if your column name has no spaces or unfriendly characters in it."
      ]
    },
    {
      "cell_type": "code",
      "execution_count": null,
      "metadata": {
        "id": "AvyDTWfyHs0l"
      },
      "outputs": [],
      "source": [
        "prices.CMG.head()"
      ]
    },
    {
      "cell_type": "markdown",
      "metadata": {
        "id": "khpjjcjFHs0l"
      },
      "source": [
        "We can also use `loc[]` to access an individual column like so."
      ]
    },
    {
      "cell_type": "code",
      "execution_count": null,
      "metadata": {
        "id": "9034XgnaHs0l"
      },
      "outputs": [],
      "source": [
        "prices.loc[:, 'CMG'].head()"
      ]
    },
    {
      "cell_type": "markdown",
      "metadata": {
        "id": "c7HNHAynHs0l"
      },
      "source": [
        "Accessing an individual column will return a `Series`, regardless of how we get it."
      ]
    },
    {
      "cell_type": "code",
      "execution_count": null,
      "metadata": {
        "id": "0_ForNbbHs0l"
      },
      "outputs": [],
      "source": [
        "print type(prices.CMG)\n",
        "print type(prices.loc[:, 'CMG'])"
      ]
    },
    {
      "cell_type": "markdown",
      "metadata": {
        "id": "d5Y5C5TcHs0l"
      },
      "source": [
        "Notice how we pass a tuple into the `loc[]` method? This is a key difference between accessing a `Series` and accessing a `DataFrame`, grounded in the fact that a `DataFrame` has multiple dimensions. When you pass a 2-dimensional tuple into a `DataFrame`, the first element of the tuple is applied to the rows and the second is applied to the columns. So, to break it down, the above line of code tells the `DataFrame` to return every single row of the column with label `'CMG'`. Lists of columns are also supported."
      ]
    },
    {
      "cell_type": "code",
      "execution_count": null,
      "metadata": {
        "id": "rLqyEloXHs0l"
      },
      "outputs": [],
      "source": [
        "prices.loc[:, ['CMG', 'MCD']].head()"
      ]
    },
    {
      "cell_type": "markdown",
      "metadata": {
        "id": "bQxH7a0DHs0m"
      },
      "source": [
        "We can also simply access the `DataFrame` by index value using `loc[]`, as with `Series`."
      ]
    },
    {
      "cell_type": "code",
      "execution_count": null,
      "metadata": {
        "id": "2J9wVG0rHs0m",
        "scrolled": true
      },
      "outputs": [],
      "source": [
        "prices.loc['2015-12-15':'2015-12-22']"
      ]
    },
    {
      "cell_type": "markdown",
      "metadata": {
        "id": "AMQNkBASHs0m"
      },
      "source": [
        "This plays nicely with lists of columns, too."
      ]
    },
    {
      "cell_type": "code",
      "execution_count": null,
      "metadata": {
        "id": "vzsYlgPPHs0m"
      },
      "outputs": [],
      "source": [
        "prices.loc['2015-12-15':'2015-12-22', ['CMG', 'MCD']]"
      ]
    },
    {
      "cell_type": "markdown",
      "metadata": {
        "id": "4-mnRagtHs0m"
      },
      "source": [
        "Using `iloc[]` also works similarly, allowing you to access parts of the `DataFrame` by integer index."
      ]
    },
    {
      "cell_type": "code",
      "execution_count": null,
      "metadata": {
        "id": "sf0WnFiGHs0m"
      },
      "outputs": [],
      "source": [
        "prices.iloc[0:2, 1]"
      ]
    },
    {
      "cell_type": "code",
      "execution_count": null,
      "metadata": {
        "id": "Jwy36iNrHs0m"
      },
      "outputs": [],
      "source": [
        "# Access prices with integer index in\n",
        "# [1, 3, 5, 7, 9, 11, 13, ..., 99]\n",
        "# and in column 0 or 3\n",
        "prices.iloc[[1, 3, 5] + range(7, 100, 2), [0, 3]].head(20)"
      ]
    },
    {
      "cell_type": "markdown",
      "metadata": {
        "id": "89BdBTxcHs0n"
      },
      "source": [
        "#### Boolean indexing\n",
        "\n",
        "As with `Series`, sometimes we want to filter a `DataFrame` according to a set of criteria. We do this by indexing our `DataFrame` with boolean values."
      ]
    },
    {
      "cell_type": "code",
      "execution_count": null,
      "metadata": {
        "id": "oXh0YR2yHs0n"
      },
      "outputs": [],
      "source": [
        "prices.loc[prices.MCD > prices.WFM].head()"
      ]
    },
    {
      "cell_type": "markdown",
      "metadata": {
        "id": "eQ9LUmWEHs0n"
      },
      "source": [
        "We can add multiple boolean conditions by using the logical operators `&`, `|`, and `~` (and, or, and not, respectively) again!"
      ]
    },
    {
      "cell_type": "code",
      "execution_count": null,
      "metadata": {
        "id": "G44UKdRsHs0n"
      },
      "outputs": [],
      "source": [
        "prices.loc[(prices.MCD > prices.WFM) & ~prices.SHAK.isnull()].head()"
      ]
    },
    {
      "cell_type": "markdown",
      "metadata": {
        "id": "poylQIvNHs0n"
      },
      "source": [
        "#### Adding, Removing Columns, Combining `DataFrames`/`Series`\n",
        "\n",
        "It is all well and good when you already have a `DataFrame` filled with data, but it is also important to be able to add to the data that you have.\n",
        "\n",
        "We add a new column simply by assigning data to a column that does not already exist. Here we use the `.loc[:, 'COL_NAME']` notation and store the output of `get_pricing()` (which returns a pandas `Series` if we only pass one security) there. This is the method that we would use to add a `Series` to an existing `DataFrame`."
      ]
    },
    {
      "cell_type": "code",
      "execution_count": null,
      "metadata": {
        "id": "gya8_uEWHs0n",
        "scrolled": true
      },
      "outputs": [],
      "source": [
        "s_1 = get_pricing('TSLA', start_date=start, end_date=end, fields='price')\n",
        "prices.loc[:, 'TSLA'] = s_1\n",
        "prices.head(5)"
      ]
    },
    {
      "cell_type": "markdown",
      "metadata": {
        "id": "ibJe2YopHs0o"
      },
      "source": [
        "It is also just as easy to remove a column."
      ]
    },
    {
      "cell_type": "code",
      "execution_count": null,
      "metadata": {
        "id": "v2uMoonGHs0o",
        "scrolled": true
      },
      "outputs": [],
      "source": [
        "prices = prices.drop('TSLA', axis=1)\n",
        "prices.head(5)"
      ]
    },
    {
      "cell_type": "markdown",
      "metadata": {
        "id": "SahgMT2WHs0o"
      },
      "source": [
        "If we instead want to combine multiple `DataFrame`s into one, we use the `pandas.concat()` method."
      ]
    },
    {
      "cell_type": "code",
      "execution_count": null,
      "metadata": {
        "id": "GM_dP7CcHs0o",
        "scrolled": false
      },
      "outputs": [],
      "source": [
        "df_1 = get_pricing(['SPY', 'VXX'], start_date=start, end_date=end, fields='price')\n",
        "df_2 = get_pricing(['MSFT', 'AAPL', 'GOOG'], start_date=start, end_date=end, fields='price')\n",
        "df_3 = pd.concat([df_1, df_2], axis=1)\n",
        "df_3.head()"
      ]
    },
    {
      "cell_type": "markdown",
      "metadata": {
        "id": "cJt3RHYHHs0o"
      },
      "source": [
        "#### Missing data (again)\n",
        "Bringing real-life data into a `DataFrame` brings us the same problems that we had with it in a `Series`, only this time in more dimensions. We have access to the same methods as with `Series`, as demonstrated below."
      ]
    },
    {
      "cell_type": "code",
      "execution_count": null,
      "metadata": {
        "id": "T4nUAlE8Hs0o"
      },
      "outputs": [],
      "source": [
        "filled0_prices = prices.fillna(0)\n",
        "filled0_prices.head(5)"
      ]
    },
    {
      "cell_type": "code",
      "execution_count": null,
      "metadata": {
        "id": "fyXfhaAaHs0o"
      },
      "outputs": [],
      "source": [
        "bfilled_prices = prices.fillna(method='bfill')\n",
        "bfilled_prices.head(5)"
      ]
    },
    {
      "cell_type": "markdown",
      "metadata": {
        "id": "QRf4CT5BHs0p"
      },
      "source": [
        "But again, the best choice in this case (since we are still using time series data, handling multiple time series at once) is still to simply drop the missing values."
      ]
    },
    {
      "cell_type": "code",
      "execution_count": null,
      "metadata": {
        "id": "h4SxAtSoHs0p"
      },
      "outputs": [],
      "source": [
        "dropped_prices = prices.dropna()\n",
        "dropped_prices.head(5)"
      ]
    },
    {
      "cell_type": "markdown",
      "metadata": {
        "id": "Te_MYHtfHs0p"
      },
      "source": [
        "#### Time Series Analysis with pandas\n",
        "\n",
        "Using the built-in statistics methods for `DataFrames`, we can perform calculations on multiple time series at once! The code to perform calculations on `DataFrames` here is almost exactly the same as the methods used for `Series` above, so don't worry about re-learning everything.\n",
        "\n",
        "The `plot()` method makes another appearance here, this time with a built-in legend that corresponds to the names of the columns that you are plotting."
      ]
    },
    {
      "cell_type": "code",
      "execution_count": null,
      "metadata": {
        "id": "hJqSI7GjHs0p"
      },
      "outputs": [],
      "source": [
        "prices.plot()\n",
        "plt.title(\"Collected Stock Prices\")\n",
        "plt.ylabel(\"Price\")\n",
        "plt.xlabel(\"Date\");"
      ]
    },
    {
      "cell_type": "markdown",
      "metadata": {
        "id": "4MAaLXvVHs0p"
      },
      "source": [
        "The same statistical functions from our interactions with `Series` resurface here with the addition of the `axis` parameter. By specifying the `axis`, we tell pandas to calculate the desired function along either the rows (`axis=0`) or the columns (`axis=1`). We can easily calculate the mean of each columns like so:"
      ]
    },
    {
      "cell_type": "code",
      "execution_count": null,
      "metadata": {
        "id": "QAdJ90MHHs0p"
      },
      "outputs": [],
      "source": [
        "prices.mean(axis=0)"
      ]
    },
    {
      "cell_type": "markdown",
      "metadata": {
        "id": "0Twr6OzmHs0p"
      },
      "source": [
        "As well as the standard deviation:"
      ]
    },
    {
      "cell_type": "code",
      "execution_count": null,
      "metadata": {
        "id": "ort6pr9iHs0p"
      },
      "outputs": [],
      "source": [
        "prices.std(axis=0)"
      ]
    },
    {
      "cell_type": "markdown",
      "metadata": {
        "id": "WeY_9J02Hs0q"
      },
      "source": [
        "Again, the `describe()` function will provide us with summary statistics of our data if we would rather have all of our typical statistics in a convenient visual instead of calculating them individually."
      ]
    },
    {
      "cell_type": "code",
      "execution_count": null,
      "metadata": {
        "id": "AaPnbjroHs0q"
      },
      "outputs": [],
      "source": [
        "prices.describe()"
      ]
    },
    {
      "cell_type": "markdown",
      "metadata": {
        "id": "M7xiJm0VHs0q"
      },
      "source": [
        "We can scale and add scalars to our `DataFrame`, as you might suspect after dealing with `Series`. This again works element-wise."
      ]
    },
    {
      "cell_type": "code",
      "execution_count": null,
      "metadata": {
        "id": "x1xRyuAvHs0q"
      },
      "outputs": [],
      "source": [
        "(2 * prices - 50).head(5)"
      ]
    },
    {
      "cell_type": "markdown",
      "metadata": {
        "id": "7Pi07nxlHs0q"
      },
      "source": [
        "Here we use the `pct_change()` method to get a `DataFrame` of the multiplicative returns of the securities that we are looking at."
      ]
    },
    {
      "cell_type": "code",
      "execution_count": null,
      "metadata": {
        "id": "2u5eatueHs0q"
      },
      "outputs": [],
      "source": [
        "mult_returns = prices.pct_change()[1:]\n",
        "mult_returns.head()"
      ]
    },
    {
      "cell_type": "markdown",
      "metadata": {
        "id": "oRIom_V0Hs0r"
      },
      "source": [
        "If we use our statistics methods to standardize the returns, a common procedure when examining data, then we can get a better idea of how they all move relative to each other on the same scale."
      ]
    },
    {
      "cell_type": "code",
      "execution_count": null,
      "metadata": {
        "id": "1T3SXWaxHs0r"
      },
      "outputs": [],
      "source": [
        "norm_returns = (mult_returns - mult_returns.mean(axis=0))/mult_returns.std(axis=0)\n",
        "norm_returns.loc['2014-01-01':'2015-01-01'].plot();"
      ]
    },
    {
      "cell_type": "markdown",
      "metadata": {
        "id": "kCrnn1CtHs0r"
      },
      "source": [
        "This makes it easier to compare the motion of the different time series contained in our example."
      ]
    },
    {
      "cell_type": "markdown",
      "metadata": {
        "id": "A3AKKGMNHs0r"
      },
      "source": [
        "Rolling means and standard deviations also work with `DataFrames`."
      ]
    },
    {
      "cell_type": "code",
      "execution_count": null,
      "metadata": {
        "collapsed": true,
        "id": "EjIDAp4nHs0r"
      },
      "outputs": [],
      "source": [
        "rolling_mean = pd.rolling_mean(prices, 30)\n",
        "rolling_mean.columns = prices.columns"
      ]
    },
    {
      "cell_type": "code",
      "execution_count": null,
      "metadata": {
        "id": "xsERigvMHs0r"
      },
      "outputs": [],
      "source": [
        "rolling_mean.plot()\n",
        "plt.title(\"Rolling Mean of Prices\")\n",
        "plt.xlabel(\"Date\")\n",
        "plt.ylabel(\"Price\")\n",
        "plt.legend();"
      ]
    },
    {
      "cell_type": "markdown",
      "metadata": {
        "id": "1Dh89mrCHs0r"
      },
      "source": [
        "For a complete list of all the methods that are built into `DataFrame`s, check out the [documentation](http://pandas.pydata.org/pandas-docs/stable/generated/pandas.DataFrame.html)."
      ]
    },
    {
      "cell_type": "markdown",
      "metadata": {
        "id": "GJ_Rmuf3Hs0s"
      },
      "source": [
        "# Next Steps\n",
        "\n",
        "Managing data gets a lot easier when you deal with pandas, though this has been a very general introduction. There are many more tools within the package which you may discover while trying to get your data to do precisely what you want. If you would rather read more on the additional capabilities of pandas, check out the [documentation](http://pandas.pydata.org/pandas-docs/stable/)."
      ]
    },
    {
      "cell_type": "markdown",
      "metadata": {
        "collapsed": true,
        "id": "7xEGS11xHs0s"
      },
      "source": [
        "*This presentation is for informational purposes only and does not constitute an offer to sell, a solicitation to buy, or a recommendation for any security; nor does it constitute an offer to provide investment advisory or other services by Quantopian, Inc. (\"Quantopian\"). Nothing contained herein constitutes investment advice or offers any opinion with respect to the suitability of any security, and any views expressed herein should not be taken as advice to buy, sell, or hold any security or as an endorsement of any security or company.  In preparing the information contained herein, Quantopian, Inc. has not taken into account the investment needs, objectives, and financial circumstances of any particular investor. Any views expressed and data illustrated herein were prepared based upon information, believed to be reliable, available to Quantopian, Inc. at the time of publication. Quantopian makes no guarantees as to their accuracy or completeness. All information is subject to change and may quickly become unreliable for various reasons, including changes in market conditions or economic circumstances.*"
      ]
    },
    {
      "cell_type": "markdown",
      "metadata": {
        "id": "eQzBbvyKQymx"
      },
      "source": [
        "<div align=\"center\">\n",
        "<img style=\"display: block; margin: auto;\" alt=\"photo\" src=\"https://cdn.quantconnect.com/web/i/icon.png\">\n",
        "</div> \n",
        "\n",
        "Quantconnect\n",
        "\n",
        "Introduction to Financial Python\n",
        "</div>\n",
        "\n",
        "#Data Types and Data Structures\n",
        "\n",
        "# Introduction\n",
        "\n",
        "This tutorial provides a basic introduction to the Python programming language. If you are new to Python, you should run the code snippets while reading this tutorial. If you are an advanced Python user, please feel free to skip this chapter.\n",
        "\n",
        "# Basic Variable Types\n",
        "The basic types of variables in Python are: strings, integers, floating point numbers and booleans.\n",
        "\n",
        "Strings in python are identified as a contiguous set of characters represented in either single quotes (' ') or double quotes (\" \").\n"
      ]
    },
    {
      "cell_type": "code",
      "execution_count": 283,
      "metadata": {
        "id": "N5t-UrcfOqid",
        "colab": {
          "base_uri": "https://localhost:8080/"
        },
        "outputId": "432333bb-66f1-45e4-9848-62c760b49b5e"
      },
      "outputs": [
        {
          "output_type": "stream",
          "name": "stdout",
          "text": [
            "Welcome to QuantConnect\n"
          ]
        }
      ],
      "source": [
        "my_string1 = 'Welcome to'\n",
        "my_string2 = \"QuantConnect\"\n",
        "print(my_string1 + ' ' + my_string2)"
      ]
    },
    {
      "cell_type": "markdown",
      "metadata": {
        "id": "bXHnxZyHSd1M"
      },
      "source": [
        "An integer is a round number with no values after the decimal point."
      ]
    },
    {
      "cell_type": "markdown",
      "source": [
        "**My own example 41**"
      ],
      "metadata": {
        "id": "hmssoa8rSHPk"
      }
    },
    {
      "cell_type": "code",
      "execution_count": 284,
      "metadata": {
        "id": "pNjuz3toOqif",
        "colab": {
          "base_uri": "https://localhost:8080/"
        },
        "outputId": "07ba4d0a-1396-4af2-fcca-770df169455a"
      },
      "outputs": [
        {
          "output_type": "stream",
          "name": "stdout",
          "text": [
            "10.345654\n",
            "<class 'float'>\n"
          ]
        }
      ],
      "source": [
        "my_float = 10.345654\n",
        "print(my_float)\n",
        "print(type(my_float))"
      ]
    },
    {
      "cell_type": "markdown",
      "source": [
        "**My own example 42**"
      ],
      "metadata": {
        "id": "3iBUzO-IYoCB"
      }
    },
    {
      "cell_type": "code",
      "source": [
        "my_int = 1234\n",
        "print(my_int)\n",
        "print(type(my_int))"
      ],
      "metadata": {
        "colab": {
          "base_uri": "https://localhost:8080/"
        },
        "id": "-WEw-w7KYh0v",
        "outputId": "443aa137-fe7b-4dc5-87a7-c105119a9ebf"
      },
      "execution_count": 285,
      "outputs": [
        {
          "output_type": "stream",
          "name": "stdout",
          "text": [
            "1234\n",
            "<class 'int'>\n"
          ]
        }
      ]
    },
    {
      "cell_type": "markdown",
      "source": [
        "**My own example 43**"
      ],
      "metadata": {
        "id": "8dpN7PZaYyPy"
      }
    },
    {
      "cell_type": "code",
      "source": [
        "my_string = 'Hello'\n",
        "print(my_string)\n",
        "print(type(my_string))"
      ],
      "metadata": {
        "colab": {
          "base_uri": "https://localhost:8080/"
        },
        "id": "WItfLOp9Ys35",
        "outputId": "f7c818f0-e11c-48f2-96af-f5e10296c462"
      },
      "execution_count": 286,
      "outputs": [
        {
          "output_type": "stream",
          "name": "stdout",
          "text": [
            "Hello\n",
            "<class 'str'>\n"
          ]
        }
      ]
    },
    {
      "cell_type": "markdown",
      "source": [
        "**My own example 44**"
      ],
      "metadata": {
        "id": "3FraFbteY9dv"
      }
    },
    {
      "cell_type": "code",
      "source": [
        "my_bool = True\n",
        "print(my_bool)\n",
        "print(type(my_bool))"
      ],
      "metadata": {
        "colab": {
          "base_uri": "https://localhost:8080/"
        },
        "id": "mCERaj0lY02K",
        "outputId": "5b33c3b7-5c44-42dd-b258-60ee995532da"
      },
      "execution_count": 287,
      "outputs": [
        {
          "output_type": "stream",
          "name": "stdout",
          "text": [
            "True\n",
            "<class 'bool'>\n"
          ]
        }
      ]
    },
    {
      "cell_type": "markdown",
      "metadata": {
        "id": "_1ZanWrYSnzF"
      },
      "source": [
        "The built-in function int() can convert a string into an integer."
      ]
    },
    {
      "cell_type": "code",
      "execution_count": 288,
      "metadata": {
        "id": "zPwGb20FOqif",
        "colab": {
          "base_uri": "https://localhost:8080/"
        },
        "outputId": "bc904f5a-a802-48f4-e0c2-23134ceb9aa7"
      },
      "outputs": [
        {
          "output_type": "stream",
          "name": "stdout",
          "text": [
            "<class 'str'>\n",
            "<class 'int'>\n"
          ]
        }
      ],
      "source": [
        "my_string = \"100\"\n",
        "print(type(my_string))\n",
        "my_int = int(my_string)\n",
        "print(type(my_int))"
      ]
    },
    {
      "cell_type": "markdown",
      "metadata": {
        "id": "WqMDPDTHSrE9"
      },
      "source": [
        "A floating point number, or a float, is a real number in mathematics. In Python we need to include a value after a decimal point to define it as a float"
      ]
    },
    {
      "cell_type": "code",
      "execution_count": 289,
      "metadata": {
        "id": "otCzKKW9Oqig",
        "colab": {
          "base_uri": "https://localhost:8080/"
        },
        "outputId": "a3f7edb8-c46c-41a0-df0c-8cd0cd651541"
      },
      "outputs": [
        {
          "output_type": "stream",
          "name": "stdout",
          "text": [
            "<class 'float'>\n"
          ]
        }
      ],
      "source": [
        "my_string = \"100\"\n",
        "my_float = float(my_string)\n",
        "print(type(my_float))"
      ]
    },
    {
      "cell_type": "markdown",
      "metadata": {
        "id": "2iuyv8Q7StTJ"
      },
      "source": [
        "As you can see above, if we don't include a decimal value, the variable would be defined as an integer. The built-in function float() can convert a string or an integer into a float."
      ]
    },
    {
      "cell_type": "code",
      "execution_count": 290,
      "metadata": {
        "id": "wwLw5VthOqig",
        "colab": {
          "base_uri": "https://localhost:8080/"
        },
        "outputId": "535994e4-92be-4840-9205-a96181a95ae8"
      },
      "outputs": [
        {
          "output_type": "stream",
          "name": "stdout",
          "text": [
            "False\n",
            "<class 'bool'>\n"
          ]
        }
      ],
      "source": [
        "my_bool = False\n",
        "print(my_bool)\n",
        "print(type(my_bool))"
      ]
    },
    {
      "cell_type": "markdown",
      "metadata": {
        "id": "bnGMwH21Szr_"
      },
      "source": [
        "A boolean, or bool, is a binary variable. Its value can only be True or False. It is useful when we do some logic operations, which would be covered in our next chapter."
      ]
    },
    {
      "cell_type": "markdown",
      "source": [
        "**My own example 45**"
      ],
      "metadata": {
        "id": "HT0n1iYcZb0g"
      }
    },
    {
      "cell_type": "code",
      "execution_count": 291,
      "metadata": {
        "id": "DMa6pDl5Oqig",
        "colab": {
          "base_uri": "https://localhost:8080/"
        },
        "outputId": "77eecf3f-9500-4eda-a732-a00b6d90e5fc"
      },
      "outputs": [
        {
          "output_type": "stream",
          "name": "stdout",
          "text": [
            "Addition  2\n"
          ]
        }
      ],
      "source": [
        "print(\"Addition \", 1+1)"
      ]
    },
    {
      "cell_type": "markdown",
      "source": [
        "**My own example 46**"
      ],
      "metadata": {
        "id": "xKCwWMnwZft2"
      }
    },
    {
      "cell_type": "code",
      "source": [
        "print('Subtraction: ', 90 - 65)"
      ],
      "metadata": {
        "id": "-KhdffH9ZCwZ",
        "colab": {
          "base_uri": "https://localhost:8080/"
        },
        "outputId": "170a3d14-5f4a-4a62-9e70-b7fd6ac91828"
      },
      "execution_count": 292,
      "outputs": [
        {
          "output_type": "stream",
          "name": "stdout",
          "text": [
            "Subtraction:  25\n"
          ]
        }
      ]
    },
    {
      "cell_type": "markdown",
      "source": [
        "**My own example 47**"
      ],
      "metadata": {
        "id": "wflK5_C2Zg_t"
      }
    },
    {
      "cell_type": "code",
      "source": [
        "print('Multiplication: ', 34565 * 235)"
      ],
      "metadata": {
        "id": "mQAHDOQSZDD_",
        "colab": {
          "base_uri": "https://localhost:8080/"
        },
        "outputId": "1558da2c-6421-4e65-c047-3b732da442e5"
      },
      "execution_count": 293,
      "outputs": [
        {
          "output_type": "stream",
          "name": "stdout",
          "text": [
            "Multiplication:  8122775\n"
          ]
        }
      ]
    },
    {
      "cell_type": "markdown",
      "source": [
        "**My own example 48**"
      ],
      "metadata": {
        "id": "vO_-ImNXZiQa"
      }
    },
    {
      "cell_type": "code",
      "source": [
        "print('Division: ', 102436546 / 34655)"
      ],
      "metadata": {
        "id": "BIG6WdOJZDWe",
        "colab": {
          "base_uri": "https://localhost:8080/"
        },
        "outputId": "57de36ba-a63d-4328-ad01-80bfa81402ca"
      },
      "execution_count": 294,
      "outputs": [
        {
          "output_type": "stream",
          "name": "stdout",
          "text": [
            "Division:  2955.895137786755\n"
          ]
        }
      ]
    },
    {
      "cell_type": "markdown",
      "source": [
        "**My own example 49**"
      ],
      "metadata": {
        "id": "9rwibVSUZjup"
      }
    },
    {
      "cell_type": "code",
      "source": [
        "print('Exponentiation: ', 3**20)"
      ],
      "metadata": {
        "id": "mqTPxm_UZDp1",
        "colab": {
          "base_uri": "https://localhost:8080/"
        },
        "outputId": "4084a8fb-77b5-4761-c5e0-e47a4ca9a49d"
      },
      "execution_count": 295,
      "outputs": [
        {
          "output_type": "stream",
          "name": "stdout",
          "text": [
            "Exponentiation:  3486784401\n"
          ]
        }
      ]
    },
    {
      "cell_type": "markdown",
      "metadata": {
        "id": "1Xc9G9_sS2ju"
      },
      "source": [
        "# Basic Math Operations\n",
        "\n",
        "The basic math operators in python are demonstrated below:"
      ]
    },
    {
      "cell_type": "code",
      "execution_count": 296,
      "metadata": {
        "id": "KE9gUryAOqig",
        "colab": {
          "base_uri": "https://localhost:8080/"
        },
        "outputId": "e24da93c-5503-4980-fa2b-822429742af1"
      },
      "outputs": [
        {
          "output_type": "stream",
          "name": "stdout",
          "text": [
            "0.3333333333333333\n",
            "0.3333333333333333\n"
          ]
        }
      ],
      "source": [
        "print(1/3)\n",
        "print(1.0/3)"
      ]
    },
    {
      "cell_type": "markdown",
      "metadata": {
        "id": "AN5Oa3DoS_Nf"
      },
      "source": [
        "# Data Collections\n",
        "\n",
        "## List\n",
        "A list is an ordered collection of values. A list is mutable, which means you can change a list's value without changing the list itself. Creating a list is simply putting different comma-separated values between square brackets."
      ]
    },
    {
      "cell_type": "markdown",
      "source": [
        "**My own example 50**"
      ],
      "metadata": {
        "id": "TV45vpT9SZVm"
      }
    },
    {
      "cell_type": "code",
      "execution_count": 297,
      "metadata": {
        "id": "-tQdNqCvOqig",
        "colab": {
          "base_uri": "https://localhost:8080/"
        },
        "outputId": "e5b4e67d-0dd7-4417-d7c1-8898c2df3e30"
      },
      "outputs": [
        {
          "output_type": "stream",
          "name": "stdout",
          "text": [
            "['Quant', 'Connect', 1, 2, 3, True]\n"
          ]
        }
      ],
      "source": [
        "my_list = ['Quant', 'Connect', 1,2,3, True]\n",
        "print(my_list)"
      ]
    },
    {
      "cell_type": "markdown",
      "metadata": {
        "id": "1O0TsgZCTHrM"
      },
      "source": [
        "The values in a list are called \"elements\". We can access list elements by indexing. Python index starts from 0. So if you have a list of length n, the index of the first element will be 0, and that of the last element will be n − 1. By the way, the length of a list can be obtained by the built-in function len()."
      ]
    },
    {
      "cell_type": "code",
      "execution_count": 298,
      "metadata": {
        "id": "QhuVhRR5Oqih",
        "colab": {
          "base_uri": "https://localhost:8080/"
        },
        "outputId": "277ad662-21a8-4d3f-9259-e4eaaab88ec1"
      },
      "outputs": [
        {
          "output_type": "stream",
          "name": "stdout",
          "text": [
            "5\n",
            "Quant\n",
            "3\n"
          ]
        }
      ],
      "source": [
        "my_list = ['Quant', 'Connect', 1,2,3]\n",
        "print(len(my_list))\n",
        "print(my_list[0])\n",
        "print(my_list[len(my_list) -1])"
      ]
    },
    {
      "cell_type": "markdown",
      "metadata": {
        "id": "jgSZy1VGTKSc"
      },
      "source": [
        "You can also change the elements in the list by accessing an index and assigning a new value."
      ]
    },
    {
      "cell_type": "code",
      "execution_count": 299,
      "metadata": {
        "id": "NQBNLjAvOqih",
        "colab": {
          "base_uri": "https://localhost:8080/"
        },
        "outputId": "6807ce03-48c5-41be-d039-2e68d5ada0a5"
      },
      "outputs": [
        {
          "output_type": "stream",
          "name": "stdout",
          "text": [
            "['Quant', 'Connect', 'go', 2, 3]\n"
          ]
        }
      ],
      "source": [
        "my_list = ['Quant','Connect',1,2,3]\n",
        "my_list[2] = 'go'\n",
        "print(my_list)"
      ]
    },
    {
      "cell_type": "markdown",
      "metadata": {
        "id": "EQPs5ojoTVrk"
      },
      "source": [
        "A list can also be sliced with a colon:"
      ]
    },
    {
      "cell_type": "markdown",
      "source": [
        "**My own example 51**"
      ],
      "metadata": {
        "id": "oVYHozFISq7j"
      }
    },
    {
      "cell_type": "code",
      "execution_count": 300,
      "metadata": {
        "id": "keNX2RbtOqii",
        "colab": {
          "base_uri": "https://localhost:8080/"
        },
        "outputId": "16ef4479-893a-4f20-a89c-63348a3a8f13"
      },
      "outputs": [
        {
          "output_type": "stream",
          "name": "stdout",
          "text": [
            "['Connect', 1, 2]\n"
          ]
        }
      ],
      "source": [
        "my_list = ['Quant','Connect',1,2,3]\n",
        "print(my_list[1:4])"
      ]
    },
    {
      "cell_type": "markdown",
      "metadata": {
        "id": "AZqQd0K8TYul"
      },
      "source": [
        "The slice starts from the first element indicated, but excludes the last element indicated. Here we select all elements starting from index 1, which refers to the second element:"
      ]
    },
    {
      "cell_type": "code",
      "execution_count": 301,
      "metadata": {
        "id": "0-76sLfkOqii",
        "colab": {
          "base_uri": "https://localhost:8080/"
        },
        "outputId": "c5f15e02-a07e-469a-de84-a7df4a9be208"
      },
      "outputs": [
        {
          "output_type": "stream",
          "name": "stdout",
          "text": [
            "['Connect', 1, 2, 3]\n"
          ]
        }
      ],
      "source": [
        "print(my_list[1:])"
      ]
    },
    {
      "cell_type": "markdown",
      "metadata": {
        "id": "XBqvhUdZVKWs"
      },
      "source": [
        "And all elements up to but excluding index 3:"
      ]
    },
    {
      "cell_type": "code",
      "execution_count": 302,
      "metadata": {
        "id": "5NWr75L9Oqii",
        "colab": {
          "base_uri": "https://localhost:8080/"
        },
        "outputId": "126f4565-ac44-4504-f2ee-a847414af51c"
      },
      "outputs": [
        {
          "output_type": "stream",
          "name": "stdout",
          "text": [
            "['Quant', 'Connect', 1]\n"
          ]
        }
      ],
      "source": [
        "print(my_list[:3])"
      ]
    },
    {
      "cell_type": "markdown",
      "metadata": {
        "id": "eAFmM6bkTZz9"
      },
      "source": [
        "If you wish to add or remove an element from a list, you can use the append() and remove() methods for lists as follows:"
      ]
    },
    {
      "cell_type": "code",
      "execution_count": 303,
      "metadata": {
        "id": "pHmgTPElTo19",
        "colab": {
          "base_uri": "https://localhost:8080/"
        },
        "outputId": "b6b4e16d-835f-4206-acf4-c7bd54f22f5e"
      },
      "outputs": [
        {
          "output_type": "stream",
          "name": "stdout",
          "text": [
            "['Hello', 'Quant', 'Hello']\n"
          ]
        }
      ],
      "source": [
        "my_list = ['Hello', 'Quant']\n",
        "my_list.append('Hello')\n",
        "print(my_list)\n",
        "\n"
      ]
    },
    {
      "cell_type": "code",
      "execution_count": 304,
      "metadata": {
        "id": "4C4U1Yf0Tr8l",
        "colab": {
          "base_uri": "https://localhost:8080/"
        },
        "outputId": "5d022730-ad21-41c9-9d57-c272cdbb8706"
      },
      "outputs": [
        {
          "output_type": "stream",
          "name": "stdout",
          "text": [
            "['Quant', 'Hello']\n"
          ]
        }
      ],
      "source": [
        "my_list.remove('Hello')\n",
        "print(my_list)"
      ]
    },
    {
      "cell_type": "markdown",
      "metadata": {
        "id": "11W1gG-cVmOU"
      },
      "source": [
        "When there are repeated instances of \"Hello\", the first one is removed.\n",
        "\n",
        "## Tuple\n",
        "A tuple is a data structure type similar to a list. The difference is that a tuple is immutable, which means you can't change the elements in it once it's defined. We create a tuple by putting comma-separated values between parentheses."
      ]
    },
    {
      "cell_type": "markdown",
      "source": [
        ""
      ],
      "metadata": {
        "id": "vTfg6g4qZ4Ze"
      }
    },
    {
      "cell_type": "markdown",
      "source": [
        "**My own example 52**"
      ],
      "metadata": {
        "id": "JYQH8BEFZ73U"
      }
    },
    {
      "cell_type": "code",
      "execution_count": 305,
      "metadata": {
        "collapsed": true,
        "id": "vPmn6BAaOqii",
        "colab": {
          "base_uri": "https://localhost:8080/"
        },
        "outputId": "07a03220-48a8-4de9-c5ef-084fe9e9e459"
      },
      "outputs": [
        {
          "output_type": "stream",
          "name": "stdout",
          "text": [
            "('I', 'have', 30, 'cats', 'and', 26, 'parrots')\n"
          ]
        }
      ],
      "source": [
        "my_tuple = 'I', 'have', 30, 'cats', 'and', 26, 'parrots'\n",
        "print(my_tuple)"
      ]
    },
    {
      "cell_type": "markdown",
      "metadata": {
        "id": "zMIme4dDV0Wz"
      },
      "source": [
        "Just like a list, a tuple can be sliced by using index."
      ]
    },
    {
      "cell_type": "markdown",
      "source": [
        "**My own example 53**"
      ],
      "metadata": {
        "id": "ZHGoj00VaOwn"
      }
    },
    {
      "cell_type": "code",
      "execution_count": 306,
      "metadata": {
        "id": "8P-ddO0sOqii",
        "colab": {
          "base_uri": "https://localhost:8080/"
        },
        "outputId": "12158a04-755c-46ed-905b-d24580afee87"
      },
      "outputs": [
        {
          "output_type": "stream",
          "name": "stdout",
          "text": [
            "('QuantConnect',)\n"
          ]
        }
      ],
      "source": [
        "my_tuple = ('Welcome','to','QuantConnect')\n",
        "print(my_tuple[2:7])"
      ]
    },
    {
      "cell_type": "markdown",
      "metadata": {
        "id": "l2JqbusAV1Y2"
      },
      "source": [
        "## Set\n",
        "A set is an **unordered**  collection with **no duplicate** elements. The built-in function **set()** can be used to create sets."
      ]
    },
    {
      "cell_type": "markdown",
      "source": [
        "**My own example 54**"
      ],
      "metadata": {
        "id": "pJbnegfkTIYy"
      }
    },
    {
      "cell_type": "code",
      "execution_count": 307,
      "metadata": {
        "id": "Plau8r-UOqij",
        "colab": {
          "base_uri": "https://localhost:8080/"
        },
        "outputId": "633306f4-f040-499a-f6b7-912f8f1bf003"
      },
      "outputs": [
        {
          "output_type": "stream",
          "name": "stdout",
          "text": [
            "{'GOOG', 'FB', 'IBM', 'F', 'AAPL'}\n",
            "{'Potato'}\n"
          ]
        }
      ],
      "source": [
        "stock_list = ['AAPL','GOOG','IBM','AAPL','IBM','FB','F','GOOG']\n",
        "stock_test = ['Potato','Potato','Potato','Potato','Potato']\n",
        "stock_set = set(stock_list)\n",
        "stock_set_test = set(stock_test) \n",
        "\n",
        "print(stock_set)\n",
        "print(stock_set_test)"
      ]
    },
    {
      "cell_type": "markdown",
      "source": [
        "**My own example 55**"
      ],
      "metadata": {
        "id": "Uqq6pq1dag2v"
      }
    },
    {
      "cell_type": "code",
      "source": [
        "things_i_like = {'dogs', 7, 'the number 4', 4, 4, 4, 42, 'lizards', 'man I just LOVE the number 4', 4,3523, 'My name is Cristian'}\n",
        "print(things_i_like, type(things_i_like))"
      ],
      "metadata": {
        "colab": {
          "base_uri": "https://localhost:8080/"
        },
        "id": "iMKj1qEnad5r",
        "outputId": "fb4bb818-48de-4fe3-bc7f-6b9e9d7e30d5"
      },
      "execution_count": 308,
      "outputs": [
        {
          "output_type": "stream",
          "name": "stdout",
          "text": [
            "{3523, 4, 'dogs', 7, 42, 'My name is Cristian', 'the number 4', 'lizards', 'man I just LOVE the number 4'} <class 'set'>\n"
          ]
        }
      ]
    },
    {
      "cell_type": "markdown",
      "metadata": {
        "id": "Jyb4GGIoWIHk"
      },
      "source": [
        "Set is an easy way to remove duplicate elements from a list.\n",
        "\n",
        "##Dictionary\n",
        "A dictionary is one of the most important data structures in Python. Unlike sequences which are indexed by integers, dictionaries are indexed by keys which can be either strings or floats.\n",
        "\n",
        "A dictionary is an **unordered** collection of key : value pairs, with the requirement that the keys are unique. We create a dictionary by placing a comma-separated list of key : value pairs within the braces."
      ]
    },
    {
      "cell_type": "markdown",
      "source": [
        "**My own example 56**"
      ],
      "metadata": {
        "id": "wbvhGj20auUt"
      }
    },
    {
      "cell_type": "code",
      "execution_count": 309,
      "metadata": {
        "collapsed": true,
        "id": "36mTe5BaOqij"
      },
      "outputs": [],
      "source": [
        "my_dic = {'AAPL':'AAPLE', 'FB':'FaceBook', 'GOOG':'Alphabet'}"
      ]
    },
    {
      "cell_type": "code",
      "execution_count": 310,
      "metadata": {
        "id": "KUfdVf43Oqij",
        "colab": {
          "base_uri": "https://localhost:8080/"
        },
        "outputId": "4606c7a0-1b0f-4b66-cca8-b14624813210"
      },
      "outputs": [
        {
          "output_type": "stream",
          "name": "stdout",
          "text": [
            "AAPLE\n"
          ]
        }
      ],
      "source": [
        "print(my_dic['AAPL'])"
      ]
    },
    {
      "cell_type": "markdown",
      "metadata": {
        "id": "gSicoNqDWP4c"
      },
      "source": [
        "After defining a dictionary, we can access any value by indicating its key in brackets."
      ]
    },
    {
      "cell_type": "markdown",
      "source": [
        ""
      ],
      "metadata": {
        "id": "dZssoThwa2Ss"
      }
    },
    {
      "cell_type": "markdown",
      "source": [
        "**My own example 57**"
      ],
      "metadata": {
        "id": "QyzQlitta6nB"
      }
    },
    {
      "cell_type": "code",
      "execution_count": 311,
      "metadata": {
        "id": "IrTZdq9FOqij",
        "colab": {
          "base_uri": "https://localhost:8080/"
        },
        "outputId": "17c6f788-0fba-428b-bf3c-868a5ff3e2df"
      },
      "outputs": [
        {
          "output_type": "stream",
          "name": "stdout",
          "text": [
            "Alphabet Company\n"
          ]
        }
      ],
      "source": [
        "my_dic['FB'] = 'Alphabet Company'\n",
        "print(my_dic['FB'])"
      ]
    },
    {
      "cell_type": "markdown",
      "metadata": {
        "id": "M9sDsTEMWQvc"
      },
      "source": [
        "We can also change the value associated with a specified key:"
      ]
    },
    {
      "cell_type": "code",
      "execution_count": 312,
      "metadata": {
        "id": "lupRHf1_Oqij",
        "colab": {
          "base_uri": "https://localhost:8080/"
        },
        "outputId": "a2233bf3-51d5-4344-e79f-01d72c681bc5"
      },
      "outputs": [
        {
          "output_type": "stream",
          "name": "stdout",
          "text": [
            "dict_keys(['AAPL', 'FB', 'GOOG'])\n"
          ]
        }
      ],
      "source": [
        "print(my_dic.keys())"
      ]
    },
    {
      "cell_type": "markdown",
      "metadata": {
        "id": "VPuDinlwWS9D"
      },
      "source": [
        "The built-in method of the dictionary object dict.keys() returns a list of all the keys used in the dictionary."
      ]
    },
    {
      "cell_type": "markdown",
      "metadata": {
        "id": "kSGzgNb2Womz"
      },
      "source": [
        "# Common String Operations\n",
        "A string is an immutable sequence of characters. It can be sliced by index just like a tuple:"
      ]
    },
    {
      "cell_type": "markdown",
      "source": [
        "**My own example 58**"
      ],
      "metadata": {
        "id": "h3T5X9hXUHUg"
      }
    },
    {
      "cell_type": "code",
      "execution_count": 313,
      "metadata": {
        "id": "xPojDnm9Oqik",
        "colab": {
          "base_uri": "https://localhost:8080/"
        },
        "outputId": "06fc4e42-acfb-4950-dd3f-a7f885c8dc69"
      },
      "outputs": [
        {
          "output_type": "stream",
          "name": "stdout",
          "text": [
            "is is the bes\n"
          ]
        }
      ],
      "source": [
        "my_str = 'This is the best course of the university, the course of algorithms'\n",
        "print(my_str[2:15])"
      ]
    },
    {
      "cell_type": "markdown",
      "metadata": {
        "id": "wuJYy7tvWtM7"
      },
      "source": [
        "There are many methods associated with strings. We can use string.count() to count the occurrences of a character in a string, use string.find() to return the index of a specific character, and use string.replace() to replace characters"
      ]
    },
    {
      "cell_type": "code",
      "execution_count": 314,
      "metadata": {
        "id": "u9deZq1SOqik",
        "colab": {
          "base_uri": "https://localhost:8080/"
        },
        "outputId": "6c890127-9c81-471f-f9c0-e353fb73fe6e"
      },
      "outputs": [
        {
          "output_type": "stream",
          "name": "stdout",
          "text": [
            "7\n",
            "2\n",
            "ell the e in this sentence now becomes e\n"
          ]
        }
      ],
      "source": [
        "print('Counting the number of e appears in this sentence'.count('e'))\n",
        "print('The first time e appears in this sentence'.find('e'))\n",
        "print('all the a in this sentence now becomes e'.replace('a','e'))"
      ]
    },
    {
      "cell_type": "markdown",
      "metadata": {
        "id": "sJPn3rkvWwHN"
      },
      "source": [
        "The most commonly used method for strings is string.split(). This method will split the string by the indicated character and return a list:"
      ]
    },
    {
      "cell_type": "code",
      "execution_count": 315,
      "metadata": {
        "id": "hbIaFLFHOqik",
        "colab": {
          "base_uri": "https://localhost:8080/"
        },
        "outputId": "89d4619d-43fb-4cae-f5db-bf6b104c2c77"
      },
      "outputs": [
        {
          "output_type": "stream",
          "name": "stdout",
          "text": [
            "2016-04-01 09:43:00\n",
            "09\n"
          ]
        }
      ],
      "source": [
        "Time = '2016-04-01 09:43:00'\n",
        "splited_list = Time.split(' ')\n",
        "date = splited_list[0]\n",
        "time = splited_list[1]\n",
        "print(date, time)\n",
        "hour = time.split(':')[0]\n",
        "print(hour)"
      ]
    },
    {
      "cell_type": "markdown",
      "metadata": {
        "id": "9cJQGk96WyVc"
      },
      "source": [
        "We can replace parts of a string by our variable. This is called string formatting."
      ]
    },
    {
      "cell_type": "markdown",
      "source": [
        "**My own example 59**"
      ],
      "metadata": {
        "id": "GjiLNDtGbVxr"
      }
    },
    {
      "cell_type": "code",
      "execution_count": 316,
      "metadata": {
        "id": "-E_rIvv6Oqik",
        "colab": {
          "base_uri": "https://localhost:8080/"
        },
        "outputId": "f6489a0e-4460-46ba-bf09-f2aec26109a2"
      },
      "outputs": [
        {
          "output_type": "stream",
          "name": "stdout",
          "text": [
            "Hour: 10, Minute:32\n"
          ]
        }
      ],
      "source": [
        "my_time = 'Hour: {}, Minute:{}'.format('10','32')\n",
        "print(my_time)"
      ]
    },
    {
      "cell_type": "markdown",
      "metadata": {
        "id": "1_NbVldpWzAs"
      },
      "source": [
        "Another way to format a string is to use the % symbol."
      ]
    },
    {
      "cell_type": "markdown",
      "source": [
        "**My own example 60**"
      ],
      "metadata": {
        "id": "cANMDFV7bYmT"
      }
    },
    {
      "cell_type": "code",
      "execution_count": 317,
      "metadata": {
        "id": "4rZ4rkD2Oqik",
        "colab": {
          "base_uri": "https://localhost:8080/"
        },
        "outputId": "012ecab2-cf41-4dd0-b4e4-79ef78dae8e5"
      },
      "outputs": [
        {
          "output_type": "stream",
          "name": "stdout",
          "text": [
            "the pi number is 3.141600\n",
            "Welcome to my house\n"
          ]
        }
      ],
      "source": [
        "print('the pi number is %f'%3.1416)\n",
        "print('%s to %s'%('Welcome','my house'))"
      ]
    },
    {
      "cell_type": "markdown",
      "metadata": {
        "id": "v_5cocrDW3MN"
      },
      "source": [
        "# Summary\n",
        "\n",
        "Weave seen the basic data types and data structures in Python. It's important to keep practicing to become familiar with these data structures. In the next tutorial, we will cover for and while loops and logical operations in Python."
      ]
    },
    {
      "cell_type": "markdown",
      "metadata": {
        "id": "QL6dNxwCXNEt"
      },
      "source": [
        "<div align=\"center\">\n",
        "<img style=\"display: block; margin: auto;\" alt=\"photo\" src=\"https://cdn.quantconnect.com/web/i/icon.png\">\n",
        "</div> \n",
        "\n",
        "Quantconnect\n",
        "\n",
        "Introduction to Financial Python\n",
        "</div>\n",
        "\n",
        "# Logical Operations and Loops\n",
        "\n",
        "# Introduction\n",
        "We discussed the basic data types and data structures in Python in the last tutorial. This chapter covers logical operations and loops in Python, which are very common in programming.\n",
        "\n",
        "# Logical Operations\n",
        "Like most programming languages, Python has comparison operators:"
      ]
    },
    {
      "cell_type": "markdown",
      "source": [
        "**My own example 61**"
      ],
      "metadata": {
        "id": "Tj1DBA3Cb5P1"
      }
    },
    {
      "cell_type": "code",
      "execution_count": 318,
      "metadata": {
        "id": "70Guys_rOv7a",
        "colab": {
          "base_uri": "https://localhost:8080/"
        },
        "outputId": "89fb3e79-39ee-4b91-fd30-d1203e46ca5e"
      },
      "outputs": [
        {
          "output_type": "stream",
          "name": "stdout",
          "text": [
            "False\n"
          ]
        }
      ],
      "source": [
        "print(1 == 0)"
      ]
    },
    {
      "cell_type": "markdown",
      "source": [
        "**My own example 62**"
      ],
      "metadata": {
        "id": "TcLt183vb7xO"
      }
    },
    {
      "cell_type": "code",
      "source": [
        "print(23 == 23)"
      ],
      "metadata": {
        "colab": {
          "base_uri": "https://localhost:8080/"
        },
        "id": "4aeu8IswbpeO",
        "outputId": "7ebef88b-1e46-4f51-ed69-d60e942f8bc5"
      },
      "execution_count": 319,
      "outputs": [
        {
          "output_type": "stream",
          "name": "stdout",
          "text": [
            "True\n"
          ]
        }
      ]
    },
    {
      "cell_type": "markdown",
      "source": [
        "**My own example 63**"
      ],
      "metadata": {
        "id": "1js1rxvrb-N8"
      }
    },
    {
      "cell_type": "code",
      "source": [
        "print(123 != 23545)"
      ],
      "metadata": {
        "colab": {
          "base_uri": "https://localhost:8080/"
        },
        "id": "sPrKqHXGbqrF",
        "outputId": "63007600-42fc-401e-b87d-5facde9c201d"
      },
      "execution_count": 320,
      "outputs": [
        {
          "output_type": "stream",
          "name": "stdout",
          "text": [
            "True\n"
          ]
        }
      ]
    },
    {
      "cell_type": "markdown",
      "source": [
        "**My own example 64**"
      ],
      "metadata": {
        "id": "BuMiA4udcAwC"
      }
    },
    {
      "cell_type": "code",
      "source": [
        "print(2 >= 235)"
      ],
      "metadata": {
        "colab": {
          "base_uri": "https://localhost:8080/"
        },
        "id": "dExtrP_2bqZ5",
        "outputId": "89df0bc2-b0d2-4e81-dcc8-ba8088916f09"
      },
      "execution_count": 321,
      "outputs": [
        {
          "output_type": "stream",
          "name": "stdout",
          "text": [
            "False\n"
          ]
        }
      ]
    },
    {
      "cell_type": "markdown",
      "source": [
        "**My own example 65**"
      ],
      "metadata": {
        "id": "OXib--MCcC2C"
      }
    },
    {
      "cell_type": "code",
      "source": [
        "print(12 >= 34)"
      ],
      "metadata": {
        "colab": {
          "base_uri": "https://localhost:8080/"
        },
        "id": "vBFqiEDKbqFp",
        "outputId": "de8f09d9-47e4-4435-8067-94dbf1b7ed02"
      },
      "execution_count": 322,
      "outputs": [
        {
          "output_type": "stream",
          "name": "stdout",
          "text": [
            "False\n"
          ]
        }
      ]
    },
    {
      "cell_type": "markdown",
      "metadata": {
        "id": "8aFHYDj-YTXt"
      },
      "source": [
        "Each statement above has a boolean value, which must be either True or False, but not both.\n",
        "\n",
        "We can combine simple statements P and Q to form complex statements using logical operators:\n",
        "\n",
        "- The statement \"P and Q\" is true if both P and Q are true, otherwise it is false.\n",
        "- The statement \"P or Q\" is false if both P and Q are false, otherwise it is true.\n",
        "- The statement \"not P\" is true if P is false, and vice versa."
      ]
    },
    {
      "cell_type": "code",
      "execution_count": 323,
      "metadata": {
        "id": "O5YEEcUbOv7d",
        "colab": {
          "base_uri": "https://localhost:8080/"
        },
        "outputId": "39cdbeea-211e-4af0-b042-6632e8ffbb2a"
      },
      "outputs": [
        {
          "output_type": "stream",
          "name": "stdout",
          "text": [
            "True\n",
            "False\n",
            "True\n",
            "False\n"
          ]
        }
      ],
      "source": [
        "print(2 > 1 and 3 > 2)\n",
        "print(2 > 1 and 3 < 2) \n",
        "print(2 > 1 or 3 < 2)\n",
        "print(2 < 1 and 3 < 2)"
      ]
    },
    {
      "cell_type": "markdown",
      "metadata": {
        "id": "Dy7yzoSXYXmL"
      },
      "source": [
        "When dealing with a very complex logical statement that involves in several statements, we can use brackets to separate and combine them."
      ]
    },
    {
      "cell_type": "code",
      "execution_count": 324,
      "metadata": {
        "id": "QZ-W2xJZOv7d",
        "colab": {
          "base_uri": "https://localhost:8080/"
        },
        "outputId": "d6dc9ade-61c0-4054-e445-c918e20a18b7"
      },
      "outputs": [
        {
          "output_type": "stream",
          "name": "stdout",
          "text": [
            "False\n",
            "True\n"
          ]
        }
      ],
      "source": [
        "print((3 > 2 or 1 < 3) and (1!=3 and 4>3) and not ( 3 < 2 or 1 < 3 and (1!=3 and 4>3)))\n",
        "print(3 > 2 or 1 < 3 and (1!=3 and 4>3) and not ( 3 < 2 or 1 < 3 and (1!=3 and 4>3)))"
      ]
    },
    {
      "cell_type": "markdown",
      "metadata": {
        "id": "s95xoRYMYaPD"
      },
      "source": [
        "Comparing the above two statements, we can see that it's wise to use brackets when we make a complex logical statement.\n",
        "\n",
        "# If Statement\n",
        "An if statement executes a segment of code only if its condition is true. A standard if statement consists of 3 segments: if, elif and else."
      ]
    },
    {
      "cell_type": "markdown",
      "metadata": {
        "id": "aRzMMitAaBOL"
      },
      "source": [
        "```python\n",
        "if statement1:\n",
        "    # if the statement1 is true, execute the code here.\n",
        "    # code.....\n",
        "    # code.....\n",
        "elif statement2:\n",
        "    # if the statement 1 is false, skip the codes above to this part.\n",
        "    # code......\n",
        "    # code......\n",
        "else:\n",
        "    # if none of the above statements is True, skip to this part\n",
        "    # code......\n",
        "```"
      ]
    },
    {
      "cell_type": "markdown",
      "metadata": {
        "id": "l59R2AS8aH2K"
      },
      "source": [
        "An if statement doesn't necessarily has elif and else part. If it's not specified, the indented block of code will be executed when the condition is true, otherwise the whole if statement will be skipped."
      ]
    },
    {
      "cell_type": "code",
      "execution_count": 325,
      "metadata": {
        "id": "FZ5GoTXfOv7e",
        "colab": {
          "base_uri": "https://localhost:8080/"
        },
        "outputId": "2ffbcddd-ac06-45e2-dd9c-f1242eff7f75"
      },
      "outputs": [
        {
          "output_type": "stream",
          "name": "stdout",
          "text": [
            "i==0 is True\n"
          ]
        }
      ],
      "source": [
        "i = 0\n",
        "if i == 0:\n",
        "    print('i==0 is True')"
      ]
    },
    {
      "cell_type": "markdown",
      "metadata": {
        "id": "nPNW-l5eaJn8"
      },
      "source": [
        "As we mentioned above, we can write some complex statements here:"
      ]
    },
    {
      "cell_type": "code",
      "execution_count": 326,
      "metadata": {
        "id": "gh-U6nMzOv7e",
        "colab": {
          "base_uri": "https://localhost:8080/"
        },
        "outputId": "ff7aa0c4-10c1-439a-8956-7ebe72363140"
      },
      "outputs": [
        {
          "output_type": "stream",
          "name": "stdout",
          "text": [
            "q is false\n"
          ]
        }
      ],
      "source": [
        "p = 1 > 0\n",
        "q = 2 > 3\n",
        "if p and q:\n",
        "    print('p and q is true')\n",
        "elif p and not q:\n",
        "    print('q is false')\n",
        "elif q and not p:\n",
        "    print('p is false')\n",
        "else:\n",
        "    print('None of p and q is true')"
      ]
    },
    {
      "cell_type": "markdown",
      "source": [
        "**My own example 66**"
      ],
      "metadata": {
        "id": "1kQ-4QdLcnzI"
      }
    },
    {
      "cell_type": "code",
      "source": [
        "i = 34\n",
        "j = 23\n",
        "if i < 50 and j > 20:\n",
        "    print ('{0} is less than 50 and {1} is greater than 20! How novel and interesting!'.format(i, j))"
      ],
      "metadata": {
        "colab": {
          "base_uri": "https://localhost:8080/"
        },
        "id": "OFeyCAf4cukK",
        "outputId": "993df35e-0e00-4f9b-d525-7badfc36993e"
      },
      "execution_count": 327,
      "outputs": [
        {
          "output_type": "stream",
          "name": "stdout",
          "text": [
            "34 is less than 50 and 23 is greater than 20! How novel and interesting!\n"
          ]
        }
      ]
    },
    {
      "cell_type": "markdown",
      "source": [
        "**My own example 67**"
      ],
      "metadata": {
        "id": "tWb5uq4dcvkq"
      }
    },
    {
      "cell_type": "code",
      "source": [
        "my_string = \"The National University is the best university of Colombia\"\n",
        "if my_string == \"The National University is the second university in Colombia \":\n",
        "    print ('The National university is the best in Colombia')\n",
        "else:\n",
        "    print ('Andes University is the best university in Colombia')"
      ],
      "metadata": {
        "colab": {
          "base_uri": "https://localhost:8080/"
        },
        "id": "HNdYgSoNcyEv",
        "outputId": "4fd3cd9c-95bc-49f5-cf32-d2436709907f"
      },
      "execution_count": 328,
      "outputs": [
        {
          "output_type": "stream",
          "name": "stdout",
          "text": [
            "Andes University is the best university in Colombia\n"
          ]
        }
      ]
    },
    {
      "cell_type": "markdown",
      "source": [
        "**My own example 68**\n"
      ],
      "metadata": {
        "id": "_qvMjgjMdQez"
      }
    },
    {
      "cell_type": "code",
      "source": [
        "if 'a' in my_string or 'e' in my_string:\n",
        "    print ('Those are my favorite vowels!')"
      ],
      "metadata": {
        "colab": {
          "base_uri": "https://localhost:8080/"
        },
        "id": "bFOi_Y8EdRHc",
        "outputId": "3a8d4895-a94d-4580-b1b2-24dbe5b183ab"
      },
      "execution_count": 329,
      "outputs": [
        {
          "output_type": "stream",
          "name": "stdout",
          "text": [
            "Those are my favorite vowels!\n"
          ]
        }
      ]
    },
    {
      "cell_type": "markdown",
      "source": [
        "**My own example 69**"
      ],
      "metadata": {
        "id": "mGwGSIAsc1EO"
      }
    },
    {
      "cell_type": "code",
      "source": [
        "i = 4\n",
        "if i < 5:\n",
        "    print('The variable i is smaller than 5')"
      ],
      "metadata": {
        "colab": {
          "base_uri": "https://localhost:8080/"
        },
        "id": "eaLFRkDLc6_Q",
        "outputId": "367dd513-bb49-477e-f3b4-6fcf5ffc813d"
      },
      "execution_count": 330,
      "outputs": [
        {
          "output_type": "stream",
          "name": "stdout",
          "text": [
            "The variable i is smaller than 5\n"
          ]
        }
      ]
    },
    {
      "cell_type": "markdown",
      "source": [
        "**My own example 70**"
      ],
      "metadata": {
        "id": "G8-Zx86Uc_fx"
      }
    },
    {
      "cell_type": "code",
      "source": [
        "k=6\n",
        "if k < 4:\n",
        "  print('number is less than 4')\n",
        "else:\n",
        "  print('the number is bigger than 4')"
      ],
      "metadata": {
        "colab": {
          "base_uri": "https://localhost:8080/"
        },
        "id": "C3BaItntdAGP",
        "outputId": "e580e6b8-24f1-4b46-db4f-507a506e472b"
      },
      "execution_count": 331,
      "outputs": [
        {
          "output_type": "stream",
          "name": "stdout",
          "text": [
            "the number is bigger than 4\n"
          ]
        }
      ]
    },
    {
      "cell_type": "markdown",
      "metadata": {
        "id": "tgRDwiAsaMOL"
      },
      "source": [
        "# Loop Structure\n",
        "Loops are an essential part of programming. The \"for\" and \"while\" loops run a block of code repeatedly.\n",
        "\n",
        "## While Loop\n",
        "A \"while\" loop will run repeatedly until a certain condition has been met."
      ]
    },
    {
      "cell_type": "markdown",
      "source": [
        "**My own example 71**"
      ],
      "metadata": {
        "id": "H_Lbo4-tUhaE"
      }
    },
    {
      "cell_type": "code",
      "execution_count": 332,
      "metadata": {
        "id": "uQLau8d5Ov7f",
        "colab": {
          "base_uri": "https://localhost:8080/"
        },
        "outputId": "0d026648-520f-426f-e95e-e47578611815"
      },
      "outputs": [
        {
          "output_type": "stream",
          "name": "stdout",
          "text": [
            "0\n",
            "3\n",
            "6\n",
            "9\n",
            "12\n",
            "15\n",
            "18\n",
            "21\n",
            "24\n",
            "27\n",
            "30\n",
            "33\n"
          ]
        }
      ],
      "source": [
        "i = 0\n",
        "while i < 34:\n",
        "    print(i)\n",
        "    i += 3  "
      ]
    },
    {
      "cell_type": "markdown",
      "source": [
        "**My own example 72**"
      ],
      "metadata": {
        "id": "bLR1am2aeiSz"
      }
    },
    {
      "cell_type": "code",
      "source": [
        "l= 2\n",
        "while l <= 100:\n",
        "  l*=2\n",
        "  print('This is the multiplication form of the while in value {0}'. format(l))"
      ],
      "metadata": {
        "colab": {
          "base_uri": "https://localhost:8080/"
        },
        "id": "xBmex1c6ef1Q",
        "outputId": "9d0f5b02-22a7-4947-f6b6-75e21d206606"
      },
      "execution_count": 333,
      "outputs": [
        {
          "output_type": "stream",
          "name": "stdout",
          "text": [
            "This is the multiplication form of the while in value 4\n",
            "This is the multiplication form of the while in value 8\n",
            "This is the multiplication form of the while in value 16\n",
            "This is the multiplication form of the while in value 32\n",
            "This is the multiplication form of the while in value 64\n",
            "This is the multiplication form of the while in value 128\n"
          ]
        }
      ]
    },
    {
      "cell_type": "markdown",
      "metadata": {
        "id": "ydLddFAPaTOE"
      },
      "source": [
        "When making a while loop, we need to ensure that something changes from iteration to iteration so that the while loop will terminate, otherwise, it will run forever. Here we used i += 1 (short for i = i + 1) to make i larger after each iteration. This is the most commonly used method to control a while loop.\n",
        "\n",
        "## For Loop\n",
        "A \"for\" loop will iterate over a sequence of value and terminate when the sequence has ended."
      ]
    },
    {
      "cell_type": "markdown",
      "source": [
        "**My own example 73**"
      ],
      "metadata": {
        "id": "ss7HSfPEeBaD"
      }
    },
    {
      "cell_type": "code",
      "execution_count": 334,
      "metadata": {
        "id": "kt8Ie8u1Ov7f",
        "colab": {
          "base_uri": "https://localhost:8080/"
        },
        "outputId": "3bcdb83b-aadc-4c7f-ffce-1eeadbcf6669"
      },
      "outputs": [
        {
          "output_type": "stream",
          "name": "stdout",
          "text": [
            "1\n",
            "2\n",
            "3\n",
            "4\n",
            "5\n",
            "3\n",
            "4\n",
            "6\n",
            "7\n",
            "34\n",
            "6\n",
            "7\n",
            "34\n",
            "654\n",
            "675\n",
            "8\n",
            "87\n",
            "0\n",
            "8\n",
            "90\n",
            "0\n",
            "8\n",
            "9\n"
          ]
        }
      ],
      "source": [
        "for i in [1,2,3,4,5,3,4,6,7,34,6,7,34,654,675,8,87,0,8,90,0,8,9]:\n",
        "    print(i)"
      ]
    },
    {
      "cell_type": "markdown",
      "source": [
        "**My own example 74**"
      ],
      "metadata": {
        "id": "TwcatcksevHJ"
      }
    },
    {
      "cell_type": "code",
      "source": [
        "for i in range(9):\n",
        "    print ('I am looping! I have looped {0} times!'.format(i + 1))"
      ],
      "metadata": {
        "id": "wmmpceFJeuUW",
        "colab": {
          "base_uri": "https://localhost:8080/"
        },
        "outputId": "74876ddb-7131-443c-b5f3-a1376d6d7b17"
      },
      "execution_count": 335,
      "outputs": [
        {
          "output_type": "stream",
          "name": "stdout",
          "text": [
            "I am looping! I have looped 1 times!\n",
            "I am looping! I have looped 2 times!\n",
            "I am looping! I have looped 3 times!\n",
            "I am looping! I have looped 4 times!\n",
            "I am looping! I have looped 5 times!\n",
            "I am looping! I have looped 6 times!\n",
            "I am looping! I have looped 7 times!\n",
            "I am looping! I have looped 8 times!\n",
            "I am looping! I have looped 9 times!\n"
          ]
        }
      ]
    },
    {
      "cell_type": "markdown",
      "metadata": {
        "id": "yWStqpreaX-T"
      },
      "source": [
        "We can also add if statements in a for loop. Here is a real example from our pairs trading algorithm:"
      ]
    },
    {
      "cell_type": "code",
      "execution_count": 336,
      "metadata": {
        "id": "kElmffvFOv7f",
        "colab": {
          "base_uri": "https://localhost:8080/"
        },
        "outputId": "fbeef301-c501-4107-d779-17d1ac9cdb12"
      },
      "outputs": [
        {
          "output_type": "stream",
          "name": "stdout",
          "text": [
            "['AAPL', 'GOOG', 'IBM', 'FB', 'F', 'V', 'G', 'GE']\n"
          ]
        }
      ],
      "source": [
        "stocks = ['AAPL','GOOG','IBM','FB','F','V', 'G', 'GE']\n",
        "selected = ['AAPL','IBM']\n",
        "new_list = []\n",
        "for i in stocks:\n",
        "    if i not in selected:\n",
        "        new_list.append(i)\n",
        "print(stocks)"
      ]
    },
    {
      "cell_type": "markdown",
      "metadata": {
        "id": "wb2hry9dahE0"
      },
      "source": [
        "Here we iterated all the elements in the list 'stocks'. Later in this chapter, we will introduce a smarter way to do this, which is just a one-line code.\n",
        "\n",
        "## Break and continue\n",
        "These are two commonly used commands in a for loop. If \"break\" is triggered while a loop is executing, the loop will terminate immediately:"
      ]
    },
    {
      "cell_type": "code",
      "execution_count": 337,
      "metadata": {
        "id": "yF5wMVItOv7g",
        "colab": {
          "base_uri": "https://localhost:8080/"
        },
        "outputId": "3aaa2bc0-8228-45be-9bff-f94b14b865f4"
      },
      "outputs": [
        {
          "output_type": "stream",
          "name": "stdout",
          "text": [
            "AAPL\n",
            "GOOG\n",
            "IBM\n",
            "FB\n"
          ]
        }
      ],
      "source": [
        "stocks = ['AAPL','GOOG','IBM','FB','F','V', 'G', 'GE']\n",
        "for i in stocks:\n",
        "    print(i)\n",
        "    if i == 'FB':\n",
        "        break"
      ]
    },
    {
      "cell_type": "markdown",
      "source": [
        "**My own example 75**"
      ],
      "metadata": {
        "id": "fJLI0zBCe7KS"
      }
    },
    {
      "cell_type": "code",
      "source": [
        "i = 10\n",
        "while True:\n",
        "    if i == 14:\n",
        "        break\n",
        "    i += 1 # This is shorthand for i = i + 1. It increments i with each iteration.\n",
        "    print (i)"
      ],
      "metadata": {
        "id": "_ceTH9-Ye3L3",
        "colab": {
          "base_uri": "https://localhost:8080/"
        },
        "outputId": "9e54cab8-825e-4d9d-ff58-2be209e679b8"
      },
      "execution_count": 338,
      "outputs": [
        {
          "output_type": "stream",
          "name": "stdout",
          "text": [
            "11\n",
            "12\n",
            "13\n",
            "14\n"
          ]
        }
      ]
    },
    {
      "cell_type": "markdown",
      "source": [
        "**My own example 76**"
      ],
      "metadata": {
        "id": "0_TBHqEEe9wV"
      }
    },
    {
      "cell_type": "code",
      "source": [
        "for i in range(7):\n",
        "    if i == 4:\n",
        "        break\n",
        "    print (i)"
      ],
      "metadata": {
        "id": "hPMSCtz4e3fQ",
        "colab": {
          "base_uri": "https://localhost:8080/"
        },
        "outputId": "f8363c50-ce60-4476-ab73-2a0ff926bc94"
      },
      "execution_count": 339,
      "outputs": [
        {
          "output_type": "stream",
          "name": "stdout",
          "text": [
            "0\n",
            "1\n",
            "2\n",
            "3\n"
          ]
        }
      ]
    },
    {
      "cell_type": "markdown",
      "source": [
        "**My own example 77**"
      ],
      "metadata": {
        "id": "kLqtpiAsgoJY"
      }
    },
    {
      "cell_type": "code",
      "source": [
        "i=1\n",
        "while i < 4:\n",
        "  i+=0.5\n",
        "  print(i)\n",
        "  if i == 2:\n",
        "    break"
      ],
      "metadata": {
        "colab": {
          "base_uri": "https://localhost:8080/"
        },
        "id": "Ut8FSdjugnEV",
        "outputId": "68432669-3c3c-45a6-9b0d-240c3d1f1062"
      },
      "execution_count": 340,
      "outputs": [
        {
          "output_type": "stream",
          "name": "stdout",
          "text": [
            "1.5\n",
            "2.0\n"
          ]
        }
      ]
    },
    {
      "cell_type": "markdown",
      "source": [
        "**My own example 78**"
      ],
      "metadata": {
        "id": "-TzwT4yjgrd5"
      }
    },
    {
      "cell_type": "code",
      "source": [
        "for i in range(14):\n",
        "  if i == 5:\n",
        "    continue\n",
        "  print(i)\n"
      ],
      "metadata": {
        "colab": {
          "base_uri": "https://localhost:8080/"
        },
        "id": "hdLUZoZgguVH",
        "outputId": "e3797810-23bb-463f-8b26-c083a2ffea45"
      },
      "execution_count": 341,
      "outputs": [
        {
          "output_type": "stream",
          "name": "stdout",
          "text": [
            "0\n",
            "1\n",
            "2\n",
            "3\n",
            "4\n",
            "6\n",
            "7\n",
            "8\n",
            "9\n",
            "10\n",
            "11\n",
            "12\n",
            "13\n"
          ]
        }
      ]
    },
    {
      "cell_type": "markdown",
      "source": [
        "**My own example 79**"
      ],
      "metadata": {
        "id": "5YKLkQEygxMP"
      }
    },
    {
      "cell_type": "code",
      "source": [
        "i = 0\n",
        "while i < 9:\n",
        "    i += 1\n",
        "    if i == 5:\n",
        "        continue\n",
        "    print (i)"
      ],
      "metadata": {
        "colab": {
          "base_uri": "https://localhost:8080/"
        },
        "id": "9r5ilo3OgzYk",
        "outputId": "d6bf84de-12ad-4045-aa02-020dca3b5701"
      },
      "execution_count": 342,
      "outputs": [
        {
          "output_type": "stream",
          "name": "stdout",
          "text": [
            "1\n",
            "2\n",
            "3\n",
            "4\n",
            "6\n",
            "7\n",
            "8\n",
            "9\n"
          ]
        }
      ]
    },
    {
      "cell_type": "markdown",
      "metadata": {
        "id": "R0toxyp3ao0T"
      },
      "source": [
        "The \"continue\" command tells the loop to end this iteration and skip to the next iteration:"
      ]
    },
    {
      "cell_type": "code",
      "execution_count": 343,
      "metadata": {
        "id": "Stg-CH6IOv7g",
        "colab": {
          "base_uri": "https://localhost:8080/"
        },
        "outputId": "6fbf1d2d-506f-4ca9-e0a5-f0f6fba89b9a"
      },
      "outputs": [
        {
          "output_type": "stream",
          "name": "stdout",
          "text": [
            "AAPL\n",
            "GOOG\n",
            "IBM\n",
            "F\n",
            "V\n",
            "G\n",
            "GE\n"
          ]
        }
      ],
      "source": [
        "stocks = ['AAPL','GOOG','IBM','FB','F','V', 'G', 'GE']\n",
        "for i in stocks:\n",
        "    if i == 'FB':\n",
        "        continue\n",
        "    print(i)"
      ]
    },
    {
      "cell_type": "markdown",
      "metadata": {
        "id": "4NusvdhBaxpZ"
      },
      "source": [
        "# List Comprehension\n",
        "List comprehension is a Pythonic way to create lists. Common applications are to make new lists where each element is the result of some operations applied to each member of another sequence. For example, if we want to create a list of squares using for loop:"
      ]
    },
    {
      "cell_type": "code",
      "execution_count": 344,
      "metadata": {
        "id": "bdxxeOABOv7h",
        "colab": {
          "base_uri": "https://localhost:8080/"
        },
        "outputId": "c67fa2b9-bb56-45ea-8599-ebc98f036526"
      },
      "outputs": [
        {
          "output_type": "stream",
          "name": "stdout",
          "text": [
            "[1, 4, 9, 16, 25]\n"
          ]
        }
      ],
      "source": [
        "squares = []\n",
        "for i in [1,2,3,4,5]:\n",
        "    squares.append(i**2)\n",
        "print(squares)"
      ]
    },
    {
      "cell_type": "markdown",
      "metadata": {
        "id": "--KliJBOa1CC"
      },
      "source": [
        "Using list comprehension:"
      ]
    },
    {
      "cell_type": "code",
      "execution_count": 345,
      "metadata": {
        "id": "440-yjG8Ov7h",
        "colab": {
          "base_uri": "https://localhost:8080/"
        },
        "outputId": "32c58dea-3c10-4895-f246-d344bcff84ba"
      },
      "outputs": [
        {
          "output_type": "stream",
          "name": "stdout",
          "text": [
            "[1, 4, 9, 16, 25]\n"
          ]
        }
      ],
      "source": [
        "list = [1,2,3,4,5]\n",
        "squares = [x**2 for x in list]\n",
        "print(squares)"
      ]
    },
    {
      "cell_type": "markdown",
      "metadata": {
        "id": "uMuCfR3ya3zT"
      },
      "source": [
        "Recall the example above where we used a for loop to select stocks. Here we use list comprehension:"
      ]
    },
    {
      "cell_type": "markdown",
      "source": [
        "**My own example 80**"
      ],
      "metadata": {
        "id": "xwZClm2KhAi-"
      }
    },
    {
      "cell_type": "code",
      "execution_count": 346,
      "metadata": {
        "id": "ZGtCtog2Ov7h",
        "colab": {
          "base_uri": "https://localhost:8080/"
        },
        "outputId": "7a21f058-21df-4b03-ab99-5a14d6ad07cc"
      },
      "outputs": [
        {
          "output_type": "stream",
          "name": "stdout",
          "text": [
            "['AAPL', 'IBM', 'FB', 'MM']\n"
          ]
        }
      ],
      "source": [
        "stocks = ['AAPL','GOOG','IBM','FB','F','V', 'G', 'GE', 'HI', 'MM']\n",
        "selected = ['AAPL','IBM', 'FB', 'MM']\n",
        "new_list = [x for x in stocks if x in selected]\n",
        "print(new_list)"
      ]
    },
    {
      "cell_type": "markdown",
      "metadata": {
        "id": "EPeUv6Lia5oD"
      },
      "source": [
        "A list comprehension consists of square brackets containing an expression followed by a \"for\" clause, and possibly \"for\" or \"if\" clauses. For example:"
      ]
    },
    {
      "cell_type": "code",
      "execution_count": 347,
      "metadata": {
        "id": "O1AMB5d7Ov7i",
        "colab": {
          "base_uri": "https://localhost:8080/"
        },
        "outputId": "4552400f-8cc7-4877-8801-c340b34928d8"
      },
      "outputs": [
        {
          "output_type": "stream",
          "name": "stdout",
          "text": [
            "[(1, 3), (1, 4), (2, 3), (2, 1), (2, 4), (3, 1), (3, 4)]\n",
            "['AAPL vs F', 'AAPL vs V', 'AAPL vs G', 'AAPL vs GE', 'GOOG vs F', 'GOOG vs V', 'GOOG vs G', 'GOOG vs GE', 'IBM vs F', 'IBM vs V', 'IBM vs G', 'IBM vs GE', 'FB vs F', 'FB vs V', 'FB vs G', 'FB vs GE']\n"
          ]
        }
      ],
      "source": [
        "print([(x, y) for x in [1,2,3] for y in [3,1,4] if x != y])\n",
        "print([str(x)+' vs '+str(y) for x in ['AAPL','GOOG','IBM','FB'] for y in ['F','V','G','GE'] if x!=y])"
      ]
    },
    {
      "cell_type": "markdown",
      "metadata": {
        "id": "jJpvq-o4a8P7"
      },
      "source": [
        "List comprehension is an elegant way to organize one or more for loops when creating a list.\n",
        "\n",
        "# Summary\n",
        "This chapter has introduced logical operations, loops, and list comprehension. In the next chapter, we will introduce functions and object-oriented programming, which will enable us to make our codes clean and versatile."
      ]
    },
    {
      "cell_type": "markdown",
      "metadata": {
        "id": "Tef_X2wJbdhn"
      },
      "source": [
        "<div align=\"center\">\n",
        "<img style=\"display: block; margin: auto;\" alt=\"photo\" src=\"https://cdn.quantconnect.com/web/i/icon.png\">\n",
        "\n",
        "Quantconnect\n",
        "\n",
        "Introduction to Financial Python\n",
        "</div>\n",
        "\n",
        "# Functions and Object-Oriented Programming\n",
        "\n",
        "# Introduction\n",
        "\n",
        "In the last tutorial we introduced logical operations, loops and list comprehension. We will introduce functions and object-oriented programming in this chapter, which will enable us to build complex algorithms in more flexible ways.\n",
        "\n",
        "# Functions\n",
        "A function is a reusable block of code. We can use a function to output a value, or do anything else we want. We can easily define our own function by using the keyword \"def\"."
      ]
    },
    {
      "cell_type": "markdown",
      "source": [
        "**My own example 81**"
      ],
      "metadata": {
        "id": "89g9oxQehS7v"
      }
    },
    {
      "cell_type": "code",
      "source": [
        "def my_name():\n",
        "    print ('my name is Cristian')\n",
        "\n",
        "my_name()"
      ],
      "metadata": {
        "id": "YLY2sp32hSNz",
        "colab": {
          "base_uri": "https://localhost:8080/"
        },
        "outputId": "f96b1547-9ab8-4f56-c3e5-2a031948ecd9"
      },
      "execution_count": 348,
      "outputs": [
        {
          "output_type": "stream",
          "name": "stdout",
          "text": [
            "my name is Cristian\n"
          ]
        }
      ]
    },
    {
      "cell_type": "markdown",
      "source": [
        "**My own example 82**"
      ],
      "metadata": {
        "id": "NvZ0YMNXhkEk"
      }
    },
    {
      "cell_type": "code",
      "source": [
        "for i in range(5):\n",
        "    my_name()"
      ],
      "metadata": {
        "colab": {
          "base_uri": "https://localhost:8080/"
        },
        "id": "W17_b3zHhikV",
        "outputId": "746f0f4c-5a82-4256-bc0a-f46286a8dc2f"
      },
      "execution_count": 349,
      "outputs": [
        {
          "output_type": "stream",
          "name": "stdout",
          "text": [
            "my name is Cristian\n",
            "my name is Cristian\n",
            "my name is Cristian\n",
            "my name is Cristian\n",
            "my name is Cristian\n"
          ]
        }
      ]
    },
    {
      "cell_type": "code",
      "execution_count": 350,
      "metadata": {
        "id": "eE_NkTiSO2PO",
        "colab": {
          "base_uri": "https://localhost:8080/"
        },
        "outputId": "9d9ad062-3028-4ef0-8bc2-77b287c042df"
      },
      "outputs": [
        {
          "output_type": "stream",
          "name": "stdout",
          "text": [
            "6\n",
            "50\n"
          ]
        }
      ],
      "source": [
        "def product(x,y):\n",
        "    return x*y\n",
        "print(product(2,3))\n",
        "print(product(5,10))"
      ]
    },
    {
      "cell_type": "markdown",
      "source": [
        "**My own example 83**"
      ],
      "metadata": {
        "id": "60CQ55sQiJGV"
      }
    },
    {
      "cell_type": "code",
      "source": [
        "def calculate_area(length, width):\n",
        "    \"\"\" Calculates the area of a triangle \"\"\"\n",
        "    return ((length * width)/2)\n",
        "    "
      ],
      "metadata": {
        "id": "XywV8V1oiHyp"
      },
      "execution_count": 351,
      "outputs": []
    },
    {
      "cell_type": "code",
      "source": [
        "l = 5\n",
        "w = 10\n",
        "print ('Area: ', calculate_area(l, w))\n",
        "print ('Length: ', l)\n",
        "print ('Width: ', w)"
      ],
      "metadata": {
        "colab": {
          "base_uri": "https://localhost:8080/"
        },
        "id": "DABsOCh8iRLC",
        "outputId": "f87b0027-9b15-4439-bf4f-b9bc24a6456e"
      },
      "execution_count": 352,
      "outputs": [
        {
          "output_type": "stream",
          "name": "stdout",
          "text": [
            "Area:  25.0\n",
            "Length:  5\n",
            "Width:  10\n"
          ]
        }
      ]
    },
    {
      "cell_type": "markdown",
      "metadata": {
        "id": "4oRU_dVJbsdD"
      },
      "source": [
        "The keyword \"def\" is followed by the function name and the parenthesized list of formal parameters. The statements that form the body of the function start at the next line, and must be indented. The product() function above has \"x\" and \"y\" as its parameters. A function doesn't necessarily have parameters:"
      ]
    },
    {
      "cell_type": "code",
      "execution_count": 353,
      "metadata": {
        "id": "JhdWVLbUO2PQ",
        "colab": {
          "base_uri": "https://localhost:8080/"
        },
        "outputId": "de9ede0c-9acc-469f-9f46-ad0febfc266a"
      },
      "outputs": [
        {
          "output_type": "stream",
          "name": "stdout",
          "text": [
            "Welcome to QuantConnect\n"
          ]
        }
      ],
      "source": [
        "def say_hi():\n",
        "    print('Welcome to QuantConnect')\n",
        "say_hi()"
      ]
    },
    {
      "cell_type": "markdown",
      "source": [
        "**My own example 84**"
      ],
      "metadata": {
        "id": "A1wnMCpnih8H"
      }
    },
    {
      "cell_type": "code",
      "source": [
        "def test_args(*args):\n",
        "    print (type(args))\n",
        "\n",
        "test_args(1, 2, 3, 4, 5, 6)\n",
        "test_args({2,3,5,6}, {12,35,6,6})"
      ],
      "metadata": {
        "id": "4rZZndArihUA",
        "colab": {
          "base_uri": "https://localhost:8080/"
        },
        "outputId": "b1576e0e-c383-45d0-84ac-014f507b3eba"
      },
      "execution_count": 354,
      "outputs": [
        {
          "output_type": "stream",
          "name": "stdout",
          "text": [
            "<class 'tuple'>\n",
            "<class 'tuple'>\n"
          ]
        }
      ]
    },
    {
      "cell_type": "markdown",
      "metadata": {
        "id": "lHwqVpWVb1Jr"
      },
      "source": [
        "# Built-in Function\n",
        "**range()** is a function that creates a list containing an arithmetic sequence. It's often used in for loops. The arguments must be integers. If the \"step\" argument is omitted, it defaults to 1."
      ]
    },
    {
      "cell_type": "code",
      "execution_count": 355,
      "metadata": {
        "id": "VVOTELcIO2PQ",
        "colab": {
          "base_uri": "https://localhost:8080/"
        },
        "outputId": "8d7411e3-c12b-4b3a-ba4c-7489e0c782ae"
      },
      "outputs": [
        {
          "output_type": "stream",
          "name": "stdout",
          "text": [
            "range(0, 10)\n",
            "range(1, 11)\n",
            "range(1, 11, 2)\n"
          ]
        }
      ],
      "source": [
        "print(range(10))\n",
        "print(range(1,11))\n",
        "print(range(1,11,2))"
      ]
    },
    {
      "cell_type": "markdown",
      "metadata": {
        "id": "PD0cSgiwcQ4L"
      },
      "source": [
        "**len()** is another function used together with range() to create a for loop. This function returns the length of an object. The argument must be a sequence or a collection."
      ]
    },
    {
      "cell_type": "code",
      "execution_count": 356,
      "metadata": {
        "id": "Hg18c7v-O2PR",
        "colab": {
          "base_uri": "https://localhost:8080/"
        },
        "outputId": "7475c940-1420-4020-aac7-f77085ae8643"
      },
      "outputs": [
        {
          "output_type": "stream",
          "name": "stdout",
          "text": [
            "The length of tickers is 8\n",
            "AAPL\n",
            "GOOG\n",
            "IBM\n",
            "FB\n",
            "F\n",
            "V\n",
            "G\n",
            "GE\n"
          ]
        }
      ],
      "source": [
        "tickers = ['AAPL','GOOG','IBM','FB','F','V', 'G', 'GE']\n",
        "print('The length of tickers is {}'.format(len(tickers)))\n",
        "for i in range(len(tickers)):\n",
        "    print(tickers[i])"
      ]
    },
    {
      "cell_type": "markdown",
      "metadata": {
        "id": "OIQSuub1cWgi"
      },
      "source": [
        "Note: If you want to print only the tickers without those numbers, then simply write \"for ticker in tickers: print ticker\"\n",
        "\n",
        "**map(**) is a function that applies a specific function to every item of a sequence or collection, and returns a list of the results."
      ]
    },
    {
      "cell_type": "markdown",
      "source": [
        "**My own example 85**"
      ],
      "metadata": {
        "id": "UwHS8-dFoUoM"
      }
    },
    {
      "cell_type": "code",
      "execution_count": 357,
      "metadata": {
        "id": "78DyKVOyO2PR",
        "colab": {
          "base_uri": "https://localhost:8080/",
          "height": 183
        },
        "outputId": "1580957a-177c-4d8f-ce0d-634152d21b3f"
      },
      "outputs": [
        {
          "output_type": "error",
          "ename": "TypeError",
          "evalue": "ignored",
          "traceback": [
            "\u001b[0;31m---------------------------------------------------------------------------\u001b[0m",
            "\u001b[0;31mTypeError\u001b[0m                                 Traceback (most recent call last)",
            "\u001b[0;32m<ipython-input-357-ab9cb646ae19>\u001b[0m in \u001b[0;36m<module>\u001b[0;34m\u001b[0m\n\u001b[1;32m      1\u001b[0m \u001b[0mtickers\u001b[0m \u001b[0;34m=\u001b[0m \u001b[0;34m[\u001b[0m\u001b[0;34m'AAPL'\u001b[0m\u001b[0;34m,\u001b[0m\u001b[0;34m'GOOG'\u001b[0m\u001b[0;34m,\u001b[0m\u001b[0;34m'IBM'\u001b[0m\u001b[0;34m,\u001b[0m\u001b[0;34m'FB'\u001b[0m\u001b[0;34m,\u001b[0m\u001b[0;34m'F'\u001b[0m\u001b[0;34m,\u001b[0m\u001b[0;34m'V'\u001b[0m\u001b[0;34m,\u001b[0m \u001b[0;34m'G'\u001b[0m\u001b[0;34m,\u001b[0m \u001b[0;34m'GE'\u001b[0m\u001b[0;34m,\u001b[0m \u001b[0;34m'MM'\u001b[0m\u001b[0;34m,\u001b[0m \u001b[0;34m'GG'\u001b[0m\u001b[0;34m,\u001b[0m \u001b[0;34m\"IH\"\u001b[0m\u001b[0;34m]\u001b[0m\u001b[0;34m\u001b[0m\u001b[0;34m\u001b[0m\u001b[0m\n\u001b[0;32m----> 2\u001b[0;31m \u001b[0mprint\u001b[0m\u001b[0;34m(\u001b[0m\u001b[0mlist\u001b[0m\u001b[0;34m(\u001b[0m\u001b[0mmap\u001b[0m\u001b[0;34m(\u001b[0m\u001b[0mlen\u001b[0m\u001b[0;34m,\u001b[0m\u001b[0mtickers\u001b[0m\u001b[0;34m)\u001b[0m\u001b[0;34m)\u001b[0m\u001b[0;34m)\u001b[0m\u001b[0;34m\u001b[0m\u001b[0;34m\u001b[0m\u001b[0m\n\u001b[0m",
            "\u001b[0;31mTypeError\u001b[0m: 'list' object is not callable"
          ]
        }
      ],
      "source": [
        "tickers = ['AAPL','GOOG','IBM','FB','F','V', 'G', 'GE', 'MM', 'GG', \"IH\"]\n",
        "print(list(map(len,tickers)))"
      ]
    },
    {
      "cell_type": "markdown",
      "metadata": {
        "id": "mvr06UM7ca7b"
      },
      "source": [
        "The **lambda operator** is a way to create small anonymous functions. These functions are just needed where they have been created. For example:"
      ]
    },
    {
      "cell_type": "markdown",
      "source": [
        "**My own example 86**"
      ],
      "metadata": {
        "id": "bR016-qjog8x"
      }
    },
    {
      "cell_type": "code",
      "execution_count": 358,
      "metadata": {
        "id": "pAEHADYXO2PR",
        "colab": {
          "base_uri": "https://localhost:8080/",
          "height": 166
        },
        "outputId": "076ac1c3-067b-4b08-a3dc-60816c7d26d1"
      },
      "outputs": [
        {
          "output_type": "error",
          "ename": "TypeError",
          "evalue": "ignored",
          "traceback": [
            "\u001b[0;31m---------------------------------------------------------------------------\u001b[0m",
            "\u001b[0;31mTypeError\u001b[0m                                 Traceback (most recent call last)",
            "\u001b[0;32m<ipython-input-358-416986c8b017>\u001b[0m in \u001b[0;36m<module>\u001b[0;34m\u001b[0m\n\u001b[0;32m----> 1\u001b[0;31m \u001b[0mlist\u001b[0m\u001b[0;34m(\u001b[0m\u001b[0mmap\u001b[0m\u001b[0;34m(\u001b[0m\u001b[0;32mlambda\u001b[0m \u001b[0mx\u001b[0m\u001b[0;34m:\u001b[0m \u001b[0mx\u001b[0m\u001b[0;34m*\u001b[0m\u001b[0;36m2\u001b[0m\u001b[0;34m,\u001b[0m \u001b[0mrange\u001b[0m\u001b[0;34m(\u001b[0m\u001b[0;36m10\u001b[0m\u001b[0;34m)\u001b[0m\u001b[0;34m)\u001b[0m\u001b[0;34m)\u001b[0m\u001b[0;34m\u001b[0m\u001b[0;34m\u001b[0m\u001b[0m\n\u001b[0m",
            "\u001b[0;31mTypeError\u001b[0m: 'list' object is not callable"
          ]
        }
      ],
      "source": [
        "list(map(lambda x: x*2, range(10)))"
      ]
    },
    {
      "cell_type": "markdown",
      "source": [
        "**My own example 87**"
      ],
      "metadata": {
        "id": "eH4I4VE7oj14"
      }
    },
    {
      "cell_type": "code",
      "source": [
        "list(map(lambda x: x**2, range(15)))"
      ],
      "metadata": {
        "colab": {
          "base_uri": "https://localhost:8080/",
          "height": 166
        },
        "id": "qdkzSTKdobsn",
        "outputId": "8bf733da-7265-4fe4-87df-f9462ddf18d5"
      },
      "execution_count": 359,
      "outputs": [
        {
          "output_type": "error",
          "ename": "TypeError",
          "evalue": "ignored",
          "traceback": [
            "\u001b[0;31m---------------------------------------------------------------------------\u001b[0m",
            "\u001b[0;31mTypeError\u001b[0m                                 Traceback (most recent call last)",
            "\u001b[0;32m<ipython-input-359-709eaa022799>\u001b[0m in \u001b[0;36m<module>\u001b[0;34m\u001b[0m\n\u001b[0;32m----> 1\u001b[0;31m \u001b[0mlist\u001b[0m\u001b[0;34m(\u001b[0m\u001b[0mmap\u001b[0m\u001b[0;34m(\u001b[0m\u001b[0;32mlambda\u001b[0m \u001b[0mx\u001b[0m\u001b[0;34m:\u001b[0m \u001b[0mx\u001b[0m\u001b[0;34m**\u001b[0m\u001b[0;36m2\u001b[0m\u001b[0;34m,\u001b[0m \u001b[0mrange\u001b[0m\u001b[0;34m(\u001b[0m\u001b[0;36m15\u001b[0m\u001b[0;34m)\u001b[0m\u001b[0;34m)\u001b[0m\u001b[0;34m)\u001b[0m\u001b[0;34m\u001b[0m\u001b[0;34m\u001b[0m\u001b[0m\n\u001b[0m",
            "\u001b[0;31mTypeError\u001b[0m: 'list' object is not callable"
          ]
        }
      ]
    },
    {
      "cell_type": "markdown",
      "source": [
        ""
      ],
      "metadata": {
        "id": "ouYur__FoY-_"
      }
    },
    {
      "cell_type": "markdown",
      "metadata": {
        "id": "Mgixpxomcj3T"
      },
      "source": [
        "map() can be applied to more than one list. The lists have to have the same length."
      ]
    },
    {
      "cell_type": "markdown",
      "source": [
        "My own example"
      ],
      "metadata": {
        "id": "yRP8LuqJnQ-i"
      }
    },
    {
      "cell_type": "markdown",
      "source": [
        "**My own example 88**"
      ],
      "metadata": {
        "id": "FdGNGhj5n_as"
      }
    },
    {
      "cell_type": "code",
      "execution_count": 360,
      "metadata": {
        "id": "HtckhAaJO2PS",
        "colab": {
          "base_uri": "https://localhost:8080/",
          "height": 166
        },
        "outputId": "57cdef77-4471-433c-ab2c-59a6f26a399f"
      },
      "outputs": [
        {
          "output_type": "error",
          "ename": "TypeError",
          "evalue": "ignored",
          "traceback": [
            "\u001b[0;31m---------------------------------------------------------------------------\u001b[0m",
            "\u001b[0;31mTypeError\u001b[0m                                 Traceback (most recent call last)",
            "\u001b[0;32m<ipython-input-360-ac8aad4ec4af>\u001b[0m in \u001b[0;36m<module>\u001b[0;34m\u001b[0m\n\u001b[0;32m----> 1\u001b[0;31m \u001b[0mlist\u001b[0m\u001b[0;34m(\u001b[0m\u001b[0mmap\u001b[0m\u001b[0;34m(\u001b[0m\u001b[0;32mlambda\u001b[0m \u001b[0mx\u001b[0m\u001b[0;34m,\u001b[0m \u001b[0my\u001b[0m\u001b[0;34m:\u001b[0m \u001b[0mx\u001b[0m\u001b[0;34m*\u001b[0m\u001b[0my\u001b[0m\u001b[0;34m,\u001b[0m \u001b[0;34m[\u001b[0m\u001b[0;36m1\u001b[0m\u001b[0;34m,\u001b[0m\u001b[0;36m2\u001b[0m\u001b[0;34m,\u001b[0m\u001b[0;36m3\u001b[0m\u001b[0;34m,\u001b[0m\u001b[0;36m4\u001b[0m\u001b[0;34m,\u001b[0m\u001b[0;36m5\u001b[0m\u001b[0;34m]\u001b[0m\u001b[0;34m,\u001b[0m\u001b[0;34m[\u001b[0m\u001b[0;36m5\u001b[0m\u001b[0;34m,\u001b[0m\u001b[0;36m4\u001b[0m\u001b[0;34m,\u001b[0m\u001b[0;36m3\u001b[0m\u001b[0;34m,\u001b[0m\u001b[0;36m2\u001b[0m\u001b[0;34m,\u001b[0m\u001b[0;36m1\u001b[0m\u001b[0;34m]\u001b[0m\u001b[0;34m)\u001b[0m\u001b[0;34m)\u001b[0m \u001b[0;31m# multiplication of each element\u001b[0m\u001b[0;34m\u001b[0m\u001b[0;34m\u001b[0m\u001b[0m\n\u001b[0m",
            "\u001b[0;31mTypeError\u001b[0m: 'list' object is not callable"
          ]
        }
      ],
      "source": [
        "list(map(lambda x, y: x*y, [1,2,3,4,5],[5,4,3,2,1])) # multiplication of each element"
      ]
    },
    {
      "cell_type": "markdown",
      "metadata": {
        "id": "ZDnMTH-KcklT"
      },
      "source": [
        "**sorted()** takes a list or set and returns a new sorted list"
      ]
    },
    {
      "cell_type": "markdown",
      "source": [
        "**My own example 89**"
      ],
      "metadata": {
        "id": "CluALJSen9dX"
      }
    },
    {
      "cell_type": "code",
      "execution_count": null,
      "metadata": {
        "id": "P0sHUMFWO2PS"
      },
      "outputs": [],
      "source": [
        "sorted([5,2,3,4,1,3,6,8,9,10,34,5,5467])"
      ]
    },
    {
      "cell_type": "markdown",
      "metadata": {
        "id": "-N5_EDOFcnsc"
      },
      "source": [
        "We can add a \"key\" parameter to specify a function to be called on each list element prior to making comparisons. For example:"
      ]
    },
    {
      "cell_type": "markdown",
      "source": [
        "**My own example 90**"
      ],
      "metadata": {
        "id": "xI-rCN2qo-Jd"
      }
    },
    {
      "cell_type": "code",
      "execution_count": null,
      "metadata": {
        "id": "0i3peZ0bO2PS"
      },
      "outputs": [],
      "source": [
        "price_list = [('AAPL',123454.09),('GOOG',93256.71),('MSFT',23469),('FB',15230),('WMT',75.632)]\n",
        "sorted(price_list, key = lambda x: x[1])"
      ]
    },
    {
      "cell_type": "markdown",
      "metadata": {
        "id": "yun2zptKcxe_"
      },
      "source": [
        "By default the values are sorted by ascending order. We can change it to descending by adding an optional parameter \"reverse'."
      ]
    },
    {
      "cell_type": "code",
      "execution_count": null,
      "metadata": {
        "id": "dEZqdl94O2PT"
      },
      "outputs": [],
      "source": [
        "price_list = [('AAPL',144.09),('GOOG',911.71),('MSFT',69),('FB',150),('WMT',75.32)]\n",
        "sorted(price_list, key = lambda x: x[1],reverse = True)"
      ]
    },
    {
      "cell_type": "markdown",
      "metadata": {
        "id": "OA2wYAa0c6Dn"
      },
      "source": [
        "Lists also have a function list.sort(). This function takes the same \"key\" and \"reverse\" arguments as sorted(), but it doesn't return a new list."
      ]
    },
    {
      "cell_type": "code",
      "execution_count": null,
      "metadata": {
        "id": "pG9VQCLnO2PT"
      },
      "outputs": [],
      "source": [
        "price_list = [('AAPL',144.09),('GOOG',911.71),('MSFT',69),('FB',150),('WMT',75.32)]\n",
        "price_list.sort(key = lambda x: x[1])\n",
        "print(price_list)"
      ]
    },
    {
      "cell_type": "markdown",
      "metadata": {
        "id": "mxljL1W1c_c5"
      },
      "source": [
        "# Object-Oriented Programming\n",
        "Python is an object-oriented programming language. It's important to understand the concept of \"objects\" because almost every kind of data from QuantConnect API is an object.\n",
        "\n",
        "## Class\n",
        "A class is a type of data, just like a string, float, or list. When we create an object of that data type, we call it an instance of a class.\n",
        "\n",
        "In Python, everything is an object - everything is an instance of some class. The data stored inside an object are called attributes, and the functions which are associated with the object are called methods.\n",
        "\n",
        "For example, as mentioned above, a list is an object of the \"list\" class, and it has a method list.sort().\n",
        "\n",
        "We can create our own objects by defining a class. We would do this when it's helpful to group certain functions together. For example, we define a class named \"Stock\" here:"
      ]
    },
    {
      "cell_type": "code",
      "execution_count": null,
      "metadata": {
        "id": "zC4Y4PgDO2PT"
      },
      "outputs": [],
      "source": [
        "class stock:\n",
        "    def __init__(self, ticker, open, close, volume):\n",
        "        self.ticker = ticker\n",
        "        self.open = open\n",
        "        self.close = close\n",
        "        self.volume = volume\n",
        "        self.rate_return = float(close)/open - 1\n",
        " \n",
        "    def update(self, open, close):\n",
        "        self.open = open\n",
        "        self.close = close\n",
        "        self.rate_return = float(self.close)/self.open - 1\n",
        " \n",
        "    def print_return(self):\n",
        "        print(self.rate_return)"
      ]
    },
    {
      "cell_type": "markdown",
      "metadata": {
        "id": "rV06INT5dETi"
      },
      "source": [
        "The \"Stock\" class has attributes \"ticker\", \"open\", \"close\", \"volume\" and \"rate_return\". Inside the class body, the first method is called __init__, which is a special method. When we create a new instance of the class, the __init__ method is immediately executed with all the parameters that we pass to the \"Stock\" object. The purpose of this method is to set up a new \"Stock\" object using data we have provided.\n",
        "\n",
        "Here we create two Stock objects named \"apple\" and \"google\"."
      ]
    },
    {
      "cell_type": "markdown",
      "source": [
        "**My own example 92**"
      ],
      "metadata": {
        "id": "AJgOVr2grBkS"
      }
    },
    {
      "cell_type": "code",
      "execution_count": null,
      "metadata": {
        "id": "8tIpNk93O2PU"
      },
      "outputs": [],
      "source": [
        "apple = stock('AAPL', 143.69, 144.09, 20109375)\n",
        "google = stock('GOOG', 898.7, 911.7, 1561616)\n",
        "facebook = stock('FB',8213.2, 332.22, 123434)\n",
        "Epa = stock('Eso',1513.26, 3232.3422, 125433434)"
      ]
    },
    {
      "cell_type": "markdown",
      "metadata": {
        "id": "VxmELNiHdPKS"
      },
      "source": [
        "Stock objects also have two other methods: update() and print_return(). We can access the attribues of a Stock object and call its methods:"
      ]
    },
    {
      "cell_type": "markdown",
      "source": [
        "**My own example 93**"
      ],
      "metadata": {
        "id": "VV3pWnzSp3jR"
      }
    },
    {
      "cell_type": "code",
      "execution_count": null,
      "metadata": {
        "id": "SsiIkmekO2PU"
      },
      "outputs": [],
      "source": [
        "apple.ticker\n",
        "google.print_return()\n",
        "google.update(91234.8,9183.4)\n",
        "google.print_return()"
      ]
    },
    {
      "cell_type": "markdown",
      "metadata": {
        "id": "Q8fl7keNdVKF"
      },
      "source": [
        "By calling the update() function, we updated the open and close prices of a stock. Please note that when we use the attributes or call the methods **inside a class**, we need to specify them as self.attribute or self.method(), otherwise Python will deem them as global variables and thus raise an error.\n",
        "\n",
        "We can add an attribute to an object anywhere:"
      ]
    },
    {
      "cell_type": "code",
      "execution_count": null,
      "metadata": {
        "id": "rO4OLnqOO2PU"
      },
      "outputs": [],
      "source": [
        "apple.ceo = 'Tim Cook'\n",
        "apple.ceo"
      ]
    },
    {
      "cell_type": "markdown",
      "source": [
        "**My own example 94**"
      ],
      "metadata": {
        "id": "WiPqZaCezh0I"
      }
    },
    {
      "cell_type": "code",
      "source": [
        "facebook.server = 'Holi'\n",
        "facebook.server"
      ],
      "metadata": {
        "id": "hHJlSW4GzD9p"
      },
      "execution_count": null,
      "outputs": []
    },
    {
      "cell_type": "markdown",
      "source": [
        "**My own example 95**"
      ],
      "metadata": {
        "id": "qgl4R3Z-z6jR"
      }
    },
    {
      "cell_type": "code",
      "source": [
        "facebook.print_return()\n",
        "facebook.update(234,543)\n",
        "facebook.print_return()"
      ],
      "metadata": {
        "id": "iT6cR7eEzoEp"
      },
      "execution_count": null,
      "outputs": []
    },
    {
      "cell_type": "markdown",
      "source": [
        "**My own example 96**"
      ],
      "metadata": {
        "id": "pkSZ2Glr0zvi"
      }
    },
    {
      "cell_type": "code",
      "source": [
        "Epa.update(234,3)\n"
      ],
      "metadata": {
        "id": "a042rTR503Lv"
      },
      "execution_count": null,
      "outputs": []
    },
    {
      "cell_type": "markdown",
      "source": [
        "**My own example 97**"
      ],
      "metadata": {
        "id": "tI0o33Za1wXa"
      }
    },
    {
      "cell_type": "code",
      "source": [
        "Epa.print_return()"
      ],
      "metadata": {
        "id": "vRR1yJuz1HXu"
      },
      "execution_count": null,
      "outputs": []
    },
    {
      "cell_type": "markdown",
      "source": [
        "**My own example 98**"
      ],
      "metadata": {
        "id": "g2iFF0O-2iuO"
      }
    },
    {
      "cell_type": "code",
      "source": [
        "Epa.name = \"wuuuu\"\n"
      ],
      "metadata": {
        "id": "1FYezv-j2ktK"
      },
      "execution_count": null,
      "outputs": []
    },
    {
      "cell_type": "markdown",
      "source": [
        "**My own example 99**"
      ],
      "metadata": {
        "id": "Je96tLAk231H"
      }
    },
    {
      "cell_type": "code",
      "source": [
        "Epa.last__name= \"yiju\"\n"
      ],
      "metadata": {
        "id": "FZo4dd3T2uWZ"
      },
      "execution_count": null,
      "outputs": []
    },
    {
      "cell_type": "markdown",
      "source": [
        "**My own example 100**"
      ],
      "metadata": {
        "id": "nPQZUXCn274s"
      }
    },
    {
      "cell_type": "code",
      "source": [
        "Epa.print_return()"
      ],
      "metadata": {
        "id": "YVcOvtdg21r6"
      },
      "execution_count": null,
      "outputs": []
    },
    {
      "cell_type": "markdown",
      "metadata": {
        "id": "WyfnFgVidh4J"
      },
      "source": [
        "We can check what names (i.e. attributes and methods) are defined on an object using the dir() function:"
      ]
    },
    {
      "cell_type": "code",
      "execution_count": null,
      "metadata": {
        "id": "pPoz0LA8O2PU"
      },
      "outputs": [],
      "source": [
        "dir(apple)"
      ]
    },
    {
      "cell_type": "markdown",
      "metadata": {
        "id": "Qpemj1UZd2aa"
      },
      "source": [
        "## Inheritance\n",
        "Inheritance is a way of arranging classes in a hierarchy from the most general to the most specific. A \"child\" class is a more specific type of a \"parent\" class because a child class will inherit all the attribues and methods of its parent. For example, we define a class named \"Child\" which inherits \"Stock\":"
      ]
    },
    {
      "cell_type": "code",
      "execution_count": null,
      "metadata": {
        "id": "UELXnxomO2PV"
      },
      "outputs": [],
      "source": [
        "class child(stock):\n",
        "    def __init__(self,name):\n",
        "        self.name = name"
      ]
    },
    {
      "cell_type": "code",
      "execution_count": null,
      "metadata": {
        "id": "ffS2THZyO2PV"
      },
      "outputs": [],
      "source": [
        "aa = child('aa')\n",
        "print(aa.name)\n",
        "aa.update(100,102)\n",
        "print(aa.open)\n",
        "print(aa.close)\n",
        "print(aa.print_return())"
      ]
    },
    {
      "cell_type": "markdown",
      "metadata": {
        "id": "pdIEjUv2eJqL"
      },
      "source": [
        "As seen above, the new class Child has inherited the methods from Stock.\n",
        "\n",
        "#Summary\n",
        "\n",
        "In this chapter we have introduced functions and classes. When we write a QuantConnect algorithm, we would define our algorithm as a class (QCAlgorithm). This means our algorithm inherited the QC API methods from QCAlgorithm class.\n",
        "\n",
        "In the next chapter, we will introduce NumPy and Pandas, which enable us to conduct scientific calculations in Python."
      ]
    },
    {
      "cell_type": "markdown",
      "metadata": {
        "id": "wVaJf76bHBG2"
      },
      "source": [
        "<div align=\"center\">\n",
        "<img style=\"display: block; margin: auto;\" alt=\"photo\" src=\"https://upload.wikimedia.org/wikipedia/en/d/de/Quantopian_logo_2017.png\">\n",
        "</div> \n",
        "\n",
        "# Introduction to NumPy\n",
        "by Maxwell Margenot\n",
        "\n",
        "Part of the Quantopian Lecture Series:\n",
        "\n",
        "* [www.quantopian.com/lectures](https://www.quantopian.com/lectures)\n",
        "* [github.com/quantopian/research_public](https://github.com/quantopian/research_public)\n",
        "\n",
        "Notebook released under the Creative Commons Attribution 4.0 License."
      ]
    },
    {
      "cell_type": "markdown",
      "metadata": {
        "id": "IAK83zxDHBG5"
      },
      "source": [
        "NumPy is an incredibly powerful package in Python that is ubiquitous throughout the Quantopian platform. It has strong integration with Pandas, another tool we will be covering in the lecture series. NumPy adds support for multi-dimensional arrays and mathematical functions that allow you to easily perform linear algebra calculations. This lecture will be a collection of linear algebra examples computed using NumPy."
      ]
    },
    {
      "cell_type": "code",
      "execution_count": null,
      "metadata": {
        "collapsed": true,
        "id": "dM_wDhYaHBG6"
      },
      "outputs": [],
      "source": [
        "import numpy as np\n",
        "import matplotlib.pyplot as plt"
      ]
    },
    {
      "cell_type": "markdown",
      "metadata": {
        "id": "WRqhcyh8HBG7"
      },
      "source": [
        "### Basic NumPy arrays"
      ]
    },
    {
      "cell_type": "markdown",
      "metadata": {
        "id": "RwBafjlxHBG7"
      },
      "source": [
        "The most basic way that we could make use of NumPy in finance is calculating the mean return of a portfolio. Say that we have a list containing the historical return of several stocks."
      ]
    },
    {
      "cell_type": "code",
      "execution_count": null,
      "metadata": {
        "collapsed": true,
        "id": "FUQksY7SHBG7"
      },
      "outputs": [],
      "source": [
        "stock_list = [3.5, 5, 2, 8, 4.2]"
      ]
    },
    {
      "cell_type": "markdown",
      "metadata": {
        "id": "C18w8L6DHBG8"
      },
      "source": [
        "We can make an array by calling a function on the list:"
      ]
    },
    {
      "cell_type": "code",
      "execution_count": null,
      "metadata": {
        "id": "Mr7MYGIeHBG8"
      },
      "outputs": [],
      "source": [
        "returns = np.array(stock_list)\n",
        "print (returns, type(returns))"
      ]
    },
    {
      "cell_type": "markdown",
      "metadata": {
        "id": "1HqIY_bRHBG-"
      },
      "source": [
        "You'll notice that the type of our array is 'ndarray', not just 'array'. This is because NumPy arrays can be created with multiple dimensions. If we pass np.array() a list of lists, it will create a 2-dimensional array. If we pass a list of lists of lists, it will create a 3-dimensional array, and so on and so forth."
      ]
    },
    {
      "cell_type": "code",
      "execution_count": null,
      "metadata": {
        "id": "SkVTB_FhHBG-"
      },
      "outputs": [],
      "source": [
        "A = np.array([[1, 2], [3, 4]])\n",
        "print (A, type(A))"
      ]
    },
    {
      "cell_type": "markdown",
      "source": [
        "**My own example 101**"
      ],
      "metadata": {
        "id": "PH5xIaaKVUU3"
      }
    },
    {
      "cell_type": "code",
      "source": [
        "B = np.array([[1, 2], [3, 4], [5,6]])\n",
        "print (B, type(B))"
      ],
      "metadata": {
        "id": "we79CudDVL8S"
      },
      "execution_count": null,
      "outputs": []
    },
    {
      "cell_type": "markdown",
      "source": [
        "**My own example 102**"
      ],
      "metadata": {
        "id": "m86yxj3UVdnO"
      }
    },
    {
      "cell_type": "code",
      "source": [
        "C = np.array([[1, 2], [3, 4], [5,6],[7,8]])\n",
        "print (C, type(C))"
      ],
      "metadata": {
        "id": "BVxDVEtKVWnl"
      },
      "execution_count": null,
      "outputs": []
    },
    {
      "cell_type": "markdown",
      "metadata": {
        "id": "4VKkEby_HBG_"
      },
      "source": [
        "We can access the dimensions of an array by looking at its `shape` member variable."
      ]
    },
    {
      "cell_type": "code",
      "execution_count": null,
      "metadata": {
        "id": "7LTqF61fHBG_"
      },
      "outputs": [],
      "source": [
        "print(A.shape)"
      ]
    },
    {
      "cell_type": "markdown",
      "source": [
        "**My own example 103**"
      ],
      "metadata": {
        "id": "nRv73VbeV7TG"
      }
    },
    {
      "cell_type": "code",
      "source": [
        "print(B.shape)"
      ],
      "metadata": {
        "id": "JeJhBI7qV4JN"
      },
      "execution_count": null,
      "outputs": []
    },
    {
      "cell_type": "markdown",
      "source": [
        "**My own example 104**"
      ],
      "metadata": {
        "id": "LTfmk_LIV9gx"
      }
    },
    {
      "cell_type": "code",
      "source": [
        "print(C.shape)"
      ],
      "metadata": {
        "id": "KqkTbjT6V3tv"
      },
      "execution_count": null,
      "outputs": []
    },
    {
      "cell_type": "markdown",
      "metadata": {
        "id": "MZ4c2ugEHBG_"
      },
      "source": [
        "Arrays are indexed in much the same way as lists in Python. Elements of a list begin indexing from $0$ and end at $n - 1$, where $n$ is the length of the array."
      ]
    },
    {
      "cell_type": "code",
      "execution_count": null,
      "metadata": {
        "id": "dGmwVWJ7HBHA"
      },
      "outputs": [],
      "source": [
        "print(returns[0], returns[len(returns) - 1])"
      ]
    },
    {
      "cell_type": "markdown",
      "metadata": {
        "id": "FQjELc7_HBHA"
      },
      "source": [
        "We can take a slice of an array using a colon, just like in a list."
      ]
    },
    {
      "cell_type": "markdown",
      "source": [
        "**My own example 105**"
      ],
      "metadata": {
        "id": "ty_KpeqcWRVn"
      }
    },
    {
      "cell_type": "code",
      "execution_count": null,
      "metadata": {
        "id": "htvKur0-HBHA"
      },
      "outputs": [],
      "source": [
        "print (returns[1:5])"
      ]
    },
    {
      "cell_type": "markdown",
      "metadata": {
        "id": "-H58RLTUHBHB"
      },
      "source": [
        "A slice of an array, like in a list, will select a group of elements in the array starting from the first element indicated and going up to (but not including) the last element indicated.\n",
        "\n",
        "In the case of multidimensional arrays, many of the same conventions with slicing and indexing hold. We can access the first column of a 2-dimensional array like so:"
      ]
    },
    {
      "cell_type": "code",
      "execution_count": null,
      "metadata": {
        "id": "yYijy0W9HBHB"
      },
      "outputs": [],
      "source": [
        "print( A[:, 0])"
      ]
    },
    {
      "cell_type": "markdown",
      "metadata": {
        "id": "xhQVM7NnHBHB"
      },
      "source": [
        "And the first row of a 2-dimensional array like so:"
      ]
    },
    {
      "cell_type": "markdown",
      "source": [
        "**My own example 106**"
      ],
      "metadata": {
        "id": "Fc6NkAHdWrDY"
      }
    },
    {
      "cell_type": "code",
      "execution_count": null,
      "metadata": {
        "id": "wkSgQPPwHBHC"
      },
      "outputs": [],
      "source": [
        "print( B[0, :])"
      ]
    },
    {
      "cell_type": "markdown",
      "metadata": {
        "id": "SDTAtESGHBHC"
      },
      "source": [
        "Notice that each slice of the array returns yet another array!"
      ]
    },
    {
      "cell_type": "code",
      "execution_count": null,
      "metadata": {
        "id": "i-b_etOwHBHC"
      },
      "outputs": [],
      "source": [
        "print(type(A[0,:]))"
      ]
    },
    {
      "cell_type": "markdown",
      "metadata": {
        "id": "nU9uyhBoHBHC"
      },
      "source": [
        "Passing only one index to a 2-dimensional array will result in returning the row with the given index as well, providing us with another way to access individual rows."
      ]
    },
    {
      "cell_type": "markdown",
      "source": [
        "**My own example 107**"
      ],
      "metadata": {
        "id": "__DHRDs2XT4o"
      }
    },
    {
      "cell_type": "code",
      "execution_count": null,
      "metadata": {
        "id": "3TKqNl1HHBHD"
      },
      "outputs": [],
      "source": [
        "print(C[3])"
      ]
    },
    {
      "cell_type": "markdown",
      "metadata": {
        "id": "YU3JrOlTHBHD"
      },
      "source": [
        "Accessing the index of an individual element will return only the element."
      ]
    },
    {
      "cell_type": "markdown",
      "source": [
        "**My own example 108**"
      ],
      "metadata": {
        "id": "oHKcuVmYXoG1"
      }
    },
    {
      "cell_type": "code",
      "execution_count": null,
      "metadata": {
        "id": "wRAqWXdMHBHD"
      },
      "outputs": [],
      "source": [
        "print(C)\n",
        "print (C[2, 0])"
      ]
    },
    {
      "cell_type": "markdown",
      "metadata": {
        "id": "xFQO6Fs6HBHD"
      },
      "source": [
        "#### Array functions\n",
        "\n",
        "Functions built into NumPy can be easily called on arrays. Most functions are applied to an array element-wise (as scalar multiplication is). For example, if we call `log()` on an array, the logarithm will be taken of each element."
      ]
    },
    {
      "cell_type": "code",
      "execution_count": null,
      "metadata": {
        "id": "DjSH9iNsHBHE"
      },
      "outputs": [],
      "source": [
        "print(np.log(returns))"
      ]
    },
    {
      "cell_type": "markdown",
      "metadata": {
        "id": "_V-GzEzEHBHE"
      },
      "source": [
        "Some functions return a single value. This is because they treat the array as a collection (similar to a list), performing the designated function. For example, the `mean()` function will do exactly what you expect, calculating the mean of an array."
      ]
    },
    {
      "cell_type": "code",
      "execution_count": null,
      "metadata": {
        "id": "R282crA5HBHE"
      },
      "outputs": [],
      "source": [
        "print(np.mean(returns))"
      ]
    },
    {
      "cell_type": "markdown",
      "metadata": {
        "id": "OxaJ11yqHBHE"
      },
      "source": [
        "Or the `max()` function will return the maximum element of an array."
      ]
    },
    {
      "cell_type": "code",
      "execution_count": null,
      "metadata": {
        "id": "Eh2nhunpHBHE"
      },
      "outputs": [],
      "source": [
        "print np.max(returns)"
      ]
    },
    {
      "cell_type": "markdown",
      "source": [
        "**My own example 109**"
      ],
      "metadata": {
        "id": "vOXCyKD5X7wo"
      }
    },
    {
      "cell_type": "code",
      "source": [
        "print(np.std(returns))"
      ],
      "metadata": {
        "id": "GrY7Vq_jX0bJ"
      },
      "execution_count": null,
      "outputs": []
    },
    {
      "cell_type": "markdown",
      "source": [
        "**My own example 110**"
      ],
      "metadata": {
        "id": "M06vlPWTYF8d"
      }
    },
    {
      "cell_type": "code",
      "source": [
        "print(np.var(returns))"
      ],
      "metadata": {
        "id": "FWI2hijsYAL2"
      },
      "execution_count": null,
      "outputs": []
    },
    {
      "cell_type": "markdown",
      "source": [
        "**My own example 111**"
      ],
      "metadata": {
        "id": "ICmDcziuYWnx"
      }
    },
    {
      "cell_type": "code",
      "source": [
        "print(np.nanmedian(returns))"
      ],
      "metadata": {
        "id": "NoRnCiSGYRzV"
      },
      "execution_count": null,
      "outputs": []
    },
    {
      "cell_type": "markdown",
      "source": [
        "**My own example 112**"
      ],
      "metadata": {
        "id": "U4VyorWnYhe8"
      }
    },
    {
      "cell_type": "code",
      "source": [
        "print(np.nanmean(returns))"
      ],
      "metadata": {
        "id": "-YBxm89iYcYn"
      },
      "execution_count": null,
      "outputs": []
    },
    {
      "cell_type": "markdown",
      "source": [
        "**My own example 113**"
      ],
      "metadata": {
        "id": "Ho9CWsuDYp-H"
      }
    },
    {
      "cell_type": "code",
      "source": [
        "print(np.nanstd(returns))"
      ],
      "metadata": {
        "id": "aoYzbNA5YmKT"
      },
      "execution_count": null,
      "outputs": []
    },
    {
      "cell_type": "markdown",
      "source": [
        "**My own example 114**"
      ],
      "metadata": {
        "id": "IdF7AP0-Z-YV"
      }
    },
    {
      "cell_type": "code",
      "source": [
        "print(np.nanvar(returns))"
      ],
      "metadata": {
        "id": "R0gw0JhsZjRH"
      },
      "execution_count": null,
      "outputs": []
    },
    {
      "cell_type": "markdown",
      "source": [
        "**My own example 115**"
      ],
      "metadata": {
        "id": "Aujk4LkEaBGC"
      }
    },
    {
      "cell_type": "code",
      "source": [
        "print(np.corrcoef(returns))"
      ],
      "metadata": {
        "id": "h_HT3qFIZnpc"
      },
      "execution_count": null,
      "outputs": []
    },
    {
      "cell_type": "markdown",
      "source": [
        "**My own example 116**"
      ],
      "metadata": {
        "id": "004tvAH7aDZQ"
      }
    },
    {
      "cell_type": "code",
      "source": [
        "print(np.cov(returns))"
      ],
      "metadata": {
        "id": "xbvcoAnqZsxr"
      },
      "execution_count": null,
      "outputs": []
    },
    {
      "cell_type": "markdown",
      "source": [
        "**My own example 117**"
      ],
      "metadata": {
        "id": "XBqopghLaNkd"
      }
    },
    {
      "cell_type": "code",
      "source": [
        "print(np.histogram(returns))"
      ],
      "metadata": {
        "id": "UUqG4efFaHnT"
      },
      "execution_count": null,
      "outputs": []
    },
    {
      "cell_type": "markdown",
      "source": [
        "**My own example 118**"
      ],
      "metadata": {
        "id": "2yJ8mH7oagYT"
      }
    },
    {
      "cell_type": "code",
      "source": [
        "print(np.ptp(returns))"
      ],
      "metadata": {
        "id": "FTeBd5nJaPdg"
      },
      "execution_count": null,
      "outputs": []
    },
    {
      "cell_type": "markdown",
      "metadata": {
        "id": "eH1KYrrWHBHF"
      },
      "source": [
        "For further reading on the universal functions in NumPy, check out the [documentation](https://docs.scipy.org/doc/numpy/user/quickstart.html#universal-functions)."
      ]
    },
    {
      "cell_type": "markdown",
      "metadata": {
        "id": "oEcjMM3IHBHF"
      },
      "source": [
        "### Return to the returns\n",
        "\n",
        "Now let's modify our returns array with scalar values. If we add a scalar value to an array it will be added to every element of the array. If we multiply an array by a scalar value it will be multiplied against every element of the array. If we do both, both will happen!"
      ]
    },
    {
      "cell_type": "markdown",
      "source": [
        "**My own example 119**"
      ],
      "metadata": {
        "id": "qyspT_taYyQm"
      }
    },
    {
      "cell_type": "code",
      "execution_count": null,
      "metadata": {
        "id": "Jv4n194OHBHF",
        "scrolled": false
      },
      "outputs": [],
      "source": [
        "returns*((2 + 5)/3)"
      ]
    },
    {
      "cell_type": "markdown",
      "metadata": {
        "id": "M73hAzi8HBHF"
      },
      "source": [
        "NumPy also has functions specifically built to operate on arrays. Let's take the mean and standard deviation of this group of returns."
      ]
    },
    {
      "cell_type": "markdown",
      "source": [
        "**My own example 120**"
      ],
      "metadata": {
        "id": "B9ahH4wWZBYm"
      }
    },
    {
      "cell_type": "code",
      "execution_count": null,
      "metadata": {
        "id": "fw5ln9DRHBHF"
      },
      "outputs": [],
      "source": [
        "print (\"Nan Mean: \", np.nanmean(returns), \"Std Dev: \", np.std(returns), \"Var: \", np.var(returns))"
      ]
    },
    {
      "cell_type": "markdown",
      "metadata": {
        "id": "3_BKgW1pHBHF"
      },
      "source": [
        "Let's simulate a universe of stocks using NumPy's functions. First we need to create the arrays to hold the assets and returns that we will use to build a portfolio. This is because arrays are created with a fixed size. Their dimensions can't be changed without creating a new array."
      ]
    },
    {
      "cell_type": "code",
      "execution_count": null,
      "metadata": {
        "collapsed": true,
        "id": "EtDKFh5-HBHG"
      },
      "outputs": [],
      "source": [
        "N = 10\n",
        "assets = np.zeros((N, 100))\n",
        "returns = np.zeros((N, 100))"
      ]
    },
    {
      "cell_type": "markdown",
      "metadata": {
        "id": "GVcY465tHBHG"
      },
      "source": [
        "This function, `zeroes()`, creates a NumPy array with the given dimensions that is entirely filled in with $0$. We can pass a single value or a tuple of as many dimensions as we like. Passing in the tuple `(N, 100)`, will return a two-dimensional array with $N$ rows and $100$ columns. Our result is a $N \\times 100$ array.\n",
        "\n",
        "Now we will simulate a base asset. We want the universe of stocks to be correlated with each other so we will use this initial value to generate the others."
      ]
    },
    {
      "cell_type": "code",
      "execution_count": null,
      "metadata": {
        "id": "Qipf5egbHBHG"
      },
      "outputs": [],
      "source": [
        "R_1 = np.random.normal(1.01, 0.03, 100)\n",
        "returns[0] = R_1\n",
        "assets[0] = np.cumprod(R_1)"
      ]
    },
    {
      "cell_type": "markdown",
      "metadata": {
        "id": "ToLVQXotHBHG"
      },
      "source": [
        "The `random` module in NumPy is exceedingly useful. It contains methods for sampling from many different probability distributions, some of which are covered in the [random variables lecture](https://www.quantopian.com/lectures/random-variables) in the Quantopian lecture series. In this case we draw $N = 100$ random samples from a normal distribution with mean $1.01$ and standard deviation $0.03$. We treat these as the daily percentage returns of our asset and take the cumulative product of these samples to get the current price.\n",
        "\n",
        "The way we have generated our universe, the the individual $R_i$ vectors are each 1-dimensional arrays and the `returns` and `assets` variables contain 2-dimensional arrays. Above, we set the initial row of both `returns` and `assets` to be the first $R_i$ vector and the cumulative asset price based on those returns, respectively.\n",
        "\n",
        "We will now use this base asset to create a few other random assets that are correlated with it."
      ]
    },
    {
      "cell_type": "code",
      "execution_count": null,
      "metadata": {
        "id": "LgPyF_6kHBHG"
      },
      "outputs": [],
      "source": [
        "# Generate assets that are correlated with R_1\n",
        "for i in range(1, N):\n",
        "    R_i = R_1 + np.random.normal(0.001, 0.02, 100)\n",
        "    returns[i] = R_i # Set each row of returns equal to the new R_i array\n",
        "    assets[i] = np.cumprod(R_i)\n",
        "    \n",
        "mean_returns = [(np.mean(R) - 1)*100 for R in returns]\n",
        "return_volatilities = [np.std(R) for R in returns]"
      ]
    },
    {
      "cell_type": "markdown",
      "metadata": {
        "id": "tv3LuKy-HBHG"
      },
      "source": [
        "Here we generate the remaining $N - 1$ securities that we want in our universe by adding random noise to $R_1$. This ensures that our $N - 1$ other assets will be correlated with the base asset because they have some underlying information that is shared.\n",
        "\n",
        "Let's plot what the mean return of each asset looks like:"
      ]
    },
    {
      "cell_type": "code",
      "execution_count": null,
      "metadata": {
        "id": "mJReUq0aHBHH",
        "scrolled": false
      },
      "outputs": [],
      "source": [
        "plt.bar(np.arange(len(mean_returns)), mean_returns)\n",
        "plt.xlabel('Stock')\n",
        "plt.ylabel('Returns')\n",
        "plt.title('Returns for {0} Random Assets'.format(N));"
      ]
    },
    {
      "cell_type": "markdown",
      "metadata": {
        "id": "OY0_iqBMHBHH"
      },
      "source": [
        "### Calculating Expected Return\n",
        "\n",
        "So we have a universe of stocks. Great! Now let's put them together in a portfolio and calculate its expected return and risk.\n",
        "\n",
        "We will start off by generating $N$ random weights for each asset in our portfolio."
      ]
    },
    {
      "cell_type": "code",
      "execution_count": null,
      "metadata": {
        "id": "9YjglefxHBHH"
      },
      "outputs": [],
      "source": [
        "weights = np.random.uniform(0, 1, N)\n",
        "weights = weights/np.sum(weights)"
      ]
    },
    {
      "cell_type": "markdown",
      "metadata": {
        "id": "CnycaAodHBHH"
      },
      "source": [
        "We have to rescale the weights so that they all add up to $1$. We do this by scaling the weights vector by the sum total of all the weights. This step ensures that we will be using $100\\%$ of the portfolio's cash.\n",
        "\n",
        "To calculate the mean return of the portfolio, we have to scale each asset's return by its designated weight. We can pull each element of each array and multiply them individually, but it's quicker to use NumPy's linear algebra methods. The function that we want is `dot()`. This will calculate the dot product between two arrays for us. So if $v = \\left[ 1, 2, 3 \\right]$ and $w = \\left[4, 5, 6 \\right]$, then:\n",
        "\n",
        "$$ v \\cdot w = 1 \\times 4 + 2 \\times 5 + 3 \\times 6 $$\n",
        "\n",
        "For a one-dimensional vector, the dot product will multiply each element pointwise and add all the products together! In our case, we have a vector of weights, $\\omega = \\left[ \\omega_1, \\omega_2, \\dots \\omega_N\\right]$ and a vector of returns, $\\mu = \\left[ \\mu_1, \\mu_2, \\dots, \\mu_N\\right]$. If we take the dot product of these two we will get:\n",
        "\n",
        "$$ \\omega \\cdot \\mu = \\omega_1\\mu_1 + \\omega_2\\mu_2 + \\dots + \\omega_N\\mu_N = \\mu_P $$\n",
        "\n",
        "This yields the sum of all the asset returns scaled by their respective weights. This the the portfolio's overall expected return!"
      ]
    },
    {
      "cell_type": "code",
      "execution_count": null,
      "metadata": {
        "id": "QfJNTq81HBHH"
      },
      "outputs": [],
      "source": [
        "p_returns = np.dot(weights, mean_returns)\n",
        "print \"Expected return of the portfolio: \", p_returns"
      ]
    },
    {
      "cell_type": "markdown",
      "metadata": {
        "id": "ehttm4bbHBHH"
      },
      "source": [
        "Calculating the mean return is fairly intuitive and does not require too much explanation of linear algebra. However, calculating the variance of our portfolio requires a bit more background."
      ]
    },
    {
      "cell_type": "markdown",
      "metadata": {
        "id": "TJ8BiACSHBHI"
      },
      "source": [
        "#### Beware of NaN values\n",
        "\n",
        "Most of the time, all of these calculations will work without an issue. However, when working with real data we run the risk of having `nan` values in our arrays. This is NumPy's way of saying that the data there is missing or doesn't exist. These `nan` values can lead to errors in mathematical calculations so it is important to be aware of whether your array contains `nan` values and to know how to drop them."
      ]
    },
    {
      "cell_type": "code",
      "execution_count": null,
      "metadata": {
        "id": "FqxKQxBxHBHK"
      },
      "outputs": [],
      "source": [
        "v = np.array([1, 2, np.nan, 4, 5])\n",
        "print v"
      ]
    },
    {
      "cell_type": "markdown",
      "metadata": {
        "id": "jovsVDZhHBHK"
      },
      "source": [
        "Let's see what happens when we try to take the mean of this array."
      ]
    },
    {
      "cell_type": "code",
      "execution_count": null,
      "metadata": {
        "id": "ZpyttI4aHBHK"
      },
      "outputs": [],
      "source": [
        "print np.mean(v)"
      ]
    },
    {
      "cell_type": "markdown",
      "metadata": {
        "id": "LalxZM_tHBHK"
      },
      "source": [
        "Clearly, `nan` values can have a large impact on our calculations. Fortunately, we can check for `nan` values with the `isnan()` function."
      ]
    },
    {
      "cell_type": "code",
      "execution_count": null,
      "metadata": {
        "id": "GtE-Kib4HBHL"
      },
      "outputs": [],
      "source": [
        "np.isnan(v)"
      ]
    },
    {
      "cell_type": "markdown",
      "metadata": {
        "id": "06Lh33QAHBHL"
      },
      "source": [
        "Calling `isnan()` on an array will call the function on each value of the array, returning a value of `True` if the element is `nan` and `False` if the element is valid. Now, knowing whether your array contains `nan` values is all well and good, but how do we remove `nan`s? Handily enough, NumPy arrays can be indexed by boolean values (`True` or `False`). If we use a boolean array to index an array, we will remove all values of the array that register as `False` under the condition. We use the `isnan()` function in create a boolean array, assigning a `True` value to everything that is *not* `nan` and a `False` to the `nan`s and we use that to index the same array."
      ]
    },
    {
      "cell_type": "code",
      "execution_count": null,
      "metadata": {
        "id": "RMHjCUzxHBHL"
      },
      "outputs": [],
      "source": [
        "ix = ~np.isnan(v) # the ~ indicates a logical not, inverting the bools\n",
        "print v[ix] # We can also just write v = v[~np.isnan(v)]"
      ]
    },
    {
      "cell_type": "code",
      "execution_count": null,
      "metadata": {
        "id": "RKoso7f-HBHL"
      },
      "outputs": [],
      "source": [
        "print np.mean(v[ix])"
      ]
    },
    {
      "cell_type": "markdown",
      "metadata": {
        "id": "S5KkmW4lHBHL"
      },
      "source": [
        "There are a few shortcuts to this process in the form of NumPy functions specifically built to handle them, such as `nanmean()`."
      ]
    },
    {
      "cell_type": "code",
      "execution_count": null,
      "metadata": {
        "id": "th_l3CojHBHL"
      },
      "outputs": [],
      "source": [
        "print np.nanmean(v)"
      ]
    },
    {
      "cell_type": "markdown",
      "metadata": {
        "id": "CYSm8JaqHBHM"
      },
      "source": [
        "The `nanmean()` function simply calculates the mean of the array as if there were no `nan` values at all! There are a few more of these functions, so feel free to read more about them in the [documentation](https://docs.scipy.org/doc/numpy/user/index.html). These indeterminate values are more an issue with data than linear algebra itself so it is helpful that there are ways to handle them."
      ]
    },
    {
      "cell_type": "markdown",
      "metadata": {
        "id": "w6HW_O7IHBHM"
      },
      "source": [
        "### Conclusion\n",
        "\n",
        "Linear algebra is pervasive in finance and in general. For example, the calculation of *optimal* weights according to modern portfolio theory is done using linear algebra techniques. The arrays and functions in NumPy allow us to handle these calculations in an intuitive way. For a quick intro to linear algebra and how to use NumPy to do more significant matrix calculations, proceed to the next section."
      ]
    },
    {
      "cell_type": "markdown",
      "metadata": {
        "id": "S3RL2XaeHBHM"
      },
      "source": [
        "## A brief foray into linear algebra\n",
        "\n",
        "Let's start with a basic overview of some linear algebra. Linear algebra comes down to the multiplication and composition of scalar and matrix values. A scalar value is just a real number that we multiply against an array. When we scale a matrix or array using a scalar, we multiply each individual element of that matrix or array by the scalar.\n",
        "\n",
        "A matrix is a collection of values, typically represented by an $m \\times n$ grid, where $m$ is the number of rows and $n$ is the number of columns. The edge lengths $m$ and $n$ do not necessarily have to be different. If we have $m = n$, we call this a square matrix. A particularly interesting case of a matrix is when $m = 1$ or $n = 1$. In this case we have a special case of a matrix that we call a vector. While there is a matrix object in NumPy we will be doing everything using NumPy arrays because they can have dimensions greater than $2$. For the purpose of this section, we will be using matrix and array interchangeably.\n",
        "\n",
        "We can express the matrix equation as:\n",
        "\n",
        "$$ y = A\\cdot x $$\n",
        "\n",
        "Where $A$ is an $m \\times n$ matrix, $y$ is a $m \\times 1$ vector, and $x$ is a $n \\times 1$ vector. On the right-hand side of the equation we are multiplying a matrix by a vector. This requires a little bit more clarification, lest we think that we can go about multiplying any matrices by any other matrices.\n",
        "\n",
        "#### Matrix multiplication\n",
        "\n",
        "With matrix multiplication, the order in which the matrices are multiplied matters. Multiplying a matrix on the left side by another matrix may be just fine, but multiplying on the right may be undefined."
      ]
    },
    {
      "cell_type": "code",
      "execution_count": null,
      "metadata": {
        "collapsed": true,
        "id": "_mdCveHyHBHM"
      },
      "outputs": [],
      "source": [
        "A = np.array([\n",
        "        [1, 2, 3, 12, 6],\n",
        "        [4, 5, 6, 15, 20],\n",
        "        [7, 8, 9, 10, 10]        \n",
        "    ])\n",
        "B = np.array([\n",
        "        [4, 4, 2],\n",
        "        [2, 3, 1],\n",
        "        [6, 5, 8],\n",
        "        [9, 9, 9]\n",
        "    ])"
      ]
    },
    {
      "cell_type": "markdown",
      "metadata": {
        "id": "ucJsqPTgHBHM"
      },
      "source": [
        "Notice that the above-defined matrices, $A$ and $B$, have different dimensions. $A$ is $3 \\times 5$ and $B$ is $4 \\times 3$. The general rule of what can and cannot be multiplied in which order is based on the dimensions of the matrices. Specifically, the number of columns in the matrix on the left must be equal to the number of rows in the matrix on the right. In super informal terms, let's say that we have an $m \\times n$ matrix and a $p \\times q$ matrix. If we multiply the first by the second on the right, we get the following:\n",
        "\n",
        "$$ (m \\times n) \\cdot (p \\times q) = (m \\times q) $$\n",
        "\n",
        "So the resultant product has the same number of rows as the left matrix and the same number of columns as the right matrix. This limitation of matrix multiplication with regards to dimensions is important to keep track of when writing code. To demonstrate this, we use the `dot()` function to multiply our matrices below:"
      ]
    },
    {
      "cell_type": "code",
      "execution_count": null,
      "metadata": {
        "id": "olOhfTedHBHM"
      },
      "outputs": [],
      "source": [
        "print(np.dot(A, B))"
      ]
    },
    {
      "cell_type": "markdown",
      "metadata": {
        "id": "tAXRuTTsHBHN"
      },
      "source": [
        "These results make sense in accordance with our rule. Multiplying a $3 \\times 5$ matrix on the right by a $4 \\times 3$ matrix results in an error while multiplying a $4 \\times 3$ matrix on the right by a $3 \\times 5$ matrix results in a $4 \\times 5$ matrix."
      ]
    },
    {
      "cell_type": "code",
      "execution_count": null,
      "metadata": {
        "id": "fLaCWrVeHBHN"
      },
      "outputs": [],
      "source": [
        "print np.dot(B, A)"
      ]
    },
    {
      "cell_type": "markdown",
      "metadata": {
        "id": "wzxdWcAmHBHN"
      },
      "source": [
        "### Portfolio Variance\n",
        "\n",
        "Let's return to our portfolio example from before. We calculated the expected return of the portfolio, but how do we calculate the variance? We start by trying to evaluate the portfolio as a sum of each individual asset, scaled by it's weight.\n",
        "\n",
        "$$ VAR[P] = VAR[\\omega_1 S_1 + \\omega_2 S_2 + \\cdots + \\omega_N S_N] $$\n",
        "\n",
        "Where $S_0, \\cdots, S_N$ are the assets contained within our universe. If all of our assets were independent of each other, we could simply evaluate this as\n",
        "\n",
        "$$ VAR[P] = VAR[\\omega_1 S_1] + VAR[\\omega_2 S_2] + \\cdots + VAR[\\omega_N S_N] = \\omega_1^2\\sigma_1^2 + \\omega_2^2\\sigma_2^2 + \\cdots + \\omega_N^2\\sigma_N^2 $$\n",
        "\n",
        "However, all of our assets depend on each other by their construction. They are all in some way related to our base asset and therefore each other. We thus have to calculate the variance of the portfolio by including the individual pairwise covariances of each asset. Our formula for the variance of the portfolio:\n",
        "\n",
        "$$ VAR[P] = \\sigma_P^2 = \\sum_i \\omega_i^2\\sigma_i^2 + \\sum_i\\sum_{i\\neq j} \\omega_i\\omega_j\\sigma_i\\sigma_j\\rho_{i, j}, \\ i, j \\in \\lbrace 1, 2, \\cdots, N \\rbrace $$\n",
        "\n",
        "Where $\\rho_{i,j}$ is the correlation between $S_i$ and $S_j$, $\\rho_{i, j} = \\frac{COV[S_i, S_j]}{\\sigma_i\\sigma_j}$. This seems exceedingly complicated, but we can easily handle all of this using NumPy arrays. First, we calculate the covariance matrix that relates all the individual stocks in our universe."
      ]
    },
    {
      "cell_type": "code",
      "execution_count": null,
      "metadata": {
        "id": "ij-oswm1HBHN"
      },
      "outputs": [],
      "source": [
        "cov_mat = np.cov(returns)\n",
        "print cov_mat"
      ]
    },
    {
      "cell_type": "markdown",
      "metadata": {
        "id": "7KplrG4QHBHN"
      },
      "source": [
        "This array is not formatted particularly nicely, but a covariance matrix is a very important concept. The covariance matrix is of the form:\n",
        "\n",
        "$$ \\left[\\begin{matrix}\n",
        "VAR[S_1] & COV[S_1, S_2] & \\cdots & COV[S_1, S_N] \\\\\n",
        "COV[S_2, S_1] & VAR[S_2] & \\cdots & COV[S_2, S_N] \\\\\n",
        "\\vdots & \\vdots & \\ddots & \\vdots \\\\\n",
        "COV[S_N, S_1] & COV[S_N, S_2] & \\cdots & VAR[S_N]\n",
        "\\end{matrix}\\right] $$\n",
        "\n",
        "So each diagonal entry is the variance of that asset at that index and each off-diagonal holds the covariance of two assets indexed by the column and row number. What is important is that once we have the covariance matrix we are able to do some very quick linear algebra to calculate the variance of the overall portfolio. We can represent the variance of the portfolio in array form as:\n",
        "\n",
        "$$ \\sigma_p^2 = \\omega \\ C \\ \\omega^\\intercal$$\n",
        "\n",
        "Where $C$ is the covariance matrix of all the assets and $\\omega$ is the array containing the weights of each individual asset. The superscript $\\intercal$ on the second $\\omega$ listed above denotes the **transpose** of $\\omega$. For a reference on the evaluation of the variance of a portfolio as a matrix equation, please see the Wikipedia article on [modern portfolio theory](https://en.wikipedia.org/wiki/Modern_portfolio_theory).\n",
        "\n",
        "The transpose of an array is what you get when you switch the rows and columns of an array. This has the effect of reflecting an array across what you might imagine as a diagonal. For example, take our array $A$ from before:"
      ]
    },
    {
      "cell_type": "code",
      "execution_count": null,
      "metadata": {
        "id": "kDlUVI4BHBHN"
      },
      "outputs": [],
      "source": [
        "print A"
      ]
    },
    {
      "cell_type": "markdown",
      "metadata": {
        "id": "w8Is5m9VHBHO"
      },
      "source": [
        "The transpose looks like a mirror image of the same array."
      ]
    },
    {
      "cell_type": "code",
      "execution_count": null,
      "metadata": {
        "id": "Xip_lJLtHBHO"
      },
      "outputs": [],
      "source": [
        "print np.transpose(A)"
      ]
    },
    {
      "cell_type": "markdown",
      "metadata": {
        "id": "XIvEKOu-HBHO"
      },
      "source": [
        "But $\\omega$ here is a 1-dimensional array, a vector! It makes perfect to take the transpose of $A$, a $3 \\times 5$ array, as the output will be a $5 \\times 3$ array, but a 1-dimensional array is not quite as intuitive. A typical 1-dimensional array can be thought of as a $1 \\times n$ horizontal vector. Thus, taking the tranpose of this array essentially means changing it into a $n \\times 1$ vertical vector. This makes sense because 1-dimensional arrays are still arrays and any multiplication done between 1-dimensional and higher dimensional arrays must keep in line with our dimensionality issue of matrix multiplication.\n",
        "\n",
        "To make a long story short, we think of $\\omega$ as $1 \\times N$ since we have $N$ securities. This makes it so that $\\omega^\\intercal$ is $N \\times 1$. Again, our covariance matrix is $N \\times N$. So the overall multiplication works out like so, in informal terms:\n",
        "\n",
        "$$ \\text{Dimensions}(\\sigma_p^2) = \\text{Dimensions}(\\omega C \\omega^\\intercal) = (1 \\times N)\\cdot (N \\times N)\\cdot (N \\times 1) = (1 \\times 1)$$\n",
        "\n",
        "Multiplying the covariance matrix on the left by the plain horizontal vector and on the right by that vector's transpose results in the calculation of a single scalar ($1 \\times 1$) value, our portfolio's variance.\n",
        "\n",
        "So knowing this, let's proceed and calculate the portfolio variance! We can easily calculate the product of these arrays by using `dot()` for matrix multiplication, though this time we have to do it twice."
      ]
    },
    {
      "cell_type": "code",
      "execution_count": null,
      "metadata": {
        "id": "VE5Ospd4HBHO",
        "scrolled": false
      },
      "outputs": [],
      "source": [
        "# Calculating the portfolio volatility\n",
        "var_p = np.dot(np.dot(weights, cov_mat), weights.T)\n",
        "vol_p = np.sqrt(var_p)\n",
        "print \"Portfolio volatility: \", vol_p"
      ]
    },
    {
      "cell_type": "markdown",
      "metadata": {
        "id": "DO5FGgTXHBHO"
      },
      "source": [
        "To confirm this calculation, let's simply evaluate the volatility of the portfolio using only NumPy functions."
      ]
    },
    {
      "cell_type": "code",
      "execution_count": null,
      "metadata": {
        "id": "UrBAgZKUHBHO"
      },
      "outputs": [],
      "source": [
        "# Confirming calculation\n",
        "vol_p_alt = np.sqrt(np.var(np.dot(weights, returns), ddof=1))\n",
        "print \"Portfolio volatility: \", vol_p_alt"
      ]
    },
    {
      "cell_type": "markdown",
      "metadata": {
        "id": "B5ysQYmaHBHP"
      },
      "source": [
        "The `ddof` parameter is a simple integer input that tells the function the number of degrees of freedom to take into account. This is a more statistical concept, but what this tells us that our matrix calculation is correct!\n",
        "\n",
        "A lot of this might not make sense at first glance. It helps to go back and forth between the theory and the code representations until you have a better grasp of the mathematics involved. It is definitely not necessary to be an expert on linear algebra and on matrix operations, but linear algebra can help to streamline the process of working with large amounts of data. For further reading on NumPy, check out the [documentation](https://docs.scipy.org/doc/numpy/user/index.html)."
      ]
    },
    {
      "cell_type": "markdown",
      "metadata": {
        "id": "bgFMYg12HBHP"
      },
      "source": [
        "*This presentation is for informational purposes only and does not constitute an offer to sell, a solicitation to buy, or a recommendation for any security; nor does it constitute an offer to provide investment advisory or other services by Quantopian, Inc. (\"Quantopian\"). Nothing contained herein constitutes investment advice or offers any opinion with respect to the suitability of any security, and any views expressed herein should not be taken as advice to buy, sell, or hold any security or as an endorsement of any security or company.  In preparing the information contained herein, Quantopian, Inc. has not taken into account the investment needs, objectives, and financial circumstances of any particular investor. Any views expressed and data illustrated herein were prepared based upon information, believed to be reliable, available to Quantopian, Inc. at the time of publication. Quantopian makes no guarantees as to their accuracy or completeness. All information is subject to change and may quickly become unreliable for various reasons, including changes in market conditions or economic circumstances.*"
      ]
    },
    {
      "cell_type": "markdown",
      "metadata": {
        "id": "o9rN1ox_WUVf"
      },
      "source": [
        "<div align=\"center\">\n",
        "<img style=\"display: block; margin: auto;\" alt=\"photo\" src=\"https://upload.wikimedia.org/wikipedia/en/d/de/Quantopian_logo_2017.png\">\n",
        "</div> \n",
        "\n",
        "# Introduction to pandas\n",
        "by Maxwell Margenot\n",
        "\n",
        "Part of the Quantopian Lecture Series:\n",
        "\n",
        "* [www.quantopian.com/lectures](https://www.quantopian.com/lectures)\n",
        "* [github.com/quantopian/research_public](https://github.com/quantopian/research_public)\n",
        "\n"
      ]
    },
    {
      "cell_type": "markdown",
      "metadata": {
        "id": "M0wRHgUuWUVf"
      },
      "source": [
        "pandas is a Python library that provides a collection of powerful data structures to better help you manage data. In this lecture, we will cover how to use the `Series` and `DataFrame` objects to handle data. These objects have a strong integration with NumPy, covered elsewhere in the [lecture series](http://www.quantopian.com/lectures#Introduction-to-NumPy), allowing us to easily do the necessary statistical and mathematical calculations that we need for finance."
      ]
    },
    {
      "cell_type": "code",
      "execution_count": null,
      "metadata": {
        "id": "ddukGiVJWUVf"
      },
      "outputs": [],
      "source": [
        "import numpy as np\n",
        "import pandas as pd\n",
        "import matplotlib.pyplot as plt"
      ]
    },
    {
      "cell_type": "markdown",
      "metadata": {
        "id": "02jmKAoOWUVf"
      },
      "source": [
        "With pandas, it is easy to store, visualize, and perform calculations on your data. With only a few lines of code we can modify our data and present it in an easily-understandable way. Here we simulate some returns in NumPy, put them into a pandas `DataFrame`, and perform calculations to turn them into prices and plot them, all only using a few lines of code."
      ]
    },
    {
      "cell_type": "markdown",
      "source": [
        "**My own example 121**"
      ],
      "metadata": {
        "id": "BgOmEvXRbJ2u"
      }
    },
    {
      "cell_type": "code",
      "execution_count": null,
      "metadata": {
        "id": "XKsuLeNHWUVf"
      },
      "outputs": [],
      "source": [
        "returns = pd.DataFrame(np.random.normal(1.0, 0.09, (50, 20)))\n",
        "prices = returns.cumprod()\n",
        "prices.plot()\n",
        "plt.title('Randomly-generated Prices')\n",
        "plt.xlabel('Time')\n",
        "plt.ylabel('Price')\n",
        "plt.legend(loc=0);"
      ]
    },
    {
      "cell_type": "markdown",
      "metadata": {
        "id": "BwPET7h_WUVf"
      },
      "source": [
        "So let's have a look at how we actually build up to this point!"
      ]
    },
    {
      "cell_type": "markdown",
      "metadata": {
        "id": "XAXDA7ePWUVg"
      },
      "source": [
        "## pandas Data Structures\n",
        "\n",
        "### `Series`\n",
        "\n",
        "A pandas `Series` is a 1-dimensional array with labels that can contain any data type. We primarily use them for handling time series data. Creating a `Series` is as easy as calling `pandas.Series()` on a Python list or NumPy array."
      ]
    },
    {
      "cell_type": "markdown",
      "source": [
        "**My own example 122**"
      ],
      "metadata": {
        "id": "RlE893ZpbQL-"
      }
    },
    {
      "cell_type": "code",
      "execution_count": null,
      "metadata": {
        "id": "PmBPiEATWUVg"
      },
      "outputs": [],
      "source": [
        "s = pd.Series([1, 2,4 ,np.nan, 4, 5, 'Hello', 3.4, {2,3,5,6}])\n",
        "print (s)\n"
      ]
    },
    {
      "cell_type": "markdown",
      "metadata": {
        "id": "SqNGFmp4WUVg"
      },
      "source": [
        "Every `Series` has a name. We can give the series a name as a parameter or we can define it afterwards by directly accessing the name attribute. In this case, we have given our time series no name so the attribute should be empty."
      ]
    },
    {
      "cell_type": "code",
      "execution_count": null,
      "metadata": {
        "id": "KPlx1cJBWUVg"
      },
      "outputs": [],
      "source": [
        "print s.name"
      ]
    },
    {
      "cell_type": "markdown",
      "metadata": {
        "id": "jYHbrf__WUVg"
      },
      "source": [
        "This name can be directly modified with no repercussions."
      ]
    },
    {
      "cell_type": "markdown",
      "source": [
        "**My own example 123**"
      ],
      "metadata": {
        "id": "q-H0U8vWbagH"
      }
    },
    {
      "cell_type": "code",
      "execution_count": null,
      "metadata": {
        "id": "sQhOcL4QWUVg"
      },
      "outputs": [],
      "source": [
        "s.name = \"Object array\"\n",
        "print (s.name)"
      ]
    },
    {
      "cell_type": "markdown",
      "metadata": {
        "id": "ELgJbaEEWUVg"
      },
      "source": [
        "We call the collected axis labels of a `Series` its index. An index can either passed to a `Series` as a parameter or added later, similarly to its name. In the absence of an index, a `Series` will simply contain an index composed of integers, starting at $0$, as in the case of our \"Toy Series\"."
      ]
    },
    {
      "cell_type": "code",
      "execution_count": null,
      "metadata": {
        "id": "H5nmCkjeWUVg"
      },
      "outputs": [],
      "source": [
        "print(s.index)"
      ]
    },
    {
      "cell_type": "markdown",
      "metadata": {
        "id": "-MXhbtSJWUVg"
      },
      "source": [
        "pandas has a built-in function specifically for creating date indices, `date_range()`. We use the function here to create a new index for `s`."
      ]
    },
    {
      "cell_type": "markdown",
      "source": [
        "**My own example 124**"
      ],
      "metadata": {
        "id": "yTsjtDCybnNf"
      }
    },
    {
      "cell_type": "code",
      "execution_count": null,
      "metadata": {
        "id": "m3XY7XukWUVg"
      },
      "outputs": [],
      "source": [
        "new_index = pd.date_range(\"2017-03-31\", periods=len(s), freq=\"B\")\n",
        "print(new_index)"
      ]
    },
    {
      "cell_type": "markdown",
      "metadata": {
        "id": "5BWf6tXXWUVg"
      },
      "source": [
        "An index must be exactly the same length as the `Series` itself. Each index must match one-to-one with each element of the `Series`. Once this is satisfied, we can directly modify the `Series` index, as with the name, to use our new and more informative index (relatively speaking)."
      ]
    },
    {
      "cell_type": "code",
      "execution_count": null,
      "metadata": {
        "id": "h7Ae0YWzWUVh"
      },
      "outputs": [],
      "source": [
        "s.index = new_index\n",
        "print s.index"
      ]
    },
    {
      "cell_type": "markdown",
      "metadata": {
        "id": "RPJzF0-nWUVh"
      },
      "source": [
        "The index of the `Series` is crucial for handling time series, which we will get into a little later."
      ]
    },
    {
      "cell_type": "markdown",
      "metadata": {
        "id": "iE5pucOdWUVh"
      },
      "source": [
        "#### Accessing `Series` Elements\n",
        "\n",
        "`Series` are typically accessed using the `iloc[]` and `loc[]` methods. We use `iloc[]` to access elements by integer index and we use `loc[]` to access the index of the Series."
      ]
    },
    {
      "cell_type": "code",
      "execution_count": null,
      "metadata": {
        "id": "3s5J5BccWUVh"
      },
      "outputs": [],
      "source": [
        "print( \"First element of the series: \", s.iloc[0])\n",
        "print (\"Last element of the series: \", s.iloc[len(s)-1])"
      ]
    },
    {
      "cell_type": "markdown",
      "metadata": {
        "id": "4BOdPHyUWUVh"
      },
      "source": [
        "We can slice a `Series` similarly to our favorite collections, Python lists and NumPy arrays. We use the colon operator to indicate the slice."
      ]
    },
    {
      "cell_type": "code",
      "execution_count": null,
      "metadata": {
        "id": "mmtAJ2c1WUVh"
      },
      "outputs": [],
      "source": [
        "s.iloc[:2]"
      ]
    },
    {
      "cell_type": "markdown",
      "metadata": {
        "id": "EWA1vFxfWUVh"
      },
      "source": [
        "When creating a slice, we have the options of specifying a beginning, an end, and a step. The slice will begin at the start index, and take steps of size `step` until it passes the end index, not including the end."
      ]
    },
    {
      "cell_type": "code",
      "execution_count": null,
      "metadata": {
        "id": "5J7S8NJ7WUVh"
      },
      "outputs": [],
      "source": [
        "start = 0\n",
        "end = len(s) - 1\n",
        "step = 1\n",
        "\n",
        "s.iloc[start:end:step]"
      ]
    },
    {
      "cell_type": "markdown",
      "metadata": {
        "id": "uWT9BL9GWUVh"
      },
      "source": [
        "We can even reverse a `Series` by specifying a negative step size. Similarly, we can index the start and end with a negative integer value."
      ]
    },
    {
      "cell_type": "markdown",
      "source": [
        "**My own example 125**"
      ],
      "metadata": {
        "id": "Ee8lNxeicEWp"
      }
    },
    {
      "cell_type": "code",
      "execution_count": null,
      "metadata": {
        "id": "Af7qDShLWUVh"
      },
      "outputs": [],
      "source": [
        "s.iloc[2::-1]"
      ]
    },
    {
      "cell_type": "markdown",
      "metadata": {
        "id": "SWPyoy8mWUVi"
      },
      "source": [
        "This returns a slice of the series that starts from the second to last element and ends at the third to last element (because the fourth to last is not included, taking steps of size $1$)."
      ]
    },
    {
      "cell_type": "code",
      "execution_count": null,
      "metadata": {
        "id": "XA1wjMqDWUVi"
      },
      "outputs": [],
      "source": [
        "s.iloc[-2:-4:-1]"
      ]
    },
    {
      "cell_type": "markdown",
      "metadata": {
        "id": "ItqK6nNuWUVi"
      },
      "source": [
        "We can also access a series by using the values of its index. Since we indexed `s` with a collection of dates (`Timestamp` objects) we can look at the value contained in `s` for a particular date."
      ]
    },
    {
      "cell_type": "code",
      "execution_count": null,
      "metadata": {
        "id": "ZVLzaxcWWUVi"
      },
      "outputs": [],
      "source": [
        "s.loc['2016-01-01']"
      ]
    },
    {
      "cell_type": "markdown",
      "metadata": {
        "id": "RrZJp46RWUVi"
      },
      "source": [
        "Or even for a range of dates!"
      ]
    },
    {
      "cell_type": "code",
      "execution_count": null,
      "metadata": {
        "id": "j2CUPNuaWUVi"
      },
      "outputs": [],
      "source": [
        "s.loc['2016-01-02':'2016-01-04']"
      ]
    },
    {
      "cell_type": "markdown",
      "metadata": {
        "id": "yZP8Pze7WUVi"
      },
      "source": [
        "With `Series`, we *can* just use the brackets (`[]`) to access elements, but this is not best practice. The brackets are ambiguous because they can be used to access `Series` (and `DataFrames`) using both index and integer values and the results will change based on context (especially with `DataFrames`)."
      ]
    },
    {
      "cell_type": "markdown",
      "metadata": {
        "id": "-X9AIHIcWUVi"
      },
      "source": [
        "#### Boolean Indexing\n",
        "\n",
        "In addition to the above-mentioned access methods, you can filter `Series` using boolean arrays. `Series` are compatible with your standard comparators. Once compared with whatever condition you like, you get back yet another `Series`, this time filled with boolean values."
      ]
    },
    {
      "cell_type": "code",
      "execution_count": null,
      "metadata": {
        "id": "eGLYHgfxWUVi"
      },
      "outputs": [],
      "source": [
        "print(s < 3)"
      ]
    },
    {
      "cell_type": "markdown",
      "metadata": {
        "id": "IdFD3xhbWUVi"
      },
      "source": [
        "We can pass *this* `Series` back into the original `Series` to filter out only the elements for which our condition is `True`."
      ]
    },
    {
      "cell_type": "code",
      "execution_count": null,
      "metadata": {
        "id": "m90FHdY_WUVi"
      },
      "outputs": [],
      "source": [
        "print s.loc[s < 3]"
      ]
    },
    {
      "cell_type": "markdown",
      "metadata": {
        "id": "8xtHks1TWUVj"
      },
      "source": [
        "If we so desire, we can group multiple conditions together using the logical operators `&`, `|`, and `~` (and, or, and not, respectively)."
      ]
    },
    {
      "cell_type": "code",
      "execution_count": null,
      "metadata": {
        "id": "n3DOVLJ-WUVj"
      },
      "outputs": [],
      "source": [
        "print s.loc[(s < 3) & (s > 1)]"
      ]
    },
    {
      "cell_type": "markdown",
      "metadata": {
        "id": "Ogp1hxPoWUVj"
      },
      "source": [
        "This is very convenient for getting only elements of a `Series` that fulfill specific criteria that we need. It gets even more convenient when we are handling `DataFrames`."
      ]
    },
    {
      "cell_type": "markdown",
      "metadata": {
        "id": "dTxVocTZWUVj"
      },
      "source": [
        "#### Indexing and Time Series\n",
        "\n",
        "Since we use `Series` for handling time series, it's worth covering a little bit of how we handle the time component. For our purposes we use pandas `Timestamp` objects. Let's pull a full time series, complete with all the appropriate labels, by using our `get_pricing()` method. All data pulled with `get_pricing()` or using our Pipeline API will be in either `Series` or `DataFrame` format. We can modify this index however we like."
      ]
    },
    {
      "cell_type": "code",
      "execution_count": null,
      "metadata": {
        "id": "WYLYzqjHWUVj"
      },
      "outputs": [],
      "source": [
        "symbol = \"CMG\"\n",
        "start = \"2012-01-01\"\n",
        "end = \"2016-01-01\"\n",
        "prices = get_pricing(symbol, start_date=start, end_date=end, fields=\"price\")"
      ]
    },
    {
      "cell_type": "markdown",
      "metadata": {
        "id": "Fjp1HyOGWUVj"
      },
      "source": [
        "We can display the first few elements of our series by using the `head()` method and specifying the number of elements that we want. The analogous method for the last few elements is `tail()`."
      ]
    },
    {
      "cell_type": "code",
      "execution_count": null,
      "metadata": {
        "id": "Zuk7RuqIWUVj"
      },
      "outputs": [],
      "source": [
        "print \"\\n\", type(prices)\n",
        "prices.head(5) "
      ]
    },
    {
      "cell_type": "markdown",
      "metadata": {
        "id": "h6vrSq_RWUVj"
      },
      "source": [
        "As with our toy example, we can specify a name for our time series, if only to clarify the name the `get_pricing()` provides us."
      ]
    },
    {
      "cell_type": "code",
      "execution_count": null,
      "metadata": {
        "scrolled": true,
        "id": "8Yzdxg0-WUVj"
      },
      "outputs": [],
      "source": [
        "print 'Old name: ', prices.name\n",
        "prices.name = symbol\n",
        "print 'New name: ', prices.name"
      ]
    },
    {
      "cell_type": "markdown",
      "metadata": {
        "id": "ML41OEGDWUVj"
      },
      "source": [
        "Let's take a closer look at the `DatetimeIndex` of our `prices` time series."
      ]
    },
    {
      "cell_type": "code",
      "execution_count": null,
      "metadata": {
        "id": "l1dp5TQvWUVj"
      },
      "outputs": [],
      "source": [
        "print prices.index"
      ]
    },
    {
      "cell_type": "markdown",
      "metadata": {
        "id": "gR4EHUb-WUVk"
      },
      "source": [
        "Notice that this `DatetimeIndex` has a collection of associated information. In particular it has an associated frequency (`freq`) and an associated timezone (`tz`). The frequency indicates whether the data is daily vs monthly vs some other period while the timezone indicates what locale this index is relative to. We can modify all of this extra information!\n",
        "\n",
        "If we resample our `Series`, we can adjust the frequency of our data. We currently have daily data (excluding weekends) because `get_pricing()` pulls only data from market days. Let's up-sample from this daily data to monthly data using the `resample()` method."
      ]
    },
    {
      "cell_type": "code",
      "execution_count": null,
      "metadata": {
        "id": "YSgbAvGFWUVk"
      },
      "outputs": [],
      "source": [
        "monthly_prices = prices.resample('M')\n",
        "monthly_prices.head(10)"
      ]
    },
    {
      "cell_type": "markdown",
      "metadata": {
        "id": "V9CkYiw_WUVk"
      },
      "source": [
        "The `resample()` method defaults to using the mean of the lower level data to create the higher level data. We can specify how else we might want the up-sampling to be calculated by specifying the `how` parameter."
      ]
    },
    {
      "cell_type": "code",
      "execution_count": null,
      "metadata": {
        "id": "2Epbp_7GWUVk"
      },
      "outputs": [],
      "source": [
        "monthly_prices_med = prices.resample('M', how='median')\n",
        "monthly_prices_med.head(10)"
      ]
    },
    {
      "cell_type": "markdown",
      "metadata": {
        "id": "7XmFb8kZWUVk"
      },
      "source": [
        "We can even specify how we want the calculation of the new period to be done. Here we create a `custom_resampler()` function that will return the first value of the period. In our specific case, this will return a `Series` where the monthly value is the first value of that month."
      ]
    },
    {
      "cell_type": "code",
      "execution_count": null,
      "metadata": {
        "id": "SQCKAbYLWUVk"
      },
      "outputs": [],
      "source": [
        "def custom_resampler(array_like):\n",
        "    \"\"\" Returns the first value of the period \"\"\"\n",
        "    return array_like[0]\n",
        "\n",
        "first_of_month_prices = prices.resample('M', how=custom_resampler)\n",
        "first_of_month_prices.head(10)"
      ]
    },
    {
      "cell_type": "markdown",
      "metadata": {
        "id": "gfY9Vey4WUVk"
      },
      "source": [
        "We can also adjust the timezone of a `Series` to adapt the time of real-world data. In our case, our time series is already localized to UTC, but let's say that we want to adjust the time to be 'US/Eastern'. In this case we use the `tz_convert()` method, since the time is already localized."
      ]
    },
    {
      "cell_type": "code",
      "execution_count": null,
      "metadata": {
        "id": "x4JvuF87WUVk"
      },
      "outputs": [],
      "source": [
        "eastern_prices = prices.tz_convert('US/Eastern')\n",
        "eastern_prices.head(10)"
      ]
    },
    {
      "cell_type": "markdown",
      "metadata": {
        "id": "-dkMrKm2WUVk"
      },
      "source": [
        "In addition to the capacity for timezone and frequency management, each time series has a built-in `reindex()` method that we can use to realign the existing data according to a new set of index labels. If data does not exist for a particular label, the data will be filled with a placeholder value. This is typically `np.nan`, though we can provide a fill method.\n",
        "\n",
        "The data that we `get_pricing()` only includes market days. But what if we want prices for every single calendar day? This will include holidays and weekends, times when you normally cannot trade equities.  First let's create a new `DatetimeIndex` that contains all that we want."
      ]
    },
    {
      "cell_type": "markdown",
      "source": [
        "**My own example 126**"
      ],
      "metadata": {
        "id": "Jz-CeQhjcqZh"
      }
    },
    {
      "cell_type": "code",
      "execution_count": null,
      "metadata": {
        "scrolled": false,
        "id": "MGwqCzSYWUVk"
      },
      "outputs": [],
      "source": [
        "calendar_dates = pd.date_range(start=start, end=end, freq='C', tz='UTC')\n",
        "print(calendar_dates)"
      ]
    },
    {
      "cell_type": "markdown",
      "metadata": {
        "id": "9Xj-S57GWUVl"
      },
      "source": [
        "Now let's use this new set of dates to reindex our time series. We tell the function that the fill method that we want is `ffill`. This denotes \"forward fill\". Any `NaN` values will be filled by the *last value* listed. So the price on the weekend or on a holiday will be listed as the price on the last market day that we know about."
      ]
    },
    {
      "cell_type": "code",
      "execution_count": null,
      "metadata": {
        "id": "8sIdKskWWUVl"
      },
      "outputs": [],
      "source": [
        "calendar_prices = prices.reindex(calendar_dates, method='ffill')\n",
        "calendar_prices.head(15)"
      ]
    },
    {
      "cell_type": "markdown",
      "metadata": {
        "id": "AylilkKPWUVl"
      },
      "source": [
        "You'll notice that we still have a couple of `NaN` values right at the beginning of our time series. This is because the first of January in 2012 was a Sunday and the second was a market holiday! Because these are the earliest data points and we don't have any information from before them, they cannot be forward-filled. We will take care of these `NaN` values in the next section, when we deal with missing data."
      ]
    },
    {
      "cell_type": "markdown",
      "metadata": {
        "id": "EORxqEobWUVl"
      },
      "source": [
        "#### Missing Data\n",
        "\n",
        "Whenever we deal with real data, there is a very real possibility of encountering missing values. Real data is riddled with holes and pandas provides us with ways to handle them. Sometimes resampling or reindexing can create `NaN` values. Fortunately, pandas provides us with ways to handle them. We have two primary means of coping with missing data. The first of these is filling in the missing data with  `fillna()`. For example, say that we want to fill in the missing days with the mean price of all days."
      ]
    },
    {
      "cell_type": "code",
      "execution_count": null,
      "metadata": {
        "id": "QYCzkCZWWUVl"
      },
      "outputs": [],
      "source": [
        "meanfilled_prices = calendar_prices.fillna(calendar_prices.mean())\n",
        "meanfilled_prices.head(10)"
      ]
    },
    {
      "cell_type": "markdown",
      "metadata": {
        "id": "JoqzI7YrWUVl"
      },
      "source": [
        "Using `fillna()` is fairly easy. It is just a matter of indicating the value that you want to fill the spaces with. Unfortunately, this particular case doesn't make a whole lot of sense, for reasons discussed in the [lecture on stationarity](https://www.quantopian.com/lectures/integration-cointegration-and-stationarity) in the Lecture series. We could fill them with with $0$, simply, but that's similarly uninformative.\n",
        "\n",
        "Rather than filling in specific values, we can use the `method` parameter, similarly to how the `reindex()` method works. We could use \"backward fill\", where `NaN`s are filled with the *next* filled value (instead of forward fill's *last* filled value) like so:"
      ]
    },
    {
      "cell_type": "code",
      "execution_count": null,
      "metadata": {
        "id": "8ZsxTRTRWUVl"
      },
      "outputs": [],
      "source": [
        "bfilled_prices = calendar_prices.fillna(method='bfill')\n",
        "bfilled_prices.head(10)"
      ]
    },
    {
      "cell_type": "markdown",
      "metadata": {
        "id": "G5DxvkPeWUVl"
      },
      "source": [
        "But again, this is a bad idea for the same reasons as the previous option. Both of these so-called solutions take into account *future data* that was not available at the time of the data points that we are trying to fill. In the case of using the mean or the median, these summary statistics are calculated by taking into account the entire time series. Backward filling is equivalent to saying that the price of a particular security today, right now, tomorrow's price. This also makes no sense. These two options are both examples of look-ahead bias, using data that would be unknown or unavailable at the desired time, and should be avoided.\n",
        "\n",
        "Our next option is significantly more appealing. We could simply drop the missing data using the `dropna()` method. This is much better alternative than filling `NaN` values in with arbitrary numbers."
      ]
    },
    {
      "cell_type": "code",
      "execution_count": null,
      "metadata": {
        "id": "Ib0eW-lVWUVl"
      },
      "outputs": [],
      "source": [
        "dropped_prices = calendar_prices.dropna()\n",
        "dropped_prices.head(10)"
      ]
    },
    {
      "cell_type": "markdown",
      "metadata": {
        "id": "bmusrf2NWUVl"
      },
      "source": [
        "Now our time series is cleaned for the calendar year, with all of our `NaN` values properly handled. It is time to talk about how to actually do time series analysis with pandas data structures."
      ]
    },
    {
      "cell_type": "markdown",
      "metadata": {
        "id": "zhMpxOZZWUVl"
      },
      "source": [
        "#### Time Series Analysis with pandas\n",
        "\n",
        "Let's do some basic time series analysis on our original prices. Each pandas `Series` has a built-in plotting method."
      ]
    },
    {
      "cell_type": "code",
      "execution_count": null,
      "metadata": {
        "id": "xfc8UOadWUVm"
      },
      "outputs": [],
      "source": [
        "prices.plot();\n",
        "# We still need to add the axis labels and title ourselves\n",
        "plt.title(symbol + \" Prices\")\n",
        "plt.ylabel(\"Price\")\n",
        "plt.xlabel(\"Date\");"
      ]
    },
    {
      "cell_type": "markdown",
      "metadata": {
        "id": "nwzNqnSKWUVm"
      },
      "source": [
        "As well as some built-in descriptive statistics. We can either calculate these individually or using the `describe()` method."
      ]
    },
    {
      "cell_type": "code",
      "execution_count": null,
      "metadata": {
        "id": "xrSqaET2WUVm"
      },
      "outputs": [],
      "source": [
        "print (\"Mean: \", prices.mean())\n",
        "print (\"Standard deviation: \", prices.std())"
      ]
    },
    {
      "cell_type": "code",
      "execution_count": null,
      "metadata": {
        "id": "bPTdDa6FWUVm"
      },
      "outputs": [],
      "source": [
        "print (\"Summary Statistics\")\n",
        "print (prices.describe())"
      ]
    },
    {
      "cell_type": "markdown",
      "source": [
        "**My own example 127**"
      ],
      "metadata": {
        "id": "sq2ol7t6dhah"
      }
    },
    {
      "cell_type": "code",
      "source": [
        "print(\"Absolute value\", prices.abs())"
      ],
      "metadata": {
        "id": "d1MsZO4xdKg6"
      },
      "execution_count": null,
      "outputs": []
    },
    {
      "cell_type": "markdown",
      "source": [
        "**My own example 128**"
      ],
      "metadata": {
        "id": "avrWFTrTd_p8"
      }
    },
    {
      "cell_type": "code",
      "source": [
        "print(\"Variation\", prices.var())"
      ],
      "metadata": {
        "id": "Ri3WMPiFdmG4"
      },
      "execution_count": null,
      "outputs": []
    },
    {
      "cell_type": "markdown",
      "source": [
        "**My own example 129**"
      ],
      "metadata": {
        "id": "7s8DgARSeRbw"
      }
    },
    {
      "cell_type": "code",
      "source": [
        "print(\"Count\", prices.count())"
      ],
      "metadata": {
        "id": "ahVg-fBdeDHA"
      },
      "execution_count": null,
      "outputs": []
    },
    {
      "cell_type": "markdown",
      "metadata": {
        "id": "qT7Y2Y2HWUVm"
      },
      "source": [
        "We can easily modify `Series` with scalars using our basic mathematical operators."
      ]
    },
    {
      "cell_type": "markdown",
      "source": [
        "**My own example 130**"
      ],
      "metadata": {
        "id": "Cd_f3b4Jecdt"
      }
    },
    {
      "cell_type": "code",
      "execution_count": null,
      "metadata": {
        "id": "5On0u0x4WUVm"
      },
      "outputs": [],
      "source": [
        "modified_prices = prices * 5 - 90\n",
        "modified_prices.head(2)"
      ]
    },
    {
      "cell_type": "markdown",
      "metadata": {
        "id": "L5q-mCShWUVm"
      },
      "source": [
        "And we can create linear combinations of `Series` themselves using the basic mathematical operators. pandas will group up matching indices and perform the calculations elementwise to produce a new `Series`. "
      ]
    },
    {
      "cell_type": "markdown",
      "source": [
        "**My own example 131**"
      ],
      "metadata": {
        "id": "mydAHw04enDv"
      }
    },
    {
      "cell_type": "code",
      "execution_count": null,
      "metadata": {
        "id": "6-cdiZn8WUVm"
      },
      "outputs": [],
      "source": [
        "noisy_prices = prices + 5 * pd.Series(np.random.normal(0, 3, len(prices)), index=prices.index) + 70\n",
        "noisy_prices.head(6)"
      ]
    },
    {
      "cell_type": "markdown",
      "metadata": {
        "id": "DHS7VaGeWUVm"
      },
      "source": [
        "If there are no matching indices, however, we may get an empty `Series` in return."
      ]
    },
    {
      "cell_type": "markdown",
      "source": [
        "**My own example 132**"
      ],
      "metadata": {
        "id": "uYdlo1q3evPB"
      }
    },
    {
      "cell_type": "code",
      "execution_count": null,
      "metadata": {
        "id": "TM_PrIRKWUVm"
      },
      "outputs": [],
      "source": [
        "empty_series = prices + pd.Series(np.random.binomial(0, 1, len(prices)))\n",
        "empty_series.head(3)"
      ]
    },
    {
      "cell_type": "markdown",
      "metadata": {
        "id": "4L_gX8XcWUVn"
      },
      "source": [
        "Rather than looking at a time series itself, we may want to look at its first-order differences or percent change (in order to get additive or multiplicative returns, in our particular case). Both of these are built-in methods."
      ]
    },
    {
      "cell_type": "code",
      "execution_count": null,
      "metadata": {
        "collapsed": true,
        "id": "t1RQeBm3WUVn"
      },
      "outputs": [],
      "source": [
        "add_returns = prices.diff()[1:]\n",
        "mult_returns = prices.pct_change()[1:]"
      ]
    },
    {
      "cell_type": "code",
      "execution_count": null,
      "metadata": {
        "id": "NrpmE0uCWUVn"
      },
      "outputs": [],
      "source": [
        "plt.title(\"Multiplicative returns of \" + symbol)\n",
        "plt.xlabel(\"Date\")\n",
        "plt.ylabel(\"Percent Returns\")\n",
        "mult_returns.plot();"
      ]
    },
    {
      "cell_type": "markdown",
      "metadata": {
        "id": "KF4ZgpVrWUVn"
      },
      "source": [
        "pandas has convenient functions for calculating rolling means and standard deviations, as well!"
      ]
    },
    {
      "cell_type": "code",
      "execution_count": null,
      "metadata": {
        "id": "mynnGhuDWUVn"
      },
      "outputs": [],
      "source": [
        "rolling_mean = pd.rolling_mean(prices, 30)\n",
        "rolling_mean.name = \"30-day rolling mean\""
      ]
    },
    {
      "cell_type": "code",
      "execution_count": null,
      "metadata": {
        "scrolled": false,
        "id": "2bXFjX8iWUVn"
      },
      "outputs": [],
      "source": [
        "prices.plot()\n",
        "rolling_mean.plot()\n",
        "plt.title(symbol + \"Price\")\n",
        "plt.xlabel(\"Date\")\n",
        "plt.ylabel(\"Price\")\n",
        "plt.legend();"
      ]
    },
    {
      "cell_type": "code",
      "execution_count": null,
      "metadata": {
        "collapsed": true,
        "id": "818Z2ObUWUVn"
      },
      "outputs": [],
      "source": [
        "rolling_std = pd.rolling_std(prices, 30)\n",
        "rolling_std.name = \"30-day rolling volatility\""
      ]
    },
    {
      "cell_type": "code",
      "execution_count": null,
      "metadata": {
        "id": "HV68dx0QWUVn"
      },
      "outputs": [],
      "source": [
        "rolling_std.plot()\n",
        "plt.title(rolling_std.name);\n",
        "plt.xlabel(\"Date\")\n",
        "plt.ylabel(\"Standard Deviation\");"
      ]
    },
    {
      "cell_type": "markdown",
      "metadata": {
        "id": "Xog0a615WUVn"
      },
      "source": [
        "Many NumPy functions will work on `Series` the same way that they work on 1-dimensional NumPy arrays."
      ]
    },
    {
      "cell_type": "code",
      "execution_count": null,
      "metadata": {
        "id": "kpiRKsHtWUVn"
      },
      "outputs": [],
      "source": [
        "print(np.median(mult_returns))"
      ]
    },
    {
      "cell_type": "markdown",
      "source": [
        "**My own example 133**"
      ],
      "metadata": {
        "id": "oQYTBG1hfFr7"
      }
    },
    {
      "cell_type": "code",
      "source": [
        "print(np.var(mult_returns))"
      ],
      "metadata": {
        "id": "iLKumWTefB4N"
      },
      "execution_count": null,
      "outputs": []
    },
    {
      "cell_type": "markdown",
      "source": [
        "**My own example 134**"
      ],
      "metadata": {
        "id": "XNS0vAVPfSc8"
      }
    },
    {
      "cell_type": "code",
      "source": [
        "print(np.ptp(mult_returns))"
      ],
      "metadata": {
        "id": "kj83LqMIfN6B"
      },
      "execution_count": null,
      "outputs": []
    },
    {
      "cell_type": "markdown",
      "source": [
        "**My own example 135**"
      ],
      "metadata": {
        "id": "Ium-3ZGufzC7"
      }
    },
    {
      "cell_type": "code",
      "source": [
        "print(np.nanmean(mult_returns))"
      ],
      "metadata": {
        "id": "bQLzJRo-ftDM"
      },
      "execution_count": null,
      "outputs": []
    },
    {
      "cell_type": "markdown",
      "source": [
        ""
      ],
      "metadata": {
        "id": "zjofTXZofwBA"
      }
    },
    {
      "cell_type": "markdown",
      "metadata": {
        "id": "hD-OY99ZWUVn"
      },
      "source": [
        "The majority of these functions, however, are already implemented directly as `Series` and `DataFrame` methods."
      ]
    },
    {
      "cell_type": "code",
      "execution_count": null,
      "metadata": {
        "id": "DugbNwDsWUVo"
      },
      "outputs": [],
      "source": [
        "print(mult_returns.median())"
      ]
    },
    {
      "cell_type": "markdown",
      "source": [
        "**My own example 136**"
      ],
      "metadata": {
        "id": "juCQ8ccaf_Ps"
      }
    },
    {
      "cell_type": "code",
      "source": [
        "print(mult_returns.abs())"
      ],
      "metadata": {
        "id": "a4qGgHeKf7ID"
      },
      "execution_count": null,
      "outputs": []
    },
    {
      "cell_type": "markdown",
      "metadata": {
        "id": "aAl1l6d-WUVo"
      },
      "source": [
        "In every case, using the built-in pandas method will be better than using the NumPy function on a pandas data structure due to improvements in performance. Make sure to check out the `Series` [documentation](http://pandas.pydata.org/pandas-docs/stable/generated/pandas.Series.html) before resorting to other calculations of common functions."
      ]
    },
    {
      "cell_type": "markdown",
      "metadata": {
        "id": "eH9CwiinWUVo"
      },
      "source": [
        "### `DataFrames`\n",
        "\n",
        "Many of the aspects of working with `Series` carry over into `DataFrames`. pandas `DataFrames` allow us to easily manage our data with their intuitive structure. \n",
        "\n",
        "Like `Series`, `DataFrames` can hold multiple types of data, but `DataFrames` are 2-dimensional objects, unlike `Series`. Each `DataFrame` has an index and a columns attribute, which we will cover more in-depth when we start actually playing with an object. The index attribute is like the index of a `Series`, though indices in pandas have some extra features that we will unfortunately not be able to cover here. If you are interested in this, check out the [pandas documentation](http://pandas.pydata.org/pandas-docs/version/0.18.1/advanced.html) on advanced indexing. The columns attribute is what provides the second dimension of our `DataFrames`, allowing us to combine named columns (all `Series`), into a cohesive object with the index lined-up.\n",
        "\n",
        "We can create a `DataFrame` by calling `pandas.DataFrame()` on a dictionary or NumPy `ndarray`. We can also concatenate a group of pandas `Series` into a `DataFrame` using `pandas.concat()`."
      ]
    },
    {
      "cell_type": "markdown",
      "source": [
        "**My own example 137**"
      ],
      "metadata": {
        "id": "cT6PD_90gEji"
      }
    },
    {
      "cell_type": "code",
      "execution_count": null,
      "metadata": {
        "id": "z85Mq4BhWUVo"
      },
      "outputs": [],
      "source": [
        "dict_data = {\n",
        "    'a' : [1, 2, 3, 4, 5],\n",
        "    'b' : ['L', 'K', 'J', 'M', 'Z'],\n",
        "    'c' : np.random.normal(0, 1, 5),\n",
        "    'd' : np.random.binomial(0,1,5)\n",
        "}\n",
        "print(dict_data)"
      ]
    },
    {
      "cell_type": "markdown",
      "metadata": {
        "id": "WeiG7PIBWUVo"
      },
      "source": [
        "Each `DataFrame` has a few key attributes that we need to keep in mind. The first of these is the index attribute. We can easily include an index of `Timestamp` objects like we did with `Series`."
      ]
    },
    {
      "cell_type": "markdown",
      "source": [
        "**My own example 138**"
      ],
      "metadata": {
        "id": "XqziMT5qgRPg"
      }
    },
    {
      "cell_type": "code",
      "execution_count": null,
      "metadata": {
        "scrolled": false,
        "id": "IzuzBUAYWUVo"
      },
      "outputs": [],
      "source": [
        "frame_data = pd.DataFrame(dict_data, index=pd.date_range('2015-11-23', periods=5))\n",
        "print(frame_data)"
      ]
    },
    {
      "cell_type": "markdown",
      "metadata": {
        "id": "LgPfObhFWUVo"
      },
      "source": [
        "As mentioned above, we can combine `Series` into `DataFrames`. Concatatenating `Series` like this will match elements up based on their corresponding index. As the following `Series` do not have an index assigned, they each default to an integer index. "
      ]
    },
    {
      "cell_type": "code",
      "execution_count": null,
      "metadata": {
        "scrolled": true,
        "id": "Wtl42IW0WUVo"
      },
      "outputs": [],
      "source": [
        "s_1 = pd.Series([2, 4, 6, 8, 10], name='Evens')\n",
        "s_2 = pd.Series([1, 3, 5, 7, 9], name=\"Odds\")\n",
        "numbers = pd.concat([s_1, s_2], axis=1)\n",
        "print numbers"
      ]
    },
    {
      "cell_type": "markdown",
      "metadata": {
        "id": "kdl0AB6jWUVo"
      },
      "source": [
        "We will use `pandas.concat()` again later to combine multiple `DataFrame`s into one. "
      ]
    },
    {
      "cell_type": "markdown",
      "metadata": {
        "id": "cyHQkLW6WUVo"
      },
      "source": [
        "Each `DataFrame` also has a `columns` attribute. These can either be assigned when we call `pandas.DataFrame` or they can be modified directly like the index. Note that when we concatenated the two `Series` above, the column names were the names of those `Series`."
      ]
    },
    {
      "cell_type": "code",
      "execution_count": null,
      "metadata": {
        "id": "7TdrD0V0WUVp"
      },
      "outputs": [],
      "source": [
        "print numbers.columns"
      ]
    },
    {
      "cell_type": "markdown",
      "metadata": {
        "id": "SPHSKbxJWUVp"
      },
      "source": [
        "To modify the columns after object creation, we need only do the following:"
      ]
    },
    {
      "cell_type": "code",
      "execution_count": null,
      "metadata": {
        "id": "QPV2Q6H6WUVp"
      },
      "outputs": [],
      "source": [
        "numbers.columns = ['Shmevens', 'Shmodds']\n",
        "print numbers"
      ]
    },
    {
      "cell_type": "markdown",
      "metadata": {
        "id": "NBHRY6syWUVp"
      },
      "source": [
        "In the same vein, the index of a `DataFrame` can be changed after the fact."
      ]
    },
    {
      "cell_type": "code",
      "execution_count": null,
      "metadata": {
        "id": "xr1SAGGqWUVp"
      },
      "outputs": [],
      "source": [
        "print numbers.index"
      ]
    },
    {
      "cell_type": "code",
      "execution_count": null,
      "metadata": {
        "id": "wQreFUxwWUVp"
      },
      "outputs": [],
      "source": [
        "numbers.index = pd.date_range(\"2016-01-01\", periods=len(numbers))\n",
        "print(numbers)"
      ]
    },
    {
      "cell_type": "markdown",
      "metadata": {
        "id": "QxbDlXyrWUVp"
      },
      "source": [
        "Separate from the columns and index of a `DataFrame`, we can also directly access the values they contain by looking at the values attribute."
      ]
    },
    {
      "cell_type": "code",
      "execution_count": null,
      "metadata": {
        "id": "zHSLDkVeWUVp"
      },
      "outputs": [],
      "source": [
        "numbers.values"
      ]
    },
    {
      "cell_type": "markdown",
      "metadata": {
        "id": "Hix3SJTpWUVp"
      },
      "source": [
        "This returns a NumPy array."
      ]
    },
    {
      "cell_type": "code",
      "execution_count": null,
      "metadata": {
        "id": "YsCG1eI0WUVp"
      },
      "outputs": [],
      "source": [
        "type(numbers.values)"
      ]
    },
    {
      "cell_type": "markdown",
      "metadata": {
        "id": "ulw_URpPWUVq"
      },
      "source": [
        "#### Accessing `DataFrame` elements\n",
        "\n",
        "Again we see a lot of carryover from `Series` in how we access the elements of `DataFrames`. The key sticking point here is that everything has to take into account multiple dimensions now. The main way that this happens is through the access of the columns of a `DataFrame`, either individually or in groups. We can do this either by directly accessing the attributes or by using the methods we already are familiar with."
      ]
    },
    {
      "cell_type": "code",
      "execution_count": null,
      "metadata": {
        "id": "qZ_r9swuWUVq"
      },
      "outputs": [],
      "source": [
        "symbol = [\"CMG\", \"MCD\", \"SHAK\", \"WFM\"]\n",
        "start = \"2012-01-01\"\n",
        "end = \"2016-01-01\"\n",
        "prices = get_pricing(symbol, start_date=start, end_date=end, fields=\"price\")\n",
        "if isinstance(symbol, list):\n",
        "    prices.columns = map(lambda x: x.symbol, prices.columns)\n",
        "else:\n",
        "    prices.name = symbol"
      ]
    },
    {
      "cell_type": "markdown",
      "metadata": {
        "id": "z0gzYPBSWUVq"
      },
      "source": [
        "Here we directly access the `CMG` column. Note that this style of access will only work if your column name has no spaces or unfriendly characters in it."
      ]
    },
    {
      "cell_type": "code",
      "execution_count": null,
      "metadata": {
        "id": "SYkX2Xf9WUVq"
      },
      "outputs": [],
      "source": [
        "prices.CMG.head()"
      ]
    },
    {
      "cell_type": "markdown",
      "metadata": {
        "id": "lEZQ1JVVWUVq"
      },
      "source": [
        "We can also use `loc[]` to access an individual column like so."
      ]
    },
    {
      "cell_type": "code",
      "execution_count": null,
      "metadata": {
        "id": "I8LOJ0JUWUVq"
      },
      "outputs": [],
      "source": [
        "prices.loc[:, 'CMG'].head()"
      ]
    },
    {
      "cell_type": "markdown",
      "metadata": {
        "id": "nmaNmKQAWUVq"
      },
      "source": [
        "Accessing an individual column will return a `Series`, regardless of how we get it."
      ]
    },
    {
      "cell_type": "code",
      "execution_count": null,
      "metadata": {
        "id": "elVEk1bRWUVt"
      },
      "outputs": [],
      "source": [
        "print type(prices.CMG)\n",
        "print type(prices.loc[:, 'CMG'])"
      ]
    },
    {
      "cell_type": "markdown",
      "metadata": {
        "id": "t_n_NTdkWUVt"
      },
      "source": [
        "Notice how we pass a tuple into the `loc[]` method? This is a key difference between accessing a `Series` and accessing a `DataFrame`, grounded in the fact that a `DataFrame` has multiple dimensions. When you pass a 2-dimensional tuple into a `DataFrame`, the first element of the tuple is applied to the rows and the second is applied to the columns. So, to break it down, the above line of code tells the `DataFrame` to return every single row of the column with label `'CMG'`. Lists of columns are also supported."
      ]
    },
    {
      "cell_type": "code",
      "execution_count": null,
      "metadata": {
        "id": "e_sVdcErWUVt"
      },
      "outputs": [],
      "source": [
        "prices.loc[:, ['CMG', 'MCD']].head()"
      ]
    },
    {
      "cell_type": "markdown",
      "metadata": {
        "id": "J2SmCaWMWUVt"
      },
      "source": [
        "We can also simply access the `DataFrame` by index value using `loc[]`, as with `Series`."
      ]
    },
    {
      "cell_type": "code",
      "execution_count": null,
      "metadata": {
        "scrolled": true,
        "id": "g3vYIXWxWUVt"
      },
      "outputs": [],
      "source": [
        "prices.loc['2015-12-15':'2015-12-22']"
      ]
    },
    {
      "cell_type": "markdown",
      "metadata": {
        "id": "DDhvCbEpWUVt"
      },
      "source": [
        "This plays nicely with lists of columns, too."
      ]
    },
    {
      "cell_type": "code",
      "execution_count": null,
      "metadata": {
        "id": "gkAgMnJJWUVt"
      },
      "outputs": [],
      "source": [
        "prices.loc['2015-12-15':'2015-12-22', ['CMG', 'MCD']]"
      ]
    },
    {
      "cell_type": "markdown",
      "metadata": {
        "id": "HLLVsn2kWUVt"
      },
      "source": [
        "Using `iloc[]` also works similarly, allowing you to access parts of the `DataFrame` by integer index."
      ]
    },
    {
      "cell_type": "code",
      "execution_count": null,
      "metadata": {
        "id": "WOhYJF69WUVt"
      },
      "outputs": [],
      "source": [
        "prices.iloc[0:2, 1]"
      ]
    },
    {
      "cell_type": "code",
      "execution_count": null,
      "metadata": {
        "id": "V2p_krTyWUVu"
      },
      "outputs": [],
      "source": [
        "# Access prices with integer index in\n",
        "# [1, 3, 5, 7, 9, 11, 13, ..., 99]\n",
        "# and in column 0 or 3\n",
        "prices.iloc[[1, 3, 5] + range(7, 100, 2), [0, 3]].head(20)"
      ]
    },
    {
      "cell_type": "markdown",
      "metadata": {
        "id": "JhgW4jJZWUVu"
      },
      "source": [
        "#### Boolean indexing\n",
        "\n",
        "As with `Series`, sometimes we want to filter a `DataFrame` according to a set of criteria. We do this by indexing our `DataFrame` with boolean values."
      ]
    },
    {
      "cell_type": "code",
      "execution_count": null,
      "metadata": {
        "id": "XW5Jwdy4WUVu"
      },
      "outputs": [],
      "source": [
        "prices.loc[prices.MCD > prices.WFM].head()"
      ]
    },
    {
      "cell_type": "markdown",
      "metadata": {
        "id": "UxSbcNzbWUVu"
      },
      "source": [
        "We can add multiple boolean conditions by using the logical operators `&`, `|`, and `~` (and, or, and not, respectively) again!"
      ]
    },
    {
      "cell_type": "code",
      "execution_count": null,
      "metadata": {
        "id": "1WAE9k0YWUVu"
      },
      "outputs": [],
      "source": [
        "prices.loc[(prices.MCD > prices.WFM) & ~prices.SHAK.isnull()].head()"
      ]
    },
    {
      "cell_type": "markdown",
      "metadata": {
        "id": "qNKnyKq9WUVu"
      },
      "source": [
        "#### Adding, Removing Columns, Combining `DataFrames`/`Series`\n",
        "\n",
        "It is all well and good when you already have a `DataFrame` filled with data, but it is also important to be able to add to the data that you have.\n",
        "\n",
        "We add a new column simply by assigning data to a column that does not already exist. Here we use the `.loc[:, 'COL_NAME']` notation and store the output of `get_pricing()` (which returns a pandas `Series` if we only pass one security) there. This is the method that we would use to add a `Series` to an existing `DataFrame`."
      ]
    },
    {
      "cell_type": "code",
      "execution_count": null,
      "metadata": {
        "scrolled": true,
        "id": "IwO4y2VuWUVu"
      },
      "outputs": [],
      "source": [
        "s_1 = get_pricing('TSLA', start_date=start, end_date=end, fields='price')\n",
        "prices.loc[:, 'TSLA'] = s_1\n",
        "prices.head(5)"
      ]
    },
    {
      "cell_type": "markdown",
      "metadata": {
        "id": "VSgc0MTvWUVu"
      },
      "source": [
        "It is also just as easy to remove a column."
      ]
    },
    {
      "cell_type": "code",
      "execution_count": null,
      "metadata": {
        "scrolled": true,
        "id": "qeHR_UEwWUVu"
      },
      "outputs": [],
      "source": [
        "prices = prices.drop('TSLA', axis=1)\n",
        "prices.head(5)"
      ]
    },
    {
      "cell_type": "markdown",
      "metadata": {
        "id": "XQliTEFlWUVu"
      },
      "source": [
        "If we instead want to combine multiple `DataFrame`s into one, we use the `pandas.concat()` method."
      ]
    },
    {
      "cell_type": "code",
      "execution_count": null,
      "metadata": {
        "scrolled": false,
        "id": "SpxCPh_CWUVu"
      },
      "outputs": [],
      "source": [
        "df_1 = get_pricing(['SPY', 'VXX'], start_date=start, end_date=end, fields='price')\n",
        "df_2 = get_pricing(['MSFT', 'AAPL', 'GOOG'], start_date=start, end_date=end, fields='price')\n",
        "df_3 = pd.concat([df_1, df_2], axis=1)\n",
        "df_3.head()"
      ]
    },
    {
      "cell_type": "markdown",
      "metadata": {
        "id": "tT-xi9uHWUVv"
      },
      "source": [
        "#### Missing data (again)\n",
        "Bringing real-life data into a `DataFrame` brings us the same problems that we had with it in a `Series`, only this time in more dimensions. We have access to the same methods as with `Series`, as demonstrated below."
      ]
    },
    {
      "cell_type": "code",
      "execution_count": null,
      "metadata": {
        "id": "HE72V375WUVv"
      },
      "outputs": [],
      "source": [
        "filled0_prices = prices.fillna(0)\n",
        "filled0_prices.head(5)"
      ]
    },
    {
      "cell_type": "code",
      "execution_count": null,
      "metadata": {
        "id": "Dz7mJcbbWUVv"
      },
      "outputs": [],
      "source": [
        "bfilled_prices = prices.fillna(method='bfill')\n",
        "bfilled_prices.head(5)"
      ]
    },
    {
      "cell_type": "markdown",
      "metadata": {
        "id": "yEPAnHv-WUVv"
      },
      "source": [
        "But again, the best choice in this case (since we are still using time series data, handling multiple time series at once) is still to simply drop the missing values."
      ]
    },
    {
      "cell_type": "code",
      "execution_count": null,
      "metadata": {
        "id": "GSvmlqNlWUVv"
      },
      "outputs": [],
      "source": [
        "dropped_prices = prices.dropna()\n",
        "dropped_prices.head(5)"
      ]
    },
    {
      "cell_type": "markdown",
      "metadata": {
        "id": "F3-c1GLgWUVv"
      },
      "source": [
        "#### Time Series Analysis with pandas\n",
        "\n",
        "Using the built-in statistics methods for `DataFrames`, we can perform calculations on multiple time series at once! The code to perform calculations on `DataFrames` here is almost exactly the same as the methods used for `Series` above, so don't worry about re-learning everything.\n",
        "\n",
        "The `plot()` method makes another appearance here, this time with a built-in legend that corresponds to the names of the columns that you are plotting."
      ]
    },
    {
      "cell_type": "code",
      "execution_count": null,
      "metadata": {
        "id": "M5RSV_kGWUVv"
      },
      "outputs": [],
      "source": [
        "prices.plot()\n",
        "plt.title(\"Collected Stock Prices\")\n",
        "plt.ylabel(\"Price\")\n",
        "plt.xlabel(\"Date\");"
      ]
    },
    {
      "cell_type": "markdown",
      "metadata": {
        "id": "RV4mkYpcWUVv"
      },
      "source": [
        "The same statistical functions from our interactions with `Series` resurface here with the addition of the `axis` parameter. By specifying the `axis`, we tell pandas to calculate the desired function along either the rows (`axis=0`) or the columns (`axis=1`). We can easily calculate the mean of each columns like so:"
      ]
    },
    {
      "cell_type": "code",
      "execution_count": null,
      "metadata": {
        "id": "ft_URNMvWUVv"
      },
      "outputs": [],
      "source": [
        "prices.mean(axis=0)"
      ]
    },
    {
      "cell_type": "markdown",
      "metadata": {
        "id": "6nwJI1KLWUVw"
      },
      "source": [
        "As well as the standard deviation:"
      ]
    },
    {
      "cell_type": "code",
      "execution_count": null,
      "metadata": {
        "id": "BQ2E_RaJWUVw"
      },
      "outputs": [],
      "source": [
        "prices.std(axis=0)"
      ]
    },
    {
      "cell_type": "markdown",
      "source": [
        "**My own example 139**"
      ],
      "metadata": {
        "id": "_yoYUZVThzgq"
      }
    },
    {
      "cell_type": "code",
      "source": [
        "prices.mean(axis=0)"
      ],
      "metadata": {
        "id": "iC1wP4FLhw-x"
      },
      "execution_count": null,
      "outputs": []
    },
    {
      "cell_type": "markdown",
      "source": [
        "**My own example 140**"
      ],
      "metadata": {
        "id": "G__zTsf0h71n"
      }
    },
    {
      "cell_type": "code",
      "source": [
        "prices.var(axis=1)"
      ],
      "metadata": {
        "id": "dlUBcGUrh4xc"
      },
      "execution_count": null,
      "outputs": []
    },
    {
      "cell_type": "markdown",
      "metadata": {
        "id": "Q5r5GEufWUVw"
      },
      "source": [
        "Again, the `describe()` function will provide us with summary statistics of our data if we would rather have all of our typical statistics in a convenient visual instead of calculating them individually."
      ]
    },
    {
      "cell_type": "code",
      "execution_count": null,
      "metadata": {
        "id": "ySLuEkNBWUVw"
      },
      "outputs": [],
      "source": [
        "prices.describe()"
      ]
    },
    {
      "cell_type": "markdown",
      "metadata": {
        "id": "0bh3ubdSWUVw"
      },
      "source": [
        "We can scale and add scalars to our `DataFrame`, as you might suspect after dealing with `Series`. This again works element-wise."
      ]
    },
    {
      "cell_type": "code",
      "execution_count": null,
      "metadata": {
        "id": "f_L776O2WUVw"
      },
      "outputs": [],
      "source": [
        "(2 * prices - 50).head(5)"
      ]
    },
    {
      "cell_type": "markdown",
      "metadata": {
        "id": "5_cg1eBiWUVw"
      },
      "source": [
        "Here we use the `pct_change()` method to get a `DataFrame` of the multiplicative returns of the securities that we are looking at."
      ]
    },
    {
      "cell_type": "code",
      "execution_count": null,
      "metadata": {
        "id": "zku7hk3zWUVw"
      },
      "outputs": [],
      "source": [
        "mult_returns = prices.pct_change()[1:]\n",
        "mult_returns.head()"
      ]
    },
    {
      "cell_type": "markdown",
      "metadata": {
        "id": "QkEAAINRWUVw"
      },
      "source": [
        "If we use our statistics methods to standardize the returns, a common procedure when examining data, then we can get a better idea of how they all move relative to each other on the same scale."
      ]
    },
    {
      "cell_type": "code",
      "execution_count": null,
      "metadata": {
        "id": "saPQR-AaWUVw"
      },
      "outputs": [],
      "source": [
        "norm_returns = (mult_returns - mult_returns.mean(axis=0))/mult_returns.std(axis=0)\n",
        "norm_returns.loc['2014-01-01':'2015-01-01'].plot();"
      ]
    },
    {
      "cell_type": "markdown",
      "metadata": {
        "id": "R8JwiheiWUVx"
      },
      "source": [
        "This makes it easier to compare the motion of the different time series contained in our example."
      ]
    },
    {
      "cell_type": "markdown",
      "metadata": {
        "id": "CdlJkcg5WUVx"
      },
      "source": [
        "Rolling means and standard deviations also work with `DataFrames`."
      ]
    },
    {
      "cell_type": "code",
      "execution_count": null,
      "metadata": {
        "collapsed": true,
        "id": "45qsA2VhWUVx"
      },
      "outputs": [],
      "source": [
        "rolling_mean = pd.rolling_mean(prices, 30)\n",
        "rolling_mean.columns = prices.columns"
      ]
    },
    {
      "cell_type": "code",
      "execution_count": null,
      "metadata": {
        "id": "k4nKj3r5WUVx"
      },
      "outputs": [],
      "source": [
        "rolling_mean.plot()\n",
        "plt.title(\"Rolling Mean of Prices\")\n",
        "plt.xlabel(\"Date\")\n",
        "plt.ylabel(\"Price\")\n",
        "plt.legend();"
      ]
    },
    {
      "cell_type": "markdown",
      "metadata": {
        "id": "h4ZJABVIWUVx"
      },
      "source": [
        "For a complete list of all the methods that are built into `DataFrame`s, check out the [documentation](http://pandas.pydata.org/pandas-docs/stable/generated/pandas.DataFrame.html)."
      ]
    },
    {
      "cell_type": "markdown",
      "metadata": {
        "id": "5n59MVIiWUVx"
      },
      "source": [
        "# Next Steps\n",
        "\n",
        "Managing data gets a lot easier when you deal with pandas, though this has been a very general introduction. There are many more tools within the package which you may discover while trying to get your data to do precisely what you want. If you would rather read more on the additional capabilities of pandas, check out the [documentation](http://pandas.pydata.org/pandas-docs/stable/)."
      ]
    },
    {
      "cell_type": "markdown",
      "metadata": {
        "collapsed": true,
        "id": "1srsOru6WUVx"
      },
      "source": [
        "*This presentation is for informational purposes only and does not constitute an offer to sell, a solicitation to buy, or a recommendation for any security; nor does it constitute an offer to provide investment advisory or other services by Quantopian, Inc. (\"Quantopian\"). Nothing contained herein constitutes investment advice or offers any opinion with respect to the suitability of any security, and any views expressed herein should not be taken as advice to buy, sell, or hold any security or as an endorsement of any security or company.  In preparing the information contained herein, Quantopian, Inc. has not taken into account the investment needs, objectives, and financial circumstances of any particular investor. Any views expressed and data illustrated herein were prepared based upon information, believed to be reliable, available to Quantopian, Inc. at the time of publication. Quantopian makes no guarantees as to their accuracy or completeness. All information is subject to change and may quickly become unreliable for various reasons, including changes in market conditions or economic circumstances.*"
      ]
    },
    {
      "cell_type": "markdown",
      "metadata": {
        "id": "dQbENH6mexTd"
      },
      "source": [
        "<div align=\"center\">\n",
        "<img style=\"display: block; margin: auto;\" alt=\"photo\" src=\"https://cdn.quantconnect.com/web/i/icon.png\">\n",
        "</div>\n",
        "\n",
        "Quantconnect\n",
        "\n",
        "Introduction to Financial Python\n",
        "</div>\n",
        "\n",
        "# NumPy and Basic Pandas\n",
        "\n",
        "# Introduction\n",
        "\n",
        "Now that we have introduced the fundamentals of Python, it's time to learn about NumPy and Pandas.\n",
        "\n",
        "# NumPy\n",
        "NumPy is the core library for scientific computing in Python. It provides a high-performance multidimensional array object, and tools for working with these arrays. It also has strong integration with Pandas, which is another powerful tool for manipulating financial data.\n",
        "\n",
        "Python packages like NumPy and Pandas contain classes and methods which we can use by importing the package:"
      ]
    },
    {
      "cell_type": "code",
      "execution_count": null,
      "metadata": {
        "id": "aIESp-rdO58h"
      },
      "outputs": [],
      "source": [
        "import numpy as np"
      ]
    },
    {
      "cell_type": "markdown",
      "metadata": {
        "id": "GScHHJ5ke7ea"
      },
      "source": [
        "## Basic NumPy Arrays\n",
        "A NumPy array is a grid of values, all of the same type, and is indexed by a tuple of nonnegative integers. Here we make an array by passing a list of Apple stock prices:"
      ]
    },
    {
      "cell_type": "code",
      "execution_count": null,
      "metadata": {
        "id": "lZI1wkwDO58i"
      },
      "outputs": [],
      "source": [
        "price_list = [143.73, 145.83, 143.68, 144.02, 143.5, 142.62]\n",
        "price_array = np.array(price_list)\n",
        "print(price_array, type(price_array))"
      ]
    },
    {
      "cell_type": "markdown",
      "source": [
        "**My own example 141**"
      ],
      "metadata": {
        "id": "fCrEZRypo55_"
      }
    },
    {
      "cell_type": "code",
      "source": [
        "price_list = ['Hola', 'soy un array', 'de numbpy']\n",
        "price_array = np.array(price_list)\n",
        "print(price_array, type(price_array))"
      ],
      "metadata": {
        "id": "qKa0NhBTop1h"
      },
      "execution_count": null,
      "outputs": []
    },
    {
      "cell_type": "markdown",
      "metadata": {
        "id": "-5Yj6u9ifB-t"
      },
      "source": [
        "Notice that the type of array is \"ndarray\" which is a multi-dimensional array. If we pass np.array() a list of lists, it will create a 2-dimensional array."
      ]
    },
    {
      "cell_type": "markdown",
      "source": [
        "**My own example 142**"
      ],
      "metadata": {
        "id": "dBcKTnnMpUFg"
      }
    },
    {
      "cell_type": "code",
      "execution_count": null,
      "metadata": {
        "id": "obvIZrK-O58j"
      },
      "outputs": [],
      "source": [
        "arr = np.array([[1,3],[2,4],[5,6],[7,8]])\n",
        "print(arr, type(arr))"
      ]
    },
    {
      "cell_type": "markdown",
      "metadata": {
        "id": "uDdfLD9HfHkl"
      },
      "source": [
        "We get the dimensions of an ndarray using the .shape attribute:"
      ]
    },
    {
      "cell_type": "code",
      "execution_count": null,
      "metadata": {
        "id": "G2txdn73O58j"
      },
      "outputs": [],
      "source": [
        "print(arr.shape)"
      ]
    },
    {
      "cell_type": "markdown",
      "source": [
        "**My own example 143**"
      ],
      "metadata": {
        "id": "I-B5VZzwqyfK"
      }
    },
    {
      "cell_type": "code",
      "source": [
        "print(arr.sum())"
      ],
      "metadata": {
        "id": "3g96hIbjqm2s"
      },
      "execution_count": null,
      "outputs": []
    },
    {
      "cell_type": "markdown",
      "source": [
        "My own example 144"
      ],
      "metadata": {
        "id": "zq3OMNzVrugt"
      }
    },
    {
      "cell_type": "code",
      "source": [
        "print(arr.dumps())"
      ],
      "metadata": {
        "id": "1tWMFR-qrltt"
      },
      "execution_count": null,
      "outputs": []
    },
    {
      "cell_type": "markdown",
      "source": [
        "**My own example 145**"
      ],
      "metadata": {
        "id": "QnvBxlJJr8iR"
      }
    },
    {
      "cell_type": "code",
      "source": [
        "print(arr.conj())"
      ],
      "metadata": {
        "id": "tYFFaSl4rw1w"
      },
      "execution_count": null,
      "outputs": []
    },
    {
      "cell_type": "markdown",
      "source": [
        "**My own example 146**"
      ],
      "metadata": {
        "id": "Fb5DV90PsElM"
      }
    },
    {
      "cell_type": "code",
      "source": [
        "print(arr.nonzero())"
      ],
      "metadata": {
        "id": "9V5YQT9lsBLh"
      },
      "execution_count": null,
      "outputs": []
    },
    {
      "cell_type": "markdown",
      "source": [
        "**My own example 147**"
      ],
      "metadata": {
        "id": "8_x9iaXWsO14"
      }
    },
    {
      "cell_type": "code",
      "source": [
        "print(arr.tolist())"
      ],
      "metadata": {
        "id": "XxffLE4TsHmG"
      },
      "execution_count": null,
      "outputs": []
    },
    {
      "cell_type": "markdown",
      "metadata": {
        "id": "87W5ueORfPEy"
      },
      "source": [
        "If we create an 2-dimensional array (i.e. matrix), each row can be accessed by index:"
      ]
    },
    {
      "cell_type": "code",
      "execution_count": null,
      "metadata": {
        "id": "x_QV9aPbO58j"
      },
      "outputs": [],
      "source": [
        "print(arr[0])\n",
        "print(arr[1])"
      ]
    },
    {
      "cell_type": "markdown",
      "metadata": {
        "id": "5Hke7Vt-fSGB"
      },
      "source": [
        "If we want to access the matrix by column instead:"
      ]
    },
    {
      "cell_type": "code",
      "execution_count": null,
      "metadata": {
        "id": "gHVwbPfOO58j"
      },
      "outputs": [],
      "source": [
        "print('the first column: ', arr[:,0])\n",
        "print('the second column: ', arr[:,1])"
      ]
    },
    {
      "cell_type": "markdown",
      "metadata": {
        "id": "T61cD0HMfStB"
      },
      "source": [
        "## Array Functions\n",
        "Some functions built in NumPy that allow us to perform calculations on arrays. For example, we can apply the natural logarithm to each element of an array:"
      ]
    },
    {
      "cell_type": "code",
      "execution_count": null,
      "metadata": {
        "id": "PKhwtJ7XO58k"
      },
      "outputs": [],
      "source": [
        "print(np.log(price_array))"
      ]
    },
    {
      "cell_type": "markdown",
      "metadata": {
        "id": "uzjBRFBLfZ-D"
      },
      "source": [
        "Other functions return a single value:"
      ]
    },
    {
      "cell_type": "code",
      "execution_count": null,
      "metadata": {
        "id": "nQuABZqUO58k"
      },
      "outputs": [],
      "source": [
        "print(np.mean(price_array))\n",
        "print(np.std(price_array))\n",
        "print(np.sum(price_array))\n",
        "print(np.max(price_array))"
      ]
    },
    {
      "cell_type": "markdown",
      "metadata": {
        "id": "IRW95BsifgDB"
      },
      "source": [
        "The functions above return the mean, standard deviation, total and maximum value of an array.\n",
        "\n",
        "# Pandas\n",
        "Pandas is one of the most powerful tools for dealing with financial data. \n",
        "\n",
        "First we need to import Pandas:"
      ]
    },
    {
      "cell_type": "code",
      "execution_count": null,
      "metadata": {
        "id": "xIYH4oUfO58k"
      },
      "outputs": [],
      "source": [
        "import pandas as pd"
      ]
    },
    {
      "cell_type": "markdown",
      "metadata": {
        "id": "zOig5gORfnJU"
      },
      "source": [
        "## Series\n",
        "Series is a one-dimensional labeled array capable of holding any data type (integers, strings, float, Python object, etc.)\n",
        "\n",
        "We create a Series by calling pd.Series(data), where data can be a dictionary, an array or just a scalar value."
      ]
    },
    {
      "cell_type": "markdown",
      "source": [
        "**My own example 148**"
      ],
      "metadata": {
        "id": "d7zzIVSVskuV"
      }
    },
    {
      "cell_type": "code",
      "execution_count": null,
      "metadata": {
        "id": "JmzoNzrPO58k"
      },
      "outputs": [],
      "source": [
        "price = [23, 123, 234, 543, 234, 356]\n",
        "s = pd.Series(price)\n",
        "s"
      ]
    },
    {
      "cell_type": "markdown",
      "metadata": {
        "id": "tP5iDnunfq46"
      },
      "source": [
        "We can customize the indices of a new Series:"
      ]
    },
    {
      "cell_type": "code",
      "execution_count": null,
      "metadata": {
        "id": "eswQC3ZPO58l"
      },
      "outputs": [],
      "source": [
        "s = pd.Series(price,index = ['a','b','c','d','e','f'])\n",
        "s"
      ]
    },
    {
      "cell_type": "markdown",
      "metadata": {
        "id": "wdZrb8pEfuua"
      },
      "source": [
        "Or we can change the indices of an existing Series:"
      ]
    },
    {
      "cell_type": "markdown",
      "source": [
        "**My own example 149**"
      ],
      "metadata": {
        "id": "YyJH3E6ltg-5"
      }
    },
    {
      "cell_type": "code",
      "execution_count": null,
      "metadata": {
        "id": "MwlRnPF6O58l"
      },
      "outputs": [],
      "source": [
        "s.index = [6,4,5,2,3,1]\n",
        "s"
      ]
    },
    {
      "cell_type": "markdown",
      "metadata": {
        "id": "6cGNQZwLfxIz"
      },
      "source": [
        "Series is like a list since it can be sliced by index:"
      ]
    },
    {
      "cell_type": "code",
      "execution_count": null,
      "metadata": {
        "id": "N9bBSg6cO58l"
      },
      "outputs": [],
      "source": [
        "print(s[1:])\n",
        "print(s[:-2])"
      ]
    },
    {
      "cell_type": "markdown",
      "metadata": {
        "id": "5V25nViZfz3Z"
      },
      "source": [
        "Series is also like a dictionary whose values can be set or fetched by index label:"
      ]
    },
    {
      "cell_type": "markdown",
      "source": [
        "**My own example 150**"
      ],
      "metadata": {
        "id": "0qkeWlTmtuHo"
      }
    },
    {
      "cell_type": "code",
      "execution_count": null,
      "metadata": {
        "id": "b3Y0kKGYO58l"
      },
      "outputs": [],
      "source": [
        "print(s)\n",
        "print(s[4])\n",
        "s[4] = 2\n",
        "print(s)\n"
      ]
    },
    {
      "cell_type": "markdown",
      "metadata": {
        "id": "RQ1P7Gkyf060"
      },
      "source": [
        "Series can also have a name attribute, which will be used when we make up a Pandas DataFrame using several series."
      ]
    },
    {
      "cell_type": "markdown",
      "source": [
        "**My own example 151**"
      ],
      "metadata": {
        "id": "nS6eU6Jbvd5W"
      }
    },
    {
      "cell_type": "code",
      "execution_count": null,
      "metadata": {
        "id": "ZeD4-p7KO58m"
      },
      "outputs": [],
      "source": [
        "s = pd.Series(price, name = 'Raves price list')\n",
        "print(s)\n",
        "print(s.name)"
      ]
    },
    {
      "cell_type": "markdown",
      "metadata": {
        "id": "geJb1pGHf5Et"
      },
      "source": [
        "We can get the statistical summaries of a Series:"
      ]
    },
    {
      "cell_type": "code",
      "execution_count": null,
      "metadata": {
        "id": "mGPtFcjegm4i"
      },
      "outputs": [],
      "source": [
        "print(s.describe())"
      ]
    },
    {
      "cell_type": "markdown",
      "source": [
        "**My own example 152**"
      ],
      "metadata": {
        "id": "sjp8pc4Qv3Cq"
      }
    },
    {
      "cell_type": "code",
      "source": [
        "print(s.rolling(2))"
      ],
      "metadata": {
        "id": "FtsZDNUqvmwq"
      },
      "execution_count": null,
      "outputs": []
    },
    {
      "cell_type": "markdown",
      "source": [
        "**My own example 153**"
      ],
      "metadata": {
        "id": "geUB2WELwC03"
      }
    },
    {
      "cell_type": "code",
      "source": [
        "print(s.abs)"
      ],
      "metadata": {
        "id": "tD8TKlh_v5-d"
      },
      "execution_count": null,
      "outputs": []
    },
    {
      "cell_type": "markdown",
      "source": [
        "**My own example 154**"
      ],
      "metadata": {
        "id": "QTXhPTiswONw"
      }
    },
    {
      "cell_type": "code",
      "source": [
        "print(s.autocorr())"
      ],
      "metadata": {
        "id": "BUxAiOmxwH0v"
      },
      "execution_count": null,
      "outputs": []
    },
    {
      "cell_type": "markdown",
      "source": [
        "**My own example 155**"
      ],
      "metadata": {
        "id": "vGVgrPlSwYb2"
      }
    },
    {
      "cell_type": "code",
      "source": [
        "print(s.cummin())"
      ],
      "metadata": {
        "id": "WZHUhDOhwUcg"
      },
      "execution_count": null,
      "outputs": []
    },
    {
      "cell_type": "markdown",
      "source": [
        "**My own example 156**"
      ],
      "metadata": {
        "id": "Xdj8qqkuwfZn"
      }
    },
    {
      "cell_type": "code",
      "source": [
        "print(s.cummax())"
      ],
      "metadata": {
        "id": "-iaPTvMzwcHB"
      },
      "execution_count": null,
      "outputs": []
    },
    {
      "cell_type": "markdown",
      "source": [
        "**My own example 157**"
      ],
      "metadata": {
        "id": "1w4S8g4hw3iF"
      }
    },
    {
      "cell_type": "code",
      "source": [
        "print(s.mad())"
      ],
      "metadata": {
        "id": "3QSVVylOwwso"
      },
      "execution_count": null,
      "outputs": []
    },
    {
      "cell_type": "markdown",
      "source": [
        "**My own example 158**"
      ],
      "metadata": {
        "id": "4uWVOV3JxAH3"
      }
    },
    {
      "cell_type": "code",
      "source": [
        "print(s.mode())"
      ],
      "metadata": {
        "id": "pj6esJk0w7d3"
      },
      "execution_count": null,
      "outputs": []
    },
    {
      "cell_type": "markdown",
      "source": [
        "**My own example 159**"
      ],
      "metadata": {
        "id": "qAJglXu-xOQf"
      }
    },
    {
      "cell_type": "code",
      "source": [
        "print(s.quantile(.025))"
      ],
      "metadata": {
        "id": "BqQp4s55xFdh"
      },
      "execution_count": null,
      "outputs": []
    },
    {
      "cell_type": "markdown",
      "source": [
        "**My own example 160**"
      ],
      "metadata": {
        "id": "6gDzFkyKyCjg"
      }
    },
    {
      "cell_type": "code",
      "source": [
        "print(s.head())"
      ],
      "metadata": {
        "id": "Yo2IFKk7xvPf"
      },
      "execution_count": null,
      "outputs": []
    },
    {
      "cell_type": "markdown",
      "metadata": {
        "id": "LkdZu-CDgvlR"
      },
      "source": [
        "## Time Index\n",
        "Pandas has a built-in function specifically for creating date indices: pd.date_range(). We use it to create a new index for our Series:"
      ]
    },
    {
      "cell_type": "code",
      "execution_count": null,
      "metadata": {
        "id": "HJe5hU4zO58m"
      },
      "outputs": [],
      "source": [
        "time_index = pd.date_range('2017-01-01',periods = len(s),freq = 'D')\n",
        "print(time_index)\n",
        "s.index = time_index\n",
        "print(s)"
      ]
    },
    {
      "cell_type": "markdown",
      "metadata": {
        "id": "7WedejFZg19J"
      },
      "source": [
        "Series are usually accessed using the iloc[] and loc[] methods. iloc[] is used to access elements by integer index, and loc[] is used to access the index of the series.\n",
        "\n",
        "iloc[] is necessary when the index of a series are integers, take our previous defined series as example:"
      ]
    },
    {
      "cell_type": "code",
      "execution_count": null,
      "metadata": {
        "id": "KrVSOyMvO58m"
      },
      "outputs": [],
      "source": [
        "s.index = [6,5,4,3,2,1]\n",
        "print(s)\n",
        "print(s[1])"
      ]
    },
    {
      "cell_type": "markdown",
      "metadata": {
        "id": "r30VKPtpg61p"
      },
      "source": [
        "If we intended to take the second element of the series, we would make a mistake here, because the index are integers. In order to access to the element we want, we use iloc[] here:"
      ]
    },
    {
      "cell_type": "code",
      "execution_count": null,
      "metadata": {
        "id": "bHukfaAmO58m"
      },
      "outputs": [],
      "source": [
        "print(s.iloc[1])"
      ]
    },
    {
      "cell_type": "markdown",
      "metadata": {
        "id": "kHVBRL_Rg84j"
      },
      "source": [
        "While working with time series data, we often use time as the index. Pandas provides us with various methods to access the data by time index"
      ]
    },
    {
      "cell_type": "code",
      "execution_count": null,
      "metadata": {
        "id": "FCf8Hg7jO58n"
      },
      "outputs": [],
      "source": [
        "s.index = time_index\n",
        "print(s['2017-01-03'])"
      ]
    },
    {
      "cell_type": "markdown",
      "metadata": {
        "id": "XJXcrSFpg-To"
      },
      "source": [
        "We can even access to a range of dates:"
      ]
    },
    {
      "cell_type": "code",
      "execution_count": null,
      "metadata": {
        "id": "NsE-Lr_9O58n"
      },
      "outputs": [],
      "source": [
        "print(s['2017-01-02':'2017-01-05'])"
      ]
    },
    {
      "cell_type": "markdown",
      "metadata": {
        "id": "cWA3NCXEhCLB"
      },
      "source": [
        "Series[] provides us a very flexible way to index data. We can add any condition in the square brackets:"
      ]
    },
    {
      "cell_type": "code",
      "execution_count": null,
      "metadata": {
        "id": "aawbrg2EO58n"
      },
      "outputs": [],
      "source": [
        "print(s[s < np.mean(s)] )\n",
        "print([(s > np.mean(s)) & (s < np.mean(s) + 1.64*np.std(s))])"
      ]
    },
    {
      "cell_type": "markdown",
      "metadata": {
        "id": "jAByChIwhEuI"
      },
      "source": [
        "As demonstrated, we can use logical operators like & (and), | (or) and ~ (not) to group multiple conditions.\n",
        "\n",
        "# Summary\n",
        "Here we have introduced NumPy and Pandas for scientific computing in Python. In the next chapter, we will dive into Pandas to learn resampling and manipulating Pandas DataFrame, which are commonly used in financial data analysis."
      ]
    },
    {
      "cell_type": "markdown",
      "metadata": {
        "id": "OtjOpw6oJp6z"
      },
      "source": [
        "<div align=\"center\">\n",
        "<img style=\"display: block; margin: auto;\" alt=\"photo\" src=\"https://cdn.quantconnect.com/web/i/icon.png\"> <img style=\"display: block; margin: auto;\" alt=\"photo\" src=\"https://www.marketing-branding.com/wp-content/uploads/2020/07/google-colaboratory-colab-guia-completa.jpg \" width=\"50\" height=\"50\">\n",
        "<img style=\"display: block; margin: auto;\" alt=\"photo\" src=\"https://upload.wikimedia.org/wikipedia/commons/3/37/Yahoo_Finance_Logo_2019.png\" width=\"50\" height=\"50\">  \n",
        "</div>\n",
        "\n",
        "Quantconnect -> Google Colab with Yahoo Finance data\n",
        "\n",
        "Introduction to Financial Python\n",
        "</div>\n",
        "\n",
        "# Pandas-Resampling and DataFrame\n",
        "\n",
        "# Introduction\n",
        "In the last chapter we had a glimpse of Pandas. In this chapter we will learn about resampling methods and the DataFrame object, which is a powerful tool for financial data analysis.\n",
        "\n",
        "# Fetching Data\n",
        "Here we use the Yahoo Finance to retrieve data.\n"
      ]
    },
    {
      "cell_type": "code",
      "execution_count": null,
      "metadata": {
        "id": "luU8mZTsHW9x"
      },
      "outputs": [],
      "source": [
        "!pip install yfinance"
      ]
    },
    {
      "cell_type": "markdown",
      "source": [
        "**My own example 161**"
      ],
      "metadata": {
        "id": "g_Zq3XWbzVE1"
      }
    },
    {
      "cell_type": "code",
      "execution_count": null,
      "metadata": {
        "id": "mWZ-nirTZHrE"
      },
      "outputs": [],
      "source": [
        "import yfinance as yf\n",
        "\n",
        "aapl = yf.Ticker(\"AAPL\")\n",
        "\n",
        "# get stock info\n",
        "print(aapl.info)\n",
        "\n",
        "# get historical market data\n",
        "aapl_table = aapl.history(start=\"2016-01-01\",  end=\"2017-12-31\")\n",
        "aapl_table"
      ]
    },
    {
      "cell_type": "markdown",
      "metadata": {
        "id": "NkFztSYhJyVA"
      },
      "source": [
        "We will create a Series named \"aapl\" whose values are Apple's daily closing prices, which are of course indexed by dates:"
      ]
    },
    {
      "cell_type": "code",
      "execution_count": null,
      "metadata": {
        "id": "QDJbOpCeHW91"
      },
      "outputs": [],
      "source": [
        "aapl = aapl_table['Close']['2017']"
      ]
    },
    {
      "cell_type": "markdown",
      "source": [
        "**My own example 162**"
      ],
      "metadata": {
        "id": "I34QSLeH0Bk3"
      }
    },
    {
      "cell_type": "code",
      "execution_count": null,
      "metadata": {
        "id": "SXfgCQJOHW91"
      },
      "outputs": [],
      "source": [
        "print(fb)"
      ]
    },
    {
      "cell_type": "markdown",
      "metadata": {
        "id": "waUEgBhzKEcA"
      },
      "source": [
        "Recall that we can fetch a specific data point using series['yyyy-mm-dd']. We can also fetch the data in a specific month using series['yyyy-mm']."
      ]
    },
    {
      "cell_type": "code",
      "execution_count": null,
      "metadata": {
        "id": "2gS50G0zHW92"
      },
      "outputs": [],
      "source": [
        "print(aapl['2015-3'])"
      ]
    },
    {
      "cell_type": "markdown",
      "source": [
        "**My own example 163**"
      ],
      "metadata": {
        "id": "G_OFmcgP286C"
      }
    },
    {
      "cell_type": "code",
      "execution_count": null,
      "metadata": {
        "id": "vpvxGwXtHW92"
      },
      "outputs": [],
      "source": [
        "aapl['2012-2':'2016-2']"
      ]
    },
    {
      "cell_type": "markdown",
      "metadata": {
        "id": "lWwoD39pKNKb"
      },
      "source": [
        ".head(N) and .tail(N) are methods for quickly accessing the first or last N elements."
      ]
    },
    {
      "cell_type": "markdown",
      "source": [
        "**My own example 164**"
      ],
      "metadata": {
        "id": "9MySAh553DYz"
      }
    },
    {
      "cell_type": "code",
      "execution_count": null,
      "metadata": {
        "id": "1eU218ALHW93"
      },
      "outputs": [],
      "source": [
        "print(aapl.head(7))\n",
        "print(aapl.tail(9))"
      ]
    },
    {
      "cell_type": "markdown",
      "metadata": {
        "id": "IxhKxtj-KQ66"
      },
      "source": [
        "# Resampling\n",
        "**_series.resample(freq)_** is a class called \"DatetimeIndexResampler\" which groups data in a Series object into regular time intervals. The argument \"freq\" determines the length of each interval.\n",
        "\n",
        "**_series.resample.mean()_** is a complete statement that groups data into intervals, and then compute the mean of each interval. For example, if we want to aggregate the daily data into monthly data by mean:"
      ]
    },
    {
      "cell_type": "code",
      "source": [
        "by_month = aapl.resample('M').mean()\n",
        "print(by_month)"
      ],
      "metadata": {
        "id": "ADNwiLnE3gsC"
      },
      "execution_count": null,
      "outputs": []
    },
    {
      "cell_type": "markdown",
      "source": [
        "**My own example 165**"
      ],
      "metadata": {
        "id": "WJOrD_533SjX"
      }
    },
    {
      "cell_type": "code",
      "execution_count": null,
      "metadata": {
        "id": "rAV8NkHkHW93"
      },
      "outputs": [],
      "source": [
        "by_year = aapl.resample('Y').mean()\n",
        "print(by_year)"
      ]
    },
    {
      "cell_type": "markdown",
      "metadata": {
        "id": "QDPfVzBEKV6Q"
      },
      "source": [
        "We can also aggregate the data by week:"
      ]
    },
    {
      "cell_type": "code",
      "execution_count": null,
      "metadata": {
        "id": "aAP3tKkBHW94"
      },
      "outputs": [],
      "source": [
        "by_week = aapl.resample('W').mean()\n",
        "print(by_week.head())"
      ]
    },
    {
      "cell_type": "markdown",
      "metadata": {
        "id": "o_MXSVsILoBS"
      },
      "source": [
        "We can also aggregate the data by month with max:"
      ]
    },
    {
      "cell_type": "code",
      "execution_count": null,
      "metadata": {
        "id": "gn0wqXBTHW95"
      },
      "outputs": [],
      "source": [
        "aapl.resample('M').max()"
      ]
    },
    {
      "cell_type": "markdown",
      "source": [
        "**My own example 166**"
      ],
      "metadata": {
        "id": "TJVvo7xj3212"
      }
    },
    {
      "cell_type": "code",
      "source": [
        "aapl.resample('Y').std()"
      ],
      "metadata": {
        "id": "V7e7YJvU3vbh"
      },
      "execution_count": null,
      "outputs": []
    },
    {
      "cell_type": "markdown",
      "source": [
        "**My own example 167**"
      ],
      "metadata": {
        "id": "0Dw1Kiid4COK"
      }
    },
    {
      "cell_type": "code",
      "source": [
        "aapl.resample('W').var()"
      ],
      "metadata": {
        "id": "bk3PQZnM39si"
      },
      "execution_count": null,
      "outputs": []
    },
    {
      "cell_type": "markdown",
      "source": [
        "**My own example 168**"
      ],
      "metadata": {
        "id": "xUz9s4S142l-"
      }
    },
    {
      "cell_type": "code",
      "source": [
        "aapl.resample('Y').backfill()"
      ],
      "metadata": {
        "id": "pI8MMZKp4I6h"
      },
      "execution_count": null,
      "outputs": []
    },
    {
      "cell_type": "markdown",
      "metadata": {
        "id": "Z8r46UFlLdAh"
      },
      "source": [
        "We can choose almost any frequency by using the format 'nf', where 'n' is an integer and 'f' is M for month, W for week and D for day."
      ]
    },
    {
      "cell_type": "code",
      "execution_count": null,
      "metadata": {
        "id": "kdVB_-JFHW96"
      },
      "outputs": [],
      "source": [
        "three_day = aapl.resample('3D').mean()\n",
        "two_week = aapl.resample('2W').mean()\n",
        "two_month = aapl.resample('2M').mean()\n",
        "\n",
        "\n",
        "print(three_day)\n",
        "print(two_week)\n",
        "print(two_month )"
      ]
    },
    {
      "cell_type": "markdown",
      "metadata": {
        "id": "iy4RqsnwL-Bw"
      },
      "source": [
        "Besides the mean() method, other methods can also be used with the resampler:\n",
        "\n"
      ]
    },
    {
      "cell_type": "code",
      "execution_count": null,
      "metadata": {
        "id": "DNT8Fx9dHW96"
      },
      "outputs": [],
      "source": [
        "std = aapl.resample('W').std()\n",
        "max = aapl.resample('W').max()\n",
        "min = aapl.resample('W').min()\n",
        "\n",
        "\n",
        "print(std)\n",
        "print(max)\n",
        "print(min)"
      ]
    },
    {
      "cell_type": "markdown",
      "source": [
        "**My own example 169**"
      ],
      "metadata": {
        "id": "475xuBV3P2mO"
      }
    },
    {
      "cell_type": "code",
      "source": [
        "var = aapl.resample('Y').var();\n",
        "print(var)"
      ],
      "metadata": {
        "id": "zn2LVnRePwk3"
      },
      "execution_count": null,
      "outputs": []
    },
    {
      "cell_type": "markdown",
      "source": [
        "**My own example 170**"
      ],
      "metadata": {
        "id": "FFncawpIQaqp"
      }
    },
    {
      "cell_type": "code",
      "source": [
        "median = aapl.resample('M').median()\n",
        "print(median)"
      ],
      "metadata": {
        "id": "7huI-DIIP7UE"
      },
      "execution_count": null,
      "outputs": []
    },
    {
      "cell_type": "markdown",
      "metadata": {
        "id": "uqln0s5DMI3I"
      },
      "source": [
        "Often we want to calculate monthly returns of a stock, based on prices on the last day of each month. To fetch those prices, we use the series.resample.agg() method:"
      ]
    },
    {
      "cell_type": "code",
      "execution_count": null,
      "metadata": {
        "id": "A6FSYvqbHW97"
      },
      "outputs": [],
      "source": [
        "last_day = aapl.resample('M').agg(lambda x: x[-1])\n",
        "print(last_day)"
      ]
    },
    {
      "cell_type": "markdown",
      "metadata": {
        "id": "uwomY3aXMR46"
      },
      "source": [
        "Or directly calculate the monthly rates of return using the data for the first day and the last day:"
      ]
    },
    {
      "cell_type": "code",
      "execution_count": null,
      "metadata": {
        "id": "qK2NMJrNHW96"
      },
      "outputs": [],
      "source": [
        "monthly_return = aapl.resample('M').agg(lambda x: x[-1]/x[0] - 1)\n",
        "print(monthly_return)"
      ]
    },
    {
      "cell_type": "markdown",
      "metadata": {
        "id": "_DYbMTFWMj8J"
      },
      "source": [
        "Series object also provides us some convenient methods to do some quick calculation."
      ]
    },
    {
      "cell_type": "code",
      "execution_count": null,
      "metadata": {
        "id": "1Mxc0HwvHW98"
      },
      "outputs": [],
      "source": [
        "print(monthly_return.mean())\n",
        "print(monthly_return.std())\n",
        "print(monthly_return.max())"
      ]
    },
    {
      "cell_type": "markdown",
      "source": [
        "**My own example 171**"
      ],
      "metadata": {
        "id": "kBf91Sb7RWoY"
      }
    },
    {
      "cell_type": "code",
      "source": [
        "print(monthly_return.min())"
      ],
      "metadata": {
        "id": "xj6JmCe9RS4_"
      },
      "execution_count": null,
      "outputs": []
    },
    {
      "cell_type": "markdown",
      "source": [
        "**My own example 172**"
      ],
      "metadata": {
        "id": "Lp6Dx6xzRbSL"
      }
    },
    {
      "cell_type": "code",
      "source": [
        "print(monthly_return.var())"
      ],
      "metadata": {
        "id": "TQE5qs7MRYyl"
      },
      "execution_count": null,
      "outputs": []
    },
    {
      "cell_type": "markdown",
      "source": [
        "**My own example 173**"
      ],
      "metadata": {
        "id": "Hn39dEXKRf6m"
      }
    },
    {
      "cell_type": "code",
      "source": [
        "print(monthly_return.median)"
      ],
      "metadata": {
        "id": "hnS5L94WReC0"
      },
      "execution_count": null,
      "outputs": []
    },
    {
      "cell_type": "markdown",
      "metadata": {
        "id": "mn59J5dqMpqX"
      },
      "source": [
        "Another two methods frequently used on Series are .diff() and .pct_change(). The former calculates the difference between consecutive elements, and the latter calculates the percentage change."
      ]
    },
    {
      "cell_type": "code",
      "execution_count": null,
      "metadata": {
        "id": "DupZTSqqHW99"
      },
      "outputs": [],
      "source": [
        "print(last_day.diff())\n",
        "print(last_day.pct_change())"
      ]
    },
    {
      "cell_type": "markdown",
      "source": [
        "**My own example 174**"
      ],
      "metadata": {
        "id": "M1zu51NMSJuc"
      }
    },
    {
      "cell_type": "code",
      "source": [
        "print(last_day.cumsum())"
      ],
      "metadata": {
        "id": "ry_eqrwsR7nH"
      },
      "execution_count": null,
      "outputs": []
    },
    {
      "cell_type": "markdown",
      "source": [
        "**My own example 175**"
      ],
      "metadata": {
        "id": "17Zwz1h2STwr"
      }
    },
    {
      "cell_type": "code",
      "source": [
        "print(last_day.cumprod())"
      ],
      "metadata": {
        "id": "uylOnN_cSQGW"
      },
      "execution_count": null,
      "outputs": []
    },
    {
      "cell_type": "markdown",
      "source": [
        "**My own example 176**"
      ],
      "metadata": {
        "id": "T2BsKVNUSffb"
      }
    },
    {
      "cell_type": "code",
      "source": [
        "print(last_day.clip())"
      ],
      "metadata": {
        "id": "a6lbIUNCSaNq"
      },
      "execution_count": null,
      "outputs": []
    },
    {
      "cell_type": "markdown",
      "metadata": {
        "id": "RaMAOFepM6Io"
      },
      "source": [
        "Notice that we induced a NaN value while calculating percentage changes i.e. returns.\n",
        "\n",
        "When dealing with NaN values, we usually either removing the data point or fill it with a specific value. Here we fill it with 0:"
      ]
    },
    {
      "cell_type": "code",
      "execution_count": null,
      "metadata": {
        "id": "-xyLb3A3HW99"
      },
      "outputs": [],
      "source": [
        "daily_return = last_day.pct_change()\n",
        "print(daily_return.fillna(0))"
      ]
    },
    {
      "cell_type": "markdown",
      "metadata": {
        "id": "BYS10Om1NQVC"
      },
      "source": [
        "Alternatively, we can fill a NaN with the next fitted value. This is called 'backward fill', or 'bfill' in short:"
      ]
    },
    {
      "cell_type": "code",
      "execution_count": null,
      "metadata": {
        "id": "J513kHeKHW9-"
      },
      "outputs": [],
      "source": [
        "daily_return = last_day.pct_change()\n",
        "print(daily_return.fillna(method = 'bfill'))"
      ]
    },
    {
      "cell_type": "markdown",
      "metadata": {
        "id": "bj8QUSgdNepf"
      },
      "source": [
        "As expected, since there is a 'backward fill' method, there must be a 'forward fill' method, or 'ffill' in short. However we can't use it here because the NaN is the first value.\n",
        "\n",
        "We can also simply remove NaN values by **_.dropna()_**"
      ]
    },
    {
      "cell_type": "code",
      "execution_count": null,
      "metadata": {
        "id": "WG5ux1lqHW9-"
      },
      "outputs": [],
      "source": [
        "daily_return = last_day.pct_change()\n",
        "daily_return.dropna()"
      ]
    },
    {
      "cell_type": "markdown",
      "metadata": {
        "id": "nQH2eBWkNjdC"
      },
      "source": [
        "# DataFrame\n",
        "The **DataFrame** is the most commonly used data structure in Pandas. It is essentially a table, just like an Excel spreadsheet.\n",
        "\n",
        "More precisely, a DataFrame is a collection of Series objects, each of which may contain different data types. A DataFrame can be created from various data types: dictionary, 2-D numpy.ndarray, a Series or another DataFrame.\n",
        "\n",
        "## Create DataFrames\n",
        "The most common method of creating a DataFrame is passing a dictionary:"
      ]
    },
    {
      "cell_type": "markdown",
      "source": [
        "**My own example 177**"
      ],
      "metadata": {
        "id": "v16MZ2nj0m6J"
      }
    },
    {
      "cell_type": "code",
      "execution_count": null,
      "metadata": {
        "id": "vd5Wf1ohHW9-"
      },
      "outputs": [],
      "source": [
        "import pandas as pd\n",
        "\n",
        "dict = {'FB': [143.5, 144.09, 142.73, 144.18, 143.77],'IBM':[898.7, 911.71, 906.69, 918.59, 926.99],\n",
        "        ' MSFT':[155.58, 153.67, 152.36, 152.94, 153.49]}\n",
        "data_index = pd.date_range('2014-07-03',periods = 5, freq = 'D')\n",
        "df = pd.DataFrame(dict, index = data_index)\n",
        "print(df)"
      ]
    },
    {
      "cell_type": "markdown",
      "metadata": {
        "id": "0uYmLQTgOPnX"
      },
      "source": [
        "## Manipulating DataFrames\n",
        "We can fetch values in a DataFrame by columns and index. Each column in a DataFrame is essentially a Pandas Series. We can fetch a column by square brackets: **df['column_name']**\n",
        "\n",
        "If a column name contains no spaces, then we can also use df.column_name to fetch a column:"
      ]
    },
    {
      "cell_type": "markdown",
      "source": [
        "**My own example 178**"
      ],
      "metadata": {
        "id": "WRiphQkp17VF"
      }
    },
    {
      "cell_type": "code",
      "execution_count": null,
      "metadata": {
        "id": "2pB2f7lBHW9_"
      },
      "outputs": [],
      "source": [
        "df = fb_table\n",
        "print(df.Close.tail(5))\n",
        "print(df['Volume'].tail(5))"
      ]
    },
    {
      "cell_type": "markdown",
      "source": [
        "**My own example 179**"
      ],
      "metadata": {
        "id": "rfEO9x1I1387"
      }
    },
    {
      "cell_type": "code",
      "source": [
        "dm = aapl_table\n",
        "print(dm.Close.head(5))\n",
        "print(df['Volume'].head(5))"
      ],
      "metadata": {
        "id": "x77zVw6P1suE"
      },
      "execution_count": null,
      "outputs": []
    },
    {
      "cell_type": "markdown",
      "metadata": {
        "id": "z0ugOel9O4-P"
      },
      "source": [
        "All the methods we applied to a Series index such as iloc[], loc[] and resampling methods, can also be applied to a DataFrame:"
      ]
    },
    {
      "cell_type": "code",
      "execution_count": null,
      "metadata": {
        "id": "_8dfjkedHW9_"
      },
      "outputs": [],
      "source": [
        "aapl_2016 = df['2016']\n",
        "aapl_month = aapl_2016.resample('M').agg(lambda x: x[-1])\n",
        "print(aapl_month)"
      ]
    },
    {
      "cell_type": "markdown",
      "metadata": {
        "id": "CqrbrbFZPTJe"
      },
      "source": [
        "We may select certain columns of a DataFrame using their names:"
      ]
    },
    {
      "cell_type": "code",
      "execution_count": null,
      "metadata": {
        "id": "7bQGeyCAHW9_"
      },
      "outputs": [],
      "source": [
        "aapl_bar = aapl_month[['Open', 'High', 'Low', 'Close']]\n",
        "print(aapl_bar)"
      ]
    },
    {
      "cell_type": "markdown",
      "metadata": {
        "id": "8CQaZCAQP68O"
      },
      "source": [
        "We can even specify both rows and columns using loc[]. The row indices and column names are separated by a comma:"
      ]
    },
    {
      "cell_type": "code",
      "execution_count": null,
      "metadata": {
        "id": "YjWWiHVpHW-A"
      },
      "outputs": [],
      "source": [
        "print(aapl_month.loc['2016-03':'2016-06',['Open', 'High', 'Low', 'Close']])"
      ]
    },
    {
      "cell_type": "markdown",
      "metadata": {
        "id": "Xcn_pHNLQBEH"
      },
      "source": [
        "The subset methods in DataFrame is quite useful. By writing logical statements in square brackets, we can make customized subsets:"
      ]
    },
    {
      "cell_type": "code",
      "execution_count": null,
      "metadata": {
        "id": "RxKg4dObHW-A"
      },
      "outputs": [],
      "source": [
        "import numpy as np\n",
        "\n",
        "above = aapl_bar[aapl_bar.Close > np.mean(aapl_bar.Close)]\n",
        "print(above)"
      ]
    },
    {
      "cell_type": "markdown",
      "metadata": {
        "id": "wcm_UadkQLL5"
      },
      "source": [
        "## Data Validation\n",
        "As mentioned, all methods that apply to a Series can also be applied to a DataFrame. Here we add a new column to an existing DataFrame:"
      ]
    },
    {
      "cell_type": "code",
      "execution_count": null,
      "metadata": {
        "id": "jZXFdOVFHW-A"
      },
      "outputs": [],
      "source": [
        "aapl_bar['rate_return'] = aapl_bar.Close.pct_change()\n",
        "print(aapl_bar)"
      ]
    },
    {
      "cell_type": "markdown",
      "metadata": {
        "id": "_or6n5-LQUa-"
      },
      "source": [
        "Here the calculation introduced a NaN value. If the DataFrame is large, we would not be able to observe it. **isnull()** provides a convenient way to check abnormal values."
      ]
    },
    {
      "cell_type": "code",
      "execution_count": null,
      "metadata": {
        "id": "V5wgmhIPHW-B"
      },
      "outputs": [],
      "source": [
        "missing = aapl_bar.isnull()\n",
        "print(missing)\n",
        "print('---------------------------------------------')\n",
        "print(missing.describe())"
      ]
    },
    {
      "cell_type": "markdown",
      "metadata": {
        "id": "d6KFV4i0QfLW"
      },
      "source": [
        "The row labelled \"unique\" indicates the number of unique values in each column. Since the \"rate_return\" column has 2 unique values, it has at least one missing value.\n",
        "\n",
        "We can deduce the number of missing values by comparing \"count\" with \"freq\". There are 12 counts and 11 False values, so there is one True value which corresponds to the missing value.\n",
        "\n",
        "We can also find the rows with missing values easily:"
      ]
    },
    {
      "cell_type": "code",
      "execution_count": null,
      "metadata": {
        "id": "Eo0ZAhCsHW-B"
      },
      "outputs": [],
      "source": [
        "print(missing[missing.rate_return == True])"
      ]
    },
    {
      "cell_type": "markdown",
      "metadata": {
        "id": "qgggpD8OQkZX"
      },
      "source": [
        "Usually when dealing with missing data, we either delete the whole row or fill it with some value. As we introduced in the Series chapter, the same method **dropna()** and **fillna()** can be applied to a DataFrame."
      ]
    },
    {
      "cell_type": "code",
      "execution_count": null,
      "metadata": {
        "id": "j8PaIokjHW-B"
      },
      "outputs": [],
      "source": [
        "drop = aapl_bar.dropna()\n",
        "print(drop)\n",
        "print('\\n--------------------------------------------------\\n')\n",
        "fill = aapl_bar.fillna(0)\n",
        "print(fill)"
      ]
    },
    {
      "cell_type": "markdown",
      "metadata": {
        "id": "0tvoFlKWQxYG"
      },
      "source": [
        "## DataFrame Concat\n",
        "We have seen how to extract a Series from a dataFrame. Now we need to consider how to merge a Series or a DataFrame into another one.\n",
        "\n",
        "In Pandas, the function **concat()** allows us to merge multiple Series into a DataFrame:"
      ]
    },
    {
      "cell_type": "markdown",
      "source": [
        "**My own example 180**"
      ],
      "metadata": {
        "id": "ISGThSqp2WxN"
      }
    },
    {
      "cell_type": "code",
      "execution_count": null,
      "metadata": {
        "id": "uQrmLIWKHW-C"
      },
      "outputs": [],
      "source": [
        "s1 = pd.Series([135, 14409.34, 157.3, 144.2, 1534.7], name = 'FB')\n",
        "s2 = pd.Series([8987.5, 971.2, 9.69, 5667.2, 92.9], name = 'IBM')\n",
        "data_frame = pd.concat([s1,s2], axis = 1)\n",
        "print(data_frame)"
      ]
    },
    {
      "cell_type": "markdown",
      "metadata": {
        "id": "3ojbNYJLR2vv"
      },
      "source": [
        "The \"axis = 1\" parameter will join two DataFrames by columns:"
      ]
    },
    {
      "cell_type": "code",
      "execution_count": null,
      "metadata": {
        "id": "DJsaLd-cRoIm"
      },
      "outputs": [],
      "source": [
        "log_price = np.log(aapl_bar.Close)\n",
        "log_price.name = 'log_price'\n",
        "print(log_price)\n",
        "print('\\n---------------------- separate line--------------------\\n')\n",
        "concat = pd.concat([aapl_bar, log_price], axis = 1)\n",
        "print(concat)"
      ]
    },
    {
      "cell_type": "markdown",
      "metadata": {
        "id": "mIZz-FUyR_62"
      },
      "source": [
        "We can also join two DataFrames by rows. Consider these two DataFrames:"
      ]
    },
    {
      "cell_type": "code",
      "execution_count": null,
      "metadata": {
        "id": "W7uXZptLHW-C"
      },
      "outputs": [],
      "source": [
        "df_volume = aapl_table.loc['2016-10':'2017-04',['Volume', 'Stock Splits']].resample('M').agg(lambda x: x[-1])\n",
        "print(df_volume)\n",
        "print('\\n---------------------- separate line--------------------\\n')\n",
        "df_2017 = aapl_table.loc['2016-10':'2017-04',['Open', 'High', 'Low', 'Close']].resample('M').agg(lambda x: x[-1])\n",
        "print(df_2017)"
      ]
    },
    {
      "cell_type": "markdown",
      "metadata": {
        "id": "iZk_C9aSSLeP"
      },
      "source": [
        "Now we merge the DataFrames with our DataFrame 'aapl_bar'"
      ]
    },
    {
      "cell_type": "code",
      "execution_count": null,
      "metadata": {
        "id": "aFqmjokOHW-C"
      },
      "outputs": [],
      "source": [
        "concat = pd.concat([aapl_bar, df_volume], axis = 1)\n",
        "print(concat)"
      ]
    },
    {
      "cell_type": "markdown",
      "metadata": {
        "id": "7yI3tgB4SR4O"
      },
      "source": [
        "By default the DataFrame are joined with all of the data. This default options results in zero information loss. We can also merge them by intersection, this is called 'inner join"
      ]
    },
    {
      "cell_type": "code",
      "execution_count": null,
      "metadata": {
        "id": "31QGLyijHW-C"
      },
      "outputs": [],
      "source": [
        "concat = pd.concat([aapl_bar,df_volume],axis = 1, join = 'inner')\n",
        "print(concat)"
      ]
    },
    {
      "cell_type": "markdown",
      "metadata": {
        "id": "oudcWMm5Sd0u"
      },
      "source": [
        "Only the intersection part was left if use 'inner join' method. Now let's try to append a DataFrame to another one:"
      ]
    },
    {
      "cell_type": "code",
      "execution_count": null,
      "metadata": {
        "id": "lgw0qaOsHW-D"
      },
      "outputs": [],
      "source": [
        "append = aapl_bar.append(df_2017)\n",
        "print(append)"
      ]
    },
    {
      "cell_type": "markdown",
      "metadata": {
        "id": "zXT6cMquSq_P"
      },
      "source": [
        "'Append' is essentially to concat two DataFrames by axis = 0, thus here is an alternative way to append:"
      ]
    },
    {
      "cell_type": "code",
      "execution_count": null,
      "metadata": {
        "id": "2EuSaFO9HW-D"
      },
      "outputs": [],
      "source": [
        "concat = pd.concat([aapl_bar, df_2017], axis = 0)\n",
        "print(concat)"
      ]
    },
    {
      "cell_type": "markdown",
      "metadata": {
        "id": "-YXL7V9ASst9"
      },
      "source": [
        "Please note that if the two DataFrame have some columns with the same column names, these columns are considered to be the same and will be merged. It's very important to have the right column names. If we change a column names here:"
      ]
    },
    {
      "cell_type": "code",
      "execution_count": null,
      "metadata": {
        "id": "aT1eoa8mHW-D"
      },
      "outputs": [],
      "source": [
        "df_2017.columns = ['Change', 'High','Low','Close']\n",
        "concat = pd.concat([aapl_bar, df_2017], axis = 0)\n",
        "print(concat)"
      ]
    },
    {
      "cell_type": "markdown",
      "metadata": {
        "id": "shbpOFyyS6uV"
      },
      "source": [
        "Since the column name of 'Open' has been changed, the new DataFrame has an new column named 'Change'.\n",
        "\n",
        "# Summary\n",
        "\n",
        "Hereby we introduced the most import part of python: resampling and DataFrame manipulation. We only introduced the most commonly used method in Financial data analysis. There are also many methods used in data mining, which are also beneficial. You can always check the [Pandas](https://pandas.pydata.org/pandas-docs/stable/index.html) official documentations for help."
      ]
    },
    {
      "cell_type": "markdown",
      "metadata": {
        "id": "xxHKurMNIgZQ"
      },
      "source": [
        "<div align=\"center\">\n",
        "<img style=\"display: block; margin: auto;\" alt=\"photo\" src=\"https://upload.wikimedia.org/wikipedia/en/d/de/Quantopian_logo_2017.png\">\n",
        "</div>\n",
        "\n",
        "# Colab Yahoo Graphical Representations of Data\n",
        "By Evgenia \"Jenny\" Nitishinskaya, Maxwell Margenot, and Delaney Granizo-Mackenzie.\n",
        "\n",
        "Part of the Quantopian Lecture Series:\n",
        "\n",
        "* [www.quantopian.com/lectures](https://www.quantopian.com/lectures)\n",
        "* [github.com/quantopian/research_public](https://github.com/quantopian/research_public)\n",
        "\n",
        "\n",
        "\n",
        "Representing data graphically can be incredibly useful for learning how the data behaves and seeing potential structure or flaws. Care should be taken, as humans are incredibly good at seeing only evidence that confirms our beliefs, and visual data lends itself well to that. Plots are good to use when formulating a hypothesis, but should not be used to test a hypothesis.\n",
        "\n",
        "We will go over some common plots here."
      ]
    },
    {
      "cell_type": "code",
      "execution_count": null,
      "metadata": {
        "collapsed": true,
        "id": "FnnO3C1AIgZT"
      },
      "outputs": [],
      "source": [
        "# Import our libraries\n",
        "\n",
        "# This is for numerical processing\n",
        "import numpy as np\n",
        "# This is the library most commonly used for plotting in Python.\n",
        "# Notice how we import it 'as' plt, this enables us to type plt\n",
        "# rather than the full string every time.\n",
        "import matplotlib.pyplot as plt"
      ]
    },
    {
      "cell_type": "code",
      "execution_count": null,
      "metadata": {
        "id": "5E6FkiPlR85Y"
      },
      "outputs": [],
      "source": [
        "!pip install yfinance"
      ]
    },
    {
      "cell_type": "markdown",
      "metadata": {
        "id": "QYLdaw9yIgZU"
      },
      "source": [
        "## Getting Some Data\n",
        "\n",
        "If we're going to plot data we need some data to plot. We'll get the pricing data of Apple (AAPL) and Microsoft (MSFT) to use in our examples.\n",
        "\n",
        "### Data Structure\n",
        "\n",
        "Knowing the structure of your data is very important. Normally you'll have to do a ton of work molding your data into the form you need for testing. Quantopian has done a lot of cleaning on the data, but you still need to put it into the right shapes and formats for your purposes.\n",
        "\n",
        "In this case the data will be returned as a pandas dataframe object. The rows are timestamps, and the columns are the two assets, AAPL and MSFT."
      ]
    },
    {
      "cell_type": "code",
      "execution_count": null,
      "metadata": {
        "id": "wsYGUYPISDgn"
      },
      "outputs": [],
      "source": [
        "import yfinance as yf\n",
        "\n",
        "data_all = yf.download(\"AAPL,MSFT\", start=\"2014-01-01\", end=\"2015-01-01\")\n",
        "data_all.head()"
      ]
    },
    {
      "cell_type": "markdown",
      "source": [
        "**My own example 181**"
      ],
      "metadata": {
        "id": "27IJ7oNPVAsV"
      }
    },
    {
      "cell_type": "code",
      "source": [
        "data_all = yf.download(\"IBM,FB\", start=\"2012-01-01\", end=\"2016-01-01\")\n",
        "data_all.head()"
      ],
      "metadata": {
        "id": "LJaTz-GcUlAl"
      },
      "execution_count": null,
      "outputs": []
    },
    {
      "cell_type": "markdown",
      "source": [
        "**My own example 182**"
      ],
      "metadata": {
        "id": "USX4U_h6ViHY"
      }
    },
    {
      "cell_type": "code",
      "source": [
        "data_all = yf.download(\"AMD,AMZN,KGC\", start=\"2010-01-01\", end=\"2019-01-01\")\n",
        "data_all.head()\n",
        "data = data_all[\"Close\"]\n",
        "data.head()"
      ],
      "metadata": {
        "id": "j0VboE5DVDUe"
      },
      "execution_count": null,
      "outputs": []
    },
    {
      "cell_type": "markdown",
      "source": [
        "**My own example 183**"
      ],
      "metadata": {
        "id": "rzZmpxEaV75y"
      }
    },
    {
      "cell_type": "code",
      "source": [
        "data_all = yf.download(\"NOK,DNA,NVDA,PLTR,SOFI, IBM, FB\", start=\"2015-01-01\", end=\"2019-01-31\")\n",
        "data_all.head()"
      ],
      "metadata": {
        "id": "uw6f-cLKVkmD"
      },
      "execution_count": null,
      "outputs": []
    },
    {
      "cell_type": "code",
      "execution_count": null,
      "metadata": {
        "id": "8ScM9Jw8UHyB"
      },
      "outputs": [],
      "source": [
        "data = data_all[\"Close\"]\n",
        "data.head()"
      ]
    },
    {
      "cell_type": "markdown",
      "source": [
        "**My own example 184**"
      ],
      "metadata": {
        "id": "BYxniWo7WZGm"
      }
    },
    {
      "cell_type": "code",
      "execution_count": null,
      "metadata": {
        "id": "RGMQcgQYIgZX"
      },
      "outputs": [],
      "source": [
        "data['NVDA'].head()"
      ]
    },
    {
      "cell_type": "markdown",
      "metadata": {
        "id": "vE2yW8_TIgZY"
      },
      "source": [
        "##Histogram\n",
        "\n",
        "A histogram is a visualization of how frequent different values of data are. By displaying a frequency distribution using bars, it lets us quickly see where most of the observations are clustered. The height of each bar represents the number of observations that lie in each interval. You can think of a histogram as an empirical and discrete Probability Density Function (PDF)."
      ]
    },
    {
      "cell_type": "markdown",
      "source": [
        "**My own example 185**"
      ],
      "metadata": {
        "id": "JygsCtOjWSFY"
      }
    },
    {
      "cell_type": "code",
      "execution_count": null,
      "metadata": {
        "id": "Lk-o25YcIgZZ"
      },
      "outputs": [],
      "source": [
        "# Plot a histogram using 20 bins\n",
        "plt.hist(data['NVDA'], bins=20)\n",
        "plt.xlabel('Price')\n",
        "plt.ylabel('Number of Days Observed')\n",
        "plt.title('Frequency Distribution of NVDA Prices');"
      ]
    },
    {
      "cell_type": "markdown",
      "source": [
        "**My own example 186**"
      ],
      "metadata": {
        "id": "7jxksqwlXI0c"
      }
    },
    {
      "cell_type": "code",
      "source": [
        "plt.hist(data['NOK'], bins=30)\n",
        "plt.xlabel('Price')\n",
        "plt.ylabel('Number of Days Observed')\n",
        "plt.title('Frequency Distribution of FB Prices');"
      ],
      "metadata": {
        "id": "QvUOlOS1W1d0"
      },
      "execution_count": null,
      "outputs": []
    },
    {
      "cell_type": "markdown",
      "metadata": {
        "id": "tnd-CcEjIgZZ"
      },
      "source": [
        "### Returns Histogram\n",
        "\n",
        "In finance rarely will we look at the distribution of prices. The reason for this is that prices are non-stationary and move around a lot. For more info on non-stationarity please see [this lecture](https://www.quantopian.com/lectures/integration-cointegration-and-stationarity). Instead we will use daily returns. Let's try that now."
      ]
    },
    {
      "cell_type": "markdown",
      "source": [
        "**My own example 187**"
      ],
      "metadata": {
        "id": "D6Smn4BAX0Dm"
      }
    },
    {
      "cell_type": "code",
      "execution_count": null,
      "metadata": {
        "id": "Yheega7DIgZa"
      },
      "outputs": [],
      "source": [
        "# Remove the first element because percent change from nothing to something is NaN\n",
        "R = data['NVDA'].pct_change()[1:]\n",
        "\n",
        "# Plot a histogram using 20 bins\n",
        "plt.hist(R, bins=20)\n",
        "plt.xlabel('Return')\n",
        "plt.ylabel('Number of Days Observed')\n",
        "plt.title('Frequency Distribution of NVDA');"
      ]
    },
    {
      "cell_type": "markdown",
      "source": [
        "**My own example 188**"
      ],
      "metadata": {
        "id": "9EGJ5pMnYCF1"
      }
    },
    {
      "cell_type": "code",
      "source": [
        "R = data['NOK'].pct_change()[1:]\n",
        "\n",
        "plt.hist(R, bins=20)\n",
        "plt.xlabel('Return')\n",
        "plt.ylabel('Number of Days Observed')\n",
        "plt.title('Frequency Distribution of NOK');"
      ],
      "metadata": {
        "id": "-byZrW_2X7Kx"
      },
      "execution_count": null,
      "outputs": []
    },
    {
      "cell_type": "markdown",
      "metadata": {
        "id": "SJI-zOd4IgZa"
      },
      "source": [
        "The graph above shows, for example, that the daily returns of MSFT were above 0.03 on fewer than 5 days in 2014. Note that we are completely discarding the dates corresponding to these returns. \n",
        "\n",
        "#####IMPORTANT: Note also that this does not imply that future returns will have the same distribution."
      ]
    },
    {
      "cell_type": "markdown",
      "metadata": {
        "id": "Uc-QNoXsIgZa"
      },
      "source": [
        "### Cumulative Histogram (Discrete Estimated CDF)\n",
        "\n",
        "An alternative way to display the data would be using a cumulative distribution function, in which the height of a bar represents the number of observations that lie in that bin or in one of the previous ones. This graph is always nondecreasing since you cannot have a negative number of observations. The choice of graph depends on the information you are interested in."
      ]
    },
    {
      "cell_type": "markdown",
      "source": [
        "**My own example 189**"
      ],
      "metadata": {
        "id": "jWioypxpYNRt"
      }
    },
    {
      "cell_type": "code",
      "execution_count": null,
      "metadata": {
        "id": "ieFhExxEIgZb"
      },
      "outputs": [],
      "source": [
        "\n",
        "R = data['NVDA'].pct_change()[1:]\n",
        "\n",
        "plt.hist(R, bins=5, cumulative=True)\n",
        "plt.xlabel('Return')\n",
        "plt.ylabel('Number of Days Observed')\n",
        "plt.title('Cumulative Distribution of NVDA Returns');"
      ]
    },
    {
      "cell_type": "markdown",
      "source": [
        "**My own example 190**"
      ],
      "metadata": {
        "id": "TyzAVI-fZQIW"
      }
    },
    {
      "cell_type": "code",
      "source": [
        "R = data['NOK'].pct_change()[1:]\n",
        "\n",
        "plt.hist(R, bins=500, cumulative=True)\n",
        "plt.xlabel('Return')\n",
        "plt.ylabel('Number of Days Observed')\n",
        "plt.title('Cumulative Distribution of NOK Returns');"
      ],
      "metadata": {
        "id": "eYe84-7OYSu6"
      },
      "execution_count": null,
      "outputs": []
    },
    {
      "cell_type": "markdown",
      "metadata": {
        "id": "56lbfHCIIgZb"
      },
      "source": [
        "## Scatter plot\n",
        "\n",
        "A scatter plot is useful for visualizing the relationship between two data sets. We use two data sets which have some sort of correspondence, such as the date on which the measurement was taken. Each point represents two corresponding values from the two data sets. However, we don't plot the date that the measurements were taken on."
      ]
    },
    {
      "cell_type": "markdown",
      "source": [
        "**My own example 191**"
      ],
      "metadata": {
        "id": "F_T0jAbAZ8cD"
      }
    },
    {
      "cell_type": "code",
      "execution_count": null,
      "metadata": {
        "id": "816OwSfrIgZb"
      },
      "outputs": [],
      "source": [
        "plt.scatter(data['AMD'], data['KGC'])\n",
        "plt.xlabel('AMD')\n",
        "plt.ylabel('KGC')\n",
        "plt.title('Daily Prices in 2010-2019');"
      ]
    },
    {
      "cell_type": "markdown",
      "source": [
        "**My own example 192**"
      ],
      "metadata": {
        "id": "Y61T0ocRaQuj"
      }
    },
    {
      "cell_type": "code",
      "execution_count": null,
      "metadata": {
        "id": "BHGrTnV_IgZb"
      },
      "outputs": [],
      "source": [
        "R_msft = data['KGC'].pct_change()[1:]\n",
        "R_aapl = data['AMZN'].pct_change()[1:]\n",
        "\n",
        "plt.scatter(R_msft, R_aapl)\n",
        "plt.xlabel('KGC')\n",
        "plt.ylabel('AMZN')\n",
        "plt.title('Daily Returns in 2010-2019');"
      ]
    },
    {
      "cell_type": "markdown",
      "source": [
        "**My own example 193**"
      ],
      "metadata": {
        "id": "YCaLxfqcaZxU"
      }
    },
    {
      "cell_type": "code",
      "source": [
        "R_msft = data['KGC'].pct_change()[1:]\n",
        "R_aapl = data['AMD'].pct_change()[1:]\n",
        "\n",
        "plt.scatter(R_msft, R_aapl)\n",
        "plt.xlabel('KGC')\n",
        "plt.ylabel('AMD')\n",
        "plt.title('Daily Returns in 2010-2019');"
      ],
      "metadata": {
        "id": "lgEN-QInaTpg"
      },
      "execution_count": null,
      "outputs": []
    },
    {
      "cell_type": "markdown",
      "source": [
        "**My own example 194**"
      ],
      "metadata": {
        "id": "PY8a7OGybOjS"
      }
    },
    {
      "cell_type": "code",
      "source": [
        "R_msft = data['KGC'].pct_change()[1:]\n",
        "R_aapl = data['AMD'].pct_change()[1:]\n",
        "\n",
        "plt.scatter(R_msft, R_aapl)\n",
        "plt.xlabel('KGC')\n",
        "plt.ylabel('AMD')\n",
        "plt.copper()\n",
        "plt.title('Daily Returns in 2010-2019');"
      ],
      "metadata": {
        "id": "dRO6SWeXbBw9"
      },
      "execution_count": null,
      "outputs": []
    },
    {
      "cell_type": "markdown",
      "source": [
        "**My own example 195**"
      ],
      "metadata": {
        "id": "T9RIFF-Tb7oQ"
      }
    },
    {
      "cell_type": "code",
      "source": [
        "R_msft = data['KGC'].pct_change()[1:]\n",
        "R_aapl = data['AMZN'].pct_change()[1:]\n",
        "\n",
        "plt.scatter(R_msft, R_aapl)\n",
        "plt.xlabel('KGC')\n",
        "plt.ylabel('AMZN')\n",
        "plt.colormaps()\n",
        "plt.title('Daily Returns in 2010-2019');"
      ],
      "metadata": {
        "id": "HIkzepKCbUJb"
      },
      "execution_count": null,
      "outputs": []
    },
    {
      "cell_type": "markdown",
      "source": [
        "**My own example 196**"
      ],
      "metadata": {
        "id": "9TjIfCHccOij"
      }
    },
    {
      "cell_type": "code",
      "source": [
        "R_msft = data['KGC'].pct_change()[1:]\n",
        "R_aapl = data['AMZN'].pct_change()[1:]\n",
        "\n",
        "plt.scatter(R_msft, R_aapl)\n",
        "plt.xlabel('KGC')\n",
        "plt.ylabel('AMZN')\n",
        "plt.minorticks_on()\n",
        "plt.legend(['KGC', 'AMZN']);\n",
        "plt.title('Daily Returns in 2010-2019');"
      ],
      "metadata": {
        "id": "inh3MetWcAbY"
      },
      "execution_count": null,
      "outputs": []
    },
    {
      "cell_type": "markdown",
      "metadata": {
        "id": "QEhgJmF6IgZc"
      },
      "source": [
        "# Line graph\n",
        "\n",
        "A line graph can be used when we want to track the development of the y value as the x value changes. For instance, when we are plotting the price of a stock, showing it as a line graph instead of just plotting the data points makes it easier to follow the price over time. This necessarily involves \"connecting the dots\" between the data points, which can mask out changes that happened between the time we took measurements."
      ]
    },
    {
      "cell_type": "markdown",
      "source": [
        "**My own example 197**"
      ],
      "metadata": {
        "id": "yq2ZqrBEcl9J"
      }
    },
    {
      "cell_type": "code",
      "execution_count": null,
      "metadata": {
        "id": "JFvFQCj3IgZc"
      },
      "outputs": [],
      "source": [
        "plt.plot(data['AMD'])\n",
        "plt.plot(data['KGC'])\n",
        "plt.ylabel('Price')\n",
        "plt.box()\n",
        "plt.legend(['AMD', 'KGC']);"
      ]
    },
    {
      "cell_type": "markdown",
      "source": [
        "**My own example 198**"
      ],
      "metadata": {
        "id": "yApnLusOdT7X"
      }
    },
    {
      "cell_type": "code",
      "source": [
        "plt.plot(data['AMZN'])\n",
        "plt.plot(data['AMD'])\n",
        "plt.ylabel('Price')\n",
        "plt.gray()\n",
        "plt.clf()\n",
        "plt.legend(['AMZN', 'AMD']);"
      ],
      "metadata": {
        "id": "GVbEYIrPc1SS"
      },
      "execution_count": null,
      "outputs": []
    },
    {
      "cell_type": "markdown",
      "source": [
        "**My own example 199**"
      ],
      "metadata": {
        "id": "qqa5-Pw9dXQG"
      }
    },
    {
      "cell_type": "code",
      "execution_count": null,
      "metadata": {
        "id": "7MosceMUIgZd"
      },
      "outputs": [],
      "source": [
        "\n",
        "R = data['AMD'].pct_change()[3:]\n",
        "\n",
        "plt.plot(R)\n",
        "plt.ylabel('Return')\n"
      ]
    },
    {
      "cell_type": "markdown",
      "source": [
        "**My own example 200**"
      ],
      "metadata": {
        "id": "Cd7hGYyfePbg"
      }
    },
    {
      "cell_type": "code",
      "source": [
        "R = data['AMD'].pct_change()[90:2230435346654]\n",
        "plt.legend(['AMD']);\n",
        "plt.plot(R)\n",
        "plt.ylabel('Return')\n"
      ],
      "metadata": {
        "id": "3gCcZ9f9dwCm"
      },
      "execution_count": null,
      "outputs": []
    },
    {
      "cell_type": "markdown",
      "source": [
        ""
      ],
      "metadata": {
        "id": "rfvL4BfjhN5B"
      }
    },
    {
      "cell_type": "markdown",
      "metadata": {
        "id": "rQEepLuUIgZd"
      },
      "source": [
        "## Never Assume Conditions Hold\n",
        "\n",
        "Again, whenever using plots to visualize data, do not assume you can test a hypothesis by looking at a graph. Also do not assume that because a distribution or trend used to be true, it is still true. In general much more sophisticated and careful validation is required to test whether models hold. Plots are mainly useful when initially deciding how your models should work."
      ]
    },
    {
      "cell_type": "markdown",
      "metadata": {
        "id": "qohIWRK_IgZd"
      },
      "source": [
        "*This presentation is for informational purposes only and does not constitute an offer to sell, a solicitation to buy, or a recommendation for any security; nor does it constitute an offer to provide investment advisory or other services by Quantopian, Inc. (\"Quantopian\"). Nothing contained herein constitutes investment advice or offers any opinion with respect to the suitability of any security, and any views expressed herein should not be taken as advice to buy, sell, or hold any security or as an endorsement of any security or company.  In preparing the information contained herein, Quantopian, Inc. has not taken into account the investment needs, objectives, and financial circumstances of any particular investor. Any views expressed and data illustrated herein were prepared based upon information, believed to be reliable, available to Quantopian, Inc. at the time of publication. Quantopian makes no guarantees as to their accuracy or completeness. All information is subject to change and may quickly become unreliable for various reasons, including changes in market conditions or economic circumstances.*"
      ]
    }
  ],
  "metadata": {
    "colab": {
      "collapsed_sections": [
        "3WxjwzlPHs0I",
        "GJ_Rmuf3Hs0s",
        "eQzBbvyKQymx",
        "1Xc9G9_sS2ju",
        "AN5Oa3DoS_Nf",
        "kSGzgNb2Womz",
        "QL6dNxwCXNEt",
        "s95xoRYMYaPD",
        "tgRDwiAsaMOL",
        "4NusvdhBaxpZ",
        "Tef_X2wJbdhn",
        "lHwqVpWVb1Jr",
        "mxljL1W1c_c5",
        "wVaJf76bHBG2",
        "o9rN1ox_WUVf",
        "5n59MVIiWUVx",
        "dQbENH6mexTd",
        "IRW95BsifgDB",
        "OtjOpw6oJp6z",
        "IxhKxtj-KQ66",
        "nQH2eBWkNjdC",
        "xxHKurMNIgZQ",
        "QEhgJmF6IgZc"
      ],
      "name": "cquilaguy_Lab1.ipynb",
      "provenance": [],
      "toc_visible": true,
      "include_colab_link": true
    },
    "kernelspec": {
      "display_name": "Python 2",
      "language": "python",
      "name": "python2"
    },
    "language_info": {
      "codemirror_mode": {
        "name": "ipython",
        "version": 2
      },
      "file_extension": ".py",
      "mimetype": "text/x-python",
      "name": "python",
      "nbconvert_exporter": "python",
      "pygments_lexer": "ipython2",
      "version": "2.7.12"
    }
  },
  "nbformat": 4,
  "nbformat_minor": 0
}