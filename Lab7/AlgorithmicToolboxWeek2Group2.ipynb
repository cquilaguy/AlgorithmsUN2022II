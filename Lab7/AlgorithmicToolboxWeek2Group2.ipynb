{
  "nbformat": 4,
  "nbformat_minor": 0,
  "metadata": {
    "colab": {
      "provenance": [],
      "include_colab_link": true
    },
    "kernelspec": {
      "name": "python3",
      "display_name": "Python 3"
    },
    "language_info": {
      "name": "python"
    }
  },
  "cells": [
    {
      "cell_type": "markdown",
      "metadata": {
        "id": "view-in-github",
        "colab_type": "text"
      },
      "source": [
        "<a href=\"https://colab.research.google.com/github/cquilaguy/AlgorithmsUN2022II/blob/main/Lab7/AlgorithmicToolboxWeek2Group2.ipynb\" target=\"_parent\"><img src=\"https://colab.research.google.com/assets/colab-badge.svg\" alt=\"Open In Colab\"/></a>"
      ]
    },
    {
      "cell_type": "markdown",
      "source": [
        "**First Problem**"
      ],
      "metadata": {
        "id": "HLXpGKHIzPsN"
      }
    },
    {
      "cell_type": "code",
      "execution_count": null,
      "metadata": {
        "id": "OqGQVwwrx4lv"
      },
      "outputs": [],
      "source": [
        "def fibonacci_fast(n):\n",
        "  \n",
        "  first=0\n",
        "  second=1\n",
        "  fn=0\n",
        "\n",
        "  for i in range(n+1):\n",
        "    if i==0:\n",
        "      fn = first\n",
        "    elif i==1:\n",
        "      fn = second\n",
        "    else:    \n",
        "      number= first + second\n",
        "      first = second\n",
        "      second=number\n",
        "      fn=number\n",
        "  \n",
        "  return fn"
      ]
    },
    {
      "cell_type": "code",
      "source": [
        "print(fibonacci_fast(10))"
      ],
      "metadata": {
        "colab": {
          "base_uri": "https://localhost:8080/"
        },
        "id": "adXypaeV05QU",
        "outputId": "6750ad42-1f71-4b99-e30d-49d7c7d7e304"
      },
      "execution_count": null,
      "outputs": [
        {
          "output_type": "stream",
          "name": "stdout",
          "text": [
            "55\n"
          ]
        }
      ]
    },
    {
      "cell_type": "markdown",
      "source": [
        "**Second Problem**"
      ],
      "metadata": {
        "id": "rbhqh8T98Y5K"
      }
    },
    {
      "cell_type": "code",
      "source": [
        "def last_fibonacci_digit(n):\n",
        "  \n",
        "  first=0\n",
        "  second=1\n",
        "  fn=0\n",
        "\n",
        "  for i in range(n+1):\n",
        "    if i==0:\n",
        "      fn = first\n",
        "    elif i==1:\n",
        "      fn = second\n",
        "    else:    \n",
        "      number= first + second\n",
        "      first = second\n",
        "      second=number\n",
        "      fn=number\n",
        "  last = fn % 10\n",
        "  return last"
      ],
      "metadata": {
        "id": "DS2PGuvs8e8e"
      },
      "execution_count": null,
      "outputs": []
    },
    {
      "cell_type": "code",
      "source": [
        "last_fibonacci_digit(331)"
      ],
      "metadata": {
        "colab": {
          "base_uri": "https://localhost:8080/"
        },
        "id": "UZSlkrRB87rx",
        "outputId": "dee6db4d-3289-4f68-d11a-cb9f479b9b1e"
      },
      "execution_count": null,
      "outputs": [
        {
          "output_type": "execute_result",
          "data": {
            "text/plain": [
              "9"
            ]
          },
          "metadata": {},
          "execution_count": 74
        }
      ]
    },
    {
      "cell_type": "markdown",
      "source": [
        "**Third problem**"
      ],
      "metadata": {
        "id": "8g-P99yhVsna"
      }
    },
    {
      "cell_type": "code",
      "source": [
        "def euclidean_algorithm(a,b):\n",
        "  if b == 0:\n",
        "    return a\n",
        "  r = a % b\n",
        "  return euclidean_algorithm(b,r)"
      ],
      "metadata": {
        "id": "xL2cWaD-V8iI"
      },
      "execution_count": null,
      "outputs": []
    },
    {
      "cell_type": "code",
      "source": [
        "euclidean_algorithm(28851538,1183019)"
      ],
      "metadata": {
        "colab": {
          "base_uri": "https://localhost:8080/"
        },
        "id": "sxv_07lCWa_M",
        "outputId": "5f2fb00c-8bfe-467a-ed19-95a6ed6e5731"
      },
      "execution_count": null,
      "outputs": [
        {
          "output_type": "execute_result",
          "data": {
            "text/plain": [
              "17657"
            ]
          },
          "metadata": {},
          "execution_count": 15
        }
      ]
    },
    {
      "cell_type": "markdown",
      "source": [
        "**Fourth problem**"
      ],
      "metadata": {
        "id": "OCX8Q-CzetP6"
      }
    },
    {
      "cell_type": "code",
      "source": [
        "def least_common_multiple(a,b):\n",
        "  c = a*b\n",
        "  d = euclidean_algorithm(a,b)\n",
        "  return c/d"
      ],
      "metadata": {
        "id": "VEFleMObe0IH"
      },
      "execution_count": null,
      "outputs": []
    },
    {
      "cell_type": "code",
      "source": [
        "least_common_multiple(761457,614573)"
      ],
      "metadata": {
        "id": "jZK-pPsmfK0i",
        "outputId": "f45ee308-f554-4899-cbbb-552590e702ad",
        "colab": {
          "base_uri": "https://localhost:8080/"
        }
      },
      "execution_count": null,
      "outputs": [
        {
          "output_type": "execute_result",
          "data": {
            "text/plain": [
              "467970912861.0"
            ]
          },
          "metadata": {},
          "execution_count": 17
        }
      ]
    }
  ]
}